{
 "cells": [
  {
   "cell_type": "markdown",
   "id": "1f823fa1",
   "metadata": {},
   "source": [
    "### SAP Machine Learning Embedding in OpenAI\n",
    "##### Author: Sergiu Iatco. July, 2023\n",
    "https://people.sap.com/iatco.sergiu <br>\n",
    "https://www.linkedin.com/in/sergiuiatco/ <br>"
   ]
  },
  {
   "cell_type": "markdown",
   "id": "642a62a4",
   "metadata": {},
   "source": [
    "#### Resources:\n",
    "https://pypi.org/project/gpt-index/ <br>\n",
    "https://github.com/jerryjliu/llama_index/blob/main/examples/langchain_demo/LangchainDemo.ipynb <br>\n",
    "https://github.com/jerryjliu/llama_index/tree/main/examples <br>\n",
    "https://github.com/jerryjliu/llama_index/blob/main/examples/vector_indices/SimpleIndexDemo-ChatGPT.ipynb <br>\n",
    "https://gpt-index.readthedocs.io/en/stable/reference/service_context.html <br>\n",
    "https://gpt-index.readthedocs.io/en/stable/reference/service_context/embeddings.html <br>\n",
    "https://gpt-index.readthedocs.io/en/stable/getting_started/starter_example.html store and load <br>\n",
    "https://gpt-index.readthedocs.io/en/latest/guides/primer/usage_pattern.html <br>\n",
    "\n",
    "https://blog.streamlit.io/how-to-build-an-llm-powered-chatbot-with-streamlit/ <br>\n",
    "https://github.com/dataprofessor/langchain-text-summarization <br>\n",
    "https://github.com/dataprofessor <br>\n",
    "\n",
    "Blogs: <br>\n",
    "https://blogs.sap.com/2022/11/07/sap-community-call-sap-hana-cloud-machine-learning-challenge-i-quit-how-to-prevent-employee-churn/ <br>\n",
    "https://blogs.sap.com/2022/11/28/i-quit-how-to-predict-employee-churn-sap-hana-cloud-machine-learning-challenge/ <br>\n",
    "https://blogs.sap.com/2022/12/22/sap-hana-cloud-machine-learning-challenge-2022-the-winners-are/ <br>\n",
    "\"I quit!\" - How to prevent employee churn | SAP Community Call | Kick-off <br>\n",
    "https://www.youtube.com/watch?v=pgV_NFdokZ4 <br>\n",
    "\"How to prevent Employee Churn using SAP HANA Cloud | SAP Community Call | Solutions\" <br>\n",
    "https://www.youtube.com/watch?v=ul5ZqnB3qVw <br>"
   ]
  },
  {
   "cell_type": "code",
   "execution_count": 1,
   "id": "ddc4bba9",
   "metadata": {},
   "outputs": [],
   "source": [
    "# !pip install llama-index"
   ]
  },
  {
   "cell_type": "code",
   "execution_count": 2,
   "id": "ac381f48",
   "metadata": {},
   "outputs": [],
   "source": [
    "import os\n",
    "# from IPython.core.debugger import set_trace\n",
    "# os.environ[\"OPENAI_API_KEY\"] = '<OPENAI_API_KEY>'"
   ]
  },
  {
   "cell_type": "code",
   "execution_count": 3,
   "id": "a654caa4",
   "metadata": {},
   "outputs": [],
   "source": [
    "from llama_ytb import LlamaContext"
   ]
  },
  {
   "cell_type": "code",
   "execution_count": 4,
   "id": "8cd5a045",
   "metadata": {
    "scrolled": true
   },
   "outputs": [],
   "source": [
    "# import os\n",
    "# from llama_index import GPTVectorStoreIndex\n",
    "# from llama_index import StorageContext, load_index_from_storage\n",
    "# from llama_index import download_loader\n",
    "\n",
    "# import logging\n",
    "# import sys\n",
    "\n",
    "# # logging.basicConfig(stream=sys.stdout, level=logging.DEBUG)\n",
    "# # logging.basicConfig(stream=sys.stdout, level=logging.INFO)\n",
    "\n",
    "# logging.basicConfig(stream=sys.stdout, level=logging.CRITICAL)\n",
    "# logging.getLogger().addHandler(logging.StreamHandler(stream=sys.stdout))\n",
    "\n",
    "# # There are five standard levels for logging in Python, listed here in increasing order of severity:\n",
    "# # DEBUG: Detailed information, typically of interest only when diagnosing problems.\n",
    "# # INFO: Confirmation that things are working as expected.\n",
    "# # WARNING: An indication that something unexpected happened or indicative of some problem in the near future (e.g., ‘disk space low’). The software is still working as expected.\n",
    "# # ERROR: Due to a more serious problem, the software has not been able to perform some function.\n",
    "# # CRITICAL: A very serious error, indicating that the program itself may be unable to continue running.\n",
    "\n",
    "# class llama_context():\n",
    "#     def __init__(self, ytb_link, path=None, ):\n",
    "       \n",
    "#         if path!=None:\n",
    "#             self.path = path\n",
    "#         else:\n",
    "#             self.path = ''\n",
    "        \n",
    "#         perisit_sub_dir = \"storage\"\n",
    "#         self.perisit_dir = os.path.join(self.path, perisit_sub_dir)\n",
    "#         if not os.path.exists(self.perisit_dir):\n",
    "#             os.makedirs(self.perisit_dir)\n",
    "#         data_sub_dir = \"data\"\n",
    "#         self.data_dir = os.path.join(self.path, data_sub_dir)\n",
    "\n",
    "#         self.ytb_link = ytb_link\n",
    "        \n",
    "#         self.cost_model_ada = \"ada\" # https://openai.com/pricing\n",
    "#         self.cost_model_davinci = \"davinci\" # https://openai.com/pricing\n",
    "#         self.price_ada_1k_tokens = 0.0004\n",
    "#         self.price_davinci_1k_tokens = 0.03 \n",
    "    \n",
    "#     def extract_ytb(self):\n",
    "#         YoutubeTranscriptReader = download_loader(\"YoutubeTranscriptReader\")\n",
    "#         loader = YoutubeTranscriptReader()\n",
    "#         try:\n",
    "#             self.documents = loader.load_data(ytlinks=[self.ytb_link])\n",
    "#             self.ytb_content = self.documents[0].text\n",
    "#         except:\n",
    "#             self.ytb_content = \"Can't extract text from link!\"\n",
    "#     def create_vector_store(self):\n",
    "#         self.index = GPTVectorStoreIndex.from_documents(self.documents)\n",
    "#         print(\"GPTVectorStoreIndex complete.\")\n",
    "#     def save_index(self):\n",
    "#         self.index.storage_context.persist(persist_dir=self.perisit_dir)\n",
    "#         print(f\"Index saved in path {self.perisit_dir}.\")\n",
    "#     def load_index(self):\n",
    "#         storage_context = StorageContext.from_defaults(persist_dir=self.perisit_dir)\n",
    "#         self.index = load_index_from_storage(storage_context)\n",
    "#     def start_query_engine(self):\n",
    "#         self.query_engine = self.index.as_query_engine()\n",
    "#         print(\"Query_engine started.\")\n",
    "#     def post_question(self, question, sleep = None):\n",
    "#         if sleep == None:\n",
    "#             self.sleep = 0 # trial 20s\n",
    "#         self.response_cls = self.query_engine.query(question)\n",
    "#         self.response = self.response_cls.response\n",
    "\n",
    "#     def estimate_tokens(self, text):\n",
    "#         words = text.split()\n",
    "\n",
    "#         num_words = int(len(words))\n",
    "#         tokens = int(( num_words / 0.75 ))\n",
    "#         tokens_1k = tokens / 1000\n",
    "#         cost_ada = tokens_1k * self.price_ada_1k_tokens\n",
    "#         cost_davinci = tokens_1k * self.price_davinci_1k_tokens\n",
    "#         return tokens, cost_ada, cost_davinci\n",
    "    \n",
    "#     def estimate_cost(self):\n",
    "#         total_tokens = 0\n",
    "#         total_cost_ada = 0\n",
    "#         total_cost_davinci = 0\n",
    "#         costs_rounding = 8\n",
    "        \n",
    "#         for doc in self.documents:\n",
    "#             text = doc.get_text()\n",
    "#             tokens, cost_ada, cost_davinci = self.estimate_tokens(text)\n",
    "#             total_tokens += tokens\n",
    "            \n",
    "#             total_cost_ada += cost_ada\n",
    "#             total_cost_ada = round(total_cost_ada, costs_rounding)\n",
    "            \n",
    "#             total_cost_davinci += cost_davinci\n",
    "#             total_cost_davinci = round(total_cost_davinci, costs_rounding)\n",
    "            \n",
    "#         self.total_tokens = total_tokens\n",
    "#         self.total_cost_ada = total_cost_ada\n",
    "#         self.total_cost_davinci = total_cost_davinci\n",
    "        "
   ]
  },
  {
   "cell_type": "code",
   "execution_count": 5,
   "id": "f43797eb",
   "metadata": {},
   "outputs": [],
   "source": [
    "# ytb_name = 'angels'\n",
    "# ytb_link = 'https://www.youtube.com/watch?v=luwAMFcc2f8'\n",
    "# ytb_name = 'ytb_hana_ml_call_20230126'\n",
    "# ytb_link = 'https://www.youtube.com/watch?v=ul5ZqnB3qVw'\n",
    "ytb_name = 'rolling'\n",
    "ytb_link = 'https://www.youtube.com/watch?v=rYEDA3JcQqw'"
   ]
  },
  {
   "cell_type": "code",
   "execution_count": 6,
   "id": "78c84ae2",
   "metadata": {},
   "outputs": [],
   "source": [
    "# from llama_index import download_loader\n",
    "# YoutubeTranscriptReader = download_loader(\"YoutubeTranscriptReader\")\n",
    "# loader = YoutubeTranscriptReader()"
   ]
  },
  {
   "cell_type": "code",
   "execution_count": 7,
   "id": "1ea276e2",
   "metadata": {},
   "outputs": [],
   "source": [
    "# ytb_doc = loader.load_data(ytlinks=[ytb_link])\n",
    "# ytb_content = ytb_doc[0].text\n",
    "# print(ytb_content)"
   ]
  },
  {
   "cell_type": "code",
   "execution_count": 8,
   "id": "d2375e04",
   "metadata": {},
   "outputs": [],
   "source": [
    "import datetime\n",
    "\n",
    "def time_now():\n",
    "    now = datetime.datetime.now()\n",
    "    formatted = now.strftime('%Y-%m-%d %H:%M:%S')\n",
    "    print(formatted)\n",
    "\n",
    "# time_now()"
   ]
  },
  {
   "cell_type": "code",
   "execution_count": 9,
   "id": "cc4223cc",
   "metadata": {},
   "outputs": [],
   "source": [
    "# datetime.datetime.now().strftime('%Y-%m-%d %H:%M:%S')"
   ]
  },
  {
   "cell_type": "code",
   "execution_count": 10,
   "id": "7578ebdd",
   "metadata": {},
   "outputs": [
    {
     "data": {
      "text/plain": [
       "'llama_rolling\\\\storage'"
      ]
     },
     "metadata": {},
     "output_type": "display_data"
    }
   ],
   "source": [
    "# logging.basicConfig(stream=sys.stdout, level=logging.INFO)\n",
    "# logging.getLogger().addHandler(logging.StreamHandler(stream=sys.stdout))\n",
    "\n",
    "path_llama = 'llama' + '_' + ytb_name\n",
    "lct = LlamaContext(path=path_llama, ytb_link = ytb_link)\n",
    "# lct = llama_context(ytb_link = ytb_link)\n",
    "\n",
    "# display(lct.data_dir)\n",
    "display(lct.persist_dir)\n"
   ]
  },
  {
   "cell_type": "code",
   "execution_count": 11,
   "id": "a8df0796",
   "metadata": {},
   "outputs": [],
   "source": [
    "lct.extract_ytb()"
   ]
  },
  {
   "cell_type": "code",
   "execution_count": 12,
   "id": "eda92571",
   "metadata": {},
   "outputs": [
    {
     "data": {
      "text/plain": [
       "'https://www.youtube.com/watch?v=rYEDA3JcQqw'"
      ]
     },
     "execution_count": 12,
     "metadata": {},
     "output_type": "execute_result"
    }
   ],
   "source": [
    "lct.ytb_link"
   ]
  },
  {
   "cell_type": "code",
   "execution_count": 13,
   "id": "8f76027e",
   "metadata": {},
   "outputs": [
    {
     "data": {
      "text/plain": [
       "list"
      ]
     },
     "execution_count": 13,
     "metadata": {},
     "output_type": "execute_result"
    }
   ],
   "source": [
    "type(lct.documents)"
   ]
  },
  {
   "cell_type": "code",
   "execution_count": 14,
   "id": "b96818e2",
   "metadata": {},
   "outputs": [
    {
     "data": {
      "text/plain": [
       "(\"(gentle guitar music)\\n♪ There's a fire starting in my heart ♪\\n♪ Reaching a fever pitch ♪\\n♪ It's bringing me out the dark ♪\\n♪ Finally I can see you crystal clear ♪\\n♪ Go ahead and sell me out\\nand I'll lay your shit bare ♪\\n♪ See how I'll leave\\nwith every piece of you ♪\\n♪ Don't underestimate the\\nthings that I will do ♪\\n♪ There's a fire starting in my heart ♪\\n♪ Reaching a fever pitch and\\nit's bringing me out the dark ♪\\n♪ The scars of your love remind me of us ♪\\n♪ They keep me thinking\\nthat we almost had it all ♪\\n♪ The scars of your love,\\nthey leave me breathless ♪\\n♪ I can't help feeling ♪\\n♪ We could've had it all ♪\\n♪ Rolling in the deep ♪\\n♪ You had my heart inside of your hands ♪\\n♪ And you played it to the beat ♪\\n♪ Baby, I have no story to be told ♪\\n♪ But I've heard one on you ♪\\n♪ Now I'm gonna make your head burn ♪\\n♪ Think of me in the\\ndepths of your despair ♪\\n♪ Make a home down there, as\\nmine sure won't be shared ♪\\n♪ The scars of your love remind me of us ♪\\n♪ They keep me thinking\\nthat we almost had it all ♪\\n♪ The scars of your love ♪\\n♪ They leave me breathless ♪\\n♪ I can't help feeling ♪\\n♪ We could've had it all ♪\\n♪ Rolling in the deep ♪\\n♪ You had my heart inside of your hands ♪\\n♪ And you played it to the beat ♪\\n♪ We could've had it all ♪\\n♪ Rolling in the deep ♪\\n♪ You had my heart inside of your hand ♪\\n♪ But you played it with a beating ♪\\n♪ Throw your soul\\nthrough every open door ♪\\n♪ Count your blessings to\\nfind what you look for ♪\\n♪ Turn my sorrow into treasured gold ♪\\n♪ You pay me back in kind and\\nreap just what you've sow ♪\\n♪ We could've had it all ♪\\n♪ We could've had it all ♪\\n♪ It all, it all, it all ♪\\n♪ We could've had it all ♪\\n♪ Rolling in the deep ♪\\n♪ You had my heart inside of your hands ♪\\n♪ And you played it to the beat ♪\\n♪ Could've had it all ♪\\n♪ Rolling in the deep ♪\\n♪ You had my heart inside of your hands ♪\\n♪ But you played it, you\\nplayed it, you played it ♪\\n♪ You played it to the beat ♪\\n\",\n",
       " True)"
      ]
     },
     "execution_count": 14,
     "metadata": {},
     "output_type": "execute_result"
    }
   ],
   "source": [
    "lct.ytb_content, lct.ytb_content_valid"
   ]
  },
  {
   "cell_type": "code",
   "execution_count": 15,
   "id": "8e4345e6",
   "metadata": {},
   "outputs": [
    {
     "data": {
      "text/plain": [
       "dict_keys(['path', 'persist_dir', 'data_dir', 'ytb_link', 'cost_model_ada', 'cost_model_davinci', 'price_ada_1k_tokens', 'price_davinci_1k_tokens', 'documents', 'ytb_content', 'ytb_content_valid', 'index', 'query_engine', 'sleep', 'response_cls', 'response', 'total_tokens', 'total_cost_ada', 'total_cost_davinci'])"
      ]
     },
     "execution_count": 15,
     "metadata": {},
     "output_type": "execute_result"
    }
   ],
   "source": [
    "vars(lct).keys()"
   ]
  },
  {
   "cell_type": "code",
   "execution_count": 16,
   "id": "bee30ae3",
   "metadata": {},
   "outputs": [
    {
     "name": "stdout",
     "output_type": "stream",
     "text": [
      "CPU times: total: 0 ns\n",
      "Wall time: 0 ns\n"
     ]
    }
   ],
   "source": [
    "%time\n",
    "# time_now()\n",
    "# Estimate costs\n",
    "run_create_save = True\n",
    "if run_create_save:\n",
    "    lct.estimate_cost()"
   ]
  },
  {
   "cell_type": "code",
   "execution_count": 17,
   "id": "bae00281",
   "metadata": {},
   "outputs": [
    {
     "data": {
      "text/plain": [
       "612"
      ]
     },
     "metadata": {},
     "output_type": "display_data"
    },
    {
     "data": {
      "text/plain": [
       "0.0002448"
      ]
     },
     "metadata": {},
     "output_type": "display_data"
    },
    {
     "data": {
      "text/plain": [
       "0.01836"
      ]
     },
     "metadata": {},
     "output_type": "display_data"
    }
   ],
   "source": [
    "display(lct.total_tokens)\n",
    "display(lct.total_cost_ada)\n",
    "display(lct.total_cost_davinci)"
   ]
  },
  {
   "cell_type": "code",
   "execution_count": 18,
   "id": "8f6ad1ee",
   "metadata": {},
   "outputs": [
    {
     "name": "stdout",
     "output_type": "stream",
     "text": [
      "CPU times: total: 0 ns\n",
      "Wall time: 0 ns\n"
     ]
    }
   ],
   "source": [
    "# https://platform.openai.com/account/api-keys\n",
    "%time\n",
    "# time_now()\n",
    "# Vector create does embedding and costs tokens\n",
    "run_create_save = True\n",
    "if run_create_save:\n",
    "    lct.create_vector_store()"
   ]
  },
  {
   "cell_type": "code",
   "execution_count": 19,
   "id": "cb6d9c5a",
   "metadata": {},
   "outputs": [
    {
     "name": "stdout",
     "output_type": "stream",
     "text": [
      "CPU times: total: 0 ns\n",
      "Wall time: 0 ns\n",
      "Index saved in path llama_rolling\\storage.\n"
     ]
    }
   ],
   "source": [
    "%time\n",
    "# time_now()\n",
    "# Save index\n",
    "run_create_save = True\n",
    "if run_create_save:\n",
    "    lct.save_index()"
   ]
  },
  {
   "cell_type": "code",
   "execution_count": 20,
   "id": "5472eff1",
   "metadata": {},
   "outputs": [
    {
     "name": "stdout",
     "output_type": "stream",
     "text": [
      "CPU times: total: 0 ns\n",
      "Wall time: 0 ns\n"
     ]
    }
   ],
   "source": [
    "%time\n",
    "# time_now()\n",
    "# Method load_index() costs as method create_vector_store() but you don't need to upload data\n",
    "run_load = True\n",
    "if run_load:\n",
    "    lct.load_index()"
   ]
  },
  {
   "cell_type": "code",
   "execution_count": 21,
   "id": "952ee2c5",
   "metadata": {},
   "outputs": [
    {
     "data": {
      "text/plain": [
       "232"
      ]
     },
     "execution_count": 21,
     "metadata": {},
     "output_type": "execute_result"
    }
   ],
   "source": [
    "import sys\n",
    "sys.getsizeof(lct.index.vector_store.to_dict())"
   ]
  },
  {
   "cell_type": "code",
   "execution_count": 22,
   "id": "f9f8976d",
   "metadata": {},
   "outputs": [
    {
     "data": {
      "text/plain": [
       "<llama_index.vector_stores.simple.SimpleVectorStore at 0x1b853938310>"
      ]
     },
     "execution_count": 22,
     "metadata": {},
     "output_type": "execute_result"
    }
   ],
   "source": [
    "lct.index.vector_store"
   ]
  },
  {
   "cell_type": "code",
   "execution_count": 23,
   "id": "1f078570",
   "metadata": {},
   "outputs": [],
   "source": [
    "# dir(lct)"
   ]
  },
  {
   "cell_type": "code",
   "execution_count": 24,
   "id": "5cb5b568",
   "metadata": {},
   "outputs": [],
   "source": [
    "# help(lct)"
   ]
  },
  {
   "cell_type": "code",
   "execution_count": 25,
   "id": "ece1cb1d",
   "metadata": {},
   "outputs": [],
   "source": [
    "# lct.__dict__"
   ]
  },
  {
   "cell_type": "code",
   "execution_count": 26,
   "id": "1a1cb851",
   "metadata": {},
   "outputs": [
    {
     "name": "stdout",
     "output_type": "stream",
     "text": [
      "CPU times: total: 0 ns\n",
      "Wall time: 0 ns\n",
      "Query_engine started.\n"
     ]
    }
   ],
   "source": [
    "%time\n",
    "# time_now()\n",
    "# Start query engine\n",
    "lct.start_query_engine()"
   ]
  },
  {
   "cell_type": "code",
   "execution_count": 27,
   "id": "5f5b399a",
   "metadata": {},
   "outputs": [
    {
     "data": {
      "text/plain": [
       "1"
      ]
     },
     "execution_count": 27,
     "metadata": {},
     "output_type": "execute_result"
    }
   ],
   "source": [
    "len(lct.documents)"
   ]
  },
  {
   "cell_type": "code",
   "execution_count": 28,
   "id": "ee02e6fe",
   "metadata": {},
   "outputs": [
    {
     "name": "stdout",
     "output_type": "stream",
     "text": [
      "CPU times: total: 0 ns\n",
      "Wall time: 0 ns\n",
      "\n",
      "The content is about the pain of a lost love and the regret of not having had it all. The lyrics describe the emotions of the singer as they reflect on the relationship and the mistakes that were made.\n"
     ]
    }
   ],
   "source": [
    "%time\n",
    "# time_now()\n",
    "question = \"What is content about?\"\n",
    "lct.post_question(question)\n",
    "print(lct.response)"
   ]
  },
  {
   "cell_type": "code",
   "execution_count": 29,
   "id": "d141c70f",
   "metadata": {},
   "outputs": [
    {
     "name": "stdout",
     "output_type": "stream",
     "text": [
      "CPU times: total: 0 ns\n",
      "Wall time: 0 ns\n",
      "\n",
      "This content is from the song \"Rolling in the Deep\" by Adele.\n"
     ]
    }
   ],
   "source": [
    "%time\n",
    "# time_now()\n",
    "question = \"Where is this content from?\"\n",
    "lct.post_question(question)\n",
    "print(lct.response)"
   ]
  },
  {
   "cell_type": "code",
   "execution_count": 30,
   "id": "0e67d57a",
   "metadata": {},
   "outputs": [
    {
     "name": "stdout",
     "output_type": "stream",
     "text": [
      "CPU times: total: 0 ns\n",
      "Wall time: 0 ns\n",
      "\n",
      "The most meaningful words from the context are: fire, heart, fever, dark, crystal, sell, leave, underestimate, scars, love, thinking, breathless, rolling, deep, hands, beat, soul, blessings, treasured, gold, sow.\n"
     ]
    }
   ],
   "source": [
    "%time\n",
    "# time_now()\n",
    "question = \"Extract the most meaningfull words.\"\n",
    "lct.post_question(question)\n",
    "print(lct.response)          "
   ]
  },
  {
   "cell_type": "code",
   "execution_count": 31,
   "id": "4ce20404",
   "metadata": {},
   "outputs": [],
   "source": [
    "# %time\n",
    "# time_now()\n",
    "# question = \"Rewrite as happy song.\"\n",
    "# lct.post_question(question)\n",
    "# print(lct.response)  "
   ]
  },
  {
   "cell_type": "code",
   "execution_count": null,
   "id": "531f72e6",
   "metadata": {},
   "outputs": [],
   "source": []
  }
 ],
 "metadata": {
  "kernelspec": {
   "display_name": "Python 3 (ipykernel)",
   "language": "python",
   "name": "python3"
  },
  "language_info": {
   "codemirror_mode": {
    "name": "ipython",
    "version": 3
   },
   "file_extension": ".py",
   "mimetype": "text/x-python",
   "name": "python",
   "nbconvert_exporter": "python",
   "pygments_lexer": "ipython3",
   "version": "3.8.16"
  },
  "varInspector": {
   "cols": {
    "lenName": 16,
    "lenType": 16,
    "lenVar": 40
   },
   "kernels_config": {
    "python": {
     "delete_cmd_postfix": "",
     "delete_cmd_prefix": "del ",
     "library": "var_list.py",
     "varRefreshCmd": "print(var_dic_list())"
    },
    "r": {
     "delete_cmd_postfix": ") ",
     "delete_cmd_prefix": "rm(",
     "library": "var_list.r",
     "varRefreshCmd": "cat(var_dic_list()) "
    }
   },
   "types_to_exclude": [
    "module",
    "function",
    "builtin_function_or_method",
    "instance",
    "_Feature"
   ],
   "window_display": false
  }
 },
 "nbformat": 4,
 "nbformat_minor": 5
}
