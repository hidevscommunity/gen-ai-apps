{
 "cells": [
  {
   "cell_type": "code",
   "execution_count": 1,
   "metadata": {},
   "outputs": [],
   "source": [
    "import pandas as pd\n",
    "import openai\n",
    "from utils import *\n",
    "import constants\n",
    "from sklearn.metrics.pairwise import cosine_similarity\n"
   ]
  },
  {
   "cell_type": "code",
   "execution_count": 2,
   "metadata": {},
   "outputs": [],
   "source": [
    "openai.api_key = constants.OPENAI_API_KEY"
   ]
  },
  {
   "attachments": {},
   "cell_type": "markdown",
   "metadata": {},
   "source": [
    "### Query S2 paper index"
   ]
  },
  {
   "cell_type": "code",
   "execution_count": 3,
   "metadata": {},
   "outputs": [],
   "source": [
    "query = \"How does iron supplementation affect anemia?\"\n",
    "\n",
    "# json to pandas dataframe\n",
    "search_results = search(preprocess_query(query))\n",
    "\n",
    "if search_results['total']==0:\n",
    "    print('No results found - Try another query')\n",
    "else:\n",
    "    df = pd.DataFrame(search_results['data']).dropna()"
   ]
  },
  {
   "cell_type": "code",
   "execution_count": 4,
   "metadata": {},
   "outputs": [
    {
     "data": {
      "text/html": [
       "<div>\n",
       "<style scoped>\n",
       "    .dataframe tbody tr th:only-of-type {\n",
       "        vertical-align: middle;\n",
       "    }\n",
       "\n",
       "    .dataframe tbody tr th {\n",
       "        vertical-align: top;\n",
       "    }\n",
       "\n",
       "    .dataframe thead th {\n",
       "        text-align: right;\n",
       "    }\n",
       "</style>\n",
       "<table border=\"1\" class=\"dataframe\">\n",
       "  <thead>\n",
       "    <tr style=\"text-align: right;\">\n",
       "      <th></th>\n",
       "      <th>paperId</th>\n",
       "      <th>title</th>\n",
       "      <th>abstract</th>\n",
       "    </tr>\n",
       "  </thead>\n",
       "  <tbody>\n",
       "    <tr>\n",
       "      <th>0</th>\n",
       "      <td>d17242c18f0bf942f258db2fb163933e3ea1a8f0</td>\n",
       "      <td>Iron Fortification and Supplementation: Fighti...</td>\n",
       "      <td>ABSTRACT The significant worldwide increase in...</td>\n",
       "    </tr>\n",
       "    <tr>\n",
       "      <th>2</th>\n",
       "      <td>c910b35eb94711fb0f17075f88e132f8cf0bf85a</td>\n",
       "      <td>Iron-containing micronutrient supplementation ...</td>\n",
       "      <td>Universal prenatal daily iron-folic acid (IFA)...</td>\n",
       "    </tr>\n",
       "    <tr>\n",
       "      <th>3</th>\n",
       "      <td>e056f91c0ba1bc3214e0f89aaf375cafc95f3da3</td>\n",
       "      <td>Effectivity of Iron Supplementation With and W...</td>\n",
       "      <td>Anemia can be caused by a decrease in hemoglob...</td>\n",
       "    </tr>\n",
       "    <tr>\n",
       "      <th>4</th>\n",
       "      <td>2cbf181eaa9bf0ab7bc4d5426da4cabf6cea53bf</td>\n",
       "      <td>Effects of iron deficiency and iron supplement...</td>\n",
       "      <td>Iron deficiency is the most prevalent human mi...</td>\n",
       "    </tr>\n",
       "    <tr>\n",
       "      <th>6</th>\n",
       "      <td>459828144e59ace72493adae1068d460d0989c46</td>\n",
       "      <td>Benefits and Risks of Early Life Iron Suppleme...</td>\n",
       "      <td>Infants are frequently supplemented with iron ...</td>\n",
       "    </tr>\n",
       "  </tbody>\n",
       "</table>\n",
       "</div>"
      ],
      "text/plain": [
       "                                    paperId  \\\n",
       "0  d17242c18f0bf942f258db2fb163933e3ea1a8f0   \n",
       "2  c910b35eb94711fb0f17075f88e132f8cf0bf85a   \n",
       "3  e056f91c0ba1bc3214e0f89aaf375cafc95f3da3   \n",
       "4  2cbf181eaa9bf0ab7bc4d5426da4cabf6cea53bf   \n",
       "6  459828144e59ace72493adae1068d460d0989c46   \n",
       "\n",
       "                                               title  \\\n",
       "0  Iron Fortification and Supplementation: Fighti...   \n",
       "2  Iron-containing micronutrient supplementation ...   \n",
       "3  Effectivity of Iron Supplementation With and W...   \n",
       "4  Effects of iron deficiency and iron supplement...   \n",
       "6  Benefits and Risks of Early Life Iron Suppleme...   \n",
       "\n",
       "                                            abstract  \n",
       "0  ABSTRACT The significant worldwide increase in...  \n",
       "2  Universal prenatal daily iron-folic acid (IFA)...  \n",
       "3  Anemia can be caused by a decrease in hemoglob...  \n",
       "4  Iron deficiency is the most prevalent human mi...  \n",
       "6  Infants are frequently supplemented with iron ...  "
      ]
     },
     "execution_count": 4,
     "metadata": {},
     "output_type": "execute_result"
    }
   ],
   "source": [
    "df.head()"
   ]
  },
  {
   "attachments": {},
   "cell_type": "markdown",
   "metadata": {},
   "source": [
    "### Re-ranking using SPECTER"
   ]
  },
  {
   "cell_type": "code",
   "execution_count": 5,
   "metadata": {},
   "outputs": [
    {
     "data": {
      "text/plain": [
       "'Iron-containing micronutrient supplementation of Chinese women with no or mild anemia during pregnancy improved iron status but did not affect perinatal anemia.[SEP]Universal prenatal daily iron-folic acid (IFA) and multiple micronutrient (MM) supplements are recommended to reduce the risk of low birth weight, maternal anemia, and iron deficiency (ID) during pregnancy, but the evidence of their effect on iron status among women with mild or no anemia is limited. The aim of this study was to describe the iron status [serum ferritin (SF), serum soluble transferrin receptor (sTfR), and body iron (BI)] before and after micronutrient supplementation during pregnancy. We examined 834 pregnant women with hemoglobin > 100 g/L at enrollment before 20 wk of gestation and with iron measurement data from a subset of a randomized, double-blind trial in China. Women were randomly assigned to take daily 400 μg of folic acid (FA) (control), FA plus 30 mg of iron, or FA, iron, plus 13 additional MMs provided before 20 wk of gestation to delivery. Venous blood was collected in this subset during study enrollment (before 20 wk of gestation) and 28-32 wk of gestation. We found that, at 28-32 wk of gestation, compared with the FA group, both the IFA and MM groups had significantly lower prevalence of ID regardless of which indicator (SF, sTfR, or BI) was used for defining ID. The prevalence of ID at 28-32 wk of gestation for IFA, MM, and FA were 35.3%, 42.7%, and 59.6% by using low SF, 53.6%, 59.9%, and 69.9% by using high sTfR, and 34.5%, 41.2%, and 59.6% by using low BI, respectively. However, there was no difference in anemia prevalence (hemoglobin < 110 g/L) between FA and IFA or MM groups. We concluded that, compared with FA alone, prenatal IFA and MM supplements provided to women with no or mild anemia improved iron status later during pregnancy but did not affect perinatal anemia. This trial was registered at clinicaltrials.gov as NCT00137744.'"
      ]
     },
     "execution_count": 5,
     "metadata": {},
     "output_type": "execute_result"
    }
   ],
   "source": [
    "# merge columns title and abstract into a string separated by tokenizer.sep_token and store it in a list\n",
    "\n",
    "df['title_abs'] = [d['title'] + tokenizer.sep_token + (d.get('abstract') or '') for d in df.to_dict('records')]\n",
    "df['n_tokens'] = df.title_abs.apply(lambda x: len(tokenizer.encode(x)))\n",
    "df['title_abs'][2]"
   ]
  },
  {
   "cell_type": "code",
   "execution_count": 6,
   "metadata": {},
   "outputs": [
    {
     "data": {
      "text/html": [
       "<div>\n",
       "<style scoped>\n",
       "    .dataframe tbody tr th:only-of-type {\n",
       "        vertical-align: middle;\n",
       "    }\n",
       "\n",
       "    .dataframe tbody tr th {\n",
       "        vertical-align: top;\n",
       "    }\n",
       "\n",
       "    .dataframe thead th {\n",
       "        text-align: right;\n",
       "    }\n",
       "</style>\n",
       "<table border=\"1\" class=\"dataframe\">\n",
       "  <thead>\n",
       "    <tr style=\"text-align: right;\">\n",
       "      <th></th>\n",
       "      <th>paperId</th>\n",
       "      <th>title</th>\n",
       "      <th>abstract</th>\n",
       "      <th>title_abs</th>\n",
       "      <th>n_tokens</th>\n",
       "      <th>specter_embeddings</th>\n",
       "    </tr>\n",
       "  </thead>\n",
       "  <tbody>\n",
       "    <tr>\n",
       "      <th>0</th>\n",
       "      <td>d17242c18f0bf942f258db2fb163933e3ea1a8f0</td>\n",
       "      <td>Iron Fortification and Supplementation: Fighti...</td>\n",
       "      <td>ABSTRACT The significant worldwide increase in...</td>\n",
       "      <td>Iron Fortification and Supplementation: Fighti...</td>\n",
       "      <td>195</td>\n",
       "      <td>[-0.2920975, -0.36597273, 0.23700278, 0.480033...</td>\n",
       "    </tr>\n",
       "    <tr>\n",
       "      <th>2</th>\n",
       "      <td>c910b35eb94711fb0f17075f88e132f8cf0bf85a</td>\n",
       "      <td>Iron-containing micronutrient supplementation ...</td>\n",
       "      <td>Universal prenatal daily iron-folic acid (IFA)...</td>\n",
       "      <td>Iron-containing micronutrient supplementation ...</td>\n",
       "      <td>470</td>\n",
       "      <td>[-0.54441655, -0.5294113, 0.43898264, 0.709588...</td>\n",
       "    </tr>\n",
       "    <tr>\n",
       "      <th>3</th>\n",
       "      <td>e056f91c0ba1bc3214e0f89aaf375cafc95f3da3</td>\n",
       "      <td>Effectivity of Iron Supplementation With and W...</td>\n",
       "      <td>Anemia can be caused by a decrease in hemoglob...</td>\n",
       "      <td>Effectivity of Iron Supplementation With and W...</td>\n",
       "      <td>353</td>\n",
       "      <td>[-0.39489794, -0.46253267, 0.5966403, 0.662496...</td>\n",
       "    </tr>\n",
       "    <tr>\n",
       "      <th>4</th>\n",
       "      <td>2cbf181eaa9bf0ab7bc4d5426da4cabf6cea53bf</td>\n",
       "      <td>Effects of iron deficiency and iron supplement...</td>\n",
       "      <td>Iron deficiency is the most prevalent human mi...</td>\n",
       "      <td>Effects of iron deficiency and iron supplement...</td>\n",
       "      <td>397</td>\n",
       "      <td>[-0.37867287, -0.52501506, 0.30210197, 0.62727...</td>\n",
       "    </tr>\n",
       "    <tr>\n",
       "      <th>6</th>\n",
       "      <td>459828144e59ace72493adae1068d460d0989c46</td>\n",
       "      <td>Benefits and Risks of Early Life Iron Suppleme...</td>\n",
       "      <td>Infants are frequently supplemented with iron ...</td>\n",
       "      <td>Benefits and Risks of Early Life Iron Suppleme...</td>\n",
       "      <td>130</td>\n",
       "      <td>[-0.4462546, -0.43935454, 0.33284977, 0.610091...</td>\n",
       "    </tr>\n",
       "  </tbody>\n",
       "</table>\n",
       "</div>"
      ],
      "text/plain": [
       "                                    paperId  \\\n",
       "0  d17242c18f0bf942f258db2fb163933e3ea1a8f0   \n",
       "2  c910b35eb94711fb0f17075f88e132f8cf0bf85a   \n",
       "3  e056f91c0ba1bc3214e0f89aaf375cafc95f3da3   \n",
       "4  2cbf181eaa9bf0ab7bc4d5426da4cabf6cea53bf   \n",
       "6  459828144e59ace72493adae1068d460d0989c46   \n",
       "\n",
       "                                               title  \\\n",
       "0  Iron Fortification and Supplementation: Fighti...   \n",
       "2  Iron-containing micronutrient supplementation ...   \n",
       "3  Effectivity of Iron Supplementation With and W...   \n",
       "4  Effects of iron deficiency and iron supplement...   \n",
       "6  Benefits and Risks of Early Life Iron Suppleme...   \n",
       "\n",
       "                                            abstract  \\\n",
       "0  ABSTRACT The significant worldwide increase in...   \n",
       "2  Universal prenatal daily iron-folic acid (IFA)...   \n",
       "3  Anemia can be caused by a decrease in hemoglob...   \n",
       "4  Iron deficiency is the most prevalent human mi...   \n",
       "6  Infants are frequently supplemented with iron ...   \n",
       "\n",
       "                                           title_abs  n_tokens  \\\n",
       "0  Iron Fortification and Supplementation: Fighti...       195   \n",
       "2  Iron-containing micronutrient supplementation ...       470   \n",
       "3  Effectivity of Iron Supplementation With and W...       353   \n",
       "4  Effects of iron deficiency and iron supplement...       397   \n",
       "6  Benefits and Risks of Early Life Iron Suppleme...       130   \n",
       "\n",
       "                                  specter_embeddings  \n",
       "0  [-0.2920975, -0.36597273, 0.23700278, 0.480033...  \n",
       "2  [-0.54441655, -0.5294113, 0.43898264, 0.709588...  \n",
       "3  [-0.39489794, -0.46253267, 0.5966403, 0.662496...  \n",
       "4  [-0.37867287, -0.52501506, 0.30210197, 0.62727...  \n",
       "6  [-0.4462546, -0.43935454, 0.33284977, 0.610091...  "
      ]
     },
     "execution_count": 6,
     "metadata": {},
     "output_type": "execute_result"
    }
   ],
   "source": [
    "# get embeddings for each document and query\n",
    "\n",
    "doc_embeddings = get_specter_embeddings(list(df['title_abs']))\n",
    "query_embeddings = get_specter_embeddings(query)\n",
    "\n",
    "df['specter_embeddings'] = list(doc_embeddings)\n",
    "df.head()"
   ]
  },
  {
   "cell_type": "code",
   "execution_count": 7,
   "metadata": {},
   "outputs": [
    {
     "data": {
      "text/html": [
       "<div>\n",
       "<style scoped>\n",
       "    .dataframe tbody tr th:only-of-type {\n",
       "        vertical-align: middle;\n",
       "    }\n",
       "\n",
       "    .dataframe tbody tr th {\n",
       "        vertical-align: top;\n",
       "    }\n",
       "\n",
       "    .dataframe thead th {\n",
       "        text-align: right;\n",
       "    }\n",
       "</style>\n",
       "<table border=\"1\" class=\"dataframe\">\n",
       "  <thead>\n",
       "    <tr style=\"text-align: right;\">\n",
       "      <th></th>\n",
       "      <th>paperId</th>\n",
       "      <th>title</th>\n",
       "      <th>abstract</th>\n",
       "      <th>title_abs</th>\n",
       "      <th>n_tokens</th>\n",
       "      <th>specter_embeddings</th>\n",
       "      <th>similarity</th>\n",
       "    </tr>\n",
       "  </thead>\n",
       "  <tbody>\n",
       "    <tr>\n",
       "      <th>11</th>\n",
       "      <td>a6d2264066edf46f03f1c7df46b0e8079f8e0b63</td>\n",
       "      <td>Efficacy of daily versus intermittent administ...</td>\n",
       "      <td>Iron deficiency anemia is one of the main caus...</td>\n",
       "      <td>Efficacy of daily versus intermittent administ...</td>\n",
       "      <td>316</td>\n",
       "      <td>[-0.50734, -0.4384992, 0.5872712, 0.7197657, 0...</td>\n",
       "      <td>0.903400</td>\n",
       "    </tr>\n",
       "    <tr>\n",
       "      <th>3</th>\n",
       "      <td>e056f91c0ba1bc3214e0f89aaf375cafc95f3da3</td>\n",
       "      <td>Effectivity of Iron Supplementation With and W...</td>\n",
       "      <td>Anemia can be caused by a decrease in hemoglob...</td>\n",
       "      <td>Effectivity of Iron Supplementation With and W...</td>\n",
       "      <td>353</td>\n",
       "      <td>[-0.39489794, -0.46253267, 0.5966403, 0.662496...</td>\n",
       "      <td>0.897092</td>\n",
       "    </tr>\n",
       "    <tr>\n",
       "      <th>13</th>\n",
       "      <td>f312120e9e0fa93842dadf5cc55ee367e4d22615</td>\n",
       "      <td>The effect of iron supplementation on birth ou...</td>\n",
       "      <td>\\n Background: Although Iron supplementation i...</td>\n",
       "      <td>The effect of iron supplementation on birth ou...</td>\n",
       "      <td>391</td>\n",
       "      <td>[-0.47750962, -0.45246515, 0.48677686, 0.73421...</td>\n",
       "      <td>0.890646</td>\n",
       "    </tr>\n",
       "    <tr>\n",
       "      <th>6</th>\n",
       "      <td>459828144e59ace72493adae1068d460d0989c46</td>\n",
       "      <td>Benefits and Risks of Early Life Iron Suppleme...</td>\n",
       "      <td>Infants are frequently supplemented with iron ...</td>\n",
       "      <td>Benefits and Risks of Early Life Iron Suppleme...</td>\n",
       "      <td>130</td>\n",
       "      <td>[-0.4462546, -0.43935454, 0.33284977, 0.610091...</td>\n",
       "      <td>0.883864</td>\n",
       "    </tr>\n",
       "    <tr>\n",
       "      <th>2</th>\n",
       "      <td>c910b35eb94711fb0f17075f88e132f8cf0bf85a</td>\n",
       "      <td>Iron-containing micronutrient supplementation ...</td>\n",
       "      <td>Universal prenatal daily iron-folic acid (IFA)...</td>\n",
       "      <td>Iron-containing micronutrient supplementation ...</td>\n",
       "      <td>470</td>\n",
       "      <td>[-0.54441655, -0.5294113, 0.43898264, 0.709588...</td>\n",
       "      <td>0.881683</td>\n",
       "    </tr>\n",
       "  </tbody>\n",
       "</table>\n",
       "</div>"
      ],
      "text/plain": [
       "                                     paperId  \\\n",
       "11  a6d2264066edf46f03f1c7df46b0e8079f8e0b63   \n",
       "3   e056f91c0ba1bc3214e0f89aaf375cafc95f3da3   \n",
       "13  f312120e9e0fa93842dadf5cc55ee367e4d22615   \n",
       "6   459828144e59ace72493adae1068d460d0989c46   \n",
       "2   c910b35eb94711fb0f17075f88e132f8cf0bf85a   \n",
       "\n",
       "                                                title  \\\n",
       "11  Efficacy of daily versus intermittent administ...   \n",
       "3   Effectivity of Iron Supplementation With and W...   \n",
       "13  The effect of iron supplementation on birth ou...   \n",
       "6   Benefits and Risks of Early Life Iron Suppleme...   \n",
       "2   Iron-containing micronutrient supplementation ...   \n",
       "\n",
       "                                             abstract  \\\n",
       "11  Iron deficiency anemia is one of the main caus...   \n",
       "3   Anemia can be caused by a decrease in hemoglob...   \n",
       "13  \\n Background: Although Iron supplementation i...   \n",
       "6   Infants are frequently supplemented with iron ...   \n",
       "2   Universal prenatal daily iron-folic acid (IFA)...   \n",
       "\n",
       "                                            title_abs  n_tokens  \\\n",
       "11  Efficacy of daily versus intermittent administ...       316   \n",
       "3   Effectivity of Iron Supplementation With and W...       353   \n",
       "13  The effect of iron supplementation on birth ou...       391   \n",
       "6   Benefits and Risks of Early Life Iron Suppleme...       130   \n",
       "2   Iron-containing micronutrient supplementation ...       470   \n",
       "\n",
       "                                   specter_embeddings  similarity  \n",
       "11  [-0.50734, -0.4384992, 0.5872712, 0.7197657, 0...    0.903400  \n",
       "3   [-0.39489794, -0.46253267, 0.5966403, 0.662496...    0.897092  \n",
       "13  [-0.47750962, -0.45246515, 0.48677686, 0.73421...    0.890646  \n",
       "6   [-0.4462546, -0.43935454, 0.33284977, 0.610091...    0.883864  \n",
       "2   [-0.54441655, -0.5294113, 0.43898264, 0.709588...    0.881683  "
      ]
     },
     "execution_count": 7,
     "metadata": {},
     "output_type": "execute_result"
    }
   ],
   "source": [
    "# find the cosine similarity between the query and the documents\n",
    "df['similarity'] = cosine_similarity(query_embeddings, doc_embeddings).flatten()\n",
    "\n",
    "# sort the dataframe by similarity\n",
    "df.sort_values(by='similarity', ascending=False, inplace=True)\n",
    "df.head()"
   ]
  },
  {
   "attachments": {},
   "cell_type": "markdown",
   "metadata": {},
   "source": [
    "## Get answer from GPT-3"
   ]
  },
  {
   "cell_type": "code",
   "execution_count": 8,
   "metadata": {},
   "outputs": [
    {
     "data": {
      "text/plain": [
       "'Iron supplementation can reduce anemia in pregnant women with mild or no anemia, but it can also increase the risk of neonatal jaundice. Iron supplementation can also improve iron stores and decrease anemia in non-pregnant women, but it can also increase the risk of diarrhea. Good adherence and initiation of supplementation before conception are needed to reduce anemia during early pregnancy.'"
      ]
     },
     "execution_count": 8,
     "metadata": {},
     "output_type": "execute_result"
    }
   ],
   "source": [
    "answer_question(df, question=query, debug=False)"
   ]
  }
 ],
 "metadata": {
  "kernelspec": {
   "display_name": "scrapy",
   "language": "python",
   "name": "python3"
  },
  "language_info": {
   "codemirror_mode": {
    "name": "ipython",
    "version": 3
   },
   "file_extension": ".py",
   "mimetype": "text/x-python",
   "name": "python",
   "nbconvert_exporter": "python",
   "pygments_lexer": "ipython3",
   "version": "3.8.5"
  },
  "orig_nbformat": 4,
  "vscode": {
   "interpreter": {
    "hash": "c427baeba2024b2541978d571c5efeb4f9a883b2188116249eab84936b99c3e5"
   }
  }
 },
 "nbformat": 4,
 "nbformat_minor": 2
}
