{
 "cells": [
  {
   "cell_type": "code",
   "execution_count": 1,
   "id": "c5e49892",
   "metadata": {},
   "outputs": [],
   "source": [
    "!pip install --upgrade langchain openai  -q"
   ]
  },
  {
   "cell_type": "code",
   "execution_count": 2,
   "id": "5a60f45e",
   "metadata": {},
   "outputs": [],
   "source": [
    "!pip install sentence_transformers -q"
   ]
  },
  {
   "cell_type": "code",
   "execution_count": 3,
   "id": "f95c737c",
   "metadata": {},
   "outputs": [
    {
     "name": "stderr",
     "output_type": "stream",
     "text": [
      "  error: subprocess-exited-with-error\n",
      "  \n",
      "  Building wheel for pycocotools (pyproject.toml) did not run successfully.\n",
      "  exit code: 1\n",
      "  \n",
      "  [16 lines of output]\n",
      "  running bdist_wheel\n",
      "  running build\n",
      "  running build_py\n",
      "  creating build\n",
      "  creating build\\lib.win-amd64-cpython-310\n",
      "  creating build\\lib.win-amd64-cpython-310\\pycocotools\n",
      "  copying pycocotools\\coco.py -> build\\lib.win-amd64-cpython-310\\pycocotools\n",
      "  copying pycocotools\\cocoeval.py -> build\\lib.win-amd64-cpython-310\\pycocotools\n",
      "  copying pycocotools\\mask.py -> build\\lib.win-amd64-cpython-310\\pycocotools\n",
      "  copying pycocotools\\__init__.py -> build\\lib.win-amd64-cpython-310\\pycocotools\n",
      "  running build_ext\n",
      "  cythoning pycocotools/_mask.pyx to pycocotools\\_mask.c\n",
      "  C:\\Users\\hp\\AppData\\Local\\Temp\\pip-build-env-bsaawbii\\overlay\\Lib\\site-packages\\Cython\\Compiler\\Main.py:369: FutureWarning: Cython directive 'language_level' not set, using 2 for now (Py2). This will change in a later release! File: C:\\Users\\hp\\AppData\\Local\\Temp\\pip-install-0d47xi4w\\pycocotools_aac75539027f499b8bedb15ff5f571ba\\pycocotools\\_mask.pyx\n",
      "    tree = Parsing.p_module(s, pxd, full_module_name)\n",
      "  building 'pycocotools._mask' extension\n",
      "  error: Microsoft Visual C++ 14.0 or greater is required. Get it with \"Microsoft C++ Build Tools\": https://visualstudio.microsoft.com/visual-cpp-build-tools/\n",
      "  [end of output]\n",
      "  \n",
      "  note: This error originates from a subprocess, and is likely not a problem with pip.\n",
      "  ERROR: Failed building wheel for pycocotools\n",
      "ERROR: Could not build wheels for pycocotools, which is required to install pyproject.toml-based projects\n"
     ]
    }
   ],
   "source": [
    "!pip install unstructured -q\n",
    "!pip install unstructured[local-inference] -q\n",
    "#!pip install detectron2@git+https://github.com/facebookresearch/detectron2.git@v0.6#egg=detectron2 -q"
   ]
  },
  {
   "cell_type": "code",
   "execution_count": 4,
   "id": "859facff",
   "metadata": {},
   "outputs": [
    {
     "name": "stdout",
     "output_type": "stream",
     "text": [
      "Requirement already satisfied: poppler-utils in c:\\users\\hp\\anaconda3\\lib\\site-packages (0.1.0)\n",
      "Requirement already satisfied: Click>=7.0 in c:\\users\\hp\\anaconda3\\lib\\site-packages (from poppler-utils) (8.0.4)\n",
      "Requirement already satisfied: colorama in c:\\users\\hp\\anaconda3\\lib\\site-packages (from Click>=7.0->poppler-utils) (0.4.6)\n"
     ]
    }
   ],
   "source": [
    "!pip install poppler-utils  "
   ]
  },
  {
   "cell_type": "code",
   "execution_count": 5,
   "id": "e62311f4",
   "metadata": {},
   "outputs": [
    {
     "name": "stdout",
     "output_type": "stream",
     "text": [
      "Requirement already satisfied: pypdf in c:\\users\\hp\\anaconda3\\lib\\site-packages (3.10.0)\n"
     ]
    }
   ],
   "source": [
    "!pip install pypdf"
   ]
  },
  {
   "cell_type": "code",
   "execution_count": 6,
   "id": "2f9ef2e3",
   "metadata": {},
   "outputs": [
    {
     "name": "stdout",
     "output_type": "stream",
     "text": [
      "1\n"
     ]
    }
   ],
   "source": [
    "from langchain.document_loaders import UnstructuredPDFLoader\n",
    "\n",
    "filename = 'data/ayurvaidya.pdf'\n",
    "\n",
    "def load_docs(filename):\n",
    "    loader = UnstructuredPDFLoader(filename)\n",
    "    document = loader.load()\n",
    "    return document  # Wrap the document in a list\n",
    "\n",
    "documents = load_docs(filename)\n",
    "print(len(documents))\n"
   ]
  },
  {
   "cell_type": "code",
   "execution_count": 7,
   "id": "e08a5173",
   "metadata": {},
   "outputs": [
    {
     "name": "stdout",
     "output_type": "stream",
     "text": [
      "77\n"
     ]
    }
   ],
   "source": [
    "from langchain.text_splitter import RecursiveCharacterTextSplitter\n",
    "\n",
    "def split_docs(documents,chunk_size=500,chunk_overlap=20):\n",
    "  text_splitter = RecursiveCharacterTextSplitter(chunk_size=chunk_size, chunk_overlap=chunk_overlap)\n",
    "  docs = text_splitter.split_documents(documents)\n",
    "  return docs\n",
    "\n",
    "docs = split_docs(documents)\n",
    "print(len(docs))\n"
   ]
  },
  {
   "cell_type": "code",
   "execution_count": 9,
   "id": "377c5738",
   "metadata": {},
   "outputs": [
    {
     "name": "stdout",
     "output_type": "stream",
     "text": [
      "HeadAche:\n",
      "\n",
      "1) 2 -3 drops of agastya leaves (West Indian pea) juice is used as nasal drops in the\n",
      "\n",
      "morning to cure sinusitis and headache\n",
      "\n",
      "2) Fine leaves paste of changeri- (Indian Sorre) applied externally over the forehead is\n",
      "\n",
      "useful in headaches.\n",
      "\n",
      "3) The oil prepared from dronapushpi flowers- Spiderwort should be applied externally in\n",
      "\n",
      "headache, sinusitis etc\n",
      "\n",
      "4) 10 gms of Durva grass (Creeping Cynodon, Conch Grass) powder should be boiled in\n"
     ]
    }
   ],
   "source": [
    "print(docs[0].page_content)"
   ]
  },
  {
   "cell_type": "code",
   "execution_count": 10,
   "id": "4c31dea3",
   "metadata": {},
   "outputs": [],
   "source": [
    "from langchain.embeddings import SentenceTransformerEmbeddings\n",
    "embeddings = SentenceTransformerEmbeddings(model_name=\"all-MiniLM-L6-v2\")"
   ]
  },
  {
   "cell_type": "code",
   "execution_count": 11,
   "id": "f6642a12",
   "metadata": {},
   "outputs": [],
   "source": [
    "!pip install pinecone-client -q"
   ]
  },
  {
   "cell_type": "code",
   "execution_count": 12,
   "id": "3b8b6553",
   "metadata": {},
   "outputs": [],
   "source": [
    "import pinecone \n",
    "from langchain.vectorstores import Pinecone\n",
    "# initialize pinecone\n",
    "pinecone.init(\n",
    "    api_key=\"01cb50ff-5446-4a6a-a5be-a04bfcdc93bb\",  # find at app.pinecone.io\n",
    "    environment=\"asia-southeast1-gcp-free\"  # next to api key in console\n",
    ")\n",
    "\n",
    "index_name = \"chatbot1\"\n",
    "\n",
    "index = Pinecone.from_documents(docs, embeddings, index_name=index_name)"
   ]
  },
  {
   "cell_type": "code",
   "execution_count": 13,
   "id": "be1a4480",
   "metadata": {},
   "outputs": [
    {
     "data": {
      "text/plain": [
       "[Document(page_content='2) Consuming 10ml of Krishna tulasi-Holy Basil leaves juice with honey, twice or thrice a\\n\\nday is useful in cough and cold.\\n\\n3) Anise powder 5gms with honey is a fantastic treatment for asthma, bronchitis cough 4) Cardamom and sugar candy are taken in 1:2 ratio and powdered well. This is chewed in\\n\\nthe dose of 2 gram 3-4 times a day. This is very effective in conditions like cold, cough, throat congestion, asthma, dryness of the mouth etc.', metadata={'source': 'data/ayurvaidya.pdf'})]"
      ]
     },
     "execution_count": 13,
     "metadata": {},
     "output_type": "execute_result"
    }
   ],
   "source": [
    "def get_similiar_docs(query,k=1,score=False):\n",
    "  if score:\n",
    "    similar_docs = index.similarity_search_with_score(query,k=k)\n",
    "  else:\n",
    "    similar_docs = index.similarity_search(query,k=k)\n",
    "  return similar_docs\n",
    "\n",
    "query = \"What is the remedy for dry cough?\"\n",
    "similar_docs = get_similiar_docs(query)\n",
    "similar_docs"
   ]
  },
  {
   "cell_type": "code",
   "execution_count": null,
   "id": "490fd3a6",
   "metadata": {},
   "outputs": [],
   "source": []
  }
 ],
 "metadata": {
  "kernelspec": {
   "display_name": "Python 3 (ipykernel)",
   "language": "python",
   "name": "python3"
  },
  "language_info": {
   "codemirror_mode": {
    "name": "ipython",
    "version": 3
   },
   "file_extension": ".py",
   "mimetype": "text/x-python",
   "name": "python",
   "nbconvert_exporter": "python",
   "pygments_lexer": "ipython3",
   "version": "3.10.9"
  }
 },
 "nbformat": 4,
 "nbformat_minor": 5
}
