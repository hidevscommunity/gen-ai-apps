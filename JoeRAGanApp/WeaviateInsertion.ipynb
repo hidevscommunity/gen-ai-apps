{
 "cells": [
  {
   "cell_type": "code",
   "execution_count": 1,
   "id": "initial_id",
   "metadata": {
    "collapsed": true,
    "ExecuteTime": {
     "end_time": "2023-10-03T16:17:16.128564400Z",
     "start_time": "2023-10-03T16:17:12.826860400Z"
    }
   },
   "outputs": [],
   "source": [
    "import weaviate\n",
    "from dotenv import load_dotenv\n",
    "import os\n",
    "from langchain.schema.document import Document\n",
    "import json"
   ]
  },
  {
   "cell_type": "markdown",
   "source": [
    "Load Weaviate and OpenAI API keys from .env file"
   ],
   "metadata": {
    "collapsed": false
   },
   "id": "478c9e70554eb7d4"
  },
  {
   "cell_type": "code",
   "execution_count": 2,
   "outputs": [
    {
     "data": {
      "text/plain": "True"
     },
     "execution_count": 2,
     "metadata": {},
     "output_type": "execute_result"
    }
   ],
   "source": [
    "load_dotenv('.env')"
   ],
   "metadata": {
    "collapsed": false,
    "ExecuteTime": {
     "end_time": "2023-10-03T16:17:17.431221Z",
     "start_time": "2023-10-03T16:17:17.413201900Z"
    }
   },
   "id": "8433a6c3a77d6d50"
  },
  {
   "cell_type": "markdown",
   "source": [
    "Helper functions to extract data from directory of json files, convert to LangChain Document object, and insert into Weaviate cluster"
   ],
   "metadata": {
    "collapsed": false
   },
   "id": "9ee83964e9e27597"
  },
  {
   "cell_type": "code",
   "execution_count": 3,
   "outputs": [],
   "source": [
    "#helper function to cleanly print json\n",
    "def jprint(data_in):\n",
    "    print(json.dumps(data_in, indent=2))\n",
    "    \n",
    "#function to extract data from directory of json files\n",
    "def extract_data_from_directory(directory_path: str) -> list:\n",
    "    # List of all JSON files in the directory\n",
    "    json_files = [f for f in os.listdir(directory_path) if f.endswith('.json')]\n",
    "    combined_data = []\n",
    "    \n",
    "    for json_file in json_files:\n",
    "        file_path = os.path.join(directory_path, json_file)\n",
    "        \n",
    "        with open(file_path, 'r') as file:\n",
    "            data = json.load(file)\n",
    "            combined_data.extend(data)\n",
    "            \n",
    "    return combined_data\n",
    "    \n",
    "#function to convert python dictionary to LangChain Document object    \n",
    "def dict_to_doc(documents):\n",
    "    lang_docs = []\n",
    "    for chunk in documents:\n",
    "        doc = Document(page_content = chunk['text'],\n",
    "                       metadata = {\"chunk_topics\": chunk['Topics'],\n",
    "                                   \"ep_title\": chunk['episode_title'],\n",
    "                                   \"ep_date\": chunk['date_posted'],\n",
    "                                   \"ep_guest\": chunk['guest'],\n",
    "                                   \"timestamp\": \"0:00\",\n",
    "                                   \"seq_id\": chunk[\"seq_num\"],\n",
    "                                   \"ep_link\": chunk[\"video_url\"]})\n",
    "        lang_docs.append(doc)\n",
    "    return lang_docs\n",
    "\n",
    "#function to insert LangChain Documents into Weaviate cluster\n",
    "def insert_documents(documents):\n",
    "    for document in documents:\n",
    "        client.data_object.create(\n",
    "            {\"chunk_body\" : document.page_content, \n",
    "             \"chunk_topics\": document.metadata[\"chunk_topics\"],\n",
    "             \"ep_title\": document.metadata[\"ep_title\"],\n",
    "             \"ep_date\": document.metadata[\"ep_date\"],\n",
    "             \"ep_guest\": document.metadata[\"ep_guest\"],\n",
    "             \"timestamp\": document.metadata[\"timestamp\"],\n",
    "             \"seq_id\": document.metadata[\"seq_id\"],\n",
    "             \"ep_link\": document.metadata[\"ep_link\"]},\n",
    "            \"Chunk_Node\"\n",
    "        )\n",
    "        for topic in document.metadata[\"chunk_topics\"]:\n",
    "            client.data_object.create(\n",
    "                {\"topic\": topic,\n",
    "                 \"ep_title\": document.metadata[\"ep_title\"]},\n",
    "                \"Topic_Node\"\n",
    "            )\n",
    "\n",
    "#function to delete weaviate class schema\n",
    "def delete_class(class_name):\n",
    "    if client.schema.exists(class_name):\n",
    "        client.schema.delete_class(class_name)\n",
    "            \n",
    "            "
   ],
   "metadata": {
    "collapsed": false,
    "ExecuteTime": {
     "end_time": "2023-10-03T16:17:19.128085700Z",
     "start_time": "2023-10-03T16:17:19.106085Z"
    }
   },
   "id": "5a4d18b0a0b68175"
  },
  {
   "cell_type": "markdown",
   "source": [
    "Instantiate Weaviate client and define schema for Chunk and Topic nodes"
   ],
   "metadata": {
    "collapsed": false
   },
   "id": "98c3d65a18c585eb"
  },
  {
   "cell_type": "code",
   "execution_count": 4,
   "outputs": [],
   "source": [
    "auth_config = weaviate.AuthApiKey(api_key=os.getenv(\"WEAVIATE_API_KEY\"))\n",
    "\n",
    "client = weaviate.Client(\n",
    "    url=\"https://streamlit-hackathon-llm-2zcna00b.weaviate.network\",\n",
    "    auth_client_secret=auth_config,\n",
    "    additional_headers={\n",
    "        \"X-OpenAI-Api-Key\": os.getenv(\"OPENAI_API_KEY\")\n",
    "    }\n",
    ")"
   ],
   "metadata": {
    "collapsed": false,
    "ExecuteTime": {
     "end_time": "2023-10-03T16:17:22.885166500Z",
     "start_time": "2023-10-03T16:17:21.849804800Z"
    }
   },
   "id": "188b66a7a026d0de"
  },
  {
   "cell_type": "code",
   "execution_count": 5,
   "outputs": [],
   "source": [
    "chunk_node_definition = {\n",
    "    \"class\": \"Chunk_Node\",\n",
    "    \"vectorizer\": \"text2vec-openai\",\n",
    "    \"moduleConfig\": {\n",
    "        \"text2vec-openai\": {\n",
    "            \"vectorizeClassName\": False            # Include the class name in vector calculation (default true)\n",
    "        }\n",
    "    },\n",
    "    \"vectorIndexConfig\": {\n",
    "        \"distance\": \"cosine\",\n",
    "    },\n",
    "    \"properties\": [\n",
    "        {\n",
    "            \"name\": \"chunk_body\",\n",
    "            \"dataType\": [\"text\"]\n",
    "        },\n",
    "        {\n",
    "            \"name\": \"chunk_topics\",\n",
    "            \"dataType\": [\"text[]\"]\n",
    "        },\n",
    "        {\n",
    "            \"name\": \"ep_title\",\n",
    "            \"dataType\": [\"text\"],\n",
    "            \"moduleConfig\": {\n",
    "                \"text2vec-openai\": {\n",
    "                    \"skip\": True            \n",
    "                }\n",
    "            }\n",
    "        },\n",
    "        {\n",
    "            \"name\": \"ep_date\",\n",
    "            \"dataType\": [\"date\"],\n",
    "            \"moduleConfig\": {\n",
    "                \"text2vec-openai\": {\n",
    "                    \"skip\": True            \n",
    "                }\n",
    "            }\n",
    "        },\n",
    "        {\n",
    "            \"name\": \"ep_guest\",\n",
    "            \"dataType\": [\"text\"],\n",
    "            \"moduleConfig\": {\n",
    "                \"text2vec-openai\": {\n",
    "                    \"skip\": True            \n",
    "                }\n",
    "            }\n",
    "        },\n",
    "        {\n",
    "            \"name\": \"timestamp\",\n",
    "            \"dataType\": [\"text\"],\n",
    "            \"moduleConfig\": {\n",
    "                \"text2vec-openai\": {\n",
    "                    \"skip\": True            \n",
    "                }\n",
    "            }\n",
    "        },\n",
    "        {\n",
    "            \"name\": \"seq_id\",\n",
    "            \"dataType\": [\"int\"],\n",
    "            \"moduleConfig\": {\n",
    "                \"text2vec-openai\": {\n",
    "                    \"skip\": True            \n",
    "                }\n",
    "            }\n",
    "        },\n",
    "        {\n",
    "            \"name\": \"ep_link\",\n",
    "            \"dataType\": [\"text\"],\n",
    "            \"moduleConfig\": {\n",
    "                \"text2vec-openai\": {\n",
    "                    \"skip\": True            \n",
    "                }\n",
    "            }\n",
    "        },\n",
    "        \n",
    "    ],\n",
    "}\n",
    "\n",
    "topic_node_definition = {\n",
    "    \"class\": \"Topic_Node\",\n",
    "    \"vectorizer\": \"text2vec-openai\",\n",
    "    \"moduleConfig\": {\n",
    "        \"text2vec-openai\": {\n",
    "            \"vectorizeClassName\": False\n",
    "        }\n",
    "    },\n",
    "    \"vectorIndexConfig\": {\n",
    "        \"distance\": \"cosine\",\n",
    "    },\n",
    "    \"properties\": [\n",
    "        {\n",
    "            \"name\": \"topic\",\n",
    "            \"dataType\": [\"text\"]\n",
    "        },\n",
    "        {\n",
    "            \"name\": \"ep_title\",\n",
    "            \"dataType\": [\"text\"],\n",
    "            \"moduleConfig\": {\n",
    "                \"text2vec-openai\": {\n",
    "                    \"skip\": True            \n",
    "                }\n",
    "            },\n",
    "        },\n",
    "    ],\n",
    "}"
   ],
   "metadata": {
    "collapsed": false,
    "ExecuteTime": {
     "end_time": "2023-10-03T16:17:28.001725800Z",
     "start_time": "2023-10-03T16:17:27.982694700Z"
    }
   },
   "id": "abc49468566391a3"
  },
  {
   "cell_type": "code",
   "execution_count": 6,
   "outputs": [
    {
     "data": {
      "text/plain": "{'classes': []}"
     },
     "execution_count": 6,
     "metadata": {},
     "output_type": "execute_result"
    }
   ],
   "source": [
    "client.schema.get()"
   ],
   "metadata": {
    "collapsed": false,
    "ExecuteTime": {
     "end_time": "2023-10-03T16:17:37.624739700Z",
     "start_time": "2023-10-03T16:17:37.464742200Z"
    }
   },
   "id": "f41e14f2b9d54da8"
  },
  {
   "cell_type": "code",
   "execution_count": 6,
   "outputs": [],
   "source": [
    "delete_class(\"Topic_Node\")\n",
    "delete_class(\"Chunk_Node\")"
   ],
   "metadata": {
    "collapsed": false,
    "ExecuteTime": {
     "end_time": "2023-09-20T01:58:04.906832900Z",
     "start_time": "2023-09-20T01:58:04.555404400Z"
    }
   },
   "id": "64be1828c4db6142"
  },
  {
   "cell_type": "markdown",
   "source": [
    "Create Chunk and Topic node classes in Weaviate cluster"
   ],
   "metadata": {
    "collapsed": false
   },
   "id": "9ac5aefd4544e7cc"
  },
  {
   "cell_type": "code",
   "execution_count": 7,
   "outputs": [],
   "source": [
    "client.schema.create_class(chunk_node_definition)\n",
    "client.schema.create_class(topic_node_definition)"
   ],
   "metadata": {
    "collapsed": false,
    "ExecuteTime": {
     "end_time": "2023-10-03T16:17:40.715157100Z",
     "start_time": "2023-10-03T16:17:40.419890200Z"
    }
   },
   "id": "404690f27b786e72"
  },
  {
   "cell_type": "code",
   "execution_count": 8,
   "outputs": [
    {
     "name": "stdout",
     "output_type": "stream",
     "text": [
      "{\n",
      "  \"classes\": [\n",
      "    {\n",
      "      \"class\": \"Chunk_Node\",\n",
      "      \"invertedIndexConfig\": {\n",
      "        \"bm25\": {\n",
      "          \"b\": 0.75,\n",
      "          \"k1\": 1.2\n",
      "        },\n",
      "        \"cleanupIntervalSeconds\": 60,\n",
      "        \"stopwords\": {\n",
      "          \"additions\": null,\n",
      "          \"preset\": \"en\",\n",
      "          \"removals\": null\n",
      "        }\n",
      "      },\n",
      "      \"moduleConfig\": {\n",
      "        \"text2vec-openai\": {\n",
      "          \"baseURL\": \"https://api.openai.com\",\n",
      "          \"model\": \"ada\",\n",
      "          \"modelVersion\": \"002\",\n",
      "          \"type\": \"text\",\n",
      "          \"vectorizeClassName\": false\n",
      "        }\n",
      "      },\n",
      "      \"multiTenancyConfig\": {\n",
      "        \"enabled\": false\n",
      "      },\n",
      "      \"properties\": [\n",
      "        {\n",
      "          \"dataType\": [\n",
      "            \"text\"\n",
      "          ],\n",
      "          \"indexFilterable\": true,\n",
      "          \"indexSearchable\": true,\n",
      "          \"moduleConfig\": {\n",
      "            \"text2vec-openai\": {\n",
      "              \"skip\": false,\n",
      "              \"vectorizePropertyName\": false\n",
      "            }\n",
      "          },\n",
      "          \"name\": \"chunk_body\",\n",
      "          \"tokenization\": \"word\"\n",
      "        },\n",
      "        {\n",
      "          \"dataType\": [\n",
      "            \"text[]\"\n",
      "          ],\n",
      "          \"indexFilterable\": true,\n",
      "          \"indexSearchable\": true,\n",
      "          \"moduleConfig\": {\n",
      "            \"text2vec-openai\": {\n",
      "              \"skip\": false,\n",
      "              \"vectorizePropertyName\": false\n",
      "            }\n",
      "          },\n",
      "          \"name\": \"chunk_topics\",\n",
      "          \"tokenization\": \"word\"\n",
      "        },\n",
      "        {\n",
      "          \"dataType\": [\n",
      "            \"text\"\n",
      "          ],\n",
      "          \"indexFilterable\": true,\n",
      "          \"indexSearchable\": true,\n",
      "          \"moduleConfig\": {\n",
      "            \"text2vec-openai\": {\n",
      "              \"skip\": true,\n",
      "              \"vectorizePropertyName\": false\n",
      "            }\n",
      "          },\n",
      "          \"name\": \"ep_title\",\n",
      "          \"tokenization\": \"word\"\n",
      "        },\n",
      "        {\n",
      "          \"dataType\": [\n",
      "            \"date\"\n",
      "          ],\n",
      "          \"indexFilterable\": true,\n",
      "          \"indexSearchable\": false,\n",
      "          \"moduleConfig\": {\n",
      "            \"text2vec-openai\": {\n",
      "              \"skip\": true,\n",
      "              \"vectorizePropertyName\": false\n",
      "            }\n",
      "          },\n",
      "          \"name\": \"ep_date\"\n",
      "        },\n",
      "        {\n",
      "          \"dataType\": [\n",
      "            \"text\"\n",
      "          ],\n",
      "          \"indexFilterable\": true,\n",
      "          \"indexSearchable\": true,\n",
      "          \"moduleConfig\": {\n",
      "            \"text2vec-openai\": {\n",
      "              \"skip\": true,\n",
      "              \"vectorizePropertyName\": false\n",
      "            }\n",
      "          },\n",
      "          \"name\": \"ep_guest\",\n",
      "          \"tokenization\": \"word\"\n",
      "        },\n",
      "        {\n",
      "          \"dataType\": [\n",
      "            \"text\"\n",
      "          ],\n",
      "          \"indexFilterable\": true,\n",
      "          \"indexSearchable\": true,\n",
      "          \"moduleConfig\": {\n",
      "            \"text2vec-openai\": {\n",
      "              \"skip\": true,\n",
      "              \"vectorizePropertyName\": false\n",
      "            }\n",
      "          },\n",
      "          \"name\": \"timestamp\",\n",
      "          \"tokenization\": \"word\"\n",
      "        },\n",
      "        {\n",
      "          \"dataType\": [\n",
      "            \"int\"\n",
      "          ],\n",
      "          \"indexFilterable\": true,\n",
      "          \"indexSearchable\": false,\n",
      "          \"moduleConfig\": {\n",
      "            \"text2vec-openai\": {\n",
      "              \"skip\": true,\n",
      "              \"vectorizePropertyName\": false\n",
      "            }\n",
      "          },\n",
      "          \"name\": \"seq_id\"\n",
      "        },\n",
      "        {\n",
      "          \"dataType\": [\n",
      "            \"text\"\n",
      "          ],\n",
      "          \"indexFilterable\": true,\n",
      "          \"indexSearchable\": true,\n",
      "          \"moduleConfig\": {\n",
      "            \"text2vec-openai\": {\n",
      "              \"skip\": true,\n",
      "              \"vectorizePropertyName\": false\n",
      "            }\n",
      "          },\n",
      "          \"name\": \"ep_link\",\n",
      "          \"tokenization\": \"word\"\n",
      "        }\n",
      "      ],\n",
      "      \"replicationConfig\": {\n",
      "        \"factor\": 1\n",
      "      },\n",
      "      \"shardingConfig\": {\n",
      "        \"virtualPerPhysical\": 128,\n",
      "        \"desiredCount\": 1,\n",
      "        \"actualCount\": 1,\n",
      "        \"desiredVirtualCount\": 128,\n",
      "        \"actualVirtualCount\": 128,\n",
      "        \"key\": \"_id\",\n",
      "        \"strategy\": \"hash\",\n",
      "        \"function\": \"murmur3\"\n",
      "      },\n",
      "      \"vectorIndexConfig\": {\n",
      "        \"skip\": false,\n",
      "        \"cleanupIntervalSeconds\": 300,\n",
      "        \"maxConnections\": 64,\n",
      "        \"efConstruction\": 128,\n",
      "        \"ef\": -1,\n",
      "        \"dynamicEfMin\": 100,\n",
      "        \"dynamicEfMax\": 500,\n",
      "        \"dynamicEfFactor\": 8,\n",
      "        \"vectorCacheMaxObjects\": 1000000000000,\n",
      "        \"flatSearchCutoff\": 40000,\n",
      "        \"distance\": \"cosine\",\n",
      "        \"pq\": {\n",
      "          \"enabled\": false,\n",
      "          \"bitCompression\": false,\n",
      "          \"segments\": 0,\n",
      "          \"centroids\": 256,\n",
      "          \"trainingLimit\": 100000,\n",
      "          \"encoder\": {\n",
      "            \"type\": \"kmeans\",\n",
      "            \"distribution\": \"log-normal\"\n",
      "          }\n",
      "        }\n",
      "      },\n",
      "      \"vectorIndexType\": \"hnsw\",\n",
      "      \"vectorizer\": \"text2vec-openai\"\n",
      "    },\n",
      "    {\n",
      "      \"class\": \"Topic_Node\",\n",
      "      \"invertedIndexConfig\": {\n",
      "        \"bm25\": {\n",
      "          \"b\": 0.75,\n",
      "          \"k1\": 1.2\n",
      "        },\n",
      "        \"cleanupIntervalSeconds\": 60,\n",
      "        \"stopwords\": {\n",
      "          \"additions\": null,\n",
      "          \"preset\": \"en\",\n",
      "          \"removals\": null\n",
      "        }\n",
      "      },\n",
      "      \"moduleConfig\": {\n",
      "        \"text2vec-openai\": {\n",
      "          \"baseURL\": \"https://api.openai.com\",\n",
      "          \"model\": \"ada\",\n",
      "          \"modelVersion\": \"002\",\n",
      "          \"type\": \"text\",\n",
      "          \"vectorizeClassName\": false\n",
      "        }\n",
      "      },\n",
      "      \"multiTenancyConfig\": {\n",
      "        \"enabled\": false\n",
      "      },\n",
      "      \"properties\": [\n",
      "        {\n",
      "          \"dataType\": [\n",
      "            \"text\"\n",
      "          ],\n",
      "          \"indexFilterable\": true,\n",
      "          \"indexSearchable\": true,\n",
      "          \"moduleConfig\": {\n",
      "            \"text2vec-openai\": {\n",
      "              \"skip\": false,\n",
      "              \"vectorizePropertyName\": false\n",
      "            }\n",
      "          },\n",
      "          \"name\": \"topic\",\n",
      "          \"tokenization\": \"word\"\n",
      "        },\n",
      "        {\n",
      "          \"dataType\": [\n",
      "            \"text\"\n",
      "          ],\n",
      "          \"indexFilterable\": true,\n",
      "          \"indexSearchable\": true,\n",
      "          \"moduleConfig\": {\n",
      "            \"text2vec-openai\": {\n",
      "              \"skip\": true,\n",
      "              \"vectorizePropertyName\": false\n",
      "            }\n",
      "          },\n",
      "          \"name\": \"ep_title\",\n",
      "          \"tokenization\": \"word\"\n",
      "        }\n",
      "      ],\n",
      "      \"replicationConfig\": {\n",
      "        \"factor\": 1\n",
      "      },\n",
      "      \"shardingConfig\": {\n",
      "        \"virtualPerPhysical\": 128,\n",
      "        \"desiredCount\": 1,\n",
      "        \"actualCount\": 1,\n",
      "        \"desiredVirtualCount\": 128,\n",
      "        \"actualVirtualCount\": 128,\n",
      "        \"key\": \"_id\",\n",
      "        \"strategy\": \"hash\",\n",
      "        \"function\": \"murmur3\"\n",
      "      },\n",
      "      \"vectorIndexConfig\": {\n",
      "        \"skip\": false,\n",
      "        \"cleanupIntervalSeconds\": 300,\n",
      "        \"maxConnections\": 64,\n",
      "        \"efConstruction\": 128,\n",
      "        \"ef\": -1,\n",
      "        \"dynamicEfMin\": 100,\n",
      "        \"dynamicEfMax\": 500,\n",
      "        \"dynamicEfFactor\": 8,\n",
      "        \"vectorCacheMaxObjects\": 1000000000000,\n",
      "        \"flatSearchCutoff\": 40000,\n",
      "        \"distance\": \"cosine\",\n",
      "        \"pq\": {\n",
      "          \"enabled\": false,\n",
      "          \"bitCompression\": false,\n",
      "          \"segments\": 0,\n",
      "          \"centroids\": 256,\n",
      "          \"trainingLimit\": 100000,\n",
      "          \"encoder\": {\n",
      "            \"type\": \"kmeans\",\n",
      "            \"distribution\": \"log-normal\"\n",
      "          }\n",
      "        }\n",
      "      },\n",
      "      \"vectorIndexType\": \"hnsw\",\n",
      "      \"vectorizer\": \"text2vec-openai\"\n",
      "    }\n",
      "  ]\n",
      "}\n"
     ]
    }
   ],
   "source": [
    "jprint(client.schema.get())"
   ],
   "metadata": {
    "collapsed": false,
    "ExecuteTime": {
     "end_time": "2023-10-03T16:17:43.452068700Z",
     "start_time": "2023-10-03T16:17:43.222430200Z"
    }
   },
   "id": "b7ccf0c59b74294b"
  },
  {
   "cell_type": "markdown",
   "source": [
    "Extract data from directory of json files, convert to LangChain Document object, and insert into Weaviate cluster"
   ],
   "metadata": {
    "collapsed": false
   },
   "id": "e7fb4c994d66099e"
  },
  {
   "cell_type": "code",
   "execution_count": 9,
   "outputs": [],
   "source": [
    "transcript_dicts = extract_data_from_directory(\"LangChain Documents\")\n",
    "transcript_docs = dict_to_doc(transcript_dicts)\n",
    "insert_documents(transcript_docs)"
   ],
   "metadata": {
    "collapsed": false,
    "ExecuteTime": {
     "end_time": "2023-10-03T16:22:25.677924100Z",
     "start_time": "2023-10-03T16:17:47.598881500Z"
    }
   },
   "id": "6a2c14c3b0e5c045"
  },
  {
   "cell_type": "markdown",
   "source": [
    "Make sure all chunks/topics were inserted into Weaviate cluster"
   ],
   "metadata": {
    "collapsed": false
   },
   "id": "e362fe0e2f2d74f"
  },
  {
   "cell_type": "code",
   "execution_count": 10,
   "outputs": [
    {
     "name": "stdout",
     "output_type": "stream",
     "text": [
      "{\n",
      "  \"data\": {\n",
      "    \"Aggregate\": {\n",
      "      \"Chunk_Node\": [\n",
      "        {\n",
      "          \"meta\": {\n",
      "            \"count\": 99\n",
      "          }\n",
      "        }\n",
      "      ]\n",
      "    }\n",
      "  }\n",
      "}\n",
      "{\n",
      "  \"data\": {\n",
      "    \"Aggregate\": {\n",
      "      \"Topic_Node\": [\n",
      "        {\n",
      "          \"meta\": {\n",
      "            \"count\": 433\n",
      "          }\n",
      "        }\n",
      "      ]\n",
      "    }\n",
      "  }\n",
      "}\n"
     ]
    }
   ],
   "source": [
    "jprint(client.query.aggregate(\"Chunk_Node\").with_meta_count().do())\n",
    "jprint(client.query.aggregate(\"Topic_Node\").with_meta_count().do())"
   ],
   "metadata": {
    "collapsed": false,
    "ExecuteTime": {
     "end_time": "2023-10-03T16:28:39.860598800Z",
     "start_time": "2023-10-03T16:28:39.539068900Z"
    }
   },
   "id": "4a6dbd7198868831"
  }
 ],
 "metadata": {
  "kernelspec": {
   "display_name": "Python 3",
   "language": "python",
   "name": "python3"
  },
  "language_info": {
   "codemirror_mode": {
    "name": "ipython",
    "version": 2
   },
   "file_extension": ".py",
   "mimetype": "text/x-python",
   "name": "python",
   "nbconvert_exporter": "python",
   "pygments_lexer": "ipython2",
   "version": "2.7.6"
  }
 },
 "nbformat": 4,
 "nbformat_minor": 5
}
