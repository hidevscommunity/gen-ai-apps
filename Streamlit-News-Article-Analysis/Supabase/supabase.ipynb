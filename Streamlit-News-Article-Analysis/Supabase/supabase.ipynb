{
 "cells": [
  {
   "cell_type": "markdown",
   "metadata": {},
   "source": [
    "# Purpose is to test functionality of supabase stuff"
   ]
  },
  {
   "cell_type": "code",
   "execution_count": 1,
   "metadata": {},
   "outputs": [],
   "source": [
    "import pandas as pd\n",
    "from dotenv import load_dotenv\n",
    "import os\n",
    "\n",
    "import postgrest\n",
    "from postgrest.exceptions import APIError\n",
    "from tqdm import tqdm\n",
    "# Supabase\n",
    "from supabase import create_client, Client\n"
   ]
  },
  {
   "cell_type": "markdown",
   "metadata": {},
   "source": [
    "## Loading Supbase variables"
   ]
  },
  {
   "cell_type": "code",
   "execution_count": 2,
   "metadata": {},
   "outputs": [],
   "source": [
    "# Load variables from the .env file\n",
    "load_dotenv('./.env')\n",
    "\n",
    "# Access the variables\n",
    "SUPABASE_URL = os.getenv(\"SUPABASE_URL\")\n",
    "SUPABASE_KEY = os.getenv(\"SUPABASE_KEY\")\n",
    "\n",
    "supabase: Client = create_client(SUPABASE_URL, SUPABASE_KEY)"
   ]
  },
  {
   "cell_type": "code",
   "execution_count": 3,
   "metadata": {},
   "outputs": [],
   "source": [
    "sample_news_urls = [\n",
    "    \"https://www.straitstimes.com/asia/east-asia/typhoon-haikui-makes-landfall-in-taiwan\",\n",
    "    \"https://www.straitstimes.com/world/earthquake-of-magnitude-71-strikes-bali-sea-indonesia-emsc\",\n",
    "    \"https://www.straitstimes.com/world/magnitude-62-earthquake-hits-panamas-northern-coast-preliminary-report\"\n",
    "]\n"
   ]
  },
  {
   "cell_type": "code",
   "execution_count": 8,
   "metadata": {},
   "outputs": [],
   "source": [
    "# Load .json file\n",
    "df = pd.read_json('../src/supplier_coordinates.json')\n",
    "\n",
    "# Change column names\n",
    "columns = [\"BP_Code\",\"Name\",\"lat\",\"lng\"]\n",
    "df.columns = columns\n",
    "\n",
    "# Convert to csv\n",
    "df.to_csv('../src/supplier_coordinates.csv', index=False)"
   ]
  }
 ],
 "metadata": {
  "kernelspec": {
   "display_name": "env",
   "language": "python",
   "name": "python3"
  },
  "language_info": {
   "codemirror_mode": {
    "name": "ipython",
    "version": 3
   },
   "file_extension": ".py",
   "mimetype": "text/x-python",
   "name": "python",
   "nbconvert_exporter": "python",
   "pygments_lexer": "ipython3",
   "version": "3.10.10"
  },
  "orig_nbformat": 4
 },
 "nbformat": 4,
 "nbformat_minor": 2
}
