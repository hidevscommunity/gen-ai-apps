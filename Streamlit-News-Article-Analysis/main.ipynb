{
 "cells": [
  {
   "cell_type": "code",
   "execution_count": 1,
   "metadata": {},
   "outputs": [],
   "source": [
    "\"\"\"Main Script to Scrape and process all the news articles in real time and store them Supabase\n",
    "Should be ran every 24hours?\n",
    "\"\"\"\n",
    "# Author: Kaleb-Nim\n",
    "# Date: 11th September 2023 \n",
    "from utils.Webscraper import Webscraper\n",
    "from Supabase.Extractor import SupabaseExtractor\n",
    "from Supabase.Insertor import SupabaseInsertor\n",
    "from llm.mde import MDE\n",
    "import logging\n",
    "import os\n",
    "from time import time\n",
    "logger = logging.getLogger(__name__)"
   ]
  },
  {
   "cell_type": "code",
   "execution_count": 2,
   "metadata": {},
   "outputs": [
    {
     "name": "stderr",
     "output_type": "stream",
     "text": [
      "2023-09-12 10:32:57,716:INFO - HTTP Request: GET https://exeakzvxpuwdfeavnjgn.supabase.co/rest/v1/Source?select=%2A \"HTTP/1.1 200 OK\"\n",
      "2023-09-12 10:32:57,719:INFO - Number of base news sources in Supabase: 1\n",
      "2023-09-12 10:32:59,395:CRITICAL - [REQUEST FAILED] 404 Client Error: Not Found for url: https://www.scmp.com/feeds\n",
      "2023-09-12 10:33:43,676:INFO - Time taken to build all source objects: 45.95655417442322 seconds\n",
      "2023-09-12 10:33:43,677:INFO - Number of articles scraped from https://www.scmp.com/: 190\n"
     ]
    }
   ],
   "source": [
    "# Load all news sources we want to webscrape from Supabase Source Table\n",
    "baseSources  = SupabaseExtractor.extractSources()\n",
    "# Get the base_url for each source\n",
    "base_urls = [source['domain_url'] for source in baseSources]\n",
    "sample_base_urls = [base_urls[1]]\n",
    "# Build all the source objects, takes ~1.5min per source\n",
    "source_objects = Webscraper.downloadAllSources(base_urls=sample_base_urls)"
   ]
  },
  {
   "cell_type": "code",
   "execution_count": 3,
   "metadata": {},
   "outputs": [
    {
     "name": "stdout",
     "output_type": "stream",
     "text": [
      "Number of articles scraped: 190\n"
     ]
    }
   ],
   "source": [
    "all_url_list = []\n",
    "for source in source_objects:\n",
    "    for article in source.articles:\n",
    "        all_url_list.append(article.url)\n",
    "print(f'Number of articles scraped: {len(all_url_list)}')\n"
   ]
  },
  {
   "cell_type": "code",
   "execution_count": 4,
   "metadata": {},
   "outputs": [
    {
     "name": "stderr",
     "output_type": "stream",
     "text": [
      "2023-09-12 10:33:44,142:INFO - HTTP Request: GET https://exeakzvxpuwdfeavnjgn.supabase.co/rest/v1/Article?select=Url \"HTTP/1.1 200 OK\"\n"
     ]
    },
    {
     "data": {
      "text/plain": [
       "['https://www.straitstimes.com/life/travel/on-the-road-mountain-hopping-in-northern-thailand',\n",
       " 'https://www.straitstimes.com/asia/australianz/56-magnitude-quake-hits-central-new-zealand',\n",
       " 'https://www.usnews.com/news/us/articles/2023-08-30/idalia-predicted-to-hit-florida-as-category-4-hurricane-with-catastrophic-storm-surge']"
      ]
     },
     "execution_count": 4,
     "metadata": {},
     "output_type": "execute_result"
    }
   ],
   "source": [
    "# Extract all the Supabase urls\n",
    "supabase_urls = SupabaseExtractor.extractAllArticleUrl()\n",
    "supabase_urls"
   ]
  },
  {
   "cell_type": "code",
   "execution_count": 5,
   "metadata": {},
   "outputs": [
    {
     "name": "stdout",
     "output_type": "stream",
     "text": [
      "Number of new articles: 190\n"
     ]
    }
   ],
   "source": [
    "# Compare the two lists and remove any duplicates\n",
    "new_urls = Webscraper._extract_non_duplicates_urls(all_url_list, supabase_urls)\n",
    "print(f'Number of new articles: {len(new_urls)}')"
   ]
  },
  {
   "cell_type": "code",
   "execution_count": 6,
   "metadata": {},
   "outputs": [
    {
     "name": "stdout",
     "output_type": "stream",
     "text": [
      "Number of new articles: 190\n"
     ]
    }
   ],
   "source": [
    "# Remove articles that are duplicates from the source\n",
    "new_articles = []\n",
    "for source in source_objects:\n",
    "    for article in source.articles:\n",
    "        if article.url in new_urls:\n",
    "            new_articles.append(article)\n",
    "print(f'Number of new articles: {len(new_articles)}')"
   ]
  },
  {
   "cell_type": "code",
   "execution_count": 13,
   "metadata": {},
   "outputs": [],
   "source": [
    "# Testing purposes only that's why 5\n",
    "import random\n",
    "random.shuffle(new_articles)"
   ]
  },
  {
   "cell_type": "code",
   "execution_count": 16,
   "metadata": {},
   "outputs": [
    {
     "data": {
      "text/plain": [
       "['https://www.scmp.com/video/world/3230851/first-us-picklemall-opens-public-breathing-new-life-dying-shopping-malls?module=visual_stories&pgtype=section',\n",
       " 'https://www.scmp.com/comment/opinion/article/3233689/beyond-china-economies-us-and-europe-are-no-less-vulnerable',\n",
       " 'https://www.scmp.com/economy/global-economy/article/3234140/vietnam-ups-durian-trade-china-land-border-offers-cost-advantage-challenge-thai-dominance',\n",
       " 'https://www.scmp.com/tech/big-tech/article/3234147/chinese-ride-hailing-giant-didi-global-sees-second-quarter-revenue-rise-and-losses-narrow-strong',\n",
       " 'https://www.scmp.com/business/companies/article/3234156/farming-flies-freeze-drying-ugly-fruit-and-jewellery-scraps-how-hong-kong-start-ups-are-reducing?module=live&pgtype=homepage',\n",
       " 'https://www.scmp.com/comment/opinion/article/3230344/how-ais-rise-could-be-boon-manufacturing-and-healthcare-sectors-asia',\n",
       " 'https://www.scmp.com/comment/opinion/article/3233610/china-must-slow-down-investment-if-it-wants-rebalance-its-debt-laden-economy',\n",
       " 'https://www.scmp.com/comment/opinion/article/3230626/us-china-tech-war-semiconductors-heart-competition-driving-world-towards-new-cold-war',\n",
       " 'https://www.scmp.com/week-asia/politics/article/3234129/malaysian-pm-anwar-spend-billions-5-year-plan-reduce-poverty-boost-economic-growth',\n",
       " 'https://www.scmp.com/comment/opinion/article/3234037/hong-kong-floods-even-climate-change-sceptics-must-see-need-prepare-extreme-weather?module=opinion&pgtype=homepage']"
      ]
     },
     "execution_count": 16,
     "metadata": {},
     "output_type": "execute_result"
    }
   ],
   "source": [
    "random_articles10 = new_articles[:10]\n",
    "ten_articles = [article.url for article in random_articles10]\n",
    "ten_articles"
   ]
  },
  {
   "cell_type": "markdown",
   "metadata": {},
   "source": [
    "## Run from here maybe?"
   ]
  },
  {
   "cell_type": "code",
   "execution_count": 17,
   "metadata": {},
   "outputs": [],
   "source": [
    "ten_articles = ['https://www.reuters.com/business/environment/remnants-typhoon-haikui-cause-floods-southeastern-china-2023-09-06/',\n",
    " 'https://www.scmp.com/comment/opinion/article/3233689/beyond-china-economies-us-and-europe-are-no-less-vulnerable',\n",
    " 'https://www.scmp.com/economy/global-economy/article/3234140/vietnam-ups-durian-trade-china-land-border-offers-cost-advantage-challenge-thai-dominance',\n",
    " 'https://www.straitstimes.com/world/race-to-find-survivors-as-morocco-quake-deaths-top-1300',\n",
    " 'https://www.scmp.com/business/companies/article/3234156/farming-flies-freeze-drying-ugly-fruit-and-jewellery-scraps-how-hong-kong-start-ups-are-reducing?module=live&pgtype=homepage',\n",
    " 'https://www.scmp.com/comment/opinion/article/3230344/how-ais-rise-could-be-boon-manufacturing-and-healthcare-sectors-asia',\n",
    " 'https://www.scmp.com/comment/opinion/article/3233610/china-must-slow-down-investment-if-it-wants-rebalance-its-debt-laden-economy',\n",
    " 'https://www.scmp.com/comment/opinion/article/3230626/us-china-tech-war-semiconductors-heart-competition-driving-world-towards-new-cold-war',\n",
    " 'https://www.scmp.com/week-asia/politics/article/3234129/malaysian-pm-anwar-spend-billions-5-year-plan-reduce-poverty-boost-economic-growth',\n",
    " 'https://www.scmp.com/comment/opinion/article/3234037/hong-kong-floods-even-climate-change-sceptics-must-see-need-prepare-extreme-weather?module=opinion&pgtype=homepage']"
   ]
  },
  {
   "cell_type": "code",
   "execution_count": null,
   "metadata": {},
   "outputs": [],
   "source": [
    "ten_articles_nlped = Webscraper.parseNlpAllArticles(ten_articles)"
   ]
  },
  {
   "cell_type": "code",
   "execution_count": 9,
   "metadata": {},
   "outputs": [
    {
     "name": "stderr",
     "output_type": "stream",
     "text": [
      "2023-09-12 10:33:50,318:ERROR - INFO: article:Anxiety, not ambition, behind rise of the Global South against US-led world order is not a disruption event article\n",
      "2023-09-12 10:33:50,319:ERROR - Error: Binary Classification Failed -> 'text_body'\n",
      "2023-09-12 10:33:52,998:ERROR - INFO: article:As West exploits India-China cracks, Asia must rise above the divisive ideology is not a disruption event article\n",
      "2023-09-12 10:33:55,680:ERROR - INFO: article:Opinion | Marcos Jnr’s Philippine presidency an exercise in redemption is not a disruption event article\n",
      "2023-09-12 10:33:58,589:ERROR - INFO: article:China’s proposed ban on ‘hurtful’ clothing is a worrying sign of advancing intolerance in society is not a disruption event article\n",
      "2023-09-12 10:34:01,905:ERROR - INFO: article:Japan sex predator Johnny Kitagawa’s talent agency faces spiralling crisis amid growing anger, advertiser boycott is not a disruption event article\n",
      "2023-09-12 10:34:01,908:ERROR - Error: Binary Classification Failed -> 'text_body'\n",
      "2023-09-12 10:34:05,174:ERROR - INFO: article:Beijing warns 4 Chinese provinces over ‘lax’ enforcement of energy-saving goals under 2025 plan is not a disruption event article\n",
      "2023-09-12 10:34:07,691:ERROR - INFO: article:Jeremy Lin leads tributes to Yi Jianlian as Chinese basketball hails retiring legend – ‘thank you for paving the way’ is not a disruption event article\n",
      "2023-09-12 10:34:10,577:ERROR - INFO: article:World’s largest iPhone factory ramps up hiring efforts in China ahead of Apple’s launch of new handset is not a disruption event article\n"
     ]
    }
   ],
   "source": [
    "# Process the articles\n",
    "processed_articles = []\n",
    "for article in random_articles10:\n",
    "    processed_articles.append(MDE.process(article))"
   ]
  },
  {
   "cell_type": "code",
   "execution_count": 10,
   "metadata": {},
   "outputs": [
    {
     "ename": "AttributeError",
     "evalue": "'str' object has no attribute 'additional_data'",
     "output_type": "error",
     "traceback": [
      "\u001b[1;31m---------------------------------------------------------------------------\u001b[0m",
      "\u001b[1;31mAttributeError\u001b[0m                            Traceback (most recent call last)",
      "Cell \u001b[1;32mIn[10], line 1\u001b[0m\n\u001b[1;32m----> 1\u001b[0m processed_articles[\u001b[39m0\u001b[39;49m]\u001b[39m.\u001b[39;49madditional_data\n",
      "\u001b[1;31mAttributeError\u001b[0m: 'str' object has no attribute 'additional_data'"
     ]
    }
   ],
   "source": [
    "processed_articles[0].additional_data"
   ]
  }
 ],
 "metadata": {
  "kernelspec": {
   "display_name": "env",
   "language": "python",
   "name": "python3"
  },
  "language_info": {
   "codemirror_mode": {
    "name": "ipython",
    "version": 3
   },
   "file_extension": ".py",
   "mimetype": "text/x-python",
   "name": "python",
   "nbconvert_exporter": "python",
   "pygments_lexer": "ipython3",
   "version": "3.10.10"
  },
  "orig_nbformat": 4
 },
 "nbformat": 4,
 "nbformat_minor": 2
}
