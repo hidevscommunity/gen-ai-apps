{
 "cells": [
  {
   "cell_type": "code",
   "execution_count": 1,
   "metadata": {},
   "outputs": [],
   "source": [
    "import requests\n",
    "import json\n",
    "import requests\n",
    "from newspaper import Article \n",
    "from dotenv import load_dotenv \n",
    "import os \n",
    "\n",
    "load_dotenv('../.env')\n",
    "XRapidAPIKey = os.getenv(\"X-RapidAPI-Key\")\n",
    "xrapidapihost = os.getenv(\"X-RapidAPI-Host\")\n",
    "\n",
    "import pandas as pd\n",
    "from dotenv import load_dotenv\n",
    "import os\n",
    "\n",
    "# import postgrest\n",
    "# from postgrest.exceptions import APIError\n",
    "from tqdm import tqdm\n",
    "# Supabase\n",
    "from supabase import create_client, Client\n",
    "from newspaper import news_pool\n",
    "# Access the variables\n",
    "SUPABASE_URL = os.getenv(\"SUPABASE_URL\")\n",
    "SUPABASE_KEY = os.getenv(\"SUPABASE_KEY\")\n",
    "\n",
    "supabase: Client = create_client(SUPABASE_URL, SUPABASE_KEY)"
   ]
  },
  {
   "cell_type": "code",
   "execution_count": 2,
   "metadata": {},
   "outputs": [
    {
     "name": "stderr",
     "output_type": "stream",
     "text": [
      "2023-09-11 10:49:07,095:CRITICAL - [REQUEST FAILED] 404 Client Error: Not Found for url: https://www.straitstimes.com/feed\n",
      "2023-09-11 10:49:07,105:CRITICAL - [REQUEST FAILED] 404 Client Error: Not Found for url: https://www.straitstimes.com/rss\n",
      "2023-09-11 10:49:07,117:CRITICAL - [REQUEST FAILED] 404 Client Error: Not Found for url: https://www.straitstimes.com/feeds\n",
      "2023-09-11 10:49:10,449:CRITICAL - [REQUEST FAILED] 404 Client Error: Not Found for url: https://www.scmp.com/feeds\n",
      "2023-09-11 10:49:11,626:CRITICAL - [REQUEST FAILED] 404 Client Error: Not Found for url: https://static.reuters.com/\n",
      "2023-09-11 10:49:15,464:CRITICAL - [REQUEST FAILED] 404 Client Error: Not Found for url: https://www.reuters.com/feeds/\n",
      "2023-09-11 10:49:15,740:CRITICAL - [REQUEST FAILED] 404 Client Error: Not Found for url: https://www.reuters.com/rss/\n",
      "2023-09-11 10:49:16,099:CRITICAL - [REQUEST FAILED] 404 Client Error: Not Found for url: https://www.reuters.com/feed/\n"
     ]
    }
   ],
   "source": [
    "import requests\n",
    "from bs4 import BeautifulSoup\n",
    "from urllib.parse import urljoin\n",
    "import newspaper\n",
    "# Define the URL of the news source you want to scrape\n",
    "base_url = 'https://www.straitstimes.com/'\n",
    "TSCMP_url = \"https://www.scmp.com/\"\n",
    "reuters_url = \"https://www.reuters.com/\"\n",
    "TST_paper = newspaper.build(base_url)\n",
    "TSCMP = newspaper.build(TSCMP_url)\n",
    "reuters = newspaper.build(reuters_url)"
   ]
  },
  {
   "cell_type": "code",
   "execution_count": 3,
   "metadata": {},
   "outputs": [
    {
     "name": "stdout",
     "output_type": "stream",
     "text": [
      "Brand of the TST_paper,straitstimes, Brand of the TSCMP,scmp, Brand of the reuters,reuters\n"
     ]
    }
   ],
   "source": [
    "print(f'Brand of the TST_paper,{TST_paper.brand}, Brand of the TSCMP,{TSCMP.brand}, Brand of the reuters,{reuters.brand}')"
   ]
  },
  {
   "cell_type": "markdown",
   "metadata": {},
   "source": [
    "Multi-threading article downloads"
   ]
  },
  {
   "cell_type": "code",
   "execution_count": 4,
   "metadata": {},
   "outputs": [
    {
     "name": "stderr",
     "output_type": "stream",
     "text": [
      "2023-09-11 11:26:29,363:WARNING - The following article urls failed the download: https://www.straitstimes.com/business/economy/china-s-gen-z-trying-to-leisure-shop-way-out-of-jobless-blues\n"
     ]
    }
   ],
   "source": [
    "papers = [TST_paper, TSCMP, reuters]\n",
    "news_pool.set(papers, threads_per_source=2)\n",
    "news_pool.join()"
   ]
  },
  {
   "cell_type": "code",
   "execution_count": 10,
   "metadata": {},
   "outputs": [
    {
     "data": {
      "text/plain": [
       "(219, 114, 183)"
      ]
     },
     "execution_count": 10,
     "metadata": {},
     "output_type": "execute_result"
    }
   ],
   "source": [
    "papers[0].size(), papers[1].size(), papers[2].size()"
   ]
  },
  {
   "cell_type": "code",
   "execution_count": 14,
   "metadata": {},
   "outputs": [
    {
     "name": "stdout",
     "output_type": "stream",
     "text": [
      "Number of articles scraped: 516\n",
      "Number of distinct articles scraped: 516\n"
     ]
    }
   ],
   "source": [
    "all_url_list = []\n",
    "for source in papers:\n",
    "    for article in source.articles:\n",
    "        all_url_list.append(article.url)\n",
    "\n",
    "print(f'Number of articles scraped: {len(all_url_list)}')\n",
    "print(f'Number of distinct articles scraped: {len(set(all_url_list))}')"
   ]
  },
  {
   "cell_type": "markdown",
   "metadata": {},
   "source": [
    "test one supabase insert"
   ]
  },
  {
   "cell_type": "code",
   "execution_count": 14,
   "metadata": {},
   "outputs": [
    {
     "name": "stderr",
     "output_type": "stream",
     "text": [
      "2023-09-04 18:01:55,137:INFO - HTTP Request: POST https://exeakzvxpuwdfeavnjgn.supabase.co/rest/v1/Article \"HTTP/1.1 201 Created\"\n"
     ]
    }
   ],
   "source": [
    "data, count = supabase.table('Article').insert({\"Title\": \"Denmark\",'Text':\"Text\",\"SourceName\":\"straitstimes\",\"PublishedDate\":\"2023-09-04 17:05:53+08:00\",\"ImageUrl\":\"https://static1.straitstimes.com.sg/s3fs-public/styles/large30x20/public/articles/2023/09/04/afchiangmai300823.jpg\",\"Url\":\"https://www.straitstimes.com/life/travel/on-the-road-mountain-hopping-in-northern-thailand\"}).execute()"
   ]
  },
  {
   "cell_type": "code",
   "execution_count": 10,
   "metadata": {},
   "outputs": [
    {
     "name": "stdout",
     "output_type": "stream",
     "text": [
      "Article Title: On the road: Exploring northern Thailand on motorbike\n",
      "Article Author: []\n",
      "Article Top Image: https://static1.straitstimes.com.sg/s3fs-public/styles/large30x20/public/articles/2023/09/04/afchiangmai300823.jpg\n",
      "Aricle SourceName: straitstimes\n",
      "Article Publish Date: 2023-09-04 17:20:00+08:00,type: <class 'datetime.datetime'>\n",
      "Article Url: https://www.straitstimes.com/life/travel/on-the-road-mountain-hopping-in-northern-thailand\n",
      "Article Title: Paris aims to expand urban cooling system that uses Seine River water\n",
      "Article Author: []\n",
      "Article Top Image: https://www.straitstimes.com/themes/custom/straitstimes/favicon.ico\n",
      "Aricle SourceName: straitstimes\n",
      "Article Publish Date: 2023-09-04 17:05:53+08:00,type: <class 'datetime.datetime'>\n",
      "Article Url: https://www.straitstimes.com/world/europe/paris-aims-to-expand-urban-cooling-system-that-uses-seine-river-water\n",
      "Article Title: One death reported at Burning Man, thousands stranded in mud and rain\n",
      "Article Author: []\n",
      "Article Top Image: https://static1.straitstimes.com.sg/s3fs-public/styles/large30x20/public/articles/2023/09/04/US-FESTIVAL-WEATHER-000628.jpg\n",
      "Aricle SourceName: straitstimes\n",
      "Article Publish Date: 2023-09-03 22:22:05+08:00,type: <class 'datetime.datetime'>\n",
      "Article Url: https://www.straitstimes.com/world/one-death-reported-at-burning-man-thousands-stranded-in-mud-and-rain\n"
     ]
    }
   ],
   "source": [
    "for article in TST_paper.articles[:3]:\n",
    "    # parse the article\n",
    "    article.parse()\n",
    "    print(f'Article Title: {article.title}')\n",
    "    print(f'Article Author: {article.authors}')\n",
    "    print(f'Article Top Image: {article.top_image}')\n",
    "    print(f'Aricle SourceName: {TST_paper.brand}')\n",
    "    print(f'Article Publish Date: {article.publish_date},type: {type(article.publish_date)}')\n",
    "    print(f'Article Url: {article.url}')"
   ]
  },
  {
   "cell_type": "markdown",
   "metadata": {},
   "source": [
    "# Single source scrape"
   ]
  },
  {
   "cell_type": "code",
   "execution_count": 7,
   "metadata": {},
   "outputs": [],
   "source": [
    "from Scraper import Scraper\n",
    "article = Scraper.scrape(\"https://www.cbsnews.com/news/uk-flight-delays-air-traffic-control-system-technical-problem/\")"
   ]
  },
  {
   "cell_type": "code",
   "execution_count": 9,
   "metadata": {},
   "outputs": [
    {
     "data": {
      "text/plain": [
       "'500 flights cancelled as U.K.\\'s air traffic control system hit by \"nightmare scenario\"London — Thousands of travelers faced flight delays and uncertainty Monday after the United Kingdom\\'s air traffic control system was hit by technical problems that resulted in the cancellation of at least 500 flights in and out of British airports.  Britain\\'s National Air Traffic Service (NATS) said in a statement to CBS News that a technical issue had forced restrictions to the flow of aircraft in and out of the U.K. on Monday, the end of a long weekend and one of the busiest holidays of the year for travel, amid reports of widespread flight delays into London from popular vacation destinations.  Hours later, NATS said it had \"identified and remedied\" the technical issue and was \"now working closely with airlines and airports to manage the flights affected as efficiently as possible.\" The agency did not say when normal service might be resumed.  BBC News said more than 230 flights departing the U.K. were cancelled Monday, as well as at least 271 that had been scheduled to arrive in the U.K.  Passengers queue at Gatwick Airport as electronic passport gates fail across the UK on May 27, 2023 in Crawley, England. Dan Kitwood / Getty Images  Scottish airline Loganair said earlier on social media that there had been a network-wide failure of U.K. air traffic control computer systems and warned that international flights could be impacted.  CBS News producer Emmet Lyons said he was stuck on a runway in the Spanish island of Majorca and the pilot on his flight back to the U.K. told all the passengers they were being held for an indeterminate period due to a major issue with air traffic control in the U.K.  Speaking to the BBC, Alistair Rosenschein, an aviation consultant and former Boeing 747 pilot for British Airways, said it appeared that the entire air traffic control system had gone down across the U.K. He said the equivalent situation for vehicular traffic would be if every road was closed in the country.  \"The disruptions are huge and customers around the world [will] have to be put up in hotels if the delay is particularly too long,\" he added. \"It\\'s a bit of a nightmare scenario, really.\"  More than 6,000 flights were due in and out of the U.K. on Monday, according to the BBC.  Michele Robson, a former air traffic control worker, said technical issues like this usually \"only last a couple of hours,\" making Monday\\'s shutdown \"unusual.\"  \"Nobody really knows at this point how long it\\'s going to take,\" she told BBC News.  \"There was a flight planning system failure this morning which affected both centers in the U.K.,\" Robson said as she waited for a flight from the small British island of Jersey to London.  \"It looks like there\\'s been what they would call a \\'zero rate\\' put on, where it means that no aircraft can take off inbound to the U.K., or probably outbound. It would generally be them trying to land things that were already in the air.\"'"
      ]
     },
     "execution_count": 9,
     "metadata": {},
     "output_type": "execute_result"
    }
   ],
   "source": [
    "full_text = article.title + article.text\n",
    "full_text"
   ]
  }
 ],
 "metadata": {
  "kernelspec": {
   "display_name": "env",
   "language": "python",
   "name": "python3"
  },
  "language_info": {
   "codemirror_mode": {
    "name": "ipython",
    "version": 3
   },
   "file_extension": ".py",
   "mimetype": "text/x-python",
   "name": "python",
   "nbconvert_exporter": "python",
   "pygments_lexer": "ipython3",
   "version": "3.10.10"
  },
  "orig_nbformat": 4
 },
 "nbformat": 4,
 "nbformat_minor": 2
}
