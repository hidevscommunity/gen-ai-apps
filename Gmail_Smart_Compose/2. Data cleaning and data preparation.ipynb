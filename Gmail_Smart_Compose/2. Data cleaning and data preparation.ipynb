{
 "cells": [
  {
   "cell_type": "markdown",
   "metadata": {
    "id": "1sQZD-lpTKq8"
   },
   "source": [
    "# Gmail Smart Compose"
   ]
  },
  {
   "cell_type": "markdown",
   "metadata": {
    "id": "OwQi0PxyrYcI"
   },
   "source": [
    "# 1. Business Problem"
   ]
  },
  {
   "cell_type": "markdown",
   "metadata": {
    "id": "X6EwhCGlrYcJ"
   },
   "source": [
    "## 1.1. Description\n",
    "Source of data - https://www.kaggle.com/datasets/wcukierski/enron-email-dataset\n",
    "\n",
    "AS we all know about the E-mail, the E-mail continues to be a ubiquitous and growing form of communication all over the world, with an estimated 3.8 billion users sending 281 billion e-mails daily.\n",
    "\n",
    "All you have experienced the Gmail smart compose, maybe even without knowing you all are actually using the Gmail smart compose\n",
    "in daily life. Maybe you notice when typing an email, sometimes Gmail suggests the relevant or relevant sentences, this is nothing but Gmail smart compose.\n",
    "\n",
    "#### Problem statement : \n",
    "So here is the task we have to make a model, which can predict the sentences or words based on the given sentence or some words. the input is a sequence of words and the output is also a sequence of words, so we have to build the sequency-based model. "
   ]
  },
  {
   "cell_type": "markdown",
   "metadata": {
    "id": "jJ6yUYU2rYcM"
   },
   "source": [
    "## 1.2. Source/Useful Links\n",
    "Some articles and reference blogs about the problem statement\n",
    "\n",
    "Blog 1 https://arxiv.org/pdf/1906.00080.pdf - This is the main research paper on the implementation of Smart Gmail Compose.\n",
    "\n",
    "Blog 2  https://towardsdatascience.com/gmail-style-smart-compose-using-char-ngram-language-models-a73c09550447\n",
    "\n",
    "Blog 3 https://blog.jiayihu.net/gmail-smart-compose-in-keras-and-tensorflow-js/ "
   ]
  },
  {
   "cell_type": "markdown",
   "metadata": {
    "id": "SmHugUfprYcO"
   },
   "source": [
    "## 1.3. Data Information\n",
    "For this task, our data is Gmail conversation-based data.\n",
    "\n",
    "The dataset we use is The Enron Email Dataset, and the dataset contains 500,000+ emails from 150 employees of the Enron Corporation.It was obtained by the Federal Energy Regulatory Commission during its investigation of Enron's collapse.\n",
    "\n",
    "Link of dataset https://www.kaggle.com/datasets/wcukierski/enron-email-dataset"
   ]
  },
  {
   "cell_type": "markdown",
   "metadata": {
    "id": "kg2P8AuJrYcP"
   },
   "source": [
    "# 2 Problem Formulation"
   ]
  },
  {
   "cell_type": "markdown",
   "metadata": {
    "id": "FmcXWpxBrYcQ"
   },
   "source": [
    "Sequence and language modeling task\n",
    "\n",
    "So here our input and output are the sequences of words and we have to predict the sequence of words given the input of sentences.\n",
    "\n",
    "Here the use of a Neural network-based model is preferable to the simple\n",
    "machine learning model, the task is a sequence-based task, so we can use\n",
    "sequence-to sequence-based models like LSTM, and GRU, and also we can use\n",
    "Encode decoder based model. \n",
    "\n",
    "To create the data we can use the  character n-gram like this,  let\n",
    "suppose we have the one sentence ‘here is our mail’ so our x_train and y_train\n",
    "look like this, \n",
    "\n",
    "    x_train           y_train\n",
    "    h                 ere is our mail\n",
    "    he                re is our mail\n",
    "    her               e is our mail\n",
    "    here              is our mail\n",
    "    here i            s our mail\n",
    "    here is           our mail \n"
   ]
  },
  {
   "cell_type": "markdown",
   "metadata": {
    "id": "MLeNU--nrYck"
   },
   "source": [
    "# 3 Performance Metrics\n",
    "As the performance metrics, we use the BLEU (Bilingual Evaluation Understudy) score, it is a score for comparing a candidate translation of text to one or more reference translations more about https://machinelearningmastery.com/calculate-bleu-score-for-text-python/\n",
    "\n",
    "<p>It is quick and inexpensive to calculate.<br> \n",
    "It is easy to understand.<br>\n",
    "It is language independent.<br>\n",
    "It correlates highly with human evaluation.<br>\n",
    "It has been widely adopted.</p>\n",
    "\n",
    "Main research paper use the perplexity as the performance matrix, perplexity metric in NLP is a way to capture the degree of ‘uncertainty’ a model has in predicting (assigning probabilities to) some text. \n"
   ]
  },
  {
   "cell_type": "markdown",
   "metadata": {
    "id": "NRnIQIvUrYcl"
   },
   "source": [
    "## Import Libraries"
   ]
  },
  {
   "cell_type": "code",
   "execution_count": 56,
   "metadata": {
    "id": "gZ10P0mErYcm"
   },
   "outputs": [],
   "source": [
    "import pandas as pd\n",
    "import matplotlib.pyplot as plt\n",
    "from tqdm import tqdm\n",
    "import email\n",
    "import seaborn as sns\n",
    "import scipy\n",
    "from wordcloud import WordCloud, STOPWORDS\n",
    "import matplotlib.pyplot as plt"
   ]
  },
  {
   "cell_type": "code",
   "execution_count": 57,
   "metadata": {
    "id": "q2zUbQP_TnRl"
   },
   "outputs": [],
   "source": [
    "#read the data\n",
    "data = pd.read_csv('/content/drive/MyDrive/case study 2/emails.csv')"
   ]
  },
  {
   "cell_type": "code",
   "execution_count": 58,
   "metadata": {
    "colab": {
     "base_uri": "https://localhost:8080/",
     "height": 206
    },
    "id": "tNKhqWuxTyMK",
    "outputId": "442ae1ba-6ea5-4fee-cc7c-a875e08a5eaa"
   },
   "outputs": [
    {
     "data": {
      "text/html": [
       "\n",
       "  <div id=\"df-f7188af5-2394-4191-a39e-25ca5cb2a7ac\">\n",
       "    <div class=\"colab-df-container\">\n",
       "      <div>\n",
       "<style scoped>\n",
       "    .dataframe tbody tr th:only-of-type {\n",
       "        vertical-align: middle;\n",
       "    }\n",
       "\n",
       "    .dataframe tbody tr th {\n",
       "        vertical-align: top;\n",
       "    }\n",
       "\n",
       "    .dataframe thead th {\n",
       "        text-align: right;\n",
       "    }\n",
       "</style>\n",
       "<table border=\"1\" class=\"dataframe\">\n",
       "  <thead>\n",
       "    <tr style=\"text-align: right;\">\n",
       "      <th></th>\n",
       "      <th>file</th>\n",
       "      <th>message</th>\n",
       "    </tr>\n",
       "  </thead>\n",
       "  <tbody>\n",
       "    <tr>\n",
       "      <th>0</th>\n",
       "      <td>allen-p/_sent_mail/1.</td>\n",
       "      <td>Message-ID: &lt;18782981.1075855378110.JavaMail.e...</td>\n",
       "    </tr>\n",
       "    <tr>\n",
       "      <th>1</th>\n",
       "      <td>allen-p/_sent_mail/10.</td>\n",
       "      <td>Message-ID: &lt;15464986.1075855378456.JavaMail.e...</td>\n",
       "    </tr>\n",
       "    <tr>\n",
       "      <th>2</th>\n",
       "      <td>allen-p/_sent_mail/100.</td>\n",
       "      <td>Message-ID: &lt;24216240.1075855687451.JavaMail.e...</td>\n",
       "    </tr>\n",
       "    <tr>\n",
       "      <th>3</th>\n",
       "      <td>allen-p/_sent_mail/1000.</td>\n",
       "      <td>Message-ID: &lt;13505866.1075863688222.JavaMail.e...</td>\n",
       "    </tr>\n",
       "    <tr>\n",
       "      <th>4</th>\n",
       "      <td>allen-p/_sent_mail/1001.</td>\n",
       "      <td>Message-ID: &lt;30922949.1075863688243.JavaMail.e...</td>\n",
       "    </tr>\n",
       "  </tbody>\n",
       "</table>\n",
       "</div>\n",
       "      <button class=\"colab-df-convert\" onclick=\"convertToInteractive('df-f7188af5-2394-4191-a39e-25ca5cb2a7ac')\"\n",
       "              title=\"Convert this dataframe to an interactive table.\"\n",
       "              style=\"display:none;\">\n",
       "        \n",
       "  <svg xmlns=\"http://www.w3.org/2000/svg\" height=\"24px\"viewBox=\"0 0 24 24\"\n",
       "       width=\"24px\">\n",
       "    <path d=\"M0 0h24v24H0V0z\" fill=\"none\"/>\n",
       "    <path d=\"M18.56 5.44l.94 2.06.94-2.06 2.06-.94-2.06-.94-.94-2.06-.94 2.06-2.06.94zm-11 1L8.5 8.5l.94-2.06 2.06-.94-2.06-.94L8.5 2.5l-.94 2.06-2.06.94zm10 10l.94 2.06.94-2.06 2.06-.94-2.06-.94-.94-2.06-.94 2.06-2.06.94z\"/><path d=\"M17.41 7.96l-1.37-1.37c-.4-.4-.92-.59-1.43-.59-.52 0-1.04.2-1.43.59L10.3 9.45l-7.72 7.72c-.78.78-.78 2.05 0 2.83L4 21.41c.39.39.9.59 1.41.59.51 0 1.02-.2 1.41-.59l7.78-7.78 2.81-2.81c.8-.78.8-2.07 0-2.86zM5.41 20L4 18.59l7.72-7.72 1.47 1.35L5.41 20z\"/>\n",
       "  </svg>\n",
       "      </button>\n",
       "      \n",
       "  <style>\n",
       "    .colab-df-container {\n",
       "      display:flex;\n",
       "      flex-wrap:wrap;\n",
       "      gap: 12px;\n",
       "    }\n",
       "\n",
       "    .colab-df-convert {\n",
       "      background-color: #E8F0FE;\n",
       "      border: none;\n",
       "      border-radius: 50%;\n",
       "      cursor: pointer;\n",
       "      display: none;\n",
       "      fill: #1967D2;\n",
       "      height: 32px;\n",
       "      padding: 0 0 0 0;\n",
       "      width: 32px;\n",
       "    }\n",
       "\n",
       "    .colab-df-convert:hover {\n",
       "      background-color: #E2EBFA;\n",
       "      box-shadow: 0px 1px 2px rgba(60, 64, 67, 0.3), 0px 1px 3px 1px rgba(60, 64, 67, 0.15);\n",
       "      fill: #174EA6;\n",
       "    }\n",
       "\n",
       "    [theme=dark] .colab-df-convert {\n",
       "      background-color: #3B4455;\n",
       "      fill: #D2E3FC;\n",
       "    }\n",
       "\n",
       "    [theme=dark] .colab-df-convert:hover {\n",
       "      background-color: #434B5C;\n",
       "      box-shadow: 0px 1px 3px 1px rgba(0, 0, 0, 0.15);\n",
       "      filter: drop-shadow(0px 1px 2px rgba(0, 0, 0, 0.3));\n",
       "      fill: #FFFFFF;\n",
       "    }\n",
       "  </style>\n",
       "\n",
       "      <script>\n",
       "        const buttonEl =\n",
       "          document.querySelector('#df-f7188af5-2394-4191-a39e-25ca5cb2a7ac button.colab-df-convert');\n",
       "        buttonEl.style.display =\n",
       "          google.colab.kernel.accessAllowed ? 'block' : 'none';\n",
       "\n",
       "        async function convertToInteractive(key) {\n",
       "          const element = document.querySelector('#df-f7188af5-2394-4191-a39e-25ca5cb2a7ac');\n",
       "          const dataTable =\n",
       "            await google.colab.kernel.invokeFunction('convertToInteractive',\n",
       "                                                     [key], {});\n",
       "          if (!dataTable) return;\n",
       "\n",
       "          const docLinkHtml = 'Like what you see? Visit the ' +\n",
       "            '<a target=\"_blank\" href=https://colab.research.google.com/notebooks/data_table.ipynb>data table notebook</a>'\n",
       "            + ' to learn more about interactive tables.';\n",
       "          element.innerHTML = '';\n",
       "          dataTable['output_type'] = 'display_data';\n",
       "          await google.colab.output.renderOutput(dataTable, element);\n",
       "          const docLink = document.createElement('div');\n",
       "          docLink.innerHTML = docLinkHtml;\n",
       "          element.appendChild(docLink);\n",
       "        }\n",
       "      </script>\n",
       "    </div>\n",
       "  </div>\n",
       "  "
      ],
      "text/plain": [
       "                       file                                            message\n",
       "0     allen-p/_sent_mail/1.  Message-ID: <18782981.1075855378110.JavaMail.e...\n",
       "1    allen-p/_sent_mail/10.  Message-ID: <15464986.1075855378456.JavaMail.e...\n",
       "2   allen-p/_sent_mail/100.  Message-ID: <24216240.1075855687451.JavaMail.e...\n",
       "3  allen-p/_sent_mail/1000.  Message-ID: <13505866.1075863688222.JavaMail.e...\n",
       "4  allen-p/_sent_mail/1001.  Message-ID: <30922949.1075863688243.JavaMail.e..."
      ]
     },
     "execution_count": 58,
     "metadata": {},
     "output_type": "execute_result"
    }
   ],
   "source": [
    "data.head()"
   ]
  },
  {
   "cell_type": "code",
   "execution_count": 59,
   "metadata": {
    "colab": {
     "base_uri": "https://localhost:8080/"
    },
    "id": "V-aGZFgR1MF_",
    "outputId": "39b39a28-f38e-4486-9fec-820dc296ecbb"
   },
   "outputs": [
    {
     "data": {
      "text/plain": [
       "(517401, 2)"
      ]
     },
     "execution_count": 59,
     "metadata": {},
     "output_type": "execute_result"
    }
   ],
   "source": [
    "data.shape"
   ]
  },
  {
   "cell_type": "code",
   "execution_count": null,
   "metadata": {
    "colab": {
     "base_uri": "https://localhost:8080/"
    },
    "id": "hjxEDWVwT1z8",
    "outputId": "4c7d7116-70a9-48a0-99ac-6bf615f55979"
   },
   "outputs": [
    {
     "name": "stdout",
     "output_type": "stream",
     "text": [
      "Message-ID: <22766758.1075855690869.JavaMail.evans@thyme>\n",
      "Date: Fri, 26 May 2000 00:08:00 -0700 (PDT)\n",
      "From: phillip.allen@enron.com\n",
      "To: stagecoachmama@hotmail.com\n",
      "Subject: Re: Todays update\n",
      "Mime-Version: 1.0\n",
      "Content-Type: text/plain; charset=us-ascii\n",
      "Content-Transfer-Encoding: 7bit\n",
      "X-From: Phillip K Allen\n",
      "X-To: \"Lucy Gonzalez\" <stagecoachmama@hotmail.com> @ ENRON\n",
      "X-cc: \n",
      "X-bcc: \n",
      "X-Folder: \\Phillip_Allen_Dec2000\\Notes Folders\\'sent mail\n",
      "X-Origin: Allen-P\n",
      "X-FileName: pallen.nsf\n",
      "\n",
      "Lucy,\n",
      " I am going to be in Seguin this Saturday through Monday.  We can talk about \n",
      "a unit for Wade then.  I will call the bank again today to resolve \n",
      "authorization on the account.  Lets keep the office open until noon on \n",
      "Memorial day.\n",
      "\n",
      "Philllip\n"
     ]
    }
   ],
   "source": [
    "print(data.message.values[180])"
   ]
  },
  {
   "cell_type": "markdown",
   "metadata": {
    "id": "Y9i4wybVrYcs"
   },
   "source": [
    "#### Obs\n",
    "Our mail contains many things like, message id, date, time, subject, etc.\n",
    "\n",
    "When we clean the data we have to care about the\n",
    "privacy,\n",
    "because mail can contain the user's phone number, account number, etc.\n",
    "\n",
    "here we only need only message and, the rest of all things we remove from the data\n",
    "\n",
    "And here we have the total number of data points are 517401"
   ]
  },
  {
   "cell_type": "markdown",
   "metadata": {
    "id": "GaBEQDbzT0S7"
   },
   "source": [
    "# 4 Exploratory Data Analysis(EDA)"
   ]
  },
  {
   "cell_type": "code",
   "execution_count": null,
   "metadata": {
    "colab": {
     "base_uri": "https://localhost:8080/"
    },
    "id": "3Bth18HzUDYX",
    "outputId": "4f9dbb71-43ac-4048-aebd-e783d0ac1484"
   },
   "outputs": [
    {
     "data": {
      "text/plain": [
       "[('Message-ID', '<22766758.1075855690869.JavaMail.evans@thyme>'),\n",
       " ('Date', 'Fri, 26 May 2000 00:08:00 -0700 (PDT)'),\n",
       " ('From', 'phillip.allen@enron.com'),\n",
       " ('To', 'stagecoachmama@hotmail.com'),\n",
       " ('Subject', 'Re: Todays update'),\n",
       " ('Mime-Version', '1.0'),\n",
       " ('Content-Type', 'text/plain; charset=us-ascii'),\n",
       " ('Content-Transfer-Encoding', '7bit'),\n",
       " ('X-From', 'Phillip K Allen'),\n",
       " ('X-To', '\"Lucy Gonzalez\" <stagecoachmama@hotmail.com> @ ENRON'),\n",
       " ('X-cc', ''),\n",
       " ('X-bcc', ''),\n",
       " ('X-Folder', \"\\\\Phillip_Allen_Dec2000\\\\Notes Folders\\\\'sent mail\"),\n",
       " ('X-Origin', 'Allen-P'),\n",
       " ('X-FileName', 'pallen.nsf')]"
      ]
     },
     "execution_count": 8,
     "metadata": {},
     "output_type": "execute_result"
    }
   ],
   "source": [
    "message = data.message.values[180]\n",
    "e = email.message_from_string(message)\n",
    "e.items()"
   ]
  },
  {
   "cell_type": "code",
   "execution_count": null,
   "metadata": {
    "colab": {
     "base_uri": "https://localhost:8080/",
     "height": 52
    },
    "id": "JWoH_2ryUDU2",
    "outputId": "1ee5b356-8bab-49b6-b773-2acf244c33b4"
   },
   "outputs": [
    {
     "data": {
      "application/vnd.google.colaboratory.intrinsic+json": {
       "type": "string"
      },
      "text/plain": [
       "'Lucy,\\n I am going to be in Seguin this Saturday through Monday.  We can talk about \\na unit for Wade then.  I will call the bank again today to resolve \\nauthorization on the account.  Lets keep the office open until noon on \\nMemorial day.\\n\\nPhilllip'"
      ]
     },
     "execution_count": 9,
     "metadata": {},
     "output_type": "execute_result"
    }
   ],
   "source": [
    "e.get_payload()"
   ]
  },
  {
   "cell_type": "markdown",
   "metadata": {
    "id": "S9rCZ91vrYcv"
   },
   "source": [
    "As a first step here we remove the subject, and user mail id and we take only the messages from the data.\n",
    "to do this step we use the email library.\n",
    "\n",
    "Basically, the email library converts the whole mail into a list of tuples and takes only those tuples that contain the message."
   ]
  },
  {
   "cell_type": "code",
   "execution_count": 60,
   "metadata": {
    "colab": {
     "base_uri": "https://localhost:8080/"
    },
    "id": "tr1Tw6F0UDSo",
    "outputId": "0b42d9ff-7f60-497d-82af-95368e7ea758"
   },
   "outputs": [
    {
     "name": "stderr",
     "output_type": "stream",
     "text": [
      "100%|██████████| 517401/517401 [01:25<00:00, 6042.22it/s]\n"
     ]
    }
   ],
   "source": [
    "#extract the message from the mail\n",
    "mail = []\n",
    "for i in tqdm(data.message.values):\n",
    "  e = email.message_from_string(i)\n",
    "  mail.append(e.get_payload())"
   ]
  },
  {
   "cell_type": "code",
   "execution_count": 61,
   "metadata": {
    "id": "LyIKqF3wUDQS"
   },
   "outputs": [],
   "source": [
    "#count the length of the message\n",
    "data['mail'] = mail\n",
    "data['len']  = list(data['mail'].apply(lambda x:len(x)))"
   ]
  },
  {
   "cell_type": "code",
   "execution_count": null,
   "metadata": {
    "colab": {
     "base_uri": "https://localhost:8080/",
     "height": 300
    },
    "id": "LpYWdW4l0gVE",
    "outputId": "c072b71b-b458-4e7a-f662-826d1032d8b9"
   },
   "outputs": [
    {
     "data": {
      "text/html": [
       "\n",
       "  <div id=\"df-34140209-8556-4b17-9e76-2ac3830bbaad\">\n",
       "    <div class=\"colab-df-container\">\n",
       "      <div>\n",
       "<style scoped>\n",
       "    .dataframe tbody tr th:only-of-type {\n",
       "        vertical-align: middle;\n",
       "    }\n",
       "\n",
       "    .dataframe tbody tr th {\n",
       "        vertical-align: top;\n",
       "    }\n",
       "\n",
       "    .dataframe thead th {\n",
       "        text-align: right;\n",
       "    }\n",
       "</style>\n",
       "<table border=\"1\" class=\"dataframe\">\n",
       "  <thead>\n",
       "    <tr style=\"text-align: right;\">\n",
       "      <th></th>\n",
       "      <th>len</th>\n",
       "    </tr>\n",
       "  </thead>\n",
       "  <tbody>\n",
       "    <tr>\n",
       "      <th>count</th>\n",
       "      <td>5.174010e+05</td>\n",
       "    </tr>\n",
       "    <tr>\n",
       "      <th>mean</th>\n",
       "      <td>1.845373e+03</td>\n",
       "    </tr>\n",
       "    <tr>\n",
       "      <th>std</th>\n",
       "      <td>8.181162e+03</td>\n",
       "    </tr>\n",
       "    <tr>\n",
       "      <th>min</th>\n",
       "      <td>1.000000e+00</td>\n",
       "    </tr>\n",
       "    <tr>\n",
       "      <th>25%</th>\n",
       "      <td>2.880000e+02</td>\n",
       "    </tr>\n",
       "    <tr>\n",
       "      <th>50%</th>\n",
       "      <td>7.700000e+02</td>\n",
       "    </tr>\n",
       "    <tr>\n",
       "      <th>75%</th>\n",
       "      <td>1.757000e+03</td>\n",
       "    </tr>\n",
       "    <tr>\n",
       "      <th>max</th>\n",
       "      <td>2.011422e+06</td>\n",
       "    </tr>\n",
       "  </tbody>\n",
       "</table>\n",
       "</div>\n",
       "      <button class=\"colab-df-convert\" onclick=\"convertToInteractive('df-34140209-8556-4b17-9e76-2ac3830bbaad')\"\n",
       "              title=\"Convert this dataframe to an interactive table.\"\n",
       "              style=\"display:none;\">\n",
       "        \n",
       "  <svg xmlns=\"http://www.w3.org/2000/svg\" height=\"24px\"viewBox=\"0 0 24 24\"\n",
       "       width=\"24px\">\n",
       "    <path d=\"M0 0h24v24H0V0z\" fill=\"none\"/>\n",
       "    <path d=\"M18.56 5.44l.94 2.06.94-2.06 2.06-.94-2.06-.94-.94-2.06-.94 2.06-2.06.94zm-11 1L8.5 8.5l.94-2.06 2.06-.94-2.06-.94L8.5 2.5l-.94 2.06-2.06.94zm10 10l.94 2.06.94-2.06 2.06-.94-2.06-.94-.94-2.06-.94 2.06-2.06.94z\"/><path d=\"M17.41 7.96l-1.37-1.37c-.4-.4-.92-.59-1.43-.59-.52 0-1.04.2-1.43.59L10.3 9.45l-7.72 7.72c-.78.78-.78 2.05 0 2.83L4 21.41c.39.39.9.59 1.41.59.51 0 1.02-.2 1.41-.59l7.78-7.78 2.81-2.81c.8-.78.8-2.07 0-2.86zM5.41 20L4 18.59l7.72-7.72 1.47 1.35L5.41 20z\"/>\n",
       "  </svg>\n",
       "      </button>\n",
       "      \n",
       "  <style>\n",
       "    .colab-df-container {\n",
       "      display:flex;\n",
       "      flex-wrap:wrap;\n",
       "      gap: 12px;\n",
       "    }\n",
       "\n",
       "    .colab-df-convert {\n",
       "      background-color: #E8F0FE;\n",
       "      border: none;\n",
       "      border-radius: 50%;\n",
       "      cursor: pointer;\n",
       "      display: none;\n",
       "      fill: #1967D2;\n",
       "      height: 32px;\n",
       "      padding: 0 0 0 0;\n",
       "      width: 32px;\n",
       "    }\n",
       "\n",
       "    .colab-df-convert:hover {\n",
       "      background-color: #E2EBFA;\n",
       "      box-shadow: 0px 1px 2px rgba(60, 64, 67, 0.3), 0px 1px 3px 1px rgba(60, 64, 67, 0.15);\n",
       "      fill: #174EA6;\n",
       "    }\n",
       "\n",
       "    [theme=dark] .colab-df-convert {\n",
       "      background-color: #3B4455;\n",
       "      fill: #D2E3FC;\n",
       "    }\n",
       "\n",
       "    [theme=dark] .colab-df-convert:hover {\n",
       "      background-color: #434B5C;\n",
       "      box-shadow: 0px 1px 3px 1px rgba(0, 0, 0, 0.15);\n",
       "      filter: drop-shadow(0px 1px 2px rgba(0, 0, 0, 0.3));\n",
       "      fill: #FFFFFF;\n",
       "    }\n",
       "  </style>\n",
       "\n",
       "      <script>\n",
       "        const buttonEl =\n",
       "          document.querySelector('#df-34140209-8556-4b17-9e76-2ac3830bbaad button.colab-df-convert');\n",
       "        buttonEl.style.display =\n",
       "          google.colab.kernel.accessAllowed ? 'block' : 'none';\n",
       "\n",
       "        async function convertToInteractive(key) {\n",
       "          const element = document.querySelector('#df-34140209-8556-4b17-9e76-2ac3830bbaad');\n",
       "          const dataTable =\n",
       "            await google.colab.kernel.invokeFunction('convertToInteractive',\n",
       "                                                     [key], {});\n",
       "          if (!dataTable) return;\n",
       "\n",
       "          const docLinkHtml = 'Like what you see? Visit the ' +\n",
       "            '<a target=\"_blank\" href=https://colab.research.google.com/notebooks/data_table.ipynb>data table notebook</a>'\n",
       "            + ' to learn more about interactive tables.';\n",
       "          element.innerHTML = '';\n",
       "          dataTable['output_type'] = 'display_data';\n",
       "          await google.colab.output.renderOutput(dataTable, element);\n",
       "          const docLink = document.createElement('div');\n",
       "          docLink.innerHTML = docLinkHtml;\n",
       "          element.appendChild(docLink);\n",
       "        }\n",
       "      </script>\n",
       "    </div>\n",
       "  </div>\n",
       "  "
      ],
      "text/plain": [
       "                len\n",
       "count  5.174010e+05\n",
       "mean   1.845373e+03\n",
       "std    8.181162e+03\n",
       "min    1.000000e+00\n",
       "25%    2.880000e+02\n",
       "50%    7.700000e+02\n",
       "75%    1.757000e+03\n",
       "max    2.011422e+06"
      ]
     },
     "execution_count": 13,
     "metadata": {},
     "output_type": "execute_result"
    }
   ],
   "source": [
    "data.describe()"
   ]
  },
  {
   "cell_type": "markdown",
   "metadata": {
    "id": "y8RR27-lHbZJ"
   },
   "source": [
    "Here the mean value is 1845 which means most data point has an 1845 length of the message"
   ]
  },
  {
   "cell_type": "code",
   "execution_count": null,
   "metadata": {
    "colab": {
     "base_uri": "https://localhost:8080/",
     "height": 513
    },
    "id": "EEzabwU6UDLx",
    "outputId": "22e82f81-fc57-46ef-8671-c58a76715898"
   },
   "outputs": [
    {
     "data": {
      "image/png": "[encoded data removed]",
      "text/plain": [
       "<Figure size 576x576 with 1 Axes>"
      ]
     },
     "metadata": {
      "needs_background": "light"
     },
     "output_type": "display_data"
    }
   ],
   "source": [
    "x_1 = data.len.sample(1500)\n",
    "plt.figure(figsize=(8,8))\n",
    "plt.hist(x_1,bins = 30)\n",
    "plt.title(\"Histogram of mail message lenght with 1500 datapoints\")\n",
    "plt.xlabel(\"Length of the Mails\")\n",
    "plt.ylabel(\"Cont\")\n",
    "plt.grid()"
   ]
  },
  {
   "cell_type": "markdown",
   "metadata": {
    "id": "-N2kiIEDrYc1"
   },
   "source": [
    "Let's do some first basic EDA on the length of the message\n",
    "\n",
    "Here we take the random 1500 mail and we plot the histogram of the length of mail.\n",
    "\n",
    "From the histogram, we can say there are many mail messages where the length of the message is between 1000 to 10000 and a very small part of the message where the length message is above the 30000.\n",
    "\n",
    "I think is very long message is not adding much more value to our study so we remove all these types of the message from the data."
   ]
  },
  {
   "cell_type": "code",
   "execution_count": null,
   "metadata": {
    "colab": {
     "base_uri": "https://localhost:8080/",
     "height": 405
    },
    "id": "TTP8Jm6DUDJd",
    "outputId": "ec2afca6-2745-4f31-f81b-0c61b12e0f5c"
   },
   "outputs": [
    {
     "name": "stderr",
     "output_type": "stream",
     "text": [
      "/usr/local/lib/python3.7/dist-packages/seaborn/distributions.py:2619: FutureWarning: `distplot` is a deprecated function and will be removed in a future version. Please adapt your code to use either `displot` (a figure-level function with similar flexibility) or `histplot` (an axes-level function for histograms).\n",
      "  warnings.warn(msg, FutureWarning)\n"
     ]
    },
    {
     "data": {
      "image/png": "[encoded data removed]",
      "text/plain": [
       "<Figure size 720x360 with 1 Axes>"
      ]
     },
     "metadata": {
      "needs_background": "light"
     },
     "output_type": "display_data"
    }
   ],
   "source": [
    "from scipy import stats\n",
    "sample = x_1\n",
    "plt.figure(figsize=(10,5))\n",
    "plt.title(\"Distribution plot of mail message lenght with 1500 datapoints\")\n",
    "plt.ylabel('Density of the length of email messages')\n",
    "plt.grid()\n",
    "ax = sns.distplot(sample, kde=False, fit=stats.norm)"
   ]
  },
  {
   "cell_type": "markdown",
   "metadata": {
    "id": "HCvFizZ6rYc2"
   },
   "source": [
    "Here we take the same sample as above, and we plot the distribution of the mail message length, the distribution falls down very sharply and the tail of the distribution is very long.\n",
    "\n",
    "so we can say here the more message length is between the 0 to 10k and very less point has a length of more than the 10k."
   ]
  },
  {
   "cell_type": "code",
   "execution_count": null,
   "metadata": {
    "colab": {
     "base_uri": "https://localhost:8080/"
    },
    "id": "HnHGmy3vUDHM",
    "outputId": "9fd77123-b20f-4631-9dd9-2a297e0f868c"
   },
   "outputs": [
    {
     "name": "stdout",
     "output_type": "stream",
     "text": [
      "5 Percentile value is 58.0\n",
      "10 Percentile value is 109.0\n",
      "15 Percentile value is 167.0\n",
      "20 Percentile value is 221.0\n",
      "25 Percentile value is 288.0\n",
      "30 Percentile value is 361.0\n",
      "35 Percentile value is 447.0\n",
      "40 Percentile value is 539.0\n",
      "45 Percentile value is 647.0\n",
      "50 Percentile value is 770.0\n",
      "55 Percentile value is 905.0\n",
      "60 Percentile value is 1067.0\n",
      "65 Percentile value is 1251.0\n",
      "70 Percentile value is 1465.0\n",
      "75 Percentile value is 1757.0\n",
      "80 Percentile value is 2146.0\n",
      "85 Percentile value is 2706.0\n",
      "90 Percentile value is 3657.0\n",
      "95 Percentile value is 5909.0\n",
      "100 Percentile value is 2011422.0\n"
     ]
    }
   ],
   "source": [
    "import numpy as np\n",
    "a = data.len.values\n",
    "for i in range(5 , 105,5):\n",
    "    p = np.percentile(a, i)\n",
    "    print('{} Percentile value is {}'.format(i,p))"
   ]
  },
  {
   "cell_type": "code",
   "execution_count": null,
   "metadata": {
    "colab": {
     "base_uri": "https://localhost:8080/"
    },
    "id": "dRE3-uYdUDFF",
    "outputId": "2f09a4bd-9e8c-41e7-ebc0-47c522da6f33"
   },
   "outputs": [
    {
     "name": "stdout",
     "output_type": "stream",
     "text": [
      "90  percentile value is 3657.0\n",
      "91  percentile value is 3946.0\n",
      "92  percentile value is 4303.0\n",
      "93  percentile value is 4746.0\n",
      "94  percentile value is 5282.0\n",
      "95  percentile value is 5909.0\n",
      "96  percentile value is 6792.0\n",
      "97  percentile value is 8185.0\n",
      "98  percentile value is 10674.0\n",
      "99  percentile value is 16229.0\n",
      "100  percentile value is 2011422.0\n"
     ]
    }
   ],
   "source": [
    "for i in range(90 , 101,1):\n",
    "    p = np.percentile(a, i)\n",
    "    print(i,' percentile value is',p)"
   ]
  },
  {
   "cell_type": "code",
   "execution_count": null,
   "metadata": {
    "colab": {
     "base_uri": "https://localhost:8080/"
    },
    "id": "wPwTks70UDCy",
    "outputId": "4e237510-58dd-4918-82ea-e4aa1c693e5e"
   },
   "outputs": [
    {
     "name": "stdout",
     "output_type": "stream",
     "text": [
      "99.1  percentile value is 17646.000000000233\n",
      "99.2  percentile value is 19156.0\n",
      "99.3  percentile value is 20754.0\n",
      "99.4  percentile value is 23214.0\n",
      "99.5  percentile value is 27195.0\n",
      "99.6  percentile value is 31196.800000000396\n",
      "99.7  percentile value is 36641.0\n",
      "99.8  percentile value is 51085.0\n",
      "99.9  percentile value is 83929.20000001404\n",
      "100.0  percentile value is 2011422.0\n"
     ]
    }
   ],
   "source": [
    "for i in np.arange(0.1, 1.1, 0.1):\n",
    "    b = (99+i)/100* 100\n",
    "    p = np.percentile(a, b)\n",
    "    print(b,' percentile value is',p)"
   ]
  },
  {
   "cell_type": "markdown",
   "metadata": {
    "id": "Wve8g-v9rYc5"
   },
   "source": [
    "Here we  find the percentile values of the mail message length,\n",
    "\n",
    "In the first section, we find the 5 to 100 percentile values and the 5 percentile value is 58 which means the 5 percent data has a length is 58, but the 95 to 100 percentile values increase the very fast, so let's zoom the values of 95 to 100 percentile values.\n",
    "\n",
    "In the second, we take the 90 to 100 percentile values and we show that the 99 percent data length is 16k but in 99 to 100 percent value increases very fast, so we zoom further,\n",
    "\n",
    "In the third section we take the 99 to 100 percentile values and the message length increase very fast so here we take only 5 to 95 percentile values and the rest of the data we remove from the dataset"
   ]
  },
  {
   "cell_type": "code",
   "execution_count": null,
   "metadata": {
    "colab": {
     "base_uri": "https://localhost:8080/",
     "height": 405
    },
    "id": "3GBzyMTgCDLN",
    "outputId": "38c778f6-a140-4869-fe77-3bb813823c15"
   },
   "outputs": [
    {
     "name": "stderr",
     "output_type": "stream",
     "text": [
      "/usr/local/lib/python3.7/dist-packages/seaborn/distributions.py:2619: FutureWarning: `distplot` is a deprecated function and will be removed in a future version. Please adapt your code to use either `displot` (a figure-level function with similar flexibility) or `histplot` (an axes-level function for histograms).\n",
      "  warnings.warn(msg, FutureWarning)\n"
     ]
    },
    {
     "data": {
      "image/png": "[encoded data removed]",
      "text/plain": [
       "<Figure size 720x360 with 1 Axes>"
      ]
     },
     "metadata": {
      "needs_background": "light"
     },
     "output_type": "display_data"
    }
   ],
   "source": [
    "sample = x_1\n",
    "plt.figure(figsize=(10,5))\n",
    "plt.title(\"Cdf of the mail message length \")\n",
    "ax = sns.distplot(sample, hist_kws=dict(cumulative=True), kde_kws=dict(cumulative=True))\n",
    "plt.grid()"
   ]
  },
  {
   "cell_type": "markdown",
   "metadata": {
    "id": "RqF4UKGCrYc6"
   },
   "source": [
    "From the CDF we can say that 99% of the data mail message length is less than the 10k"
   ]
  },
  {
   "cell_type": "code",
   "execution_count": 115,
   "metadata": {
    "id": "IQ8PjoVhCDB2"
   },
   "outputs": [],
   "source": [
    "#removing further data points based on the 0th and 99th percentile values\n",
    "data_ = data[(data.len > 0) & (data.len< 16229)]"
   ]
  },
  {
   "cell_type": "code",
   "execution_count": 116,
   "metadata": {
    "colab": {
     "base_uri": "https://localhost:8080/"
    },
    "id": "jA0hljEdCC9n",
    "outputId": "5ad8e05f-e875-4f48-999f-f9405c0295df"
   },
   "outputs": [
    {
     "data": {
      "text/plain": [
       "(512226, 4)"
      ]
     },
     "execution_count": 116,
     "metadata": {},
     "output_type": "execute_result"
    }
   ],
   "source": [
    "data_.shape"
   ]
  },
  {
   "cell_type": "markdown",
   "metadata": {
    "id": "4-yak0EsHbZn"
   },
   "source": [
    "After the removing unwanted data we have the total number of data points are 465083"
   ]
  },
  {
   "cell_type": "code",
   "execution_count": 117,
   "metadata": {
    "colab": {
     "base_uri": "https://localhost:8080/",
     "height": 300
    },
    "id": "K8JIg87k0u32",
    "outputId": "aafc67d7-a6cc-4247-bba8-02a9dceca949"
   },
   "outputs": [
    {
     "data": {
      "text/html": [
       "\n",
       "  <div id=\"df-cb863980-8ecc-451a-adbf-feaee9c5ef63\">\n",
       "    <div class=\"colab-df-container\">\n",
       "      <div>\n",
       "<style scoped>\n",
       "    .dataframe tbody tr th:only-of-type {\n",
       "        vertical-align: middle;\n",
       "    }\n",
       "\n",
       "    .dataframe tbody tr th {\n",
       "        vertical-align: top;\n",
       "    }\n",
       "\n",
       "    .dataframe thead th {\n",
       "        text-align: right;\n",
       "    }\n",
       "</style>\n",
       "<table border=\"1\" class=\"dataframe\">\n",
       "  <thead>\n",
       "    <tr style=\"text-align: right;\">\n",
       "      <th></th>\n",
       "      <th>len</th>\n",
       "    </tr>\n",
       "  </thead>\n",
       "  <tbody>\n",
       "    <tr>\n",
       "      <th>count</th>\n",
       "      <td>512226.000000</td>\n",
       "    </tr>\n",
       "    <tr>\n",
       "      <th>mean</th>\n",
       "      <td>1435.399931</td>\n",
       "    </tr>\n",
       "    <tr>\n",
       "      <th>std</th>\n",
       "      <td>2000.803828</td>\n",
       "    </tr>\n",
       "    <tr>\n",
       "      <th>min</th>\n",
       "      <td>1.000000</td>\n",
       "    </tr>\n",
       "    <tr>\n",
       "      <th>25%</th>\n",
       "      <td>285.000000</td>\n",
       "    </tr>\n",
       "    <tr>\n",
       "      <th>50%</th>\n",
       "      <td>757.000000</td>\n",
       "    </tr>\n",
       "    <tr>\n",
       "      <th>75%</th>\n",
       "      <td>1710.000000</td>\n",
       "    </tr>\n",
       "    <tr>\n",
       "      <th>max</th>\n",
       "      <td>16223.000000</td>\n",
       "    </tr>\n",
       "  </tbody>\n",
       "</table>\n",
       "</div>\n",
       "      <button class=\"colab-df-convert\" onclick=\"convertToInteractive('df-cb863980-8ecc-451a-adbf-feaee9c5ef63')\"\n",
       "              title=\"Convert this dataframe to an interactive table.\"\n",
       "              style=\"display:none;\">\n",
       "        \n",
       "  <svg xmlns=\"http://www.w3.org/2000/svg\" height=\"24px\"viewBox=\"0 0 24 24\"\n",
       "       width=\"24px\">\n",
       "    <path d=\"M0 0h24v24H0V0z\" fill=\"none\"/>\n",
       "    <path d=\"M18.56 5.44l.94 2.06.94-2.06 2.06-.94-2.06-.94-.94-2.06-.94 2.06-2.06.94zm-11 1L8.5 8.5l.94-2.06 2.06-.94-2.06-.94L8.5 2.5l-.94 2.06-2.06.94zm10 10l.94 2.06.94-2.06 2.06-.94-2.06-.94-.94-2.06-.94 2.06-2.06.94z\"/><path d=\"M17.41 7.96l-1.37-1.37c-.4-.4-.92-.59-1.43-.59-.52 0-1.04.2-1.43.59L10.3 9.45l-7.72 7.72c-.78.78-.78 2.05 0 2.83L4 21.41c.39.39.9.59 1.41.59.51 0 1.02-.2 1.41-.59l7.78-7.78 2.81-2.81c.8-.78.8-2.07 0-2.86zM5.41 20L4 18.59l7.72-7.72 1.47 1.35L5.41 20z\"/>\n",
       "  </svg>\n",
       "      </button>\n",
       "      \n",
       "  <style>\n",
       "    .colab-df-container {\n",
       "      display:flex;\n",
       "      flex-wrap:wrap;\n",
       "      gap: 12px;\n",
       "    }\n",
       "\n",
       "    .colab-df-convert {\n",
       "      background-color: #E8F0FE;\n",
       "      border: none;\n",
       "      border-radius: 50%;\n",
       "      cursor: pointer;\n",
       "      display: none;\n",
       "      fill: #1967D2;\n",
       "      height: 32px;\n",
       "      padding: 0 0 0 0;\n",
       "      width: 32px;\n",
       "    }\n",
       "\n",
       "    .colab-df-convert:hover {\n",
       "      background-color: #E2EBFA;\n",
       "      box-shadow: 0px 1px 2px rgba(60, 64, 67, 0.3), 0px 1px 3px 1px rgba(60, 64, 67, 0.15);\n",
       "      fill: #174EA6;\n",
       "    }\n",
       "\n",
       "    [theme=dark] .colab-df-convert {\n",
       "      background-color: #3B4455;\n",
       "      fill: #D2E3FC;\n",
       "    }\n",
       "\n",
       "    [theme=dark] .colab-df-convert:hover {\n",
       "      background-color: #434B5C;\n",
       "      box-shadow: 0px 1px 3px 1px rgba(0, 0, 0, 0.15);\n",
       "      filter: drop-shadow(0px 1px 2px rgba(0, 0, 0, 0.3));\n",
       "      fill: #FFFFFF;\n",
       "    }\n",
       "  </style>\n",
       "\n",
       "      <script>\n",
       "        const buttonEl =\n",
       "          document.querySelector('#df-cb863980-8ecc-451a-adbf-feaee9c5ef63 button.colab-df-convert');\n",
       "        buttonEl.style.display =\n",
       "          google.colab.kernel.accessAllowed ? 'block' : 'none';\n",
       "\n",
       "        async function convertToInteractive(key) {\n",
       "          const element = document.querySelector('#df-cb863980-8ecc-451a-adbf-feaee9c5ef63');\n",
       "          const dataTable =\n",
       "            await google.colab.kernel.invokeFunction('convertToInteractive',\n",
       "                                                     [key], {});\n",
       "          if (!dataTable) return;\n",
       "\n",
       "          const docLinkHtml = 'Like what you see? Visit the ' +\n",
       "            '<a target=\"_blank\" href=https://colab.research.google.com/notebooks/data_table.ipynb>data table notebook</a>'\n",
       "            + ' to learn more about interactive tables.';\n",
       "          element.innerHTML = '';\n",
       "          dataTable['output_type'] = 'display_data';\n",
       "          await google.colab.output.renderOutput(dataTable, element);\n",
       "          const docLink = document.createElement('div');\n",
       "          docLink.innerHTML = docLinkHtml;\n",
       "          element.appendChild(docLink);\n",
       "        }\n",
       "      </script>\n",
       "    </div>\n",
       "  </div>\n",
       "  "
      ],
      "text/plain": [
       "                 len\n",
       "count  512226.000000\n",
       "mean     1435.399931\n",
       "std      2000.803828\n",
       "min         1.000000\n",
       "25%       285.000000\n",
       "50%       757.000000\n",
       "75%      1710.000000\n",
       "max     16223.000000"
      ]
     },
     "execution_count": 117,
     "metadata": {},
     "output_type": "execute_result"
    }
   ],
   "source": [
    "data_.describe()"
   ]
  },
  {
   "cell_type": "markdown",
   "metadata": {
    "id": "_jv-4u7DHbZq"
   },
   "source": [
    "After the removing the unwanted data points the mean value is 1179"
   ]
  },
  {
   "cell_type": "code",
   "execution_count": 118,
   "metadata": {
    "colab": {
     "base_uri": "https://localhost:8080/",
     "height": 513
    },
    "id": "AlJk2IVPTwLF",
    "outputId": "f2c6e92a-67a0-45b9-a438-236526b792ce"
   },
   "outputs": [
    {
     "data": {
      "image/png": "[encoded data removed]",
      "text/plain": [
       "<Figure size 576x576 with 1 Axes>"
      ]
     },
     "metadata": {
      "needs_background": "light"
     },
     "output_type": "display_data"
    }
   ],
   "source": [
    "x_2 = data_.len.sample(1500)\n",
    "plt.figure(figsize=(8,8))\n",
    "plt.hist(x_2,bins = 30)\n",
    "plt.title(\"Histogram of mail message lenght with 1500 with clean datapoints\")\n",
    "plt.xlabel(\"Number of the Mails\")\n",
    "plt.ylabel(\"Length of the message in each bins\")\n",
    "plt.grid()"
   ]
  },
  {
   "cell_type": "markdown",
   "metadata": {
    "id": "naOz4tiSrYc_"
   },
   "source": [
    "After the removal of the unwanted mail message length, our histogram looks very clear and most of the mail message length is less than the 3000"
   ]
  },
  {
   "cell_type": "code",
   "execution_count": 120,
   "metadata": {
    "colab": {
     "base_uri": "https://localhost:8080/",
     "height": 405
    },
    "id": "cFKLb9pnTwRT",
    "outputId": "0689f2a5-7110-4a22-950a-a85f36d03bc7"
   },
   "outputs": [
    {
     "name": "stderr",
     "output_type": "stream",
     "text": [
      "/usr/local/lib/python3.7/dist-packages/seaborn/distributions.py:2619: FutureWarning: `distplot` is a deprecated function and will be removed in a future version. Please adapt your code to use either `displot` (a figure-level function with similar flexibility) or `histplot` (an axes-level function for histograms).\n",
      "  warnings.warn(msg, FutureWarning)\n"
     ]
    },
    {
     "data": {
      "image/png": "[encoded data removed]",
      "text/plain": [
       "<Figure size 720x360 with 1 Axes>"
      ]
     },
     "metadata": {
      "needs_background": "light"
     },
     "output_type": "display_data"
    }
   ],
   "source": [
    "from scipy import stats\n",
    "sample = x_2\n",
    "plt.figure(figsize=(10,5))\n",
    "plt.title(\"Distribution plot of mail message lenght with 1500 with clean datapoints\")\n",
    "plt.ylabel('Density of the length of email messages')\n",
    "plt.grid()\n",
    "ax = sns.distplot(sample, kde=False, fit=stats.norm)"
   ]
  },
  {
   "cell_type": "code",
   "execution_count": 121,
   "metadata": {
    "colab": {
     "base_uri": "https://localhost:8080/",
     "height": 405
    },
    "id": "KrofBBP-TwOZ",
    "outputId": "8c243f2a-db28-4300-d9e4-0503658aa08d"
   },
   "outputs": [
    {
     "name": "stderr",
     "output_type": "stream",
     "text": [
      "/usr/local/lib/python3.7/dist-packages/seaborn/distributions.py:2619: FutureWarning: `distplot` is a deprecated function and will be removed in a future version. Please adapt your code to use either `displot` (a figure-level function with similar flexibility) or `histplot` (an axes-level function for histograms).\n",
      "  warnings.warn(msg, FutureWarning)\n"
     ]
    },
    {
     "data": {
      "image/png": "[encoded data removed]",
      "text/plain": [
       "<Figure size 720x360 with 1 Axes>"
      ]
     },
     "metadata": {
      "needs_background": "light"
     },
     "output_type": "display_data"
    }
   ],
   "source": [
    "sample = x_2\n",
    "plt.figure(figsize=(10,5))\n",
    "plt.title(\"Cdf of the mail message length with clean data points \")\n",
    "ax = sns.distplot(sample, hist_kws=dict(cumulative=True), kde_kws=dict(cumulative=True))\n",
    "plt.grid()"
   ]
  },
  {
   "cell_type": "markdown",
   "metadata": {
    "id": "Yq9gMfHmrYdA"
   },
   "source": [
    "From the CDF we can say that 99% of the data mail message length is less than the 5000"
   ]
  },
  {
   "cell_type": "code",
   "execution_count": 122,
   "metadata": {
    "colab": {
     "base_uri": "https://localhost:8080/",
     "height": 295
    },
    "id": "rfYf-iihFKao",
    "outputId": "15ab4540-8f43-4d4f-f219-34f7e8722c9b"
   },
   "outputs": [
    {
     "data": {
      "image/png": "[encoded data removed]",
      "text/plain": [
       "<Figure size 432x288 with 1 Axes>"
      ]
     },
     "metadata": {
      "needs_background": "light"
     },
     "output_type": "display_data"
    }
   ],
   "source": [
    "#Q-Q plot for checking if the mail message length is normal distribution\n",
    "scipy.stats.probplot(sample, plot=plt)\n",
    "plt.show()"
   ]
  },
  {
   "cell_type": "markdown",
   "metadata": {
    "id": "jHx7-Xa_JFht"
   },
   "source": [
    "From the Q-Q plot, we can say the length of the message is not follow the normal distribution"
   ]
  },
  {
   "cell_type": "markdown",
   "metadata": {
    "id": "CtirZsyerv5w"
   },
   "source": [
    "# 5.**Data Cleaning**"
   ]
  },
  {
   "cell_type": "code",
   "execution_count": 123,
   "metadata": {
    "id": "U44xx62REHcd"
   },
   "outputs": [],
   "source": [
    "import pickle\n",
    "with open('/content/drive/MyDrive/case study 2/mail.pkl', 'rb') as handle:\n",
    "    df = pickle.load(handle)"
   ]
  },
  {
   "cell_type": "code",
   "execution_count": 62,
   "metadata": {
    "colab": {
     "base_uri": "https://localhost:8080/",
     "height": 206
    },
    "id": "IYZK6BejEqdY",
    "outputId": "92adb754-86f7-4d7c-ad9e-443c1ac4b23d"
   },
   "outputs": [
    {
     "data": {
      "text/html": [
       "\n",
       "  <div id=\"df-d225d204-d5e4-4ae5-a7bf-bce17a06df62\">\n",
       "    <div class=\"colab-df-container\">\n",
       "      <div>\n",
       "<style scoped>\n",
       "    .dataframe tbody tr th:only-of-type {\n",
       "        vertical-align: middle;\n",
       "    }\n",
       "\n",
       "    .dataframe tbody tr th {\n",
       "        vertical-align: top;\n",
       "    }\n",
       "\n",
       "    .dataframe thead th {\n",
       "        text-align: right;\n",
       "    }\n",
       "</style>\n",
       "<table border=\"1\" class=\"dataframe\">\n",
       "  <thead>\n",
       "    <tr style=\"text-align: right;\">\n",
       "      <th></th>\n",
       "      <th>file</th>\n",
       "      <th>message</th>\n",
       "      <th>mail</th>\n",
       "      <th>len</th>\n",
       "    </tr>\n",
       "  </thead>\n",
       "  <tbody>\n",
       "    <tr>\n",
       "      <th>84927</th>\n",
       "      <td>davis-d/discussion_threads/309.</td>\n",
       "      <td>Message-ID: &lt;5552864.1075853942250.JavaMail.ev...</td>\n",
       "      <td>-----Original Message-----\\nFrom: Sandy Lee\\nS...</td>\n",
       "      <td>17353</td>\n",
       "    </tr>\n",
       "    <tr>\n",
       "      <th>340605</th>\n",
       "      <td>motley-m/deleted_items/79.</td>\n",
       "      <td>Message-ID: &lt;4614444.1075841334844.JavaMail.ev...</td>\n",
       "      <td>Hello Matt Motley, \\n\\nIn this issue: \\n\\n- Fe...</td>\n",
       "      <td>1213</td>\n",
       "    </tr>\n",
       "    <tr>\n",
       "      <th>315936</th>\n",
       "      <td>mann-k/fuel_cells/66.</td>\n",
       "      <td>Message-ID: &lt;5813484.1075845881506.JavaMail.ev...</td>\n",
       "      <td>As promised by Jerry Leitman, I am attaching a...</td>\n",
       "      <td>1297</td>\n",
       "    </tr>\n",
       "    <tr>\n",
       "      <th>455480</th>\n",
       "      <td>steffes-j/sent_items/1465.</td>\n",
       "      <td>Message-ID: &lt;28997229.1075855204269.JavaMail.e...</td>\n",
       "      <td>Agree with bob - we are done\\n----------------...</td>\n",
       "      <td>73</td>\n",
       "    </tr>\n",
       "    <tr>\n",
       "      <th>338428</th>\n",
       "      <td>meyers-a/deleted_items/996.</td>\n",
       "      <td>Message-ID: &lt;2819825.1075841314031.JavaMail.ev...</td>\n",
       "      <td>\\n\\nStart Date: 1/2/02; HourAhead hour: 20;  N...</td>\n",
       "      <td>215</td>\n",
       "    </tr>\n",
       "  </tbody>\n",
       "</table>\n",
       "</div>\n",
       "      <button class=\"colab-df-convert\" onclick=\"convertToInteractive('df-d225d204-d5e4-4ae5-a7bf-bce17a06df62')\"\n",
       "              title=\"Convert this dataframe to an interactive table.\"\n",
       "              style=\"display:none;\">\n",
       "        \n",
       "  <svg xmlns=\"http://www.w3.org/2000/svg\" height=\"24px\"viewBox=\"0 0 24 24\"\n",
       "       width=\"24px\">\n",
       "    <path d=\"M0 0h24v24H0V0z\" fill=\"none\"/>\n",
       "    <path d=\"M18.56 5.44l.94 2.06.94-2.06 2.06-.94-2.06-.94-.94-2.06-.94 2.06-2.06.94zm-11 1L8.5 8.5l.94-2.06 2.06-.94-2.06-.94L8.5 2.5l-.94 2.06-2.06.94zm10 10l.94 2.06.94-2.06 2.06-.94-2.06-.94-.94-2.06-.94 2.06-2.06.94z\"/><path d=\"M17.41 7.96l-1.37-1.37c-.4-.4-.92-.59-1.43-.59-.52 0-1.04.2-1.43.59L10.3 9.45l-7.72 7.72c-.78.78-.78 2.05 0 2.83L4 21.41c.39.39.9.59 1.41.59.51 0 1.02-.2 1.41-.59l7.78-7.78 2.81-2.81c.8-.78.8-2.07 0-2.86zM5.41 20L4 18.59l7.72-7.72 1.47 1.35L5.41 20z\"/>\n",
       "  </svg>\n",
       "      </button>\n",
       "      \n",
       "  <style>\n",
       "    .colab-df-container {\n",
       "      display:flex;\n",
       "      flex-wrap:wrap;\n",
       "      gap: 12px;\n",
       "    }\n",
       "\n",
       "    .colab-df-convert {\n",
       "      background-color: #E8F0FE;\n",
       "      border: none;\n",
       "      border-radius: 50%;\n",
       "      cursor: pointer;\n",
       "      display: none;\n",
       "      fill: #1967D2;\n",
       "      height: 32px;\n",
       "      padding: 0 0 0 0;\n",
       "      width: 32px;\n",
       "    }\n",
       "\n",
       "    .colab-df-convert:hover {\n",
       "      background-color: #E2EBFA;\n",
       "      box-shadow: 0px 1px 2px rgba(60, 64, 67, 0.3), 0px 1px 3px 1px rgba(60, 64, 67, 0.15);\n",
       "      fill: #174EA6;\n",
       "    }\n",
       "\n",
       "    [theme=dark] .colab-df-convert {\n",
       "      background-color: #3B4455;\n",
       "      fill: #D2E3FC;\n",
       "    }\n",
       "\n",
       "    [theme=dark] .colab-df-convert:hover {\n",
       "      background-color: #434B5C;\n",
       "      box-shadow: 0px 1px 3px 1px rgba(0, 0, 0, 0.15);\n",
       "      filter: drop-shadow(0px 1px 2px rgba(0, 0, 0, 0.3));\n",
       "      fill: #FFFFFF;\n",
       "    }\n",
       "  </style>\n",
       "\n",
       "      <script>\n",
       "        const buttonEl =\n",
       "          document.querySelector('#df-d225d204-d5e4-4ae5-a7bf-bce17a06df62 button.colab-df-convert');\n",
       "        buttonEl.style.display =\n",
       "          google.colab.kernel.accessAllowed ? 'block' : 'none';\n",
       "\n",
       "        async function convertToInteractive(key) {\n",
       "          const element = document.querySelector('#df-d225d204-d5e4-4ae5-a7bf-bce17a06df62');\n",
       "          const dataTable =\n",
       "            await google.colab.kernel.invokeFunction('convertToInteractive',\n",
       "                                                     [key], {});\n",
       "          if (!dataTable) return;\n",
       "\n",
       "          const docLinkHtml = 'Like what you see? Visit the ' +\n",
       "            '<a target=\"_blank\" href=https://colab.research.google.com/notebooks/data_table.ipynb>data table notebook</a>'\n",
       "            + ' to learn more about interactive tables.';\n",
       "          element.innerHTML = '';\n",
       "          dataTable['output_type'] = 'display_data';\n",
       "          await google.colab.output.renderOutput(dataTable, element);\n",
       "          const docLink = document.createElement('div');\n",
       "          docLink.innerHTML = docLinkHtml;\n",
       "          element.appendChild(docLink);\n",
       "        }\n",
       "      </script>\n",
       "    </div>\n",
       "  </div>\n",
       "  "
      ],
      "text/plain": [
       "                                   file  \\\n",
       "84927   davis-d/discussion_threads/309.   \n",
       "340605       motley-m/deleted_items/79.   \n",
       "315936            mann-k/fuel_cells/66.   \n",
       "455480       steffes-j/sent_items/1465.   \n",
       "338428      meyers-a/deleted_items/996.   \n",
       "\n",
       "                                                  message  \\\n",
       "84927   Message-ID: <5552864.1075853942250.JavaMail.ev...   \n",
       "340605  Message-ID: <4614444.1075841334844.JavaMail.ev...   \n",
       "315936  Message-ID: <5813484.1075845881506.JavaMail.ev...   \n",
       "455480  Message-ID: <28997229.1075855204269.JavaMail.e...   \n",
       "338428  Message-ID: <2819825.1075841314031.JavaMail.ev...   \n",
       "\n",
       "                                                     mail    len  \n",
       "84927   -----Original Message-----\\nFrom: Sandy Lee\\nS...  17353  \n",
       "340605  Hello Matt Motley, \\n\\nIn this issue: \\n\\n- Fe...   1213  \n",
       "315936  As promised by Jerry Leitman, I am attaching a...   1297  \n",
       "455480  Agree with bob - we are done\\n----------------...     73  \n",
       "338428  \\n\\nStart Date: 1/2/02; HourAhead hour: 20;  N...    215  "
      ]
     },
     "execution_count": 62,
     "metadata": {},
     "output_type": "execute_result"
    }
   ],
   "source": [
    "df.sample(5)"
   ]
  },
  {
   "cell_type": "code",
   "execution_count": 124,
   "metadata": {
    "colab": {
     "base_uri": "https://localhost:8080/"
    },
    "id": "CWscT5n4EsYn",
    "outputId": "9bad5937-3737-42bf-d3b4-22cbc86ba5a6"
   },
   "outputs": [
    {
     "name": "stdout",
     "output_type": "stream",
     "text": [
      "[nltk_data] Downloading package stopwords to /root/nltk_data...\n",
      "[nltk_data]   Package stopwords is already up-to-date!\n"
     ]
    }
   ],
   "source": [
    "#here we apply all the cleaning things\n",
    "import nltk\n",
    "nltk.download('stopwords')\n",
    "from nltk.corpus import stopwords\n",
    "def data_cleaning(text):\n",
    "    if text is not None:\n",
    "        #stopwords_list = stopwords.words('english')\n",
    "        q = re.sub('Message-ID[^\\n]+', ' ', text)\n",
    "        q = re.sub('Date[^\\n]+', ' ', q)\n",
    "        q = re.sub('X[^\\n]+', ' ', q)\n",
    "        q = re.sub('Content[^\\n]+', ' ', q)\n",
    "        q = re.sub('From[^\\n]+', ' ', q)\n",
    "        q = re.sub('To[^\\n]+', ' ', q)\n",
    "        q = re.sub('Subject[^\\n]+', ' ', q)\n",
    "        q = re.sub('Mime-Version[^\\n]+', ' ', q)\n",
    "        q = re.sub('.*?\\(.*?\\)',' ',q)\n",
    "        q = re.sub('--[^\\n]+', ' ', q)\n",
    "        q = re.sub('cc:[^\\n]+|Cc:[^\\n]+', ' ', q)\n",
    "        q = re.sub('Sent:[^\\n]+', '', q)\n",
    "        q = re.sub('email address:[^\\n]+', ' ', q)\n",
    "        q = re.sub('[0-9]+', ' ', q)\n",
    "        q = re.sub('[\\/:]', ' ', q)\n",
    "        q = re.sub('AM|PM|a\\.m\\.|p\\.m\\.', ' ', q)\n",
    "        q = re.sub('\\(|\\)|,|;|\\.|!', ' ', q)\n",
    "        q = re.sub('-[^\\n]+', '', q)\n",
    "        q = re.sub('-', ' ', q)\n",
    "        q = re.sub('\\?', ' ', q)\n",
    "        q = re.sub('\\@', ' ', q)\n",
    "        q = re.sub('[a-z0-9\\.\\-+_]+@[a-z0-9\\.\\-+_]+\\.[a-z]+', ' ', q)\n",
    "        q = re.sub('(Write to:|From:).*',' ',q)\n",
    "        q = re.sub('re:', ' ', q)\n",
    "        q = re.sub('\\[[^]]*\\]', ' ', q)\n",
    "        q = re.sub(r'[^\\w\\s]',' ',q)\n",
    "        #remove the < anykeyword> like this from the data\n",
    "        q = re.sub('<.*>',' ',q)\n",
    "        #remove the all word which is present in the bracket\n",
    "        q = re.sub('\\(.*\\)',' ',q)\n",
    "        #remove all the new lines\n",
    "        q = re.sub(r'[\\n\\t-]*','',q)\n",
    "\n",
    "        #remove all the word which is end with :\n",
    "        q = re.sub(r'\\w+:\\s?','',q)\n",
    "\n",
    "        #replace the short word with there full words code taken from donors choose assignment\n",
    "            # specific\n",
    "        q = re.sub(r\"won't\", \" will not\", q)\n",
    "        q = re.sub(r\"can\\'t\", \" can not\", q)\n",
    "\n",
    "        # general\n",
    "        q = re.sub(r\"n\\'t\", \" not\", q)\n",
    "        q = re.sub(r\"\\'re\", \" are\", q)\n",
    "        q = re.sub(r\"\\'s\", \" is\", q)\n",
    "        q = re.sub(r\"\\'d\", \" would\", q)\n",
    "        q = re.sub(r\"\\'ll\", \" will\", q)\n",
    "        q = re.sub(r\"\\'t\", \" not\", q)\n",
    "        q = re.sub(r\"\\'ve\", \" have\", q)\n",
    "        q = re.sub(r\"\\'m\", \" am\", q)\n",
    "\n",
    "        q = re.sub(r'\\b_([a-zA-z]+)_\\b',r'\\1' , q)\n",
    "        q = re.sub(r'\\b_([a-zA-z]+)\\b',r'\\1' , q)\n",
    "        q = re.sub(r'\\b([a-zA-z]+)_\\b',r'\\1' , q)\n",
    "\n",
    "        #remove _ sign from the word like di_shivam and we want only shivam\n",
    "        q = re.sub(r'\\b[a-zA-Z]{1}_([a-zA-Z]+)',r'\\1'  , q)\n",
    "        q = re.sub(r'\\b[a-zA-Z]{2}_([a-zA-Z]+)',r'\\1' , q)\n",
    "\n",
    "        #convert all into a lower case\n",
    "        q = q.lower()\n",
    "\n",
    "        #remove the words which are greater than or equal to 15 or less than or equal to 2\n",
    "        #https://stackoverflow.com/questions/24332025/remove-words-of-length-less-than-4-from-string\n",
    "        q = re.sub(r'\\b\\w{,2}\\b' ,'', q)\n",
    "        q = re.sub(r'\\b\\w{15,}\\b','', q)\n",
    "\n",
    "        #replace all the words except \"A-Za-z_\" with space\n",
    "        q= re.sub(r'[^a-zA-Z_]',' ',q)\n",
    "        q = q.replace(\"\\n\", \" \")\n",
    "#       f = ' '.join([word for word in q.split() if word not in stopwords.words(\"english\")])\\\n",
    "        f = ' '.join([word for word in q.split()])\n",
    "        return f"
   ]
  },
  {
   "cell_type": "code",
   "execution_count": 126,
   "metadata": {
    "colab": {
     "base_uri": "https://localhost:8080/"
    },
    "id": "mMCwBbGOExqW",
    "outputId": "1f49a77f-019f-4107-cccc-5e0a8ba57a7b"
   },
   "outputs": [
    {
     "name": "stderr",
     "output_type": "stream",
     "text": [
      "100%|██████████| 512226/512226 [15:15<00:00, 559.25it/s]\n"
     ]
    }
   ],
   "source": [
    "import re\n",
    "output = []\n",
    "for i in tqdm(data_.mail.values):\n",
    "    a = data_cleaning(i)\n",
    "    output.append(a)"
   ]
  },
  {
   "cell_type": "code",
   "execution_count": 128,
   "metadata": {
    "id": "YOwJEfTlE-7_"
   },
   "outputs": [],
   "source": [
    "df = pd.DataFrame()\n",
    "df['preprocess_mail'] = output"
   ]
  },
  {
   "cell_type": "code",
   "execution_count": 129,
   "metadata": {
    "colab": {
     "base_uri": "https://localhost:8080/"
    },
    "id": "IgSZbpgI_0pR",
    "outputId": "69c26546-0581-4c73-fbfd-591571d86067"
   },
   "outputs": [
    {
     "data": {
      "text/plain": [
       "(512226, 1)"
      ]
     },
     "execution_count": 129,
     "metadata": {},
     "output_type": "execute_result"
    }
   ],
   "source": [
    "df.shape"
   ]
  },
  {
   "cell_type": "code",
   "execution_count": 30,
   "metadata": {
    "id": "VR7QcKsUsCFs"
   },
   "outputs": [],
   "source": [
    "# import joblib\n",
    "# df = joblib.load('/content/drive/MyDrive/case study 2/preprocess.pkl')"
   ]
  },
  {
   "cell_type": "code",
   "execution_count": 131,
   "metadata": {
    "id": "nuocVEsLJa-M"
   },
   "outputs": [],
   "source": [
    "#Remove the duplicates from the preprocess mails\n",
    "df_ = df['preprocess_mail'].drop_duplicates()"
   ]
  },
  {
   "cell_type": "code",
   "execution_count": 132,
   "metadata": {
    "id": "Hx2aLeCZsKFB"
   },
   "outputs": [],
   "source": [
    "# from google.colab import drive\n",
    "# drive.mount('/content/drive')"
   ]
  },
  {
   "cell_type": "code",
   "execution_count": 133,
   "metadata": {
    "colab": {
     "base_uri": "https://localhost:8080/"
    },
    "id": "uuZEEYY_JdZv",
    "outputId": "b3da499a-994c-4c6d-d03a-57fc733a1e29"
   },
   "outputs": [
    {
     "data": {
      "text/plain": [
       "(223825,)"
      ]
     },
     "execution_count": 133,
     "metadata": {},
     "output_type": "execute_result"
    }
   ],
   "source": [
    "df_.shape"
   ]
  },
  {
   "cell_type": "code",
   "execution_count": 158,
   "metadata": {
    "colab": {
     "base_uri": "https://localhost:8080/"
    },
    "id": "cdDGHpBxHz-f",
    "outputId": "5d24aeeb-6a8a-48e9-9e88-676f6ba8072d"
   },
   "outputs": [
    {
     "name": "stdout",
     "output_type": "stream",
     "text": [
      "discuss various matters know laura anxious move forward the manlove could have game plan for this deal described laura being like the bammel deal can get laura commit time how about conference call discuss where with this but will checking voice mail etc thanks kay\n",
      "------------------------------------------------------------------------------------------------------------------------------------------------------------------------------------------------------------------------------------------------------------------------------------------------------------\n",
      "gentlemen you are aware david roensch larry campbell and just traveled penn state university and had lengthy meeting with adawaumi this meeting was mainly related obtaining update exactly where they were progressing with the pcb behavioral and hydrodynamic model for pipeline system for your reference have attached this note what consider the key points from that meeting hope you will take few moments and review the attachment will glad discuss any questions you might have based what learned during the meeting with adawaumi recommending that have meeting the near future discuss what the appropriate next steps should related whether not enter into this process secretary will contacting you the next few days establish time when you would available for such meeting hours needed for this meeting adawaumi will asked come down from psu make about one hour presentation related his findings and this point believe you will find this very informative and essential establishing what our next steps will thanks john shafer\n",
      "------------------------------------------------------------------------------------------------------------------------------------------------------------------------------------------------------------------------------------------------------------------------------------------------------------\n",
      "vince thanks again for coming austin speak with class surethat they appreciated hearing about the use real options enron and ithink was very fine way finish the semester along with colleagues from finance appreciate the strongsupport that enron has provided the college business administration appreciate the relationship and look forward seeing you austinagain next year jim\n",
      "------------------------------------------------------------------------------------------------------------------------------------------------------------------------------------------------------------------------------------------------------------------------------------------------------------\n",
      "jae black hou ect ect kim theriot hou ect ect chuck ames enron enron nate blackburn enron enron sachin gandhi enron enron chris gaskill corp enron enron amanda huble enron enron massimo marolo enron enron tara piazze enron enron vladi pimenov enron enron elizabeth shim corp enron enron sabina rank enron enron mog heu enron enron colin hyde corp enron enron yan wang corp enron enron angela hylton corp enron enron junellen pearsall enron enron rebecca mata enron enron marc bir corp enron enron david dronet enron enron demetrion ware corp enron enron gloria solis hou ect ect perla montemayor enron enron rochelle dent enron enron humaira badat enron enron please forward your groups thank you amanda huble david dronet morning some you may have noticed have added security the gas fundamentals website you encounter this screen when accessing http gasfundy corp enron com simply login with your windows domain name and password this the same account you would use logon toyour you not wish prompted with this information again check the save this password your password list option andyou will not encounter this pop when accessing the website thank you david dronetxt\n",
      "------------------------------------------------------------------------------------------------------------------------------------------------------------------------------------------------------------------------------------------------------------------------------------------------------------\n",
      "please email randy pais and david marshall phone numbers thanks\n",
      "------------------------------------------------------------------------------------------------------------------------------------------------------------------------------------------------------------------------------------------------------------------------------------------------------------\n",
      "enron energy services phone attached are some slides prepared for the ees business folks which outline some contractual issues connection with california enron energy services here are the california contract slides\n",
      "------------------------------------------------------------------------------------------------------------------------------------------------------------------------------------------------------------------------------------------------------------------------------------------------------------\n",
      "you are receiving this message because eprocurement purchase your action you are identified approver based thereporting structure your organization and monetary approval limits please review and approve reject the items your logging into eprocurement athttp spr enron com scripts wgate bbpstart elanguage entips user password are your pid password same asyour ehronline and payables logon information unless your initial password enron access quick reference cards and stephttp sap enron com sap_doclib user file_list asp cabinet_id access online interactive eprocurement courses fromhttp iscedcenter enron comfor help call isc customer care\n",
      "------------------------------------------------------------------------------------------------------------------------------------------------------------------------------------------------------------------------------------------------------------------------------------------------------------\n",
      "the price should inside ferc monthly index the deal has been changed the system can you guys verify this for elizabeth theresa elizabeth hernandez enron enron please verify price deal customer sent the confirmation back showing the price inside ferc monthly index\n",
      "------------------------------------------------------------------------------------------------------------------------------------------------------------------------------------------------------------------------------------------------------------------------------------------------------------\n",
      "john and louise just want inform you that last friday reached our volume and origination targets for risk management trades mexico have been marketing financial derivatives industrial customers mexico and aggressively expanding our cutomer base and finally paying off our targets for this year were best regards\n",
      "------------------------------------------------------------------------------------------------------------------------------------------------------------------------------------------------------------------------------------------------------------------------------------------------------------\n",
      "confirmed brad that they are still esp open them for all financial lisa lees bradley diebner lisa here are the products nat gas fin swap nat gas fob phy fwd normal butane fin normal butane fob fwd propane fin and propane phy purity ethane fin purity ethane phy fwd thanks brad\n",
      "------------------------------------------------------------------------------------------------------------------------------------------------------------------------------------------------------------------------------------------------------------------------------------------------------------\n"
     ]
    }
   ],
   "source": [
    "#clean sample of data\n",
    "for i in df_.sample(10,random_state=20):\n",
    "    print(i)\n",
    "    print(150*'--')"
   ]
  },
  {
   "cell_type": "markdown",
   "metadata": {
    "id": "bQceRnQyJ3Ye"
   },
   "source": [
    "# 6.**Remove sentences which contain rare words**"
   ]
  },
  {
   "cell_type": "code",
   "execution_count": 135,
   "metadata": {
    "id": "t3ouej-QJxbe"
   },
   "outputs": [],
   "source": [
    "import tensorflow as tf\n",
    "token = tf.keras.preprocessing.text.Tokenizer(filters='')\n",
    "token.fit_on_texts(df_)"
   ]
  },
  {
   "cell_type": "code",
   "execution_count": 136,
   "metadata": {
    "id": "4PRjV-K8J7Il"
   },
   "outputs": [],
   "source": [
    "word = list(dict(token.word_counts).values())\n",
    "word.sort(reverse=True)"
   ]
  },
  {
   "cell_type": "code",
   "execution_count": 137,
   "metadata": {
    "colab": {
     "base_uri": "https://localhost:8080/"
    },
    "id": "fbMa-8raMCSc",
    "outputId": "ac337330-2b67-4cb4-9874-0d9ee18a0cb2"
   },
   "outputs": [
    {
     "name": "stdout",
     "output_type": "stream",
     "text": [
      "Total number of words in preprocess mail is ==> 484031\n"
     ]
    }
   ],
   "source": [
    "print('Total number of words in preprocess mail is ==>' , len(word))"
   ]
  },
  {
   "cell_type": "code",
   "execution_count": null,
   "metadata": {
    "colab": {
     "base_uri": "https://localhost:8080/",
     "height": 394
    },
    "id": "Ko46GQv9Ly2k",
    "outputId": "21175b18-585a-415c-a3bb-af44b5ed2774"
   },
   "outputs": [
    {
     "data": {
      "text/plain": [
       "(0.0, 200.0)"
      ]
     },
     "execution_count": 47,
     "metadata": {},
     "output_type": "execute_result"
    },
    {
     "data": {
      "image/png": "[encoded data removed]",
      "text/plain": [
       "<Figure size 1080x360 with 1 Axes>"
      ]
     },
     "metadata": {
      "needs_background": "light"
     },
     "output_type": "display_data"
    }
   ],
   "source": [
    "plt.figure(figsize=(15,5))\n",
    "plt.bar(range(len(word)),word,align='center')\n",
    "plt.xlabel('Words in preprocess mail')\n",
    "plt.ylabel('Counts of words occurred')\n",
    "plt.title('Bar graph of word counts in our preprocess mail')\n",
    "plt.xticks(rotation=90)\n",
    "plt.ylim(0,200)"
   ]
  },
  {
   "cell_type": "markdown",
   "metadata": {},
   "source": [
    "In this bar graph, we plot the counts of words that occur in the whole corpus, vs words in a sentence, here we converted each word into a token, so we have a total of 350k words in our corpus.\n",
    "\n",
    "Very few words occur more than 5 times, and we have removed all rare words in the corpus.\n",
    "\n",
    "we remove all the words which not occur more than 150 times."
   ]
  },
  {
   "cell_type": "code",
   "execution_count": 138,
   "metadata": {
    "id": "InwYMlI7Ml5j"
   },
   "outputs": [],
   "source": [
    "vocab = dict()\n",
    "for i,j in dict(tokenizer.word_counts).items():\n",
    "    if j>150:\n",
    "        vocab[i]=j"
   ]
  },
  {
   "cell_type": "code",
   "execution_count": 139,
   "metadata": {
    "colab": {
     "base_uri": "https://localhost:8080/"
    },
    "id": "Uw12LxTLQeM8",
    "outputId": "7b483365-e1ff-4960-b6ca-f6c7bc92be29"
   },
   "outputs": [
    {
     "data": {
      "text/plain": [
       "11116"
      ]
     },
     "execution_count": 139,
     "metadata": {},
     "output_type": "execute_result"
    }
   ],
   "source": [
    "len(vocab)"
   ]
  },
  {
   "cell_type": "code",
   "execution_count": 140,
   "metadata": {
    "colab": {
     "base_uri": "https://localhost:8080/"
    },
    "id": "pYBJVd1SQlbU",
    "outputId": "bfbb506c-4b35-4632-89cb-fb6bef0bb5d6"
   },
   "outputs": [
    {
     "name": "stderr",
     "output_type": "stream",
     "text": [
      "100%|██████████| 223825/223825 [00:04<00:00, 46504.17it/s]\n"
     ]
    }
   ],
   "source": [
    "indices = []\n",
    "for i in tqdm(range(df_.shape[0])):\n",
    "    for j in df_.iloc[i].split():\n",
    "        if j not in vocab:\n",
    "            break\n",
    "    else:\n",
    "        indices.append(i)"
   ]
  },
  {
   "cell_type": "code",
   "execution_count": 141,
   "metadata": {
    "colab": {
     "base_uri": "https://localhost:8080/"
    },
    "id": "CN-Af5jWQ6aq",
    "outputId": "02fe6a76-47ba-491d-bf04-4addf3943429"
   },
   "outputs": [
    {
     "data": {
      "text/plain": [
       "38928"
      ]
     },
     "execution_count": 141,
     "metadata": {},
     "output_type": "execute_result"
    }
   ],
   "source": [
    "len(indices)"
   ]
  },
  {
   "cell_type": "code",
   "execution_count": 142,
   "metadata": {
    "id": "DlQD0Zs_REwW"
   },
   "outputs": [],
   "source": [
    "clean_df = df_.iloc[indices]"
   ]
  },
  {
   "cell_type": "code",
   "execution_count": 143,
   "metadata": {
    "colab": {
     "base_uri": "https://localhost:8080/"
    },
    "id": "FS09ZGQORKFy",
    "outputId": "68c39fa2-17f3-4e40-ef4d-3c56e2e43958"
   },
   "outputs": [
    {
     "name": "stdout",
     "output_type": "stream",
     "text": [
      "58040                                                  jeff\n",
      "57971                                    sue maraenron corp\n",
      "356553    check out this website and input information w...\n",
      "3498               what your view crude from here over next\n",
      "51929     fyi theresa theresa within the nbp family who ...\n",
      "61774     here first draft our comments for the november...\n",
      "130163    need sets monitor arms and judy needs sets did...\n",
      "162257    will school conference until and then into mee...\n",
      "288633    attached are the files you requested from the ...\n",
      "453674                                         thanks edith\n",
      "Name: preprocess_mail, dtype: object\n"
     ]
    }
   ],
   "source": [
    "print(clean_df.sample(10))"
   ]
  },
  {
   "cell_type": "code",
   "execution_count": 144,
   "metadata": {
    "colab": {
     "base_uri": "https://localhost:8080/"
    },
    "id": "OCWameITtBeW",
    "outputId": "7b649d92-2a41-45eb-a0aa-e937b213ded7"
   },
   "outputs": [
    {
     "data": {
      "text/plain": [
       "(38928,)"
      ]
     },
     "execution_count": 144,
     "metadata": {},
     "output_type": "execute_result"
    }
   ],
   "source": [
    "clean_df.shape"
   ]
  },
  {
   "cell_type": "code",
   "execution_count": 145,
   "metadata": {
    "colab": {
     "base_uri": "https://localhost:8080/"
    },
    "id": "3isV62sDuyx2",
    "outputId": "3c95c009-b108-4e44-8f67-e9ff271e8771"
   },
   "outputs": [
    {
     "data": {
      "text/plain": [
       "38928"
      ]
     },
     "execution_count": 145,
     "metadata": {},
     "output_type": "execute_result"
    }
   ],
   "source": [
    "x = list(clean_df.apply(lambda x:len(x)))\n",
    "len(x)"
   ]
  },
  {
   "cell_type": "code",
   "execution_count": 146,
   "metadata": {
    "colab": {
     "base_uri": "https://localhost:8080/",
     "height": 206
    },
    "id": "RksYnRY9vdvX",
    "outputId": "b47b78d6-1e5b-431f-f4c8-88d7a9048dc0"
   },
   "outputs": [
    {
     "data": {
      "text/html": [
       "\n",
       "  <div id=\"df-355f3be4-db65-4564-bcc4-1c7dc2203f29\">\n",
       "    <div class=\"colab-df-container\">\n",
       "      <div>\n",
       "<style scoped>\n",
       "    .dataframe tbody tr th:only-of-type {\n",
       "        vertical-align: middle;\n",
       "    }\n",
       "\n",
       "    .dataframe tbody tr th {\n",
       "        vertical-align: top;\n",
       "    }\n",
       "\n",
       "    .dataframe thead th {\n",
       "        text-align: right;\n",
       "    }\n",
       "</style>\n",
       "<table border=\"1\" class=\"dataframe\">\n",
       "  <thead>\n",
       "    <tr style=\"text-align: right;\">\n",
       "      <th></th>\n",
       "      <th>mail</th>\n",
       "      <th>len</th>\n",
       "    </tr>\n",
       "  </thead>\n",
       "  <tbody>\n",
       "    <tr>\n",
       "      <th>0</th>\n",
       "      <td>here our forecast</td>\n",
       "      <td>17</td>\n",
       "    </tr>\n",
       "    <tr>\n",
       "      <th>2</th>\n",
       "      <td>test successful way</td>\n",
       "      <td>19</td>\n",
       "    </tr>\n",
       "    <tr>\n",
       "      <th>3</th>\n",
       "      <td>randy can you send schedule the salary and lev...</td>\n",
       "      <td>132</td>\n",
       "    </tr>\n",
       "    <tr>\n",
       "      <th>4</th>\n",
       "      <td>let shoot for tuesday</td>\n",
       "      <td>21</td>\n",
       "    </tr>\n",
       "    <tr>\n",
       "      <th>5</th>\n",
       "      <td>greg how about either next tuesday thursday ph...</td>\n",
       "      <td>51</td>\n",
       "    </tr>\n",
       "  </tbody>\n",
       "</table>\n",
       "</div>\n",
       "      <button class=\"colab-df-convert\" onclick=\"convertToInteractive('df-355f3be4-db65-4564-bcc4-1c7dc2203f29')\"\n",
       "              title=\"Convert this dataframe to an interactive table.\"\n",
       "              style=\"display:none;\">\n",
       "        \n",
       "  <svg xmlns=\"http://www.w3.org/2000/svg\" height=\"24px\"viewBox=\"0 0 24 24\"\n",
       "       width=\"24px\">\n",
       "    <path d=\"M0 0h24v24H0V0z\" fill=\"none\"/>\n",
       "    <path d=\"M18.56 5.44l.94 2.06.94-2.06 2.06-.94-2.06-.94-.94-2.06-.94 2.06-2.06.94zm-11 1L8.5 8.5l.94-2.06 2.06-.94-2.06-.94L8.5 2.5l-.94 2.06-2.06.94zm10 10l.94 2.06.94-2.06 2.06-.94-2.06-.94-.94-2.06-.94 2.06-2.06.94z\"/><path d=\"M17.41 7.96l-1.37-1.37c-.4-.4-.92-.59-1.43-.59-.52 0-1.04.2-1.43.59L10.3 9.45l-7.72 7.72c-.78.78-.78 2.05 0 2.83L4 21.41c.39.39.9.59 1.41.59.51 0 1.02-.2 1.41-.59l7.78-7.78 2.81-2.81c.8-.78.8-2.07 0-2.86zM5.41 20L4 18.59l7.72-7.72 1.47 1.35L5.41 20z\"/>\n",
       "  </svg>\n",
       "      </button>\n",
       "      \n",
       "  <style>\n",
       "    .colab-df-container {\n",
       "      display:flex;\n",
       "      flex-wrap:wrap;\n",
       "      gap: 12px;\n",
       "    }\n",
       "\n",
       "    .colab-df-convert {\n",
       "      background-color: #E8F0FE;\n",
       "      border: none;\n",
       "      border-radius: 50%;\n",
       "      cursor: pointer;\n",
       "      display: none;\n",
       "      fill: #1967D2;\n",
       "      height: 32px;\n",
       "      padding: 0 0 0 0;\n",
       "      width: 32px;\n",
       "    }\n",
       "\n",
       "    .colab-df-convert:hover {\n",
       "      background-color: #E2EBFA;\n",
       "      box-shadow: 0px 1px 2px rgba(60, 64, 67, 0.3), 0px 1px 3px 1px rgba(60, 64, 67, 0.15);\n",
       "      fill: #174EA6;\n",
       "    }\n",
       "\n",
       "    [theme=dark] .colab-df-convert {\n",
       "      background-color: #3B4455;\n",
       "      fill: #D2E3FC;\n",
       "    }\n",
       "\n",
       "    [theme=dark] .colab-df-convert:hover {\n",
       "      background-color: #434B5C;\n",
       "      box-shadow: 0px 1px 3px 1px rgba(0, 0, 0, 0.15);\n",
       "      filter: drop-shadow(0px 1px 2px rgba(0, 0, 0, 0.3));\n",
       "      fill: #FFFFFF;\n",
       "    }\n",
       "  </style>\n",
       "\n",
       "      <script>\n",
       "        const buttonEl =\n",
       "          document.querySelector('#df-355f3be4-db65-4564-bcc4-1c7dc2203f29 button.colab-df-convert');\n",
       "        buttonEl.style.display =\n",
       "          google.colab.kernel.accessAllowed ? 'block' : 'none';\n",
       "\n",
       "        async function convertToInteractive(key) {\n",
       "          const element = document.querySelector('#df-355f3be4-db65-4564-bcc4-1c7dc2203f29');\n",
       "          const dataTable =\n",
       "            await google.colab.kernel.invokeFunction('convertToInteractive',\n",
       "                                                     [key], {});\n",
       "          if (!dataTable) return;\n",
       "\n",
       "          const docLinkHtml = 'Like what you see? Visit the ' +\n",
       "            '<a target=\"_blank\" href=https://colab.research.google.com/notebooks/data_table.ipynb>data table notebook</a>'\n",
       "            + ' to learn more about interactive tables.';\n",
       "          element.innerHTML = '';\n",
       "          dataTable['output_type'] = 'display_data';\n",
       "          await google.colab.output.renderOutput(dataTable, element);\n",
       "          const docLink = document.createElement('div');\n",
       "          docLink.innerHTML = docLinkHtml;\n",
       "          element.appendChild(docLink);\n",
       "        }\n",
       "      </script>\n",
       "    </div>\n",
       "  </div>\n",
       "  "
      ],
      "text/plain": [
       "                                                mail  len\n",
       "0                                  here our forecast   17\n",
       "2                                test successful way   19\n",
       "3  randy can you send schedule the salary and lev...  132\n",
       "4                              let shoot for tuesday   21\n",
       "5  greg how about either next tuesday thursday ph...   51"
      ]
     },
     "execution_count": 146,
     "metadata": {},
     "output_type": "execute_result"
    }
   ],
   "source": [
    "final_data = pd.DataFrame()\n",
    "final_data['mail'] = clean_df\n",
    "final_data['len'] = x\n",
    "final_data.head()"
   ]
  },
  {
   "cell_type": "code",
   "execution_count": 147,
   "metadata": {
    "colab": {
     "base_uri": "https://localhost:8080/"
    },
    "id": "LynBKCi8v7rT",
    "outputId": "60dc5e16-8944-4ae2-8aa2-c0e18556b3f7"
   },
   "outputs": [
    {
     "data": {
      "text/plain": [
       "(38928, 2)"
      ]
     },
     "execution_count": 147,
     "metadata": {},
     "output_type": "execute_result"
    }
   ],
   "source": [
    "final_data.shape"
   ]
  },
  {
   "cell_type": "code",
   "execution_count": 150,
   "metadata": {
    "colab": {
     "base_uri": "https://localhost:8080/"
    },
    "id": "1gRmXHOts5Rl",
    "outputId": "64ed37a9-76cc-4d3c-bdbb-6de8d7e18977"
   },
   "outputs": [
    {
     "name": "stdout",
     "output_type": "stream",
     "text": [
      "0 Percentile value is 0.0\n",
      "5 Percentile value is 14.0\n",
      "10 Percentile value is 22.0\n",
      "15 Percentile value is 29.0\n",
      "20 Percentile value is 37.0\n",
      "25 Percentile value is 45.0\n",
      "30 Percentile value is 54.0\n",
      "35 Percentile value is 63.0\n",
      "40 Percentile value is 73.0\n",
      "45 Percentile value is 82.0\n",
      "50 Percentile value is 93.0\n",
      "55 Percentile value is 105.0\n",
      "60 Percentile value is 119.0\n",
      "65 Percentile value is 134.0\n",
      "70 Percentile value is 153.0\n",
      "75 Percentile value is 176.0\n",
      "80 Percentile value is 205.0\n",
      "85 Percentile value is 246.0\n",
      "90 Percentile value is 303.0\n",
      "95 Percentile value is 417.0\n",
      "100 Percentile value is 3319.0\n"
     ]
    }
   ],
   "source": [
    "import numpy as np\n",
    "a = x\n",
    "for i in range(0 , 105,5):\n",
    "    p = np.percentile(a, i)\n",
    "    #print(i,' percentile value is',p)\n",
    "    print('{} Percentile value is {}'.format(i,p))"
   ]
  },
  {
   "cell_type": "code",
   "execution_count": 157,
   "metadata": {
    "colab": {
     "base_uri": "https://localhost:8080/"
    },
    "id": "P-z16WM2H8Ut",
    "outputId": "a9e741b0-cb8a-4812-aa70-e0280aa68c48"
   },
   "outputs": [
    {
     "name": "stdout",
     "output_type": "stream",
     "text": [
      "90  percentile value is 303.0\n",
      "91  percentile value is 319.0\n",
      "92  percentile value is 337.0\n",
      "93  percentile value is 358.0\n",
      "94  percentile value is 384.0\n",
      "95  percentile value is 417.0\n",
      "96  percentile value is 459.0\n",
      "97  percentile value is 513.0\n",
      "98  percentile value is 585.4599999999991\n",
      "99  percentile value is 739.7300000000032\n",
      "100  percentile value is 3319.0\n"
     ]
    }
   ],
   "source": [
    "for i in range(90 , 101,1):\n",
    "    p = np.percentile(a, i)\n",
    "    print(i,' percentile value is',p)"
   ]
  },
  {
   "cell_type": "markdown",
   "metadata": {},
   "source": [
    "As the final corpus, we take only those sentences with a length less than 448."
   ]
  },
  {
   "cell_type": "code",
   "execution_count": 151,
   "metadata": {
    "id": "fbA1Cae7tD8p"
   },
   "outputs": [],
   "source": [
    "#removing further data points based on the 5th and 95th percentile values\n",
    "data_final = final_data[(final_data.len > 0.0) & (final_data.len< 448.0)]"
   ]
  },
  {
   "cell_type": "code",
   "execution_count": 152,
   "metadata": {
    "colab": {
     "base_uri": "https://localhost:8080/"
    },
    "id": "jsCw3UI7wAy_",
    "outputId": "9f2351a8-a5d1-448e-81d9-58315586969e"
   },
   "outputs": [
    {
     "data": {
      "text/plain": [
       "(37287, 2)"
      ]
     },
     "execution_count": 152,
     "metadata": {},
     "output_type": "execute_result"
    }
   ],
   "source": [
    "data_final.shape"
   ]
  },
  {
   "cell_type": "code",
   "execution_count": 155,
   "metadata": {
    "colab": {
     "base_uri": "https://localhost:8080/",
     "height": 35
    },
    "id": "fl-3edlWwDPU",
    "outputId": "b607320e-c96b-4297-e7ea-9c7c2458f4f4"
   },
   "outputs": [
    {
     "data": {
      "application/vnd.google.colaboratory.intrinsic+json": {
       "type": "string"
      },
      "text/plain": [
       "'here our forecast'"
      ]
     },
     "execution_count": 155,
     "metadata": {},
     "output_type": "execute_result"
    }
   ],
   "source": [
    "data_final.mail.values[0]"
   ]
  },
  {
   "cell_type": "code",
   "execution_count": 156,
   "metadata": {
    "colab": {
     "base_uri": "https://localhost:8080/",
     "height": 624
    },
    "id": "gNxSfUHgwjC2",
    "outputId": "390c6bb9-cae0-4945-acd5-86700db0a736"
   },
   "outputs": [
    {
     "name": "stderr",
     "output_type": "stream",
     "text": [
      "100%|██████████| 37287/37287 [00:00<00:00, 114016.25it/s]\n"
     ]
    },
    {
     "data": {
      "image/png": "[encoded data removed]",
      "text/plain": [
       "<Figure size 576x576 with 1 Axes>"
      ]
     },
     "metadata": {
      "needs_background": "light"
     },
     "output_type": "display_data"
    }
   ],
   "source": [
    "#code taken from https://www.geeksforgeeks.org/generating-word-cloud-python/\n",
    "comment_words = ''\n",
    "stopwords = set(STOPWORDS)\n",
    "for val in tqdm(data_final.mail):\n",
    "\t\n",
    "\t# typecaste each val to string\n",
    "\tval = str(val)\n",
    "\n",
    "\t# split the value\n",
    "\ttokens = val.split()\n",
    "\t\n",
    "\t# Converts each token into lowercase\n",
    "\tfor i in range(len(tokens)):\n",
    "\t\ttokens[i] = tokens[i].lower()\n",
    "\t\n",
    "\tcomment_words += \" \".join(tokens)+\" \"\n",
    "\n",
    "wordcloud = WordCloud(width = 800, height = 800,\n",
    "\t\t\t\tbackground_color ='black',\n",
    "\t\t\t\tstopwords = stopwords,\n",
    "\t\t\t\tmin_font_size = 10).generate(comment_words)\n",
    "\n",
    "# plot the WordCloud image\n",
    "plt.figure(figsize = (8, 8), facecolor = None)\n",
    "plt.imshow(wordcloud)\n",
    "plt.axis(\"off\")\n",
    "plt.tight_layout(pad = 0)\n",
    "plt.show()"
   ]
  },
  {
   "cell_type": "markdown",
   "metadata": {
    "id": "JcnKFih_MtQg"
   },
   "source": [
    "# 7. Data Preparation"
   ]
  },
  {
   "cell_type": "code",
   "execution_count": null,
   "metadata": {
    "colab": {
     "base_uri": "https://localhost:8080/",
     "height": 424
    },
    "id": "TwusHHFlyEng",
    "outputId": "f2dfda03-c864-4a2b-fd3c-8b18bf24b25f"
   },
   "outputs": [
    {
     "data": {
      "text/html": [
       "\n",
       "  <div id=\"df-74188f49-e5aa-447f-b418-d712003015b9\">\n",
       "    <div class=\"colab-df-container\">\n",
       "      <div>\n",
       "<style scoped>\n",
       "    .dataframe tbody tr th:only-of-type {\n",
       "        vertical-align: middle;\n",
       "    }\n",
       "\n",
       "    .dataframe tbody tr th {\n",
       "        vertical-align: top;\n",
       "    }\n",
       "\n",
       "    .dataframe thead th {\n",
       "        text-align: right;\n",
       "    }\n",
       "</style>\n",
       "<table border=\"1\" class=\"dataframe\">\n",
       "  <thead>\n",
       "    <tr style=\"text-align: right;\">\n",
       "      <th></th>\n",
       "      <th>mail</th>\n",
       "      <th>len</th>\n",
       "    </tr>\n",
       "  </thead>\n",
       "  <tbody>\n",
       "    <tr>\n",
       "      <th>0</th>\n",
       "      <td>here our forecast</td>\n",
       "      <td>17</td>\n",
       "    </tr>\n",
       "    <tr>\n",
       "      <th>2</th>\n",
       "      <td>test successful way</td>\n",
       "      <td>19</td>\n",
       "    </tr>\n",
       "    <tr>\n",
       "      <th>3</th>\n",
       "      <td>randy can you send schedule the salary and lev...</td>\n",
       "      <td>132</td>\n",
       "    </tr>\n",
       "    <tr>\n",
       "      <th>4</th>\n",
       "      <td>let shoot for tuesday</td>\n",
       "      <td>21</td>\n",
       "    </tr>\n",
       "    <tr>\n",
       "      <th>5</th>\n",
       "      <td>greg how about either next tuesday thursday ph...</td>\n",
       "      <td>51</td>\n",
       "    </tr>\n",
       "    <tr>\n",
       "      <th>...</th>\n",
       "      <td>...</td>\n",
       "      <td>...</td>\n",
       "    </tr>\n",
       "    <tr>\n",
       "      <th>512200</th>\n",
       "      <td>you can increase the direct sale include dec t...</td>\n",
       "      <td>68</td>\n",
       "    </tr>\n",
       "    <tr>\n",
       "      <th>512212</th>\n",
       "      <td>john please check with louise how get the atta...</td>\n",
       "      <td>54</td>\n",
       "    </tr>\n",
       "    <tr>\n",
       "      <th>512218</th>\n",
       "      <td>not yet rob has been the court house all day e...</td>\n",
       "      <td>64</td>\n",
       "    </tr>\n",
       "    <tr>\n",
       "      <th>512222</th>\n",
       "      <td>some position with the alberta term book will ...</td>\n",
       "      <td>101</td>\n",
       "    </tr>\n",
       "    <tr>\n",
       "      <th>512223</th>\n",
       "      <td>morning john still working the mini</td>\n",
       "      <td>35</td>\n",
       "    </tr>\n",
       "  </tbody>\n",
       "</table>\n",
       "<p>37287 rows × 2 columns</p>\n",
       "</div>\n",
       "      <button class=\"colab-df-convert\" onclick=\"convertToInteractive('df-74188f49-e5aa-447f-b418-d712003015b9')\"\n",
       "              title=\"Convert this dataframe to an interactive table.\"\n",
       "              style=\"display:none;\">\n",
       "        \n",
       "  <svg xmlns=\"http://www.w3.org/2000/svg\" height=\"24px\"viewBox=\"0 0 24 24\"\n",
       "       width=\"24px\">\n",
       "    <path d=\"M0 0h24v24H0V0z\" fill=\"none\"/>\n",
       "    <path d=\"M18.56 5.44l.94 2.06.94-2.06 2.06-.94-2.06-.94-.94-2.06-.94 2.06-2.06.94zm-11 1L8.5 8.5l.94-2.06 2.06-.94-2.06-.94L8.5 2.5l-.94 2.06-2.06.94zm10 10l.94 2.06.94-2.06 2.06-.94-2.06-.94-.94-2.06-.94 2.06-2.06.94z\"/><path d=\"M17.41 7.96l-1.37-1.37c-.4-.4-.92-.59-1.43-.59-.52 0-1.04.2-1.43.59L10.3 9.45l-7.72 7.72c-.78.78-.78 2.05 0 2.83L4 21.41c.39.39.9.59 1.41.59.51 0 1.02-.2 1.41-.59l7.78-7.78 2.81-2.81c.8-.78.8-2.07 0-2.86zM5.41 20L4 18.59l7.72-7.72 1.47 1.35L5.41 20z\"/>\n",
       "  </svg>\n",
       "      </button>\n",
       "      \n",
       "  <style>\n",
       "    .colab-df-container {\n",
       "      display:flex;\n",
       "      flex-wrap:wrap;\n",
       "      gap: 12px;\n",
       "    }\n",
       "\n",
       "    .colab-df-convert {\n",
       "      background-color: #E8F0FE;\n",
       "      border: none;\n",
       "      border-radius: 50%;\n",
       "      cursor: pointer;\n",
       "      display: none;\n",
       "      fill: #1967D2;\n",
       "      height: 32px;\n",
       "      padding: 0 0 0 0;\n",
       "      width: 32px;\n",
       "    }\n",
       "\n",
       "    .colab-df-convert:hover {\n",
       "      background-color: #E2EBFA;\n",
       "      box-shadow: 0px 1px 2px rgba(60, 64, 67, 0.3), 0px 1px 3px 1px rgba(60, 64, 67, 0.15);\n",
       "      fill: #174EA6;\n",
       "    }\n",
       "\n",
       "    [theme=dark] .colab-df-convert {\n",
       "      background-color: #3B4455;\n",
       "      fill: #D2E3FC;\n",
       "    }\n",
       "\n",
       "    [theme=dark] .colab-df-convert:hover {\n",
       "      background-color: #434B5C;\n",
       "      box-shadow: 0px 1px 3px 1px rgba(0, 0, 0, 0.15);\n",
       "      filter: drop-shadow(0px 1px 2px rgba(0, 0, 0, 0.3));\n",
       "      fill: #FFFFFF;\n",
       "    }\n",
       "  </style>\n",
       "\n",
       "      <script>\n",
       "        const buttonEl =\n",
       "          document.querySelector('#df-74188f49-e5aa-447f-b418-d712003015b9 button.colab-df-convert');\n",
       "        buttonEl.style.display =\n",
       "          google.colab.kernel.accessAllowed ? 'block' : 'none';\n",
       "\n",
       "        async function convertToInteractive(key) {\n",
       "          const element = document.querySelector('#df-74188f49-e5aa-447f-b418-d712003015b9');\n",
       "          const dataTable =\n",
       "            await google.colab.kernel.invokeFunction('convertToInteractive',\n",
       "                                                     [key], {});\n",
       "          if (!dataTable) return;\n",
       "\n",
       "          const docLinkHtml = 'Like what you see? Visit the ' +\n",
       "            '<a target=\"_blank\" href=https://colab.research.google.com/notebooks/data_table.ipynb>data table notebook</a>'\n",
       "            + ' to learn more about interactive tables.';\n",
       "          element.innerHTML = '';\n",
       "          dataTable['output_type'] = 'display_data';\n",
       "          await google.colab.output.renderOutput(dataTable, element);\n",
       "          const docLink = document.createElement('div');\n",
       "          docLink.innerHTML = docLinkHtml;\n",
       "          element.appendChild(docLink);\n",
       "        }\n",
       "      </script>\n",
       "    </div>\n",
       "  </div>\n",
       "  "
      ],
      "text/plain": [
       "                                                     mail  len\n",
       "0                                       here our forecast   17\n",
       "2                                     test successful way   19\n",
       "3       randy can you send schedule the salary and lev...  132\n",
       "4                                   let shoot for tuesday   21\n",
       "5       greg how about either next tuesday thursday ph...   51\n",
       "...                                                   ...  ...\n",
       "512200  you can increase the direct sale include dec t...   68\n",
       "512212  john please check with louise how get the atta...   54\n",
       "512218  not yet rob has been the court house all day e...   64\n",
       "512222  some position with the alberta term book will ...  101\n",
       "512223                morning john still working the mini   35\n",
       "\n",
       "[37287 rows x 2 columns]"
      ]
     },
     "execution_count": 159,
     "metadata": {},
     "output_type": "execute_result"
    }
   ],
   "source": [
    "data_final"
   ]
  },
  {
   "cell_type": "markdown",
   "metadata": {
    "id": "ScVaPEemYX1m"
   },
   "source": [
    "## 7.1**Split the data into train and test**"
   ]
  },
  {
   "cell_type": "code",
   "execution_count": null,
   "metadata": {
    "id": "N_Hd3S1IYXWm"
   },
   "outputs": [],
   "source": [
    "from sklearn.model_selection import train_test_split\n",
    "train , test = train_test_split(data_final.mail, test_size=0.30, random_state=42)"
   ]
  },
  {
   "cell_type": "code",
   "execution_count": null,
   "metadata": {
    "colab": {
     "base_uri": "https://localhost:8080/"
    },
    "id": "tzJQM_fvY1Tn",
    "outputId": "07166489-abfe-4952-e415-a8efb7b68f25"
   },
   "outputs": [
    {
     "name": "stdout",
     "output_type": "stream",
     "text": [
      "the shape of train data is (26100,)\n",
      "the shape of test data is (11187,)\n"
     ]
    }
   ],
   "source": [
    "print('the shape of train data is' , train.shape)\n",
    "print('the shape of test data is' , test.shape)"
   ]
  },
  {
   "cell_type": "code",
   "execution_count": null,
   "metadata": {
    "colab": {
     "base_uri": "https://localhost:8080/"
    },
    "id": "i1bODrt2NF_7",
    "outputId": "3e204667-3c1e-491e-a17a-d1e6a5d0e4fb"
   },
   "outputs": [
    {
     "name": "stderr",
     "output_type": "stream",
     "text": [
      "100%|██████████| 26100/26100 [00:01<00:00, 14789.19it/s]\n"
     ]
    }
   ],
   "source": [
    "x = []\n",
    "y = []\n",
    "for i in tqdm(train):\n",
    "  a = i.split()\n",
    "  for j in range(1,len(a)):\n",
    "        x.append(' '.join(a[:j]))\n",
    "        y.append(' '.join(a[j:]))"
   ]
  },
  {
   "cell_type": "code",
   "execution_count": null,
   "metadata": {
    "colab": {
     "base_uri": "https://localhost:8080/",
     "height": 206
    },
    "id": "ks1VvwjVNtOM",
    "outputId": "87cc11e4-a2c6-42ea-d25f-d231f5303d2f"
   },
   "outputs": [
    {
     "data": {
      "text/html": [
       "\n",
       "  <div id=\"df-0995bcef-2c5b-41eb-92f3-8c70afc310a9\">\n",
       "    <div class=\"colab-df-container\">\n",
       "      <div>\n",
       "<style scoped>\n",
       "    .dataframe tbody tr th:only-of-type {\n",
       "        vertical-align: middle;\n",
       "    }\n",
       "\n",
       "    .dataframe tbody tr th {\n",
       "        vertical-align: top;\n",
       "    }\n",
       "\n",
       "    .dataframe thead th {\n",
       "        text-align: right;\n",
       "    }\n",
       "</style>\n",
       "<table border=\"1\" class=\"dataframe\">\n",
       "  <thead>\n",
       "    <tr style=\"text-align: right;\">\n",
       "      <th></th>\n",
       "      <th>x_train</th>\n",
       "      <th>y_train</th>\n",
       "    </tr>\n",
       "  </thead>\n",
       "  <tbody>\n",
       "    <tr>\n",
       "      <th>0</th>\n",
       "      <td>&lt;start&gt; don &lt;end&gt;</td>\n",
       "      <td>&lt;start&gt; know when are you leaving will try but...</td>\n",
       "    </tr>\n",
       "    <tr>\n",
       "      <th>1</th>\n",
       "      <td>&lt;start&gt; don know &lt;end&gt;</td>\n",
       "      <td>&lt;start&gt; when are you leaving will try but not ...</td>\n",
       "    </tr>\n",
       "    <tr>\n",
       "      <th>2</th>\n",
       "      <td>&lt;start&gt; don know when &lt;end&gt;</td>\n",
       "      <td>&lt;start&gt; are you leaving will try but not sure ...</td>\n",
       "    </tr>\n",
       "    <tr>\n",
       "      <th>3</th>\n",
       "      <td>&lt;start&gt; don know when are &lt;end&gt;</td>\n",
       "      <td>&lt;start&gt; you leaving will try but not sure how ...</td>\n",
       "    </tr>\n",
       "    <tr>\n",
       "      <th>4</th>\n",
       "      <td>&lt;start&gt; don know when are you &lt;end&gt;</td>\n",
       "      <td>&lt;start&gt; leaving will try but not sure how will...</td>\n",
       "    </tr>\n",
       "  </tbody>\n",
       "</table>\n",
       "</div>\n",
       "      <button class=\"colab-df-convert\" onclick=\"convertToInteractive('df-0995bcef-2c5b-41eb-92f3-8c70afc310a9')\"\n",
       "              title=\"Convert this dataframe to an interactive table.\"\n",
       "              style=\"display:none;\">\n",
       "        \n",
       "  <svg xmlns=\"http://www.w3.org/2000/svg\" height=\"24px\"viewBox=\"0 0 24 24\"\n",
       "       width=\"24px\">\n",
       "    <path d=\"M0 0h24v24H0V0z\" fill=\"none\"/>\n",
       "    <path d=\"M18.56 5.44l.94 2.06.94-2.06 2.06-.94-2.06-.94-.94-2.06-.94 2.06-2.06.94zm-11 1L8.5 8.5l.94-2.06 2.06-.94-2.06-.94L8.5 2.5l-.94 2.06-2.06.94zm10 10l.94 2.06.94-2.06 2.06-.94-2.06-.94-.94-2.06-.94 2.06-2.06.94z\"/><path d=\"M17.41 7.96l-1.37-1.37c-.4-.4-.92-.59-1.43-.59-.52 0-1.04.2-1.43.59L10.3 9.45l-7.72 7.72c-.78.78-.78 2.05 0 2.83L4 21.41c.39.39.9.59 1.41.59.51 0 1.02-.2 1.41-.59l7.78-7.78 2.81-2.81c.8-.78.8-2.07 0-2.86zM5.41 20L4 18.59l7.72-7.72 1.47 1.35L5.41 20z\"/>\n",
       "  </svg>\n",
       "      </button>\n",
       "      \n",
       "  <style>\n",
       "    .colab-df-container {\n",
       "      display:flex;\n",
       "      flex-wrap:wrap;\n",
       "      gap: 12px;\n",
       "    }\n",
       "\n",
       "    .colab-df-convert {\n",
       "      background-color: #E8F0FE;\n",
       "      border: none;\n",
       "      border-radius: 50%;\n",
       "      cursor: pointer;\n",
       "      display: none;\n",
       "      fill: #1967D2;\n",
       "      height: 32px;\n",
       "      padding: 0 0 0 0;\n",
       "      width: 32px;\n",
       "    }\n",
       "\n",
       "    .colab-df-convert:hover {\n",
       "      background-color: #E2EBFA;\n",
       "      box-shadow: 0px 1px 2px rgba(60, 64, 67, 0.3), 0px 1px 3px 1px rgba(60, 64, 67, 0.15);\n",
       "      fill: #174EA6;\n",
       "    }\n",
       "\n",
       "    [theme=dark] .colab-df-convert {\n",
       "      background-color: #3B4455;\n",
       "      fill: #D2E3FC;\n",
       "    }\n",
       "\n",
       "    [theme=dark] .colab-df-convert:hover {\n",
       "      background-color: #434B5C;\n",
       "      box-shadow: 0px 1px 3px 1px rgba(0, 0, 0, 0.15);\n",
       "      filter: drop-shadow(0px 1px 2px rgba(0, 0, 0, 0.3));\n",
       "      fill: #FFFFFF;\n",
       "    }\n",
       "  </style>\n",
       "\n",
       "      <script>\n",
       "        const buttonEl =\n",
       "          document.querySelector('#df-0995bcef-2c5b-41eb-92f3-8c70afc310a9 button.colab-df-convert');\n",
       "        buttonEl.style.display =\n",
       "          google.colab.kernel.accessAllowed ? 'block' : 'none';\n",
       "\n",
       "        async function convertToInteractive(key) {\n",
       "          const element = document.querySelector('#df-0995bcef-2c5b-41eb-92f3-8c70afc310a9');\n",
       "          const dataTable =\n",
       "            await google.colab.kernel.invokeFunction('convertToInteractive',\n",
       "                                                     [key], {});\n",
       "          if (!dataTable) return;\n",
       "\n",
       "          const docLinkHtml = 'Like what you see? Visit the ' +\n",
       "            '<a target=\"_blank\" href=https://colab.research.google.com/notebooks/data_table.ipynb>data table notebook</a>'\n",
       "            + ' to learn more about interactive tables.';\n",
       "          element.innerHTML = '';\n",
       "          dataTable['output_type'] = 'display_data';\n",
       "          await google.colab.output.renderOutput(dataTable, element);\n",
       "          const docLink = document.createElement('div');\n",
       "          docLink.innerHTML = docLinkHtml;\n",
       "          element.appendChild(docLink);\n",
       "        }\n",
       "      </script>\n",
       "    </div>\n",
       "  </div>\n",
       "  "
      ],
      "text/plain": [
       "                               x_train  \\\n",
       "0                    <start> don <end>   \n",
       "1               <start> don know <end>   \n",
       "2          <start> don know when <end>   \n",
       "3      <start> don know when are <end>   \n",
       "4  <start> don know when are you <end>   \n",
       "\n",
       "                                             y_train  \n",
       "0  <start> know when are you leaving will try but...  \n",
       "1  <start> when are you leaving will try but not ...  \n",
       "2  <start> are you leaving will try but not sure ...  \n",
       "3  <start> you leaving will try but not sure how ...  \n",
       "4  <start> leaving will try but not sure how will...  "
      ]
     },
     "execution_count": 178,
     "metadata": {},
     "output_type": "execute_result"
    }
   ],
   "source": [
    "train_set = pd.DataFrame(data={'x_train':x,'y_train':y})\n",
    "train_set['x_train'] = '<start> ' + train_set['x_train'] + ' <end>'\n",
    "train_set['y_train'] = '<start> ' + train_set['y_train'] + ' <end>'\n",
    "train_set.head()"
   ]
  },
  {
   "cell_type": "code",
   "execution_count": null,
   "metadata": {
    "colab": {
     "base_uri": "https://localhost:8080/"
    },
    "id": "-XY4TXBtZhZR",
    "outputId": "14dc75cb-662e-44d0-91ca-d9686601785f"
   },
   "outputs": [
    {
     "data": {
      "text/plain": [
       "(473015, 2)"
      ]
     },
     "execution_count": 179,
     "metadata": {},
     "output_type": "execute_result"
    }
   ],
   "source": [
    "train_set.shape"
   ]
  },
  {
   "cell_type": "code",
   "execution_count": null,
   "metadata": {
    "colab": {
     "base_uri": "https://localhost:8080/"
    },
    "id": "ndP3QjovNxXV",
    "outputId": "8c73cdfa-c018-4bdd-cc15-9a06d6a37095"
   },
   "outputs": [
    {
     "name": "stderr",
     "output_type": "stream",
     "text": [
      "100%|██████████| 11187/11187 [00:00<00:00, 19002.40it/s]\n"
     ]
    }
   ],
   "source": [
    "x_test = []\n",
    "y_test = []\n",
    "for i in tqdm(test):\n",
    "  a = i.split()\n",
    "  for j in range(1,len(a)):\n",
    "        x_test.append(' '.join(a[:j]))\n",
    "        y_test.append(' '.join(a[j:]))"
   ]
  },
  {
   "cell_type": "code",
   "execution_count": null,
   "metadata": {
    "colab": {
     "base_uri": "https://localhost:8080/",
     "height": 206
    },
    "id": "-SRhlW_RN9w2",
    "outputId": "8453aaa4-ed89-4371-c56f-21df2c7eba06"
   },
   "outputs": [
    {
     "data": {
      "text/html": [
       "\n",
       "  <div id=\"df-760a8d8d-9ced-4181-8fba-8225ece1fef1\">\n",
       "    <div class=\"colab-df-container\">\n",
       "      <div>\n",
       "<style scoped>\n",
       "    .dataframe tbody tr th:only-of-type {\n",
       "        vertical-align: middle;\n",
       "    }\n",
       "\n",
       "    .dataframe tbody tr th {\n",
       "        vertical-align: top;\n",
       "    }\n",
       "\n",
       "    .dataframe thead th {\n",
       "        text-align: right;\n",
       "    }\n",
       "</style>\n",
       "<table border=\"1\" class=\"dataframe\">\n",
       "  <thead>\n",
       "    <tr style=\"text-align: right;\">\n",
       "      <th></th>\n",
       "      <th>x_test</th>\n",
       "      <th>y_test</th>\n",
       "    </tr>\n",
       "  </thead>\n",
       "  <tbody>\n",
       "    <tr>\n",
       "      <th>0</th>\n",
       "      <td>&lt;start&gt; thank &lt;end&gt;</td>\n",
       "      <td>&lt;start&gt; you don need the value just need the s...</td>\n",
       "    </tr>\n",
       "    <tr>\n",
       "      <th>1</th>\n",
       "      <td>&lt;start&gt; thank you &lt;end&gt;</td>\n",
       "      <td>&lt;start&gt; don need the value just need the sitar...</td>\n",
       "    </tr>\n",
       "    <tr>\n",
       "      <th>2</th>\n",
       "      <td>&lt;start&gt; thank you don &lt;end&gt;</td>\n",
       "      <td>&lt;start&gt; need the value just need the sitara tr...</td>\n",
       "    </tr>\n",
       "    <tr>\n",
       "      <th>3</th>\n",
       "      <td>&lt;start&gt; thank you don need &lt;end&gt;</td>\n",
       "      <td>&lt;start&gt; the value just need the sitara transpo...</td>\n",
       "    </tr>\n",
       "    <tr>\n",
       "      <th>4</th>\n",
       "      <td>&lt;start&gt; thank you don need the &lt;end&gt;</td>\n",
       "      <td>&lt;start&gt; value just need the sitara transport r...</td>\n",
       "    </tr>\n",
       "  </tbody>\n",
       "</table>\n",
       "</div>\n",
       "      <button class=\"colab-df-convert\" onclick=\"convertToInteractive('df-760a8d8d-9ced-4181-8fba-8225ece1fef1')\"\n",
       "              title=\"Convert this dataframe to an interactive table.\"\n",
       "              style=\"display:none;\">\n",
       "        \n",
       "  <svg xmlns=\"http://www.w3.org/2000/svg\" height=\"24px\"viewBox=\"0 0 24 24\"\n",
       "       width=\"24px\">\n",
       "    <path d=\"M0 0h24v24H0V0z\" fill=\"none\"/>\n",
       "    <path d=\"M18.56 5.44l.94 2.06.94-2.06 2.06-.94-2.06-.94-.94-2.06-.94 2.06-2.06.94zm-11 1L8.5 8.5l.94-2.06 2.06-.94-2.06-.94L8.5 2.5l-.94 2.06-2.06.94zm10 10l.94 2.06.94-2.06 2.06-.94-2.06-.94-.94-2.06-.94 2.06-2.06.94z\"/><path d=\"M17.41 7.96l-1.37-1.37c-.4-.4-.92-.59-1.43-.59-.52 0-1.04.2-1.43.59L10.3 9.45l-7.72 7.72c-.78.78-.78 2.05 0 2.83L4 21.41c.39.39.9.59 1.41.59.51 0 1.02-.2 1.41-.59l7.78-7.78 2.81-2.81c.8-.78.8-2.07 0-2.86zM5.41 20L4 18.59l7.72-7.72 1.47 1.35L5.41 20z\"/>\n",
       "  </svg>\n",
       "      </button>\n",
       "      \n",
       "  <style>\n",
       "    .colab-df-container {\n",
       "      display:flex;\n",
       "      flex-wrap:wrap;\n",
       "      gap: 12px;\n",
       "    }\n",
       "\n",
       "    .colab-df-convert {\n",
       "      background-color: #E8F0FE;\n",
       "      border: none;\n",
       "      border-radius: 50%;\n",
       "      cursor: pointer;\n",
       "      display: none;\n",
       "      fill: #1967D2;\n",
       "      height: 32px;\n",
       "      padding: 0 0 0 0;\n",
       "      width: 32px;\n",
       "    }\n",
       "\n",
       "    .colab-df-convert:hover {\n",
       "      background-color: #E2EBFA;\n",
       "      box-shadow: 0px 1px 2px rgba(60, 64, 67, 0.3), 0px 1px 3px 1px rgba(60, 64, 67, 0.15);\n",
       "      fill: #174EA6;\n",
       "    }\n",
       "\n",
       "    [theme=dark] .colab-df-convert {\n",
       "      background-color: #3B4455;\n",
       "      fill: #D2E3FC;\n",
       "    }\n",
       "\n",
       "    [theme=dark] .colab-df-convert:hover {\n",
       "      background-color: #434B5C;\n",
       "      box-shadow: 0px 1px 3px 1px rgba(0, 0, 0, 0.15);\n",
       "      filter: drop-shadow(0px 1px 2px rgba(0, 0, 0, 0.3));\n",
       "      fill: #FFFFFF;\n",
       "    }\n",
       "  </style>\n",
       "\n",
       "      <script>\n",
       "        const buttonEl =\n",
       "          document.querySelector('#df-760a8d8d-9ced-4181-8fba-8225ece1fef1 button.colab-df-convert');\n",
       "        buttonEl.style.display =\n",
       "          google.colab.kernel.accessAllowed ? 'block' : 'none';\n",
       "\n",
       "        async function convertToInteractive(key) {\n",
       "          const element = document.querySelector('#df-760a8d8d-9ced-4181-8fba-8225ece1fef1');\n",
       "          const dataTable =\n",
       "            await google.colab.kernel.invokeFunction('convertToInteractive',\n",
       "                                                     [key], {});\n",
       "          if (!dataTable) return;\n",
       "\n",
       "          const docLinkHtml = 'Like what you see? Visit the ' +\n",
       "            '<a target=\"_blank\" href=https://colab.research.google.com/notebooks/data_table.ipynb>data table notebook</a>'\n",
       "            + ' to learn more about interactive tables.';\n",
       "          element.innerHTML = '';\n",
       "          dataTable['output_type'] = 'display_data';\n",
       "          await google.colab.output.renderOutput(dataTable, element);\n",
       "          const docLink = document.createElement('div');\n",
       "          docLink.innerHTML = docLinkHtml;\n",
       "          element.appendChild(docLink);\n",
       "        }\n",
       "      </script>\n",
       "    </div>\n",
       "  </div>\n",
       "  "
      ],
      "text/plain": [
       "                                 x_test  \\\n",
       "0                   <start> thank <end>   \n",
       "1               <start> thank you <end>   \n",
       "2           <start> thank you don <end>   \n",
       "3      <start> thank you don need <end>   \n",
       "4  <start> thank you don need the <end>   \n",
       "\n",
       "                                              y_test  \n",
       "0  <start> you don need the value just need the s...  \n",
       "1  <start> don need the value just need the sitar...  \n",
       "2  <start> need the value just need the sitara tr...  \n",
       "3  <start> the value just need the sitara transpo...  \n",
       "4  <start> value just need the sitara transport r...  "
      ]
     },
     "execution_count": 182,
     "metadata": {},
     "output_type": "execute_result"
    }
   ],
   "source": [
    "    test_set = pd.DataFrame(data={'x_test':x_test,'y_test':y_test})\n",
    "    test_set['x_test'] = '<start> ' + test_set['x_test'] + ' <end>'\n",
    "    test_set['y_test'] = '<start> ' + test_set['y_test'] + ' <end>'\n",
    "    test_set.head()"
   ]
  },
  {
   "cell_type": "code",
   "execution_count": null,
   "metadata": {
    "colab": {
     "base_uri": "https://localhost:8080/"
    },
    "id": "2T0m5D4xN-pJ",
    "outputId": "cafe260c-95ac-416b-acb4-19443698a1c2"
   },
   "outputs": [
    {
     "data": {
      "text/plain": [
       "(204396, 2)"
      ]
     },
     "execution_count": 183,
     "metadata": {},
     "output_type": "execute_result"
    }
   ],
   "source": [
    "test_set.shape"
   ]
  },
  {
   "cell_type": "code",
   "execution_count": null,
   "metadata": {
    "colab": {
     "base_uri": "https://localhost:8080/"
    },
    "id": "CXzTxwdhaHWM",
    "outputId": "b8df635f-0657-46db-fbe9-b0c3b9c901d4"
   },
   "outputs": [
    {
     "data": {
      "text/plain": [
       "(398573, 3)"
      ]
     },
     "execution_count": 190,
     "metadata": {},
     "output_type": "execute_result"
    }
   ],
   "source": [
    "train_set['x_train_len'] = train_set['x_train'].apply(lambda text:len(text.split()))\n",
    "\n",
    "#here we remove all the rows from x_train / x_test where len is less then 5\n",
    "train_set = train_set[train_set['x_train_len']>5]\n",
    "train_set.shape"
   ]
  },
  {
   "cell_type": "code",
   "execution_count": null,
   "metadata": {
    "colab": {
     "base_uri": "https://localhost:8080/",
     "height": 206
    },
    "id": "N0c4Bm7Naog7",
    "outputId": "491ed089-5811-4fe0-cc9c-f59d7ce569fc"
   },
   "outputs": [
    {
     "data": {
      "text/html": [
       "\n",
       "  <div id=\"df-ed1c7df7-3322-4c92-86f3-edf93e4be2fe\">\n",
       "    <div class=\"colab-df-container\">\n",
       "      <div>\n",
       "<style scoped>\n",
       "    .dataframe tbody tr th:only-of-type {\n",
       "        vertical-align: middle;\n",
       "    }\n",
       "\n",
       "    .dataframe tbody tr th {\n",
       "        vertical-align: top;\n",
       "    }\n",
       "\n",
       "    .dataframe thead th {\n",
       "        text-align: right;\n",
       "    }\n",
       "</style>\n",
       "<table border=\"1\" class=\"dataframe\">\n",
       "  <thead>\n",
       "    <tr style=\"text-align: right;\">\n",
       "      <th></th>\n",
       "      <th>x_train</th>\n",
       "      <th>y_train</th>\n",
       "      <th>x_train_len</th>\n",
       "    </tr>\n",
       "  </thead>\n",
       "  <tbody>\n",
       "    <tr>\n",
       "      <th>29479</th>\n",
       "      <td>&lt;start&gt; gcp adjustments highlighted red rgds s...</td>\n",
       "      <td>&lt;start&gt; enron enron ken curry enron enron raja...</td>\n",
       "      <td>45</td>\n",
       "    </tr>\n",
       "    <tr>\n",
       "      <th>298091</th>\n",
       "      <td>&lt;start&gt; have already given andy input you have...</td>\n",
       "      <td>&lt;start&gt; before today &lt;end&gt;</td>\n",
       "      <td>13</td>\n",
       "    </tr>\n",
       "    <tr>\n",
       "      <th>387681</th>\n",
       "      <td>&lt;start&gt; looks like the curve was marked around...</td>\n",
       "      <td>&lt;start&gt; price hello quick question gas what ba...</td>\n",
       "      <td>20</td>\n",
       "    </tr>\n",
       "    <tr>\n",
       "      <th>404312</th>\n",
       "      <td>&lt;start&gt; please see attached ena gisb special p...</td>\n",
       "      <td>&lt;start&gt; smith street houston texas dperlin enr...</td>\n",
       "      <td>15</td>\n",
       "    </tr>\n",
       "    <tr>\n",
       "      <th>21931</th>\n",
       "      <td>&lt;start&gt; john says they will working the house ...</td>\n",
       "      <td>&lt;start&gt; for sure next week alarm that day not ...</td>\n",
       "      <td>10</td>\n",
       "    </tr>\n",
       "  </tbody>\n",
       "</table>\n",
       "</div>\n",
       "      <button class=\"colab-df-convert\" onclick=\"convertToInteractive('df-ed1c7df7-3322-4c92-86f3-edf93e4be2fe')\"\n",
       "              title=\"Convert this dataframe to an interactive table.\"\n",
       "              style=\"display:none;\">\n",
       "        \n",
       "  <svg xmlns=\"http://www.w3.org/2000/svg\" height=\"24px\"viewBox=\"0 0 24 24\"\n",
       "       width=\"24px\">\n",
       "    <path d=\"M0 0h24v24H0V0z\" fill=\"none\"/>\n",
       "    <path d=\"M18.56 5.44l.94 2.06.94-2.06 2.06-.94-2.06-.94-.94-2.06-.94 2.06-2.06.94zm-11 1L8.5 8.5l.94-2.06 2.06-.94-2.06-.94L8.5 2.5l-.94 2.06-2.06.94zm10 10l.94 2.06.94-2.06 2.06-.94-2.06-.94-.94-2.06-.94 2.06-2.06.94z\"/><path d=\"M17.41 7.96l-1.37-1.37c-.4-.4-.92-.59-1.43-.59-.52 0-1.04.2-1.43.59L10.3 9.45l-7.72 7.72c-.78.78-.78 2.05 0 2.83L4 21.41c.39.39.9.59 1.41.59.51 0 1.02-.2 1.41-.59l7.78-7.78 2.81-2.81c.8-.78.8-2.07 0-2.86zM5.41 20L4 18.59l7.72-7.72 1.47 1.35L5.41 20z\"/>\n",
       "  </svg>\n",
       "      </button>\n",
       "      \n",
       "  <style>\n",
       "    .colab-df-container {\n",
       "      display:flex;\n",
       "      flex-wrap:wrap;\n",
       "      gap: 12px;\n",
       "    }\n",
       "\n",
       "    .colab-df-convert {\n",
       "      background-color: #E8F0FE;\n",
       "      border: none;\n",
       "      border-radius: 50%;\n",
       "      cursor: pointer;\n",
       "      display: none;\n",
       "      fill: #1967D2;\n",
       "      height: 32px;\n",
       "      padding: 0 0 0 0;\n",
       "      width: 32px;\n",
       "    }\n",
       "\n",
       "    .colab-df-convert:hover {\n",
       "      background-color: #E2EBFA;\n",
       "      box-shadow: 0px 1px 2px rgba(60, 64, 67, 0.3), 0px 1px 3px 1px rgba(60, 64, 67, 0.15);\n",
       "      fill: #174EA6;\n",
       "    }\n",
       "\n",
       "    [theme=dark] .colab-df-convert {\n",
       "      background-color: #3B4455;\n",
       "      fill: #D2E3FC;\n",
       "    }\n",
       "\n",
       "    [theme=dark] .colab-df-convert:hover {\n",
       "      background-color: #434B5C;\n",
       "      box-shadow: 0px 1px 3px 1px rgba(0, 0, 0, 0.15);\n",
       "      filter: drop-shadow(0px 1px 2px rgba(0, 0, 0, 0.3));\n",
       "      fill: #FFFFFF;\n",
       "    }\n",
       "  </style>\n",
       "\n",
       "      <script>\n",
       "        const buttonEl =\n",
       "          document.querySelector('#df-ed1c7df7-3322-4c92-86f3-edf93e4be2fe button.colab-df-convert');\n",
       "        buttonEl.style.display =\n",
       "          google.colab.kernel.accessAllowed ? 'block' : 'none';\n",
       "\n",
       "        async function convertToInteractive(key) {\n",
       "          const element = document.querySelector('#df-ed1c7df7-3322-4c92-86f3-edf93e4be2fe');\n",
       "          const dataTable =\n",
       "            await google.colab.kernel.invokeFunction('convertToInteractive',\n",
       "                                                     [key], {});\n",
       "          if (!dataTable) return;\n",
       "\n",
       "          const docLinkHtml = 'Like what you see? Visit the ' +\n",
       "            '<a target=\"_blank\" href=https://colab.research.google.com/notebooks/data_table.ipynb>data table notebook</a>'\n",
       "            + ' to learn more about interactive tables.';\n",
       "          element.innerHTML = '';\n",
       "          dataTable['output_type'] = 'display_data';\n",
       "          await google.colab.output.renderOutput(dataTable, element);\n",
       "          const docLink = document.createElement('div');\n",
       "          docLink.innerHTML = docLinkHtml;\n",
       "          element.appendChild(docLink);\n",
       "        }\n",
       "      </script>\n",
       "    </div>\n",
       "  </div>\n",
       "  "
      ],
      "text/plain": [
       "                                                  x_train  \\\n",
       "29479   <start> gcp adjustments highlighted red rgds s...   \n",
       "298091  <start> have already given andy input you have...   \n",
       "387681  <start> looks like the curve was marked around...   \n",
       "404312  <start> please see attached ena gisb special p...   \n",
       "21931   <start> john says they will working the house ...   \n",
       "\n",
       "                                                  y_train  x_train_len  \n",
       "29479   <start> enron enron ken curry enron enron raja...           45  \n",
       "298091                         <start> before today <end>           13  \n",
       "387681  <start> price hello quick question gas what ba...           20  \n",
       "404312  <start> smith street houston texas dperlin enr...           15  \n",
       "21931   <start> for sure next week alarm that day not ...           10  "
      ]
     },
     "execution_count": 191,
     "metadata": {},
     "output_type": "execute_result"
    }
   ],
   "source": [
    "train_set.sample(5)"
   ]
  },
  {
   "cell_type": "code",
   "execution_count": null,
   "metadata": {
    "colab": {
     "base_uri": "https://localhost:8080/"
    },
    "id": "f4Uvoq1Raq_s",
    "outputId": "92a7b2f7-f197-4819-8642-0aaf97cfc9ad"
   },
   "outputs": [
    {
     "data": {
      "text/plain": [
       "(172563, 3)"
      ]
     },
     "execution_count": 192,
     "metadata": {},
     "output_type": "execute_result"
    }
   ],
   "source": [
    "test_set['x_test_len'] = test_set['x_test'].apply(lambda text:len(text.split()))\n",
    "\n",
    "#here we remove all the rows from x_train / x_test where len is less then 5\n",
    "test_set = test_set[test_set['x_test_len']>5]\n",
    "test_set.shape"
   ]
  },
  {
   "cell_type": "code",
   "execution_count": null,
   "metadata": {
    "colab": {
     "base_uri": "https://localhost:8080/",
     "height": 143
    },
    "id": "t985ekzubBvd",
    "outputId": "41c41d72-80bd-420e-a551-d1520deadf63"
   },
   "outputs": [
    {
     "data": {
      "text/html": [
       "\n",
       "  <div id=\"df-65b1a3ac-9279-443e-8203-6ca73f44a214\">\n",
       "    <div class=\"colab-df-container\">\n",
       "      <div>\n",
       "<style scoped>\n",
       "    .dataframe tbody tr th:only-of-type {\n",
       "        vertical-align: middle;\n",
       "    }\n",
       "\n",
       "    .dataframe tbody tr th {\n",
       "        vertical-align: top;\n",
       "    }\n",
       "\n",
       "    .dataframe thead th {\n",
       "        text-align: right;\n",
       "    }\n",
       "</style>\n",
       "<table border=\"1\" class=\"dataframe\">\n",
       "  <thead>\n",
       "    <tr style=\"text-align: right;\">\n",
       "      <th></th>\n",
       "      <th>x_test</th>\n",
       "      <th>y_test</th>\n",
       "      <th>x_test_len</th>\n",
       "    </tr>\n",
       "  </thead>\n",
       "  <tbody>\n",
       "    <tr>\n",
       "      <th>18126</th>\n",
       "      <td>&lt;start&gt; received your email and have forwarded...</td>\n",
       "      <td>&lt;start&gt; back with you soon hear back here you ...</td>\n",
       "      <td>12</td>\n",
       "    </tr>\n",
       "    <tr>\n",
       "      <th>175691</th>\n",
       "      <td>&lt;start&gt; talk you soon love steve has been grea...</td>\n",
       "      <td>&lt;start&gt; before leave don forget order your ham...</td>\n",
       "      <td>22</td>\n",
       "    </tr>\n",
       "    <tr>\n",
       "      <th>89367</th>\n",
       "      <td>&lt;start&gt; gordon attached the deemed isda and fa...</td>\n",
       "      <td>&lt;start&gt; anything else marie &lt;end&gt;</td>\n",
       "      <td>26</td>\n",
       "    </tr>\n",
       "  </tbody>\n",
       "</table>\n",
       "</div>\n",
       "      <button class=\"colab-df-convert\" onclick=\"convertToInteractive('df-65b1a3ac-9279-443e-8203-6ca73f44a214')\"\n",
       "              title=\"Convert this dataframe to an interactive table.\"\n",
       "              style=\"display:none;\">\n",
       "        \n",
       "  <svg xmlns=\"http://www.w3.org/2000/svg\" height=\"24px\"viewBox=\"0 0 24 24\"\n",
       "       width=\"24px\">\n",
       "    <path d=\"M0 0h24v24H0V0z\" fill=\"none\"/>\n",
       "    <path d=\"M18.56 5.44l.94 2.06.94-2.06 2.06-.94-2.06-.94-.94-2.06-.94 2.06-2.06.94zm-11 1L8.5 8.5l.94-2.06 2.06-.94-2.06-.94L8.5 2.5l-.94 2.06-2.06.94zm10 10l.94 2.06.94-2.06 2.06-.94-2.06-.94-.94-2.06-.94 2.06-2.06.94z\"/><path d=\"M17.41 7.96l-1.37-1.37c-.4-.4-.92-.59-1.43-.59-.52 0-1.04.2-1.43.59L10.3 9.45l-7.72 7.72c-.78.78-.78 2.05 0 2.83L4 21.41c.39.39.9.59 1.41.59.51 0 1.02-.2 1.41-.59l7.78-7.78 2.81-2.81c.8-.78.8-2.07 0-2.86zM5.41 20L4 18.59l7.72-7.72 1.47 1.35L5.41 20z\"/>\n",
       "  </svg>\n",
       "      </button>\n",
       "      \n",
       "  <style>\n",
       "    .colab-df-container {\n",
       "      display:flex;\n",
       "      flex-wrap:wrap;\n",
       "      gap: 12px;\n",
       "    }\n",
       "\n",
       "    .colab-df-convert {\n",
       "      background-color: #E8F0FE;\n",
       "      border: none;\n",
       "      border-radius: 50%;\n",
       "      cursor: pointer;\n",
       "      display: none;\n",
       "      fill: #1967D2;\n",
       "      height: 32px;\n",
       "      padding: 0 0 0 0;\n",
       "      width: 32px;\n",
       "    }\n",
       "\n",
       "    .colab-df-convert:hover {\n",
       "      background-color: #E2EBFA;\n",
       "      box-shadow: 0px 1px 2px rgba(60, 64, 67, 0.3), 0px 1px 3px 1px rgba(60, 64, 67, 0.15);\n",
       "      fill: #174EA6;\n",
       "    }\n",
       "\n",
       "    [theme=dark] .colab-df-convert {\n",
       "      background-color: #3B4455;\n",
       "      fill: #D2E3FC;\n",
       "    }\n",
       "\n",
       "    [theme=dark] .colab-df-convert:hover {\n",
       "      background-color: #434B5C;\n",
       "      box-shadow: 0px 1px 3px 1px rgba(0, 0, 0, 0.15);\n",
       "      filter: drop-shadow(0px 1px 2px rgba(0, 0, 0, 0.3));\n",
       "      fill: #FFFFFF;\n",
       "    }\n",
       "  </style>\n",
       "\n",
       "      <script>\n",
       "        const buttonEl =\n",
       "          document.querySelector('#df-65b1a3ac-9279-443e-8203-6ca73f44a214 button.colab-df-convert');\n",
       "        buttonEl.style.display =\n",
       "          google.colab.kernel.accessAllowed ? 'block' : 'none';\n",
       "\n",
       "        async function convertToInteractive(key) {\n",
       "          const element = document.querySelector('#df-65b1a3ac-9279-443e-8203-6ca73f44a214');\n",
       "          const dataTable =\n",
       "            await google.colab.kernel.invokeFunction('convertToInteractive',\n",
       "                                                     [key], {});\n",
       "          if (!dataTable) return;\n",
       "\n",
       "          const docLinkHtml = 'Like what you see? Visit the ' +\n",
       "            '<a target=\"_blank\" href=https://colab.research.google.com/notebooks/data_table.ipynb>data table notebook</a>'\n",
       "            + ' to learn more about interactive tables.';\n",
       "          element.innerHTML = '';\n",
       "          dataTable['output_type'] = 'display_data';\n",
       "          await google.colab.output.renderOutput(dataTable, element);\n",
       "          const docLink = document.createElement('div');\n",
       "          docLink.innerHTML = docLinkHtml;\n",
       "          element.appendChild(docLink);\n",
       "        }\n",
       "      </script>\n",
       "    </div>\n",
       "  </div>\n",
       "  "
      ],
      "text/plain": [
       "                                                   x_test  \\\n",
       "18126   <start> received your email and have forwarded...   \n",
       "175691  <start> talk you soon love steve has been grea...   \n",
       "89367   <start> gordon attached the deemed isda and fa...   \n",
       "\n",
       "                                                   y_test  x_test_len  \n",
       "18126   <start> back with you soon hear back here you ...          12  \n",
       "175691  <start> before leave don forget order your ham...          22  \n",
       "89367                   <start> anything else marie <end>          26  "
      ]
     },
     "execution_count": 196,
     "metadata": {},
     "output_type": "execute_result"
    }
   ],
   "source": [
    "test_set.sample(3)"
   ]
  },
  {
   "cell_type": "markdown",
   "metadata": {
    "id": "XHHyGDrFbHtU"
   },
   "source": [
    "#### For the next part??\n",
    "\n",
    "#### As the next step, we can build a very simple model like MLP as our first-cut approach and then we move to advance models"
   ]
  },
  {
   "cell_type": "code",
   "execution_count": null,
   "metadata": {},
   "outputs": [],
   "source": []
  }
 ],
 "metadata": {
  "colab": {
   "collapsed_sections": [],
   "name": "1.EDA_File+Data_Cleaning.ipynb",
   "provenance": []
  },
  "kernelspec": {
   "display_name": "Python 3 (ipykernel)",
   "language": "python",
   "name": "python3"
  },
  "language_info": {
   "codemirror_mode": {
    "name": "ipython",
    "version": 3
   },
   "file_extension": ".py",
   "mimetype": "text/x-python",
   "name": "python",
   "nbconvert_exporter": "python",
   "pygments_lexer": "ipython3",
   "version": "3.8.0rc1"
  }
 },
 "nbformat": 4,
 "nbformat_minor": 1
}
