{
 "cells": [
  {
   "cell_type": "markdown",
   "metadata": {
    "id": "0d-91IrIiXAe"
   },
   "source": [
    "# **8.The Baseline Modelling**"
   ]
  },
  {
   "cell_type": "code",
   "execution_count": 34,
   "metadata": {
    "id": "c6emS-njKdIG"
   },
   "outputs": [],
   "source": [
    "import pandas as pd\n",
    "import numpy as np\n",
    "import matplotlib.pyplot as plt\n",
    "from tqdm import tqdm\n",
    "import email\n",
    "import seaborn as sns\n",
    "import tensorflow as tf\n",
    "import pandas as pd\n",
    "from tensorflow.keras.preprocessing.text import Tokenizer\n",
    "from tensorflow.keras.preprocessing.sequence import pad_sequences"
   ]
  },
  {
   "cell_type": "code",
   "execution_count": 35,
   "metadata": {
    "id": "YO9niMldijyl"
   },
   "outputs": [],
   "source": [
    "import joblib\n",
    "df = joblib.load('/content/drive/MyDrive/case study 2/final_40k.pkl')"
   ]
  },
  {
   "cell_type": "code",
   "execution_count": 36,
   "metadata": {
    "colab": {
     "base_uri": "https://localhost:8080/"
    },
    "id": "i472OuP6i7L9",
    "outputId": "fd4c3b3d-7a95-4d26-80c0-625c57dd1df3"
   },
   "outputs": [
    {
     "data": {
      "text/plain": [
       "(41474, 2)"
      ]
     },
     "execution_count": 36,
     "metadata": {},
     "output_type": "execute_result"
    }
   ],
   "source": [
    "df.shape"
   ]
  },
  {
   "cell_type": "code",
   "execution_count": 38,
   "metadata": {
    "colab": {
     "base_uri": "https://localhost:8080/",
     "height": 206
    },
    "id": "FV6wt03yi_EF",
    "outputId": "d7371f35-eb06-41c8-91e8-b88a453068de"
   },
   "outputs": [
    {
     "data": {
      "text/html": [
       "\n",
       "  <div id=\"df-d895628c-d726-4428-b64b-a44ba868e7c4\">\n",
       "    <div class=\"colab-df-container\">\n",
       "      <div>\n",
       "<style scoped>\n",
       "    .dataframe tbody tr th:only-of-type {\n",
       "        vertical-align: middle;\n",
       "    }\n",
       "\n",
       "    .dataframe tbody tr th {\n",
       "        vertical-align: top;\n",
       "    }\n",
       "\n",
       "    .dataframe thead th {\n",
       "        text-align: right;\n",
       "    }\n",
       "</style>\n",
       "<table border=\"1\" class=\"dataframe\">\n",
       "  <thead>\n",
       "    <tr style=\"text-align: right;\">\n",
       "      <th></th>\n",
       "      <th>mail</th>\n",
       "      <th>len</th>\n",
       "    </tr>\n",
       "  </thead>\n",
       "  <tbody>\n",
       "    <tr>\n",
       "      <th>0</th>\n",
       "      <td>here our forecast</td>\n",
       "      <td>17</td>\n",
       "    </tr>\n",
       "    <tr>\n",
       "      <th>1</th>\n",
       "      <td>traveling have business meeting takes the fun ...</td>\n",
       "      <td>534</td>\n",
       "    </tr>\n",
       "    <tr>\n",
       "      <th>2</th>\n",
       "      <td>test successful way</td>\n",
       "      <td>19</td>\n",
       "    </tr>\n",
       "    <tr>\n",
       "      <th>3</th>\n",
       "      <td>randy can you send schedule the salary and lev...</td>\n",
       "      <td>132</td>\n",
       "    </tr>\n",
       "    <tr>\n",
       "      <th>4</th>\n",
       "      <td>let shoot for tuesday</td>\n",
       "      <td>21</td>\n",
       "    </tr>\n",
       "  </tbody>\n",
       "</table>\n",
       "</div>\n",
       "      <button class=\"colab-df-convert\" onclick=\"convertToInteractive('df-d895628c-d726-4428-b64b-a44ba868e7c4')\"\n",
       "              title=\"Convert this dataframe to an interactive table.\"\n",
       "              style=\"display:none;\">\n",
       "        \n",
       "  <svg xmlns=\"http://www.w3.org/2000/svg\" height=\"24px\"viewBox=\"0 0 24 24\"\n",
       "       width=\"24px\">\n",
       "    <path d=\"M0 0h24v24H0V0z\" fill=\"none\"/>\n",
       "    <path d=\"M18.56 5.44l.94 2.06.94-2.06 2.06-.94-2.06-.94-.94-2.06-.94 2.06-2.06.94zm-11 1L8.5 8.5l.94-2.06 2.06-.94-2.06-.94L8.5 2.5l-.94 2.06-2.06.94zm10 10l.94 2.06.94-2.06 2.06-.94-2.06-.94-.94-2.06-.94 2.06-2.06.94z\"/><path d=\"M17.41 7.96l-1.37-1.37c-.4-.4-.92-.59-1.43-.59-.52 0-1.04.2-1.43.59L10.3 9.45l-7.72 7.72c-.78.78-.78 2.05 0 2.83L4 21.41c.39.39.9.59 1.41.59.51 0 1.02-.2 1.41-.59l7.78-7.78 2.81-2.81c.8-.78.8-2.07 0-2.86zM5.41 20L4 18.59l7.72-7.72 1.47 1.35L5.41 20z\"/>\n",
       "  </svg>\n",
       "      </button>\n",
       "      \n",
       "  <style>\n",
       "    .colab-df-container {\n",
       "      display:flex;\n",
       "      flex-wrap:wrap;\n",
       "      gap: 12px;\n",
       "    }\n",
       "\n",
       "    .colab-df-convert {\n",
       "      background-color: #E8F0FE;\n",
       "      border: none;\n",
       "      border-radius: 50%;\n",
       "      cursor: pointer;\n",
       "      display: none;\n",
       "      fill: #1967D2;\n",
       "      height: 32px;\n",
       "      padding: 0 0 0 0;\n",
       "      width: 32px;\n",
       "    }\n",
       "\n",
       "    .colab-df-convert:hover {\n",
       "      background-color: #E2EBFA;\n",
       "      box-shadow: 0px 1px 2px rgba(60, 64, 67, 0.3), 0px 1px 3px 1px rgba(60, 64, 67, 0.15);\n",
       "      fill: #174EA6;\n",
       "    }\n",
       "\n",
       "    [theme=dark] .colab-df-convert {\n",
       "      background-color: #3B4455;\n",
       "      fill: #D2E3FC;\n",
       "    }\n",
       "\n",
       "    [theme=dark] .colab-df-convert:hover {\n",
       "      background-color: #434B5C;\n",
       "      box-shadow: 0px 1px 3px 1px rgba(0, 0, 0, 0.15);\n",
       "      filter: drop-shadow(0px 1px 2px rgba(0, 0, 0, 0.3));\n",
       "      fill: #FFFFFF;\n",
       "    }\n",
       "  </style>\n",
       "\n",
       "      <script>\n",
       "        const buttonEl =\n",
       "          document.querySelector('#df-d895628c-d726-4428-b64b-a44ba868e7c4 button.colab-df-convert');\n",
       "        buttonEl.style.display =\n",
       "          google.colab.kernel.accessAllowed ? 'block' : 'none';\n",
       "\n",
       "        async function convertToInteractive(key) {\n",
       "          const element = document.querySelector('#df-d895628c-d726-4428-b64b-a44ba868e7c4');\n",
       "          const dataTable =\n",
       "            await google.colab.kernel.invokeFunction('convertToInteractive',\n",
       "                                                     [key], {});\n",
       "          if (!dataTable) return;\n",
       "\n",
       "          const docLinkHtml = 'Like what you see? Visit the ' +\n",
       "            '<a target=\"_blank\" href=https://colab.research.google.com/notebooks/data_table.ipynb>data table notebook</a>'\n",
       "            + ' to learn more about interactive tables.';\n",
       "          element.innerHTML = '';\n",
       "          dataTable['output_type'] = 'display_data';\n",
       "          await google.colab.output.renderOutput(dataTable, element);\n",
       "          const docLink = document.createElement('div');\n",
       "          docLink.innerHTML = docLinkHtml;\n",
       "          element.appendChild(docLink);\n",
       "        }\n",
       "      </script>\n",
       "    </div>\n",
       "  </div>\n",
       "  "
      ],
      "text/plain": [
       "                                                mail  len\n",
       "0                                  here our forecast   17\n",
       "1  traveling have business meeting takes the fun ...  534\n",
       "2                                test successful way   19\n",
       "3  randy can you send schedule the salary and lev...  132\n",
       "4                              let shoot for tuesday   21"
      ]
     },
     "execution_count": 38,
     "metadata": {},
     "output_type": "execute_result"
    }
   ],
   "source": [
    "df.head()"
   ]
  },
  {
   "cell_type": "code",
   "execution_count": 39,
   "metadata": {
    "id": "ShAKXj1ujAyd"
   },
   "outputs": [],
   "source": [
    "from sklearn.model_selection import train_test_split\n",
    "train , test = train_test_split(df.mail, test_size=0.30, random_state=42)"
   ]
  },
  {
   "cell_type": "code",
   "execution_count": 40,
   "metadata": {
    "colab": {
     "base_uri": "https://localhost:8080/"
    },
    "id": "qQRvkQLQjEM3",
    "outputId": "850037a8-b792-4dd2-d5ed-c84182925208"
   },
   "outputs": [
    {
     "name": "stderr",
     "output_type": "stream",
     "text": [
      "100%|██████████| 29031/29031 [00:01<00:00, 22693.37it/s]\n"
     ]
    }
   ],
   "source": [
    "x = []\n",
    "y = []\n",
    "for i in tqdm(train):\n",
    "  a = i.split()\n",
    "  for j in range(1,len(a)):\n",
    "        x.append(' '.join(a[:j]))\n",
    "        y.append(' '.join(a[j:]))"
   ]
  },
  {
   "cell_type": "code",
   "execution_count": 41,
   "metadata": {
    "colab": {
     "base_uri": "https://localhost:8080/",
     "height": 206
    },
    "id": "J_nU-PJqjFst",
    "outputId": "6f783f56-1e8f-4937-ed31-09aada1a02a6"
   },
   "outputs": [
    {
     "data": {
      "text/html": [
       "\n",
       "  <div id=\"df-0169757e-bb5e-4422-a954-e81887ee8ce9\">\n",
       "    <div class=\"colab-df-container\">\n",
       "      <div>\n",
       "<style scoped>\n",
       "    .dataframe tbody tr th:only-of-type {\n",
       "        vertical-align: middle;\n",
       "    }\n",
       "\n",
       "    .dataframe tbody tr th {\n",
       "        vertical-align: top;\n",
       "    }\n",
       "\n",
       "    .dataframe thead th {\n",
       "        text-align: right;\n",
       "    }\n",
       "</style>\n",
       "<table border=\"1\" class=\"dataframe\">\n",
       "  <thead>\n",
       "    <tr style=\"text-align: right;\">\n",
       "      <th></th>\n",
       "      <th>x_train</th>\n",
       "      <th>y_train</th>\n",
       "    </tr>\n",
       "  </thead>\n",
       "  <tbody>\n",
       "    <tr>\n",
       "      <th>0</th>\n",
       "      <td>&lt;start&gt; can &lt;end&gt;</td>\n",
       "      <td>&lt;start&gt; everyone meet today please let know da...</td>\n",
       "    </tr>\n",
       "    <tr>\n",
       "      <th>1</th>\n",
       "      <td>&lt;start&gt; can everyone &lt;end&gt;</td>\n",
       "      <td>&lt;start&gt; meet today please let know daren &lt;end&gt;</td>\n",
       "    </tr>\n",
       "    <tr>\n",
       "      <th>2</th>\n",
       "      <td>&lt;start&gt; can everyone meet &lt;end&gt;</td>\n",
       "      <td>&lt;start&gt; today please let know daren &lt;end&gt;</td>\n",
       "    </tr>\n",
       "    <tr>\n",
       "      <th>3</th>\n",
       "      <td>&lt;start&gt; can everyone meet today &lt;end&gt;</td>\n",
       "      <td>&lt;start&gt; please let know daren &lt;end&gt;</td>\n",
       "    </tr>\n",
       "    <tr>\n",
       "      <th>4</th>\n",
       "      <td>&lt;start&gt; can everyone meet today please &lt;end&gt;</td>\n",
       "      <td>&lt;start&gt; let know daren &lt;end&gt;</td>\n",
       "    </tr>\n",
       "  </tbody>\n",
       "</table>\n",
       "</div>\n",
       "      <button class=\"colab-df-convert\" onclick=\"convertToInteractive('df-0169757e-bb5e-4422-a954-e81887ee8ce9')\"\n",
       "              title=\"Convert this dataframe to an interactive table.\"\n",
       "              style=\"display:none;\">\n",
       "        \n",
       "  <svg xmlns=\"http://www.w3.org/2000/svg\" height=\"24px\"viewBox=\"0 0 24 24\"\n",
       "       width=\"24px\">\n",
       "    <path d=\"M0 0h24v24H0V0z\" fill=\"none\"/>\n",
       "    <path d=\"M18.56 5.44l.94 2.06.94-2.06 2.06-.94-2.06-.94-.94-2.06-.94 2.06-2.06.94zm-11 1L8.5 8.5l.94-2.06 2.06-.94-2.06-.94L8.5 2.5l-.94 2.06-2.06.94zm10 10l.94 2.06.94-2.06 2.06-.94-2.06-.94-.94-2.06-.94 2.06-2.06.94z\"/><path d=\"M17.41 7.96l-1.37-1.37c-.4-.4-.92-.59-1.43-.59-.52 0-1.04.2-1.43.59L10.3 9.45l-7.72 7.72c-.78.78-.78 2.05 0 2.83L4 21.41c.39.39.9.59 1.41.59.51 0 1.02-.2 1.41-.59l7.78-7.78 2.81-2.81c.8-.78.8-2.07 0-2.86zM5.41 20L4 18.59l7.72-7.72 1.47 1.35L5.41 20z\"/>\n",
       "  </svg>\n",
       "      </button>\n",
       "      \n",
       "  <style>\n",
       "    .colab-df-container {\n",
       "      display:flex;\n",
       "      flex-wrap:wrap;\n",
       "      gap: 12px;\n",
       "    }\n",
       "\n",
       "    .colab-df-convert {\n",
       "      background-color: #E8F0FE;\n",
       "      border: none;\n",
       "      border-radius: 50%;\n",
       "      cursor: pointer;\n",
       "      display: none;\n",
       "      fill: #1967D2;\n",
       "      height: 32px;\n",
       "      padding: 0 0 0 0;\n",
       "      width: 32px;\n",
       "    }\n",
       "\n",
       "    .colab-df-convert:hover {\n",
       "      background-color: #E2EBFA;\n",
       "      box-shadow: 0px 1px 2px rgba(60, 64, 67, 0.3), 0px 1px 3px 1px rgba(60, 64, 67, 0.15);\n",
       "      fill: #174EA6;\n",
       "    }\n",
       "\n",
       "    [theme=dark] .colab-df-convert {\n",
       "      background-color: #3B4455;\n",
       "      fill: #D2E3FC;\n",
       "    }\n",
       "\n",
       "    [theme=dark] .colab-df-convert:hover {\n",
       "      background-color: #434B5C;\n",
       "      box-shadow: 0px 1px 3px 1px rgba(0, 0, 0, 0.15);\n",
       "      filter: drop-shadow(0px 1px 2px rgba(0, 0, 0, 0.3));\n",
       "      fill: #FFFFFF;\n",
       "    }\n",
       "  </style>\n",
       "\n",
       "      <script>\n",
       "        const buttonEl =\n",
       "          document.querySelector('#df-0169757e-bb5e-4422-a954-e81887ee8ce9 button.colab-df-convert');\n",
       "        buttonEl.style.display =\n",
       "          google.colab.kernel.accessAllowed ? 'block' : 'none';\n",
       "\n",
       "        async function convertToInteractive(key) {\n",
       "          const element = document.querySelector('#df-0169757e-bb5e-4422-a954-e81887ee8ce9');\n",
       "          const dataTable =\n",
       "            await google.colab.kernel.invokeFunction('convertToInteractive',\n",
       "                                                     [key], {});\n",
       "          if (!dataTable) return;\n",
       "\n",
       "          const docLinkHtml = 'Like what you see? Visit the ' +\n",
       "            '<a target=\"_blank\" href=https://colab.research.google.com/notebooks/data_table.ipynb>data table notebook</a>'\n",
       "            + ' to learn more about interactive tables.';\n",
       "          element.innerHTML = '';\n",
       "          dataTable['output_type'] = 'display_data';\n",
       "          await google.colab.output.renderOutput(dataTable, element);\n",
       "          const docLink = document.createElement('div');\n",
       "          docLink.innerHTML = docLinkHtml;\n",
       "          element.appendChild(docLink);\n",
       "        }\n",
       "      </script>\n",
       "    </div>\n",
       "  </div>\n",
       "  "
      ],
      "text/plain": [
       "                                        x_train  \\\n",
       "0                             <start> can <end>   \n",
       "1                    <start> can everyone <end>   \n",
       "2               <start> can everyone meet <end>   \n",
       "3         <start> can everyone meet today <end>   \n",
       "4  <start> can everyone meet today please <end>   \n",
       "\n",
       "                                             y_train  \n",
       "0  <start> everyone meet today please let know da...  \n",
       "1     <start> meet today please let know daren <end>  \n",
       "2          <start> today please let know daren <end>  \n",
       "3                <start> please let know daren <end>  \n",
       "4                       <start> let know daren <end>  "
      ]
     },
     "execution_count": 41,
     "metadata": {},
     "output_type": "execute_result"
    }
   ],
   "source": [
    "train_set = pd.DataFrame(data={'x_train':x,'y_train':y})\n",
    "train_set['x_train'] = '<start> ' + train_set['x_train'] + ' <end>'\n",
    "train_set['y_train'] = '<start> ' + train_set['y_train'] + ' <end>'\n",
    "train_set.head()"
   ]
  },
  {
   "cell_type": "code",
   "execution_count": 48,
   "metadata": {
    "id": "mcNWudfmCJUP"
   },
   "outputs": [],
   "source": [
    "train_set['x_train_len'] = train_set['x_train'].apply(lambda text:len(text.split()))\n",
    "\n",
    "#here we remove all the rows from x_train / x_test where len is less then 10 and more then 20\n",
    "train_set = train_set[train_set['x_train_len']>10]\n",
    "train_set = train_set[train_set['x_train_len']<20]"
   ]
  },
  {
   "cell_type": "code",
   "execution_count": 42,
   "metadata": {
    "colab": {
     "base_uri": "https://localhost:8080/"
    },
    "id": "NglgMcsVjHOM",
    "outputId": "e437140c-3b6d-4ac5-fa73-c95486ffb1b6"
   },
   "outputs": [
    {
     "name": "stderr",
     "output_type": "stream",
     "text": [
      "100%|██████████| 12443/12443 [00:00<00:00, 18345.84it/s]\n"
     ]
    }
   ],
   "source": [
    "x_test = []\n",
    "y_test = []\n",
    "for i in tqdm(test):\n",
    "  a = i.split()\n",
    "  for j in range(1,len(a)):\n",
    "        x_test.append(' '.join(a[:j]))\n",
    "        y_test.append(' '.join(a[j:]))"
   ]
  },
  {
   "cell_type": "code",
   "execution_count": 43,
   "metadata": {
    "colab": {
     "base_uri": "https://localhost:8080/",
     "height": 206
    },
    "id": "huauvM8CjJBJ",
    "outputId": "2ec10494-ac58-4333-fa43-9269f788cc81"
   },
   "outputs": [
    {
     "data": {
      "text/html": [
       "\n",
       "  <div id=\"df-73345a05-4eec-4ef7-a45d-fe45b88b0f7f\">\n",
       "    <div class=\"colab-df-container\">\n",
       "      <div>\n",
       "<style scoped>\n",
       "    .dataframe tbody tr th:only-of-type {\n",
       "        vertical-align: middle;\n",
       "    }\n",
       "\n",
       "    .dataframe tbody tr th {\n",
       "        vertical-align: top;\n",
       "    }\n",
       "\n",
       "    .dataframe thead th {\n",
       "        text-align: right;\n",
       "    }\n",
       "</style>\n",
       "<table border=\"1\" class=\"dataframe\">\n",
       "  <thead>\n",
       "    <tr style=\"text-align: right;\">\n",
       "      <th></th>\n",
       "      <th>x_test</th>\n",
       "      <th>y_test</th>\n",
       "    </tr>\n",
       "  </thead>\n",
       "  <tbody>\n",
       "    <tr>\n",
       "      <th>0</th>\n",
       "      <td>&lt;start&gt; derek &lt;end&gt;</td>\n",
       "      <td>&lt;start&gt; can you forward the &lt;end&gt;</td>\n",
       "    </tr>\n",
       "    <tr>\n",
       "      <th>1</th>\n",
       "      <td>&lt;start&gt; derek can &lt;end&gt;</td>\n",
       "      <td>&lt;start&gt; you forward the &lt;end&gt;</td>\n",
       "    </tr>\n",
       "    <tr>\n",
       "      <th>2</th>\n",
       "      <td>&lt;start&gt; derek can you &lt;end&gt;</td>\n",
       "      <td>&lt;start&gt; forward the &lt;end&gt;</td>\n",
       "    </tr>\n",
       "    <tr>\n",
       "      <th>3</th>\n",
       "      <td>&lt;start&gt; derek can you forward &lt;end&gt;</td>\n",
       "      <td>&lt;start&gt; the &lt;end&gt;</td>\n",
       "    </tr>\n",
       "    <tr>\n",
       "      <th>4</th>\n",
       "      <td>&lt;start&gt; begin &lt;end&gt;</td>\n",
       "      <td>&lt;start&gt; get the actual presentations set anyon...</td>\n",
       "    </tr>\n",
       "  </tbody>\n",
       "</table>\n",
       "</div>\n",
       "      <button class=\"colab-df-convert\" onclick=\"convertToInteractive('df-73345a05-4eec-4ef7-a45d-fe45b88b0f7f')\"\n",
       "              title=\"Convert this dataframe to an interactive table.\"\n",
       "              style=\"display:none;\">\n",
       "        \n",
       "  <svg xmlns=\"http://www.w3.org/2000/svg\" height=\"24px\"viewBox=\"0 0 24 24\"\n",
       "       width=\"24px\">\n",
       "    <path d=\"M0 0h24v24H0V0z\" fill=\"none\"/>\n",
       "    <path d=\"M18.56 5.44l.94 2.06.94-2.06 2.06-.94-2.06-.94-.94-2.06-.94 2.06-2.06.94zm-11 1L8.5 8.5l.94-2.06 2.06-.94-2.06-.94L8.5 2.5l-.94 2.06-2.06.94zm10 10l.94 2.06.94-2.06 2.06-.94-2.06-.94-.94-2.06-.94 2.06-2.06.94z\"/><path d=\"M17.41 7.96l-1.37-1.37c-.4-.4-.92-.59-1.43-.59-.52 0-1.04.2-1.43.59L10.3 9.45l-7.72 7.72c-.78.78-.78 2.05 0 2.83L4 21.41c.39.39.9.59 1.41.59.51 0 1.02-.2 1.41-.59l7.78-7.78 2.81-2.81c.8-.78.8-2.07 0-2.86zM5.41 20L4 18.59l7.72-7.72 1.47 1.35L5.41 20z\"/>\n",
       "  </svg>\n",
       "      </button>\n",
       "      \n",
       "  <style>\n",
       "    .colab-df-container {\n",
       "      display:flex;\n",
       "      flex-wrap:wrap;\n",
       "      gap: 12px;\n",
       "    }\n",
       "\n",
       "    .colab-df-convert {\n",
       "      background-color: #E8F0FE;\n",
       "      border: none;\n",
       "      border-radius: 50%;\n",
       "      cursor: pointer;\n",
       "      display: none;\n",
       "      fill: #1967D2;\n",
       "      height: 32px;\n",
       "      padding: 0 0 0 0;\n",
       "      width: 32px;\n",
       "    }\n",
       "\n",
       "    .colab-df-convert:hover {\n",
       "      background-color: #E2EBFA;\n",
       "      box-shadow: 0px 1px 2px rgba(60, 64, 67, 0.3), 0px 1px 3px 1px rgba(60, 64, 67, 0.15);\n",
       "      fill: #174EA6;\n",
       "    }\n",
       "\n",
       "    [theme=dark] .colab-df-convert {\n",
       "      background-color: #3B4455;\n",
       "      fill: #D2E3FC;\n",
       "    }\n",
       "\n",
       "    [theme=dark] .colab-df-convert:hover {\n",
       "      background-color: #434B5C;\n",
       "      box-shadow: 0px 1px 3px 1px rgba(0, 0, 0, 0.15);\n",
       "      filter: drop-shadow(0px 1px 2px rgba(0, 0, 0, 0.3));\n",
       "      fill: #FFFFFF;\n",
       "    }\n",
       "  </style>\n",
       "\n",
       "      <script>\n",
       "        const buttonEl =\n",
       "          document.querySelector('#df-73345a05-4eec-4ef7-a45d-fe45b88b0f7f button.colab-df-convert');\n",
       "        buttonEl.style.display =\n",
       "          google.colab.kernel.accessAllowed ? 'block' : 'none';\n",
       "\n",
       "        async function convertToInteractive(key) {\n",
       "          const element = document.querySelector('#df-73345a05-4eec-4ef7-a45d-fe45b88b0f7f');\n",
       "          const dataTable =\n",
       "            await google.colab.kernel.invokeFunction('convertToInteractive',\n",
       "                                                     [key], {});\n",
       "          if (!dataTable) return;\n",
       "\n",
       "          const docLinkHtml = 'Like what you see? Visit the ' +\n",
       "            '<a target=\"_blank\" href=https://colab.research.google.com/notebooks/data_table.ipynb>data table notebook</a>'\n",
       "            + ' to learn more about interactive tables.';\n",
       "          element.innerHTML = '';\n",
       "          dataTable['output_type'] = 'display_data';\n",
       "          await google.colab.output.renderOutput(dataTable, element);\n",
       "          const docLink = document.createElement('div');\n",
       "          docLink.innerHTML = docLinkHtml;\n",
       "          element.appendChild(docLink);\n",
       "        }\n",
       "      </script>\n",
       "    </div>\n",
       "  </div>\n",
       "  "
      ],
      "text/plain": [
       "                                x_test  \\\n",
       "0                  <start> derek <end>   \n",
       "1              <start> derek can <end>   \n",
       "2          <start> derek can you <end>   \n",
       "3  <start> derek can you forward <end>   \n",
       "4                  <start> begin <end>   \n",
       "\n",
       "                                              y_test  \n",
       "0                  <start> can you forward the <end>  \n",
       "1                      <start> you forward the <end>  \n",
       "2                          <start> forward the <end>  \n",
       "3                                  <start> the <end>  \n",
       "4  <start> get the actual presentations set anyon...  "
      ]
     },
     "execution_count": 43,
     "metadata": {},
     "output_type": "execute_result"
    }
   ],
   "source": [
    "test_set = pd.DataFrame(data={'x_test':x_test,'y_test':y_test})\n",
    "test_set['x_test'] = '<start> ' + test_set['x_test'] + ' <end>'\n",
    "test_set['y_test'] = '<start> ' + test_set['y_test'] + ' <end>'\n",
    "test_set.head()"
   ]
  },
  {
   "cell_type": "code",
   "execution_count": 71,
   "metadata": {
    "colab": {
     "base_uri": "https://localhost:8080/"
    },
    "id": "A_F7VAcUCPmm",
    "outputId": "3fa820a6-7fac-4b4d-c882-de1b1902b59f"
   },
   "outputs": [
    {
     "data": {
      "text/plain": [
       "(64032, 3)"
      ]
     },
     "execution_count": 71,
     "metadata": {},
     "output_type": "execute_result"
    }
   ],
   "source": [
    "test_set['x_test_len'] = test_set['x_test'].apply(lambda text:len(text.split()))\n",
    "\n",
    "#here we remove all the rows from x_train / x_test where len is less then 10 and more then 20\n",
    "test_set = test_set[test_set['x_test_len']>10]\n",
    "test_set = test_set[test_set['x_test_len']<20]\n",
    "test_set.shape"
   ]
  },
  {
   "cell_type": "code",
   "execution_count": 72,
   "metadata": {
    "colab": {
     "base_uri": "https://localhost:8080/"
    },
    "id": "D0NVtFnxjKcy",
    "outputId": "763503cd-cfe9-4cee-ad70-16da85b6fb4b"
   },
   "outputs": [
    {
     "name": "stdout",
     "output_type": "stream",
     "text": [
      "the vocab size is 8785\n"
     ]
    }
   ],
   "source": [
    "tk = Tokenizer()#filters: If not provided, by default filters out all punctuation terms\n",
    "tk_text = tk.fit_on_texts(list(train_set.x_train))\n",
    "vocab = len(tk.word_index) + 1\n",
    "print('the vocab size is', vocab)"
   ]
  },
  {
   "cell_type": "code",
   "execution_count": 73,
   "metadata": {
    "colab": {
     "base_uri": "https://localhost:8080/"
    },
    "id": "R_9KERDcjNkK",
    "outputId": "6d001fb2-c222-40c4-cce0-950fb4bb3986"
   },
   "outputs": [
    {
     "name": "stdout",
     "output_type": "stream",
     "text": [
      "the length of the train seq 11\n",
      "the length of test seq 11\n"
     ]
    }
   ],
   "source": [
    "#now we convert train and text datainto a corresponding index\n",
    "train_seq = tk.texts_to_sequences(list(train_set.x_train))\n",
    "print('the length of the train seq' ,len(train_seq[0]))\n",
    "#took padding length as 9000 because in each data points has avg 30 words sentence.\n",
    "train_data = pad_sequences(train_seq ,padding=\"post\", maxlen=30)\n",
    "\n",
    "test_seq = tk.texts_to_sequences(list(test_set.x_test))\n",
    "print('the length of test seq',len(test_seq[0]))\n",
    "test_data = pad_sequences(test_seq, padding=\"post\",maxlen=30)"
   ]
  },
  {
   "cell_type": "code",
   "execution_count": 74,
   "metadata": {
    "colab": {
     "base_uri": "https://localhost:8080/"
    },
    "id": "XKoVYHKujQBf",
    "outputId": "7b808084-56ba-40b9-d3f3-ef7162ef29e9"
   },
   "outputs": [
    {
     "name": "stdout",
     "output_type": "stream",
     "text": [
      "the vocab size is 9549\n"
     ]
    }
   ],
   "source": [
    "tk_y = Tokenizer()#filters: If not provided, by default filters out all punctuation terms\n",
    "tk_text_y = tk_y.fit_on_texts(list(train_set.y_train))\n",
    "vocab_y = len(tk_y.word_index) + 1\n",
    "print('the vocab size is', vocab_y)"
   ]
  },
  {
   "cell_type": "code",
   "execution_count": 75,
   "metadata": {
    "colab": {
     "base_uri": "https://localhost:8080/"
    },
    "id": "IPY_Vz4WjVT9",
    "outputId": "0f19d566-49ce-45b8-f24b-4574a8b9a4bf"
   },
   "outputs": [
    {
     "name": "stdout",
     "output_type": "stream",
     "text": [
      "the length of the train seq 3\n",
      "the length of test seq 38\n"
     ]
    }
   ],
   "source": [
    "#now we convert train and text datainto a corresponding index\n",
    "train_seq_y = tk_y.texts_to_sequences(list(train_set.y_train))\n",
    "print('the length of the train seq' ,len(train_seq_y[0]))\n",
    "#took padding length as 9000 because in each data points has avg 30 words sentence.\n",
    "train_data_y = pad_sequences(train_seq_y ,padding=\"post\", maxlen=30)\n",
    "\n",
    "test_seq_y = tk_y.texts_to_sequences(list(test_set.y_test))\n",
    "print('the length of test seq',len(test_seq_y[0]))\n",
    "test_data_y = pad_sequences(test_seq_y, padding=\"post\",maxlen=30)"
   ]
  },
  {
   "cell_type": "code",
   "execution_count": 77,
   "metadata": {
    "id": "cftJHfhej-CN"
   },
   "outputs": [],
   "source": [
    "#the very very basic LSTM model with the some hidden layes\n",
    "tf.keras.backend.clear_session()\n",
    "input_lay = tf.keras.Input(shape=(30,))\n",
    "\n",
    "emd_layer = tf.keras.layers.Embedding(vocab, 300, input_length=30)(input_lay)\n",
    "dense1 = tf.keras.layers.LSTM(300,return_sequences=True)(emd_layer)\n",
    "\n",
    "dropout_lay1 = tf.keras.layers.Dropout(rate = 0.3 , name = 'dropout_lay1')(dense1)\n",
    "\n",
    "dense2 = tf.keras.layers.Dense(512,activation='relu', kernel_initializer=tf.keras.initializers.he_normal, name = 'dense2')(dropout_lay1)\n",
    "\n",
    "dropout_lay2 = tf.keras.layers.Dropout(rate = 0.3 , name = 'dropout_lay2')(dense2)\n",
    "\n",
    "dense3 = tf.keras.layers.Dense(512,activation='relu', kernel_initializer=tf.keras.initializers.he_normal ,name = 'dense3')(dropout_lay2)\n",
    "\n",
    "output = tf.keras.layers.Dense(vocab_y,activation='softmax',kernel_initializer=tf.keras.initializers.he_normal , name = 'output')(dense3)\n",
    "\n",
    "model = tf.keras.Model(inputs= input_lay, outputs=output)"
   ]
  },
  {
   "cell_type": "code",
   "execution_count": 78,
   "metadata": {
    "colab": {
     "base_uri": "https://localhost:8080/"
    },
    "id": "d6YM6I81kpCC",
    "outputId": "1dcaf196-bd6b-4244-a37f-20b18eeab095"
   },
   "outputs": [
    {
     "name": "stdout",
     "output_type": "stream",
     "text": [
      "Model: \"model\"\n",
      "_________________________________________________________________\n",
      " Layer (type)                Output Shape              Param #   \n",
      "=================================================================\n",
      " input_1 (InputLayer)        [(None, 30)]              0         \n",
      "                                                                 \n",
      " embedding (Embedding)       (None, 30, 300)           2635500   \n",
      "                                                                 \n",
      " lstm (LSTM)                 (None, 30, 300)           721200    \n",
      "                                                                 \n",
      " dropout_lay1 (Dropout)      (None, 30, 300)           0         \n",
      "                                                                 \n",
      " dense2 (Dense)              (None, 30, 512)           154112    \n",
      "                                                                 \n",
      " dropout_lay2 (Dropout)      (None, 30, 512)           0         \n",
      "                                                                 \n",
      " dense3 (Dense)              (None, 30, 512)           262656    \n",
      "                                                                 \n",
      " output (Dense)              (None, 30, 9549)          4898637   \n",
      "                                                                 \n",
      "=================================================================\n",
      "Total params: 8,672,105\n",
      "Trainable params: 8,672,105\n",
      "Non-trainable params: 0\n",
      "_________________________________________________________________\n"
     ]
    }
   ],
   "source": [
    "model.summary()"
   ]
  },
  {
   "cell_type": "code",
   "execution_count": 79,
   "metadata": {
    "id": "TfMnc0vVksz6"
   },
   "outputs": [],
   "source": [
    "optimizer=tf.keras.optimizers.Adam()\n",
    "model.compile(optimizer=optimizer, loss='sparse_categorical_crossentropy', metrics=['accuracy'])"
   ]
  },
  {
   "cell_type": "code",
   "execution_count": 80,
   "metadata": {
    "colab": {
     "base_uri": "https://localhost:8080/"
    },
    "id": "KK6IxTlSkxMy",
    "outputId": "9f259080-4e78-4a9a-9cf3-a22e41b54c0c"
   },
   "outputs": [
    {
     "name": "stdout",
     "output_type": "stream",
     "text": [
      "Epoch 1/10\n",
      "295/295 [==============================] - 78s 257ms/step - loss: 4.4287 - accuracy: 0.4287 - val_loss: 4.2585 - val_accuracy: 0.4386\n",
      "Epoch 2/10\n",
      "295/295 [==============================] - 75s 254ms/step - loss: 4.0479 - accuracy: 0.4372 - val_loss: 4.3853 - val_accuracy: 0.4335\n",
      "Epoch 3/10\n",
      "295/295 [==============================] - 75s 253ms/step - loss: 3.8762 - accuracy: 0.4414 - val_loss: 4.5974 - val_accuracy: 0.4108\n",
      "Epoch 4/10\n",
      "295/295 [==============================] - 75s 254ms/step - loss: 3.7059 - accuracy: 0.4478 - val_loss: 4.9647 - val_accuracy: 0.4038\n",
      "Epoch 5/10\n",
      "295/295 [==============================] - 75s 254ms/step - loss: 3.5424 - accuracy: 0.4542 - val_loss: 5.3767 - val_accuracy: 0.3863\n",
      "Epoch 6/10\n",
      "295/295 [==============================] - 75s 254ms/step - loss: 3.3925 - accuracy: 0.4603 - val_loss: 5.5857 - val_accuracy: 0.3733\n",
      "Epoch 7/10\n",
      "295/295 [==============================] - 75s 253ms/step - loss: 3.2563 - accuracy: 0.4658 - val_loss: 5.7213 - val_accuracy: 0.3617\n",
      "Epoch 8/10\n",
      "295/295 [==============================] - 75s 253ms/step - loss: 3.1339 - accuracy: 0.4712 - val_loss: 6.1447 - val_accuracy: 0.3624\n",
      "Epoch 9/10\n",
      "295/295 [==============================] - 75s 254ms/step - loss: 3.0262 - accuracy: 0.4765 - val_loss: 6.5217 - val_accuracy: 0.3701\n",
      "Epoch 10/10\n",
      "295/295 [==============================] - 75s 253ms/step - loss: 2.9292 - accuracy: 0.4819 - val_loss: 6.4819 - val_accuracy: 0.3596\n"
     ]
    }
   ],
   "source": [
    "his = model.fit(train_data, train_data_y, epochs=10, validation_data=(test_data,test_data_y) , batch_size=512)"
   ]
  },
  {
   "cell_type": "code",
   "execution_count": 81,
   "metadata": {
    "id": "pHP6-XJpk0Ag"
   },
   "outputs": [],
   "source": [
    "h = his.history\n",
    "loss = h['loss']\n",
    "val_loss = h['val_loss']"
   ]
  },
  {
   "cell_type": "code",
   "execution_count": 82,
   "metadata": {
    "colab": {
     "base_uri": "https://localhost:8080/",
     "height": 312
    },
    "id": "YWajqElYG1Ek",
    "outputId": "35fd7019-6ee4-48f8-ce0f-30da45428e16"
   },
   "outputs": [
    {
     "data": {
      "text/plain": [
       "Text(0.5, 1.0, 'Loss Vs No of epochs')"
      ]
     },
     "execution_count": 82,
     "metadata": {},
     "output_type": "execute_result"
    },
    {
     "data": {
      "image/png": "[encoded data removed]",
      "text/plain": [
       "<Figure size 432x288 with 1 Axes>"
      ]
     },
     "metadata": {
      "needs_background": "light"
     },
     "output_type": "display_data"
    }
   ],
   "source": [
    "plt.plot(loss,label='Training loss')\n",
    "plt.plot(val_loss, label='Validation loss')\n",
    "plt.legend()\n",
    "plt.grid()\n",
    "plt.xlabel('No of epochs')\n",
    "plt.ylabel('Loss')\n",
    "plt.title('Loss Vs No of epochs')"
   ]
  },
  {
   "cell_type": "code",
   "execution_count": 83,
   "metadata": {
    "colab": {
     "base_uri": "https://localhost:8080/",
     "height": 312
    },
    "id": "gv3gUG77G1BG",
    "outputId": "97d86d98-9f8d-47a7-9aa9-a4ffc6952d8d"
   },
   "outputs": [
    {
     "data": {
      "text/plain": [
       "Text(0.5, 1.0, 'accuracy Vs No of epochs')"
      ]
     },
     "execution_count": 83,
     "metadata": {},
     "output_type": "execute_result"
    },
    {
     "data": {
      "image/png": "[encoded data removed]",
      "text/plain": [
       "<Figure size 432x288 with 1 Axes>"
      ]
     },
     "metadata": {
      "needs_background": "light"
     },
     "output_type": "display_data"
    }
   ],
   "source": [
    "accuracy = h['accuracy']\n",
    "val_accuracy = h['val_accuracy']\n",
    "plt.plot(accuracy,label='Training accuracy')\n",
    "plt.plot(val_accuracy, label='Validation accuracy')\n",
    "plt.legend()\n",
    "plt.grid()\n",
    "plt.xlabel('No of epochs')\n",
    "plt.ylabel('accuracy')\n",
    "plt.title('accuracy Vs No of epochs')"
   ]
  },
  {
   "cell_type": "code",
   "execution_count": 101,
   "metadata": {
    "id": "uiXI0aQZtbLl"
   },
   "outputs": [],
   "source": [
    "eng_word = tk_y.word_index\n",
    "new_dict = dict([(value, key) for key, value in eng_word.items()])"
   ]
  },
  {
   "cell_type": "code",
   "execution_count": 102,
   "metadata": {
    "id": "MUk2-5WppbtT"
   },
   "outputs": [],
   "source": [
    "import numpy as np\n",
    "def predict(train):\n",
    "  a = model.predict(train.reshape(-1,30))\n",
    "  f = []\n",
    "  d = []\n",
    "  for i in a[0]:\n",
    "    #print(i)\n",
    "    f.append(np.argmax(i))\n",
    "  for  i in f:\n",
    "    if i != 0:\n",
    "      d.append(new_dict[i])\n",
    "\n",
    "  return(' '.join(d))"
   ]
  },
  {
   "cell_type": "code",
   "execution_count": 103,
   "metadata": {
    "colab": {
     "base_uri": "https://localhost:8080/",
     "height": 52
    },
    "id": "wdWDMowNpqlS",
    "outputId": "962f54d3-b527-47d7-fc5f-f9af4557d4fa"
   },
   "outputs": [
    {
     "data": {
      "application/vnd.google.colaboratory.intrinsic+json": {
       "type": "string"
      },
      "text/plain": [
       "'start responded normally the the the enron attorney attorney mexico internal internal internal internal signed appointed appointed appointed tax into into this this this add your your thanks regards end'"
      ]
     },
     "execution_count": 103,
     "metadata": {},
     "output_type": "execute_result"
    }
   ],
   "source": [
    "predict(train_data[185])"
   ]
  },
  {
   "cell_type": "code",
   "execution_count": 104,
   "metadata": {
    "colab": {
     "base_uri": "https://localhost:8080/"
    },
    "id": "U-K_eRqn0oGO",
    "outputId": "dbeef092-996a-40ff-c031-d90429b21e79"
   },
   "outputs": [
    {
     "name": "stderr",
     "output_type": "stream",
     "text": [
      "  0%|          | 0/15000 [00:00<?, ?it/s]/usr/local/lib/python3.7/dist-packages/nltk/translate/bleu_score.py:490: UserWarning: \n",
      "Corpus/Sentence contains 0 counts of 2-gram overlaps.\n",
      "BLEU scores might be undesirable; use SmoothingFunction().\n",
      "  warnings.warn(_msg)\n",
      "  0%|          | 3/15000 [00:00<10:58, 22.79it/s]/usr/local/lib/python3.7/dist-packages/nltk/translate/bleu_score.py:490: UserWarning: \n",
      "Corpus/Sentence contains 0 counts of 4-gram overlaps.\n",
      "BLEU scores might be undesirable; use SmoothingFunction().\n",
      "  warnings.warn(_msg)\n",
      "  0%|          | 9/15000 [00:00<11:28, 21.77it/s]/usr/local/lib/python3.7/dist-packages/nltk/translate/bleu_score.py:490: UserWarning: \n",
      "Corpus/Sentence contains 0 counts of 3-gram overlaps.\n",
      "BLEU scores might be undesirable; use SmoothingFunction().\n",
      "  warnings.warn(_msg)\n",
      "100%|██████████| 15000/15000 [11:30<00:00, 21.73it/s]"
     ]
    },
    {
     "name": "stdout",
     "output_type": "stream",
     "text": [
      "\n",
      "Bleu Score ==>  0.2063198597853522\n"
     ]
    },
    {
     "name": "stderr",
     "output_type": "stream",
     "text": [
      "\n"
     ]
    }
   ],
   "source": [
    "data_sam = train_set.sample(15000)\n",
    "import nltk.translate.bleu_score as bleu\n",
    "bleu_score = []\n",
    "for i in tqdm(range(15000)):\n",
    "  actual  = data_sam.y_train.values[i]\n",
    "  input = tk.texts_to_sequences([str(data_sam.x_train.values[i])])\n",
    "  input = pad_sequences(input, padding=\"post\",maxlen= 30)\n",
    "  Predict = predict(input)\n",
    "  bleu_score.append(bleu.sentence_bleu([actual.split(),], Predict.split()))\n",
    "print()\n",
    "print('Bleu Score ==> ', np.mean(bleu_score))"
   ]
  },
  {
   "cell_type": "markdown",
   "metadata": {},
   "source": [
    "**The Bleu score is 0.20 and improves the bleu score we use the encoder and decoder-based model.**"
   ]
  },
  {
   "cell_type": "code",
   "execution_count": null,
   "metadata": {},
   "outputs": [],
   "source": []
  },
  {
   "cell_type": "markdown",
   "metadata": {
    "id": "qsyic3iy9hxK"
   },
   "source": [
    "# 9 **Encoder Decoder Model**"
   ]
  },
  {
   "cell_type": "code",
   "execution_count": 5,
   "metadata": {
    "id": "8QLAuyxzCqOp"
   },
   "outputs": [],
   "source": [
    "import joblib\n",
    "df = joblib.load('clean.pkl')"
   ]
  },
  {
   "cell_type": "code",
   "execution_count": 6,
   "metadata": {
    "colab": {
     "base_uri": "https://localhost:8080/",
     "height": 206
    },
    "id": "OLV3tKBkCtvG",
    "outputId": "48d3009c-92b7-43f6-b7ce-50947aedd9d1"
   },
   "outputs": [
    {
     "data": {
      "text/html": [
       "\n",
       "  <div id=\"df-48104b06-4ebb-484b-8317-4162d35abe5d\">\n",
       "    <div class=\"colab-df-container\">\n",
       "      <div>\n",
       "<style scoped>\n",
       "    .dataframe tbody tr th:only-of-type {\n",
       "        vertical-align: middle;\n",
       "    }\n",
       "\n",
       "    .dataframe tbody tr th {\n",
       "        vertical-align: top;\n",
       "    }\n",
       "\n",
       "    .dataframe thead th {\n",
       "        text-align: right;\n",
       "    }\n",
       "</style>\n",
       "<table border=\"1\" class=\"dataframe\">\n",
       "  <thead>\n",
       "    <tr style=\"text-align: right;\">\n",
       "      <th></th>\n",
       "      <th>clean</th>\n",
       "    </tr>\n",
       "  </thead>\n",
       "  <tbody>\n",
       "    <tr>\n",
       "      <th>0</th>\n",
       "      <td>here is our forecast</td>\n",
       "    </tr>\n",
       "    <tr>\n",
       "      <th>1</th>\n",
       "      <td>traveling to have a business meeting takes the...</td>\n",
       "    </tr>\n",
       "    <tr>\n",
       "      <th>2</th>\n",
       "      <td>plus your thoughts on any changes that need to...</td>\n",
       "    </tr>\n",
       "    <tr>\n",
       "      <th>3</th>\n",
       "      <td>follow these steps so you do not misplace thes...</td>\n",
       "    </tr>\n",
       "    <tr>\n",
       "      <th>4</th>\n",
       "      <td>i have been involved in most of the meetings a...</td>\n",
       "    </tr>\n",
       "  </tbody>\n",
       "</table>\n",
       "</div>\n",
       "      <button class=\"colab-df-convert\" onclick=\"convertToInteractive('df-48104b06-4ebb-484b-8317-4162d35abe5d')\"\n",
       "              title=\"Convert this dataframe to an interactive table.\"\n",
       "              style=\"display:none;\">\n",
       "        \n",
       "  <svg xmlns=\"http://www.w3.org/2000/svg\" height=\"24px\"viewBox=\"0 0 24 24\"\n",
       "       width=\"24px\">\n",
       "    <path d=\"M0 0h24v24H0V0z\" fill=\"none\"/>\n",
       "    <path d=\"M18.56 5.44l.94 2.06.94-2.06 2.06-.94-2.06-.94-.94-2.06-.94 2.06-2.06.94zm-11 1L8.5 8.5l.94-2.06 2.06-.94-2.06-.94L8.5 2.5l-.94 2.06-2.06.94zm10 10l.94 2.06.94-2.06 2.06-.94-2.06-.94-.94-2.06-.94 2.06-2.06.94z\"/><path d=\"M17.41 7.96l-1.37-1.37c-.4-.4-.92-.59-1.43-.59-.52 0-1.04.2-1.43.59L10.3 9.45l-7.72 7.72c-.78.78-.78 2.05 0 2.83L4 21.41c.39.39.9.59 1.41.59.51 0 1.02-.2 1.41-.59l7.78-7.78 2.81-2.81c.8-.78.8-2.07 0-2.86zM5.41 20L4 18.59l7.72-7.72 1.47 1.35L5.41 20z\"/>\n",
       "  </svg>\n",
       "      </button>\n",
       "      \n",
       "  <style>\n",
       "    .colab-df-container {\n",
       "      display:flex;\n",
       "      flex-wrap:wrap;\n",
       "      gap: 12px;\n",
       "    }\n",
       "\n",
       "    .colab-df-convert {\n",
       "      background-color: #E8F0FE;\n",
       "      border: none;\n",
       "      border-radius: 50%;\n",
       "      cursor: pointer;\n",
       "      display: none;\n",
       "      fill: #1967D2;\n",
       "      height: 32px;\n",
       "      padding: 0 0 0 0;\n",
       "      width: 32px;\n",
       "    }\n",
       "\n",
       "    .colab-df-convert:hover {\n",
       "      background-color: #E2EBFA;\n",
       "      box-shadow: 0px 1px 2px rgba(60, 64, 67, 0.3), 0px 1px 3px 1px rgba(60, 64, 67, 0.15);\n",
       "      fill: #174EA6;\n",
       "    }\n",
       "\n",
       "    [theme=dark] .colab-df-convert {\n",
       "      background-color: #3B4455;\n",
       "      fill: #D2E3FC;\n",
       "    }\n",
       "\n",
       "    [theme=dark] .colab-df-convert:hover {\n",
       "      background-color: #434B5C;\n",
       "      box-shadow: 0px 1px 3px 1px rgba(0, 0, 0, 0.15);\n",
       "      filter: drop-shadow(0px 1px 2px rgba(0, 0, 0, 0.3));\n",
       "      fill: #FFFFFF;\n",
       "    }\n",
       "  </style>\n",
       "\n",
       "      <script>\n",
       "        const buttonEl =\n",
       "          document.querySelector('#df-48104b06-4ebb-484b-8317-4162d35abe5d button.colab-df-convert');\n",
       "        buttonEl.style.display =\n",
       "          google.colab.kernel.accessAllowed ? 'block' : 'none';\n",
       "\n",
       "        async function convertToInteractive(key) {\n",
       "          const element = document.querySelector('#df-48104b06-4ebb-484b-8317-4162d35abe5d');\n",
       "          const dataTable =\n",
       "            await google.colab.kernel.invokeFunction('convertToInteractive',\n",
       "                                                     [key], {});\n",
       "          if (!dataTable) return;\n",
       "\n",
       "          const docLinkHtml = 'Like what you see? Visit the ' +\n",
       "            '<a target=\"_blank\" href=https://colab.research.google.com/notebooks/data_table.ipynb>data table notebook</a>'\n",
       "            + ' to learn more about interactive tables.';\n",
       "          element.innerHTML = '';\n",
       "          dataTable['output_type'] = 'display_data';\n",
       "          await google.colab.output.renderOutput(dataTable, element);\n",
       "          const docLink = document.createElement('div');\n",
       "          docLink.innerHTML = docLinkHtml;\n",
       "          element.appendChild(docLink);\n",
       "        }\n",
       "      </script>\n",
       "    </div>\n",
       "  </div>\n",
       "  "
      ],
      "text/plain": [
       "                                               clean\n",
       "0                               here is our forecast\n",
       "1  traveling to have a business meeting takes the...\n",
       "2  plus your thoughts on any changes that need to...\n",
       "3  follow these steps so you do not misplace thes...\n",
       "4  i have been involved in most of the meetings a..."
      ]
     },
     "execution_count": 6,
     "metadata": {},
     "output_type": "execute_result"
    }
   ],
   "source": [
    "#df = df.sample(15000)\n",
    "df.head()"
   ]
  },
  {
   "cell_type": "code",
   "execution_count": 7,
   "metadata": {
    "colab": {
     "base_uri": "https://localhost:8080/"
    },
    "id": "TIcx4qGvCwfG",
    "outputId": "f37b8509-5d02-4246-a726-b8b5d5125663"
   },
   "outputs": [
    {
     "name": "stderr",
     "output_type": "stream",
     "text": [
      "100%|██████████| 79616/79616 [00:07<00:00, 10560.59it/s]\n"
     ]
    }
   ],
   "source": [
    "x = []\n",
    "y = []\n",
    "for i in tqdm(df.clean):\n",
    "  a = i.split()\n",
    "  for j in range(1,len(a)):\n",
    "        x.append(' '.join(a[:j]))\n",
    "        y.append(' '.join(a[j:]))"
   ]
  },
  {
   "cell_type": "code",
   "execution_count": 8,
   "metadata": {
    "colab": {
     "base_uri": "https://localhost:8080/",
     "height": 206
    },
    "id": "6qLMvhrLCzJO",
    "outputId": "ea075275-c66f-4575-f7d6-6d5c562c7f19"
   },
   "outputs": [
    {
     "data": {
      "text/html": [
       "\n",
       "  <div id=\"df-0ad2a29b-0f1b-46bb-9ee3-4173604bbe41\">\n",
       "    <div class=\"colab-df-container\">\n",
       "      <div>\n",
       "<style scoped>\n",
       "    .dataframe tbody tr th:only-of-type {\n",
       "        vertical-align: middle;\n",
       "    }\n",
       "\n",
       "    .dataframe tbody tr th {\n",
       "        vertical-align: top;\n",
       "    }\n",
       "\n",
       "    .dataframe thead th {\n",
       "        text-align: right;\n",
       "    }\n",
       "</style>\n",
       "<table border=\"1\" class=\"dataframe\">\n",
       "  <thead>\n",
       "    <tr style=\"text-align: right;\">\n",
       "      <th></th>\n",
       "      <th>x_train</th>\n",
       "      <th>y_train</th>\n",
       "    </tr>\n",
       "  </thead>\n",
       "  <tbody>\n",
       "    <tr>\n",
       "      <th>0</th>\n",
       "      <td>here</td>\n",
       "      <td>is our forecast</td>\n",
       "    </tr>\n",
       "    <tr>\n",
       "      <th>1</th>\n",
       "      <td>here is</td>\n",
       "      <td>our forecast</td>\n",
       "    </tr>\n",
       "    <tr>\n",
       "      <th>2</th>\n",
       "      <td>here is our</td>\n",
       "      <td>forecast</td>\n",
       "    </tr>\n",
       "    <tr>\n",
       "      <th>3</th>\n",
       "      <td>traveling</td>\n",
       "      <td>to have a business meeting takes the fun out o...</td>\n",
       "    </tr>\n",
       "    <tr>\n",
       "      <th>4</th>\n",
       "      <td>traveling to</td>\n",
       "      <td>have a business meeting takes the fun out of t...</td>\n",
       "    </tr>\n",
       "  </tbody>\n",
       "</table>\n",
       "</div>\n",
       "      <button class=\"colab-df-convert\" onclick=\"convertToInteractive('df-0ad2a29b-0f1b-46bb-9ee3-4173604bbe41')\"\n",
       "              title=\"Convert this dataframe to an interactive table.\"\n",
       "              style=\"display:none;\">\n",
       "        \n",
       "  <svg xmlns=\"http://www.w3.org/2000/svg\" height=\"24px\"viewBox=\"0 0 24 24\"\n",
       "       width=\"24px\">\n",
       "    <path d=\"M0 0h24v24H0V0z\" fill=\"none\"/>\n",
       "    <path d=\"M18.56 5.44l.94 2.06.94-2.06 2.06-.94-2.06-.94-.94-2.06-.94 2.06-2.06.94zm-11 1L8.5 8.5l.94-2.06 2.06-.94-2.06-.94L8.5 2.5l-.94 2.06-2.06.94zm10 10l.94 2.06.94-2.06 2.06-.94-2.06-.94-.94-2.06-.94 2.06-2.06.94z\"/><path d=\"M17.41 7.96l-1.37-1.37c-.4-.4-.92-.59-1.43-.59-.52 0-1.04.2-1.43.59L10.3 9.45l-7.72 7.72c-.78.78-.78 2.05 0 2.83L4 21.41c.39.39.9.59 1.41.59.51 0 1.02-.2 1.41-.59l7.78-7.78 2.81-2.81c.8-.78.8-2.07 0-2.86zM5.41 20L4 18.59l7.72-7.72 1.47 1.35L5.41 20z\"/>\n",
       "  </svg>\n",
       "      </button>\n",
       "      \n",
       "  <style>\n",
       "    .colab-df-container {\n",
       "      display:flex;\n",
       "      flex-wrap:wrap;\n",
       "      gap: 12px;\n",
       "    }\n",
       "\n",
       "    .colab-df-convert {\n",
       "      background-color: #E8F0FE;\n",
       "      border: none;\n",
       "      border-radius: 50%;\n",
       "      cursor: pointer;\n",
       "      display: none;\n",
       "      fill: #1967D2;\n",
       "      height: 32px;\n",
       "      padding: 0 0 0 0;\n",
       "      width: 32px;\n",
       "    }\n",
       "\n",
       "    .colab-df-convert:hover {\n",
       "      background-color: #E2EBFA;\n",
       "      box-shadow: 0px 1px 2px rgba(60, 64, 67, 0.3), 0px 1px 3px 1px rgba(60, 64, 67, 0.15);\n",
       "      fill: #174EA6;\n",
       "    }\n",
       "\n",
       "    [theme=dark] .colab-df-convert {\n",
       "      background-color: #3B4455;\n",
       "      fill: #D2E3FC;\n",
       "    }\n",
       "\n",
       "    [theme=dark] .colab-df-convert:hover {\n",
       "      background-color: #434B5C;\n",
       "      box-shadow: 0px 1px 3px 1px rgba(0, 0, 0, 0.15);\n",
       "      filter: drop-shadow(0px 1px 2px rgba(0, 0, 0, 0.3));\n",
       "      fill: #FFFFFF;\n",
       "    }\n",
       "  </style>\n",
       "\n",
       "      <script>\n",
       "        const buttonEl =\n",
       "          document.querySelector('#df-0ad2a29b-0f1b-46bb-9ee3-4173604bbe41 button.colab-df-convert');\n",
       "        buttonEl.style.display =\n",
       "          google.colab.kernel.accessAllowed ? 'block' : 'none';\n",
       "\n",
       "        async function convertToInteractive(key) {\n",
       "          const element = document.querySelector('#df-0ad2a29b-0f1b-46bb-9ee3-4173604bbe41');\n",
       "          const dataTable =\n",
       "            await google.colab.kernel.invokeFunction('convertToInteractive',\n",
       "                                                     [key], {});\n",
       "          if (!dataTable) return;\n",
       "\n",
       "          const docLinkHtml = 'Like what you see? Visit the ' +\n",
       "            '<a target=\"_blank\" href=https://colab.research.google.com/notebooks/data_table.ipynb>data table notebook</a>'\n",
       "            + ' to learn more about interactive tables.';\n",
       "          element.innerHTML = '';\n",
       "          dataTable['output_type'] = 'display_data';\n",
       "          await google.colab.output.renderOutput(dataTable, element);\n",
       "          const docLink = document.createElement('div');\n",
       "          docLink.innerHTML = docLinkHtml;\n",
       "          element.appendChild(docLink);\n",
       "        }\n",
       "      </script>\n",
       "    </div>\n",
       "  </div>\n",
       "  "
      ],
      "text/plain": [
       "        x_train                                            y_train\n",
       "0          here                                    is our forecast\n",
       "1       here is                                       our forecast\n",
       "2   here is our                                           forecast\n",
       "3     traveling  to have a business meeting takes the fun out o...\n",
       "4  traveling to  have a business meeting takes the fun out of t..."
      ]
     },
     "execution_count": 8,
     "metadata": {},
     "output_type": "execute_result"
    }
   ],
   "source": [
    "train_set = pd.DataFrame(data={'x_train':x,'y_train':y})\n",
    "# train_set['x_train'] = '<start> ' + train_set['x_train'] + ' <end>'\n",
    "# train_set['y_train'] = '<start> ' + train_set['y_train'] + ' <end>'\n",
    "train_set.head()"
   ]
  },
  {
   "cell_type": "code",
   "execution_count": 9,
   "metadata": {
    "colab": {
     "base_uri": "https://localhost:8080/"
    },
    "id": "ZPl0Arl7C1F7",
    "outputId": "6a602cf7-21a4-4c94-b2c8-e325e3b01114"
   },
   "outputs": [
    {
     "data": {
      "text/plain": [
       "(2180436, 2)"
      ]
     },
     "execution_count": 9,
     "metadata": {},
     "output_type": "execute_result"
    }
   ],
   "source": [
    "train_set.shape"
   ]
  },
  {
   "cell_type": "code",
   "execution_count": 10,
   "metadata": {
    "id": "4MZwt0XGC4Aq"
   },
   "outputs": [],
   "source": [
    "train_set['x_train_len'] = train_set['x_train'].apply(lambda text:len(text.split()))\n",
    "train_set['y_train_len'] = train_set['y_train'].apply(lambda text:len(text.split()))"
   ]
  },
  {
   "cell_type": "code",
   "execution_count": 11,
   "metadata": {
    "colab": {
     "base_uri": "https://localhost:8080/",
     "height": 206
    },
    "id": "NyvsY2h5Ivsr",
    "outputId": "f229af34-d195-4f2d-f244-e197fdd3a427"
   },
   "outputs": [
    {
     "data": {
      "text/html": [
       "\n",
       "  <div id=\"df-1c9cb70d-a70b-44f7-a249-a4ac337e56de\">\n",
       "    <div class=\"colab-df-container\">\n",
       "      <div>\n",
       "<style scoped>\n",
       "    .dataframe tbody tr th:only-of-type {\n",
       "        vertical-align: middle;\n",
       "    }\n",
       "\n",
       "    .dataframe tbody tr th {\n",
       "        vertical-align: top;\n",
       "    }\n",
       "\n",
       "    .dataframe thead th {\n",
       "        text-align: right;\n",
       "    }\n",
       "</style>\n",
       "<table border=\"1\" class=\"dataframe\">\n",
       "  <thead>\n",
       "    <tr style=\"text-align: right;\">\n",
       "      <th></th>\n",
       "      <th>x_train</th>\n",
       "      <th>y_train</th>\n",
       "      <th>x_train_len</th>\n",
       "      <th>y_train_len</th>\n",
       "    </tr>\n",
       "  </thead>\n",
       "  <tbody>\n",
       "    <tr>\n",
       "      <th>0</th>\n",
       "      <td>here</td>\n",
       "      <td>is our forecast</td>\n",
       "      <td>1</td>\n",
       "      <td>3</td>\n",
       "    </tr>\n",
       "    <tr>\n",
       "      <th>1</th>\n",
       "      <td>here is</td>\n",
       "      <td>our forecast</td>\n",
       "      <td>2</td>\n",
       "      <td>2</td>\n",
       "    </tr>\n",
       "    <tr>\n",
       "      <th>2</th>\n",
       "      <td>here is our</td>\n",
       "      <td>forecast</td>\n",
       "      <td>3</td>\n",
       "      <td>1</td>\n",
       "    </tr>\n",
       "    <tr>\n",
       "      <th>3</th>\n",
       "      <td>traveling</td>\n",
       "      <td>to have a business meeting takes the fun out o...</td>\n",
       "      <td>1</td>\n",
       "      <td>101</td>\n",
       "    </tr>\n",
       "    <tr>\n",
       "      <th>4</th>\n",
       "      <td>traveling to</td>\n",
       "      <td>have a business meeting takes the fun out of t...</td>\n",
       "      <td>2</td>\n",
       "      <td>100</td>\n",
       "    </tr>\n",
       "  </tbody>\n",
       "</table>\n",
       "</div>\n",
       "      <button class=\"colab-df-convert\" onclick=\"convertToInteractive('df-1c9cb70d-a70b-44f7-a249-a4ac337e56de')\"\n",
       "              title=\"Convert this dataframe to an interactive table.\"\n",
       "              style=\"display:none;\">\n",
       "        \n",
       "  <svg xmlns=\"http://www.w3.org/2000/svg\" height=\"24px\"viewBox=\"0 0 24 24\"\n",
       "       width=\"24px\">\n",
       "    <path d=\"M0 0h24v24H0V0z\" fill=\"none\"/>\n",
       "    <path d=\"M18.56 5.44l.94 2.06.94-2.06 2.06-.94-2.06-.94-.94-2.06-.94 2.06-2.06.94zm-11 1L8.5 8.5l.94-2.06 2.06-.94-2.06-.94L8.5 2.5l-.94 2.06-2.06.94zm10 10l.94 2.06.94-2.06 2.06-.94-2.06-.94-.94-2.06-.94 2.06-2.06.94z\"/><path d=\"M17.41 7.96l-1.37-1.37c-.4-.4-.92-.59-1.43-.59-.52 0-1.04.2-1.43.59L10.3 9.45l-7.72 7.72c-.78.78-.78 2.05 0 2.83L4 21.41c.39.39.9.59 1.41.59.51 0 1.02-.2 1.41-.59l7.78-7.78 2.81-2.81c.8-.78.8-2.07 0-2.86zM5.41 20L4 18.59l7.72-7.72 1.47 1.35L5.41 20z\"/>\n",
       "  </svg>\n",
       "      </button>\n",
       "      \n",
       "  <style>\n",
       "    .colab-df-container {\n",
       "      display:flex;\n",
       "      flex-wrap:wrap;\n",
       "      gap: 12px;\n",
       "    }\n",
       "\n",
       "    .colab-df-convert {\n",
       "      background-color: #E8F0FE;\n",
       "      border: none;\n",
       "      border-radius: 50%;\n",
       "      cursor: pointer;\n",
       "      display: none;\n",
       "      fill: #1967D2;\n",
       "      height: 32px;\n",
       "      padding: 0 0 0 0;\n",
       "      width: 32px;\n",
       "    }\n",
       "\n",
       "    .colab-df-convert:hover {\n",
       "      background-color: #E2EBFA;\n",
       "      box-shadow: 0px 1px 2px rgba(60, 64, 67, 0.3), 0px 1px 3px 1px rgba(60, 64, 67, 0.15);\n",
       "      fill: #174EA6;\n",
       "    }\n",
       "\n",
       "    [theme=dark] .colab-df-convert {\n",
       "      background-color: #3B4455;\n",
       "      fill: #D2E3FC;\n",
       "    }\n",
       "\n",
       "    [theme=dark] .colab-df-convert:hover {\n",
       "      background-color: #434B5C;\n",
       "      box-shadow: 0px 1px 3px 1px rgba(0, 0, 0, 0.15);\n",
       "      filter: drop-shadow(0px 1px 2px rgba(0, 0, 0, 0.3));\n",
       "      fill: #FFFFFF;\n",
       "    }\n",
       "  </style>\n",
       "\n",
       "      <script>\n",
       "        const buttonEl =\n",
       "          document.querySelector('#df-1c9cb70d-a70b-44f7-a249-a4ac337e56de button.colab-df-convert');\n",
       "        buttonEl.style.display =\n",
       "          google.colab.kernel.accessAllowed ? 'block' : 'none';\n",
       "\n",
       "        async function convertToInteractive(key) {\n",
       "          const element = document.querySelector('#df-1c9cb70d-a70b-44f7-a249-a4ac337e56de');\n",
       "          const dataTable =\n",
       "            await google.colab.kernel.invokeFunction('convertToInteractive',\n",
       "                                                     [key], {});\n",
       "          if (!dataTable) return;\n",
       "\n",
       "          const docLinkHtml = 'Like what you see? Visit the ' +\n",
       "            '<a target=\"_blank\" href=https://colab.research.google.com/notebooks/data_table.ipynb>data table notebook</a>'\n",
       "            + ' to learn more about interactive tables.';\n",
       "          element.innerHTML = '';\n",
       "          dataTable['output_type'] = 'display_data';\n",
       "          await google.colab.output.renderOutput(dataTable, element);\n",
       "          const docLink = document.createElement('div');\n",
       "          docLink.innerHTML = docLinkHtml;\n",
       "          element.appendChild(docLink);\n",
       "        }\n",
       "      </script>\n",
       "    </div>\n",
       "  </div>\n",
       "  "
      ],
      "text/plain": [
       "        x_train                                            y_train  \\\n",
       "0          here                                    is our forecast   \n",
       "1       here is                                       our forecast   \n",
       "2   here is our                                           forecast   \n",
       "3     traveling  to have a business meeting takes the fun out o...   \n",
       "4  traveling to  have a business meeting takes the fun out of t...   \n",
       "\n",
       "   x_train_len  y_train_len  \n",
       "0            1            3  \n",
       "1            2            2  \n",
       "2            3            1  \n",
       "3            1          101  \n",
       "4            2          100  "
      ]
     },
     "execution_count": 11,
     "metadata": {},
     "output_type": "execute_result"
    }
   ],
   "source": [
    "train_set.head()"
   ]
  },
  {
   "cell_type": "code",
   "execution_count": 13,
   "metadata": {
    "colab": {
     "base_uri": "https://localhost:8080/"
    },
    "id": "frCfVbu1rqjo",
    "outputId": "c392bd71-7353-4608-c737-1e48d8596627"
   },
   "outputs": [
    {
     "data": {
      "text/plain": [
       "(344472, 4)"
      ]
     },
     "execution_count": 13,
     "metadata": {},
     "output_type": "execute_result"
    }
   ],
   "source": [
    "#here we remove all the rows from data where len is less then 3 and greater than 30\n",
    "train_set = train_set[train_set['x_train_len']>3]\n",
    "train_set = train_set[train_set['x_train_len']<30]\n",
    "train_set = train_set[train_set['y_train_len']<8]\n",
    "train_set.shape"
   ]
  },
  {
   "cell_type": "code",
   "execution_count": 14,
   "metadata": {
    "colab": {
     "base_uri": "https://localhost:8080/"
    },
    "id": "iVhR3KQLJffB",
    "outputId": "89fe92a3-0969-4eb8-c9e8-237da890902a"
   },
   "outputs": [
    {
     "data": {
      "text/plain": [
       "29"
      ]
     },
     "execution_count": 14,
     "metadata": {},
     "output_type": "execute_result"
    }
   ],
   "source": [
    "max(train_set.x_train_len.values)"
   ]
  },
  {
   "cell_type": "code",
   "execution_count": 15,
   "metadata": {
    "colab": {
     "base_uri": "https://localhost:8080/"
    },
    "id": "GKLeJpJFr3W3",
    "outputId": "8c07c8e1-d1c5-42ac-8b8c-b43561dda682"
   },
   "outputs": [
    {
     "data": {
      "text/plain": [
       "7"
      ]
     },
     "execution_count": 15,
     "metadata": {},
     "output_type": "execute_result"
    }
   ],
   "source": [
    "max(train_set.y_train_len.values)"
   ]
  },
  {
   "cell_type": "code",
   "execution_count": 16,
   "metadata": {
    "id": "9wck_0giD13f"
   },
   "outputs": [],
   "source": [
    "data = train_set"
   ]
  },
  {
   "cell_type": "code",
   "execution_count": 17,
   "metadata": {
    "colab": {
     "base_uri": "https://localhost:8080/",
     "height": 206
    },
    "id": "7VYgCZ8-C7Qq",
    "outputId": "31ad1005-fb4a-4ae4-aaa0-99cd562d9a19"
   },
   "outputs": [
    {
     "data": {
      "text/html": [
       "\n",
       "  <div id=\"df-b4a7ce89-5c3d-4aa6-ad23-3bfd4d23534f\">\n",
       "    <div class=\"colab-df-container\">\n",
       "      <div>\n",
       "<style scoped>\n",
       "    .dataframe tbody tr th:only-of-type {\n",
       "        vertical-align: middle;\n",
       "    }\n",
       "\n",
       "    .dataframe tbody tr th {\n",
       "        vertical-align: top;\n",
       "    }\n",
       "\n",
       "    .dataframe thead th {\n",
       "        text-align: right;\n",
       "    }\n",
       "</style>\n",
       "<table border=\"1\" class=\"dataframe\">\n",
       "  <thead>\n",
       "    <tr style=\"text-align: right;\">\n",
       "      <th></th>\n",
       "      <th>enc_inp</th>\n",
       "      <th>dec_inp</th>\n",
       "      <th>our</th>\n",
       "    </tr>\n",
       "  </thead>\n",
       "  <tbody>\n",
       "    <tr>\n",
       "      <th>107</th>\n",
       "      <td>&lt;start&gt; plus your thoughts on &lt;end&gt;</td>\n",
       "      <td>&lt;start&gt; any changes that need to be made</td>\n",
       "      <td>any changes that need to be made &lt;end&gt;</td>\n",
       "    </tr>\n",
       "    <tr>\n",
       "      <th>108</th>\n",
       "      <td>&lt;start&gt; plus your thoughts on any &lt;end&gt;</td>\n",
       "      <td>&lt;start&gt; changes that need to be made</td>\n",
       "      <td>changes that need to be made &lt;end&gt;</td>\n",
       "    </tr>\n",
       "    <tr>\n",
       "      <th>109</th>\n",
       "      <td>&lt;start&gt; plus your thoughts on any changes &lt;end&gt;</td>\n",
       "      <td>&lt;start&gt; that need to be made</td>\n",
       "      <td>that need to be made &lt;end&gt;</td>\n",
       "    </tr>\n",
       "    <tr>\n",
       "      <th>110</th>\n",
       "      <td>&lt;start&gt; plus your thoughts on any changes that...</td>\n",
       "      <td>&lt;start&gt; need to be made</td>\n",
       "      <td>need to be made &lt;end&gt;</td>\n",
       "    </tr>\n",
       "    <tr>\n",
       "      <th>111</th>\n",
       "      <td>&lt;start&gt; plus your thoughts on any changes that...</td>\n",
       "      <td>&lt;start&gt; to be made</td>\n",
       "      <td>to be made &lt;end&gt;</td>\n",
       "    </tr>\n",
       "  </tbody>\n",
       "</table>\n",
       "</div>\n",
       "      <button class=\"colab-df-convert\" onclick=\"convertToInteractive('df-b4a7ce89-5c3d-4aa6-ad23-3bfd4d23534f')\"\n",
       "              title=\"Convert this dataframe to an interactive table.\"\n",
       "              style=\"display:none;\">\n",
       "        \n",
       "  <svg xmlns=\"http://www.w3.org/2000/svg\" height=\"24px\"viewBox=\"0 0 24 24\"\n",
       "       width=\"24px\">\n",
       "    <path d=\"M0 0h24v24H0V0z\" fill=\"none\"/>\n",
       "    <path d=\"M18.56 5.44l.94 2.06.94-2.06 2.06-.94-2.06-.94-.94-2.06-.94 2.06-2.06.94zm-11 1L8.5 8.5l.94-2.06 2.06-.94-2.06-.94L8.5 2.5l-.94 2.06-2.06.94zm10 10l.94 2.06.94-2.06 2.06-.94-2.06-.94-.94-2.06-.94 2.06-2.06.94z\"/><path d=\"M17.41 7.96l-1.37-1.37c-.4-.4-.92-.59-1.43-.59-.52 0-1.04.2-1.43.59L10.3 9.45l-7.72 7.72c-.78.78-.78 2.05 0 2.83L4 21.41c.39.39.9.59 1.41.59.51 0 1.02-.2 1.41-.59l7.78-7.78 2.81-2.81c.8-.78.8-2.07 0-2.86zM5.41 20L4 18.59l7.72-7.72 1.47 1.35L5.41 20z\"/>\n",
       "  </svg>\n",
       "      </button>\n",
       "      \n",
       "  <style>\n",
       "    .colab-df-container {\n",
       "      display:flex;\n",
       "      flex-wrap:wrap;\n",
       "      gap: 12px;\n",
       "    }\n",
       "\n",
       "    .colab-df-convert {\n",
       "      background-color: #E8F0FE;\n",
       "      border: none;\n",
       "      border-radius: 50%;\n",
       "      cursor: pointer;\n",
       "      display: none;\n",
       "      fill: #1967D2;\n",
       "      height: 32px;\n",
       "      padding: 0 0 0 0;\n",
       "      width: 32px;\n",
       "    }\n",
       "\n",
       "    .colab-df-convert:hover {\n",
       "      background-color: #E2EBFA;\n",
       "      box-shadow: 0px 1px 2px rgba(60, 64, 67, 0.3), 0px 1px 3px 1px rgba(60, 64, 67, 0.15);\n",
       "      fill: #174EA6;\n",
       "    }\n",
       "\n",
       "    [theme=dark] .colab-df-convert {\n",
       "      background-color: #3B4455;\n",
       "      fill: #D2E3FC;\n",
       "    }\n",
       "\n",
       "    [theme=dark] .colab-df-convert:hover {\n",
       "      background-color: #434B5C;\n",
       "      box-shadow: 0px 1px 3px 1px rgba(0, 0, 0, 0.15);\n",
       "      filter: drop-shadow(0px 1px 2px rgba(0, 0, 0, 0.3));\n",
       "      fill: #FFFFFF;\n",
       "    }\n",
       "  </style>\n",
       "\n",
       "      <script>\n",
       "        const buttonEl =\n",
       "          document.querySelector('#df-b4a7ce89-5c3d-4aa6-ad23-3bfd4d23534f button.colab-df-convert');\n",
       "        buttonEl.style.display =\n",
       "          google.colab.kernel.accessAllowed ? 'block' : 'none';\n",
       "\n",
       "        async function convertToInteractive(key) {\n",
       "          const element = document.querySelector('#df-b4a7ce89-5c3d-4aa6-ad23-3bfd4d23534f');\n",
       "          const dataTable =\n",
       "            await google.colab.kernel.invokeFunction('convertToInteractive',\n",
       "                                                     [key], {});\n",
       "          if (!dataTable) return;\n",
       "\n",
       "          const docLinkHtml = 'Like what you see? Visit the ' +\n",
       "            '<a target=\"_blank\" href=https://colab.research.google.com/notebooks/data_table.ipynb>data table notebook</a>'\n",
       "            + ' to learn more about interactive tables.';\n",
       "          element.innerHTML = '';\n",
       "          dataTable['output_type'] = 'display_data';\n",
       "          await google.colab.output.renderOutput(dataTable, element);\n",
       "          const docLink = document.createElement('div');\n",
       "          docLink.innerHTML = docLinkHtml;\n",
       "          element.appendChild(docLink);\n",
       "        }\n",
       "      </script>\n",
       "    </div>\n",
       "  </div>\n",
       "  "
      ],
      "text/plain": [
       "                                               enc_inp  \\\n",
       "107                <start> plus your thoughts on <end>   \n",
       "108            <start> plus your thoughts on any <end>   \n",
       "109    <start> plus your thoughts on any changes <end>   \n",
       "110  <start> plus your thoughts on any changes that...   \n",
       "111  <start> plus your thoughts on any changes that...   \n",
       "\n",
       "                                      dec_inp  \\\n",
       "107  <start> any changes that need to be made   \n",
       "108      <start> changes that need to be made   \n",
       "109              <start> that need to be made   \n",
       "110                   <start> need to be made   \n",
       "111                        <start> to be made   \n",
       "\n",
       "                                        our  \n",
       "107  any changes that need to be made <end>  \n",
       "108      changes that need to be made <end>  \n",
       "109              that need to be made <end>  \n",
       "110                   need to be made <end>  \n",
       "111                        to be made <end>  "
      ]
     },
     "execution_count": 17,
     "metadata": {},
     "output_type": "execute_result"
    }
   ],
   "source": [
    "data['enc_inp'] = '<start> ' + data['x_train'].astype(str)  + ' <end>'\n",
    "data['dec_inp'] = '<start> ' + data['y_train'].astype(str)\n",
    "data['our'] = data['y_train'].astype(str) + ' <end>'\n",
    "data = data.drop(['x_train','y_train','x_train_len', 'y_train_len'], axis=1)\n",
    "data.head()"
   ]
  },
  {
   "cell_type": "code",
   "execution_count": 18,
   "metadata": {
    "id": "Pah111ppESV2"
   },
   "outputs": [],
   "source": [
    "from sklearn.model_selection import train_test_split\n",
    "train, test = train_test_split(data, test_size=0.33)"
   ]
  },
  {
   "cell_type": "code",
   "execution_count": 19,
   "metadata": {
    "colab": {
     "base_uri": "https://localhost:8080/"
    },
    "id": "4IAzWzChErSX",
    "outputId": "73c906fd-b2d7-41aa-b28b-75ab24567a9e"
   },
   "outputs": [
    {
     "name": "stdout",
     "output_type": "stream",
     "text": [
      "The shape of the train data ==> (230796, 3)\n",
      "The shape of the test  data ==> (113676, 3)\n"
     ]
    }
   ],
   "source": [
    "print('The shape of the train data ==>', train.shape)\n",
    "print('The shape of the test  data ==>', test.shape)"
   ]
  },
  {
   "cell_type": "code",
   "execution_count": 20,
   "metadata": {
    "id": "buvN2EEsEt-O"
   },
   "outputs": [],
   "source": [
    "#Train dataset\n",
    "x_train_encoder = train.enc_inp.values\n",
    "x_train_decoder = train.dec_inp.values\n",
    "y_train         = train.our.values"
   ]
  },
  {
   "cell_type": "code",
   "execution_count": 21,
   "metadata": {
    "id": "isXPcrGyE1dm"
   },
   "outputs": [],
   "source": [
    "#test dataset\n",
    "x_test_encoder = test.enc_inp.values\n",
    "x_test_decoder = test.dec_inp.values\n",
    "y_test         = test.our.values"
   ]
  },
  {
   "cell_type": "code",
   "execution_count": 22,
   "metadata": {
    "colab": {
     "base_uri": "https://localhost:8080/"
    },
    "id": "_jCRpRooFBBG",
    "outputId": "673a669b-325b-42b5-c627-41ece1d918bc"
   },
   "outputs": [
    {
     "name": "stdout",
     "output_type": "stream",
     "text": [
      "y_train shape and y_test shape ==> (230796,) (113676,)\n"
     ]
    }
   ],
   "source": [
    "print('y_train shape and y_test shape ==>' , y_train.shape, y_test.shape)"
   ]
  },
  {
   "cell_type": "code",
   "execution_count": 23,
   "metadata": {
    "id": "esLVlgR_FCxL"
   },
   "outputs": [],
   "source": [
    "def padding(train , test):\n",
    "  tokenizer = tf.keras.preprocessing.text.Tokenizer(filters = '!\"#$%&()*+,-./:;=?@[\\\\]^_`{|}~\\t\\n')\n",
    "  tokenizer.fit_on_texts(train)\n",
    "\n",
    "  x_train =  tokenizer.texts_to_sequences(train)\n",
    "  x_test  =  tokenizer.texts_to_sequences(test)\n",
    "\n",
    "\n",
    "  # padding train and test data using the maximum length\n",
    "  x_train = tf.keras.preprocessing.sequence.pad_sequences(x_train, padding='post')\n",
    "  x_test  = tf.keras.preprocessing.sequence.pad_sequences(x_test,  padding='post')\n",
    "\n",
    "  return tokenizer , x_train , x_test"
   ]
  },
  {
   "cell_type": "code",
   "execution_count": 24,
   "metadata": {
    "id": "meUz86YJFE_h"
   },
   "outputs": [],
   "source": [
    "enc_token , x_train_enc , x_test_enc = padding(x_train_encoder , x_test_encoder)\n",
    "dec_token , x_train_dec , x_test_dec = padding(x_train_decoder , x_test_decoder)\n",
    "y_token   , y_train     , y_test     = padding(y_train , y_test)"
   ]
  },
  {
   "cell_type": "code",
   "execution_count": 25,
   "metadata": {
    "colab": {
     "base_uri": "https://localhost:8080/"
    },
    "id": "3D9im5k_FIrH",
    "outputId": "30989cf7-5339-4abc-8ddb-9d9cdaf59e9b"
   },
   "outputs": [
    {
     "name": "stdout",
     "output_type": "stream",
     "text": [
      "input vocab size ==> 18565\n",
      "output vocab size ==> 12075\n"
     ]
    }
   ],
   "source": [
    "input_vocab  = len(enc_token.word_index) + 1\n",
    "output_vocab = len(y_token.word_index) + 1\n",
    "print('input vocab size ==>' , input_vocab)\n",
    "print('output vocab size ==>' , output_vocab)"
   ]
  },
  {
   "cell_type": "code",
   "execution_count": 26,
   "metadata": {
    "colab": {
     "base_uri": "https://localhost:8080/"
    },
    "id": "pKf39L3VFOaH",
    "outputId": "c4f429f8-415b-4a8e-c796-a6140e03ce9f"
   },
   "outputs": [
    {
     "name": "stdout",
     "output_type": "stream",
     "text": [
      "Encoder input length ==> 31\n",
      "Decoder input length ==> 8\n"
     ]
    }
   ],
   "source": [
    "print('Encoder input length ==>' , x_train_enc.shape[1])\n",
    "print('Decoder input length ==>' , x_train_dec.shape[1])"
   ]
  },
  {
   "cell_type": "code",
   "execution_count": 27,
   "metadata": {
    "id": "ykUv3AsIFQTk"
   },
   "outputs": [],
   "source": [
    "class Encoder(tf.keras.Model):\n",
    "    '''\n",
    "    Encoder model -- That takes a input sequence and returns output sequence\n",
    "    '''\n",
    "\n",
    "    def __init__(self,inp_vocab_size,embedding_size,lstm_size,input_length):\n",
    "\n",
    "        #Initialize Embedding layer\n",
    "        #Intialize Encoder LSTM layer\n",
    "        super().__init__()\n",
    "        self.inp_vocab_size = inp_vocab_size\n",
    "        self.embedding_size = embedding_size\n",
    "        self.input_length = input_length\n",
    "        self.lstm_size= lstm_size\n",
    "        self.embedding = tf.keras.layers.Embedding(input_dim=self.inp_vocab_size, output_dim=self.embedding_size, name=\"embedding_layer_encoder\")\n",
    "        self.lstm = tf.keras.layers.LSTM(self.lstm_size, return_state=True, return_sequences=True, name=\"Encoder_LSTM\", recurrent_initializer='glorot_uniform')\n",
    "\n",
    "    def call(self,input_sequence,initial_state):\n",
    "      '''\n",
    "          This function takes a sequence input and the initial states of the encoder.\n",
    "          Pass the input_sequence input to the Embedding layer, Pass the embedding layer ouput to encoder_lstm\n",
    "          returns -- All encoder_outputs, last time steps hidden and cell state\n",
    "      '''\n",
    "      input_embedd = self.embedding(input_sequence)\n",
    "      lstm_output, lstm_state_h, lstm_state_c = self.lstm(input_embedd,initial_state = initial_state)\n",
    "      return lstm_output, lstm_state_h, lstm_state_c\n",
    "    \n",
    "    def initialize_states(self,batch_size):\n",
    "      '''\n",
    "      Given a batch size it will return intial hidden state and intial cell state.\n",
    "      If batch size is 32- Hidden state shape is [32,lstm_units], cell state shape is [32,lstm_units]\n",
    "      '''\n",
    "      return tf.zeros((batch_size, self.lstm_size)) , tf.zeros((batch_size, self.lstm_size))"
   ]
  },
  {
   "cell_type": "code",
   "execution_count": 28,
   "metadata": {
    "id": "jsCYbX7WGMrS"
   },
   "outputs": [],
   "source": [
    "class Decoder(tf.keras.Model):\n",
    "    '''\n",
    "    Encoder model -- That takes a input sequence and returns output sequence\n",
    "    '''\n",
    "\n",
    "    def __init__(self,out_vocab_size,embedding_size,lstm_size,input_length):\n",
    "      super().__init__()\n",
    "      self.out_vocab_size = out_vocab_size\n",
    "      self.embedding_size = embedding_size\n",
    "      self.input_length = input_length\n",
    "      self.lstm_size= lstm_size\n",
    "\n",
    "        #Initialize Embedding layer\n",
    "        #Intialize Decoder LSTM layer\n",
    "\n",
    "      self.embedding = tf.keras.layers.Embedding(input_dim = self.out_vocab_size, output_dim = self.embedding_size, name=\"embedding_decoder_layer\")\n",
    "      \n",
    "      self.lstm = tf.keras.layers.LSTM(self.lstm_size, return_state=True, return_sequences=True, name=\"Decoder_lstm_layer\", recurrent_initializer='glorot_uniform')\n",
    "        \n",
    "\n",
    "\n",
    "    def call(self,input_sequence,initial_states):\n",
    "\n",
    "\n",
    "      \n",
    "      input_embedd = self.embedding(input_sequence)\n",
    "      decoder_output, decoder_final_state_h, decoder_final_state_c = self.lstm(input_embedd,initial_state = initial_states)\n",
    "      return decoder_output, decoder_final_state_h, decoder_final_state_c"
   ]
  },
  {
   "cell_type": "code",
   "execution_count": 29,
   "metadata": {
    "id": "Avo8Xju9GQRs"
   },
   "outputs": [],
   "source": [
    "class Encoder_decoder(tf.keras.Model):\n",
    "    \n",
    "    def __init__(self,encoder_inputs_length,decoder_inputs_length, output_vocab_size):\n",
    "        super().__init__() # https://stackoverflow.com/a/27134600/4084039\n",
    "        #(self,inp_vocab_size,embedding_size,lstm_size,input_length):\n",
    "        self.encoder = Encoder(inp_vocab_size = input_vocab, embedding_size =  256, lstm_size = 200, input_length= encoder_inputs_length)\n",
    "        self.decoder = Decoder(out_vocab_size = output_vocab, embedding_size = 256, lstm_size = 200, input_length= decoder_inputs_length)\n",
    "        self.dense   = Dense(output_vocab_size, activation='softmax')\n",
    "        \n",
    "        #Create encoder object\n",
    "        #Create decoder object\n",
    "        #Intialize Dense layer(out_vocab_size) with activation='softmax'\n",
    "    \n",
    "    \n",
    "    def call(self,data):\n",
    "\n",
    "        input_to_encoder,input_to_decoder = data[0], data[1]\n",
    "        initial_state= self.encoder.initialize_states(tf.shape(input_to_encoder)[0])\n",
    "        encoder_output,state_h,state_c = self.encoder(input_to_encoder,initial_state)\n",
    "\n",
    "        decoder_output, decoder_final_state_h, decoder_final_state_c = self.decoder(input_to_decoder, [state_h,state_c]) \n",
    "        decoder_output = self.dense(decoder_output)\n",
    "\n",
    "        # return the decoder output\n",
    "        return decoder_output"
   ]
  },
  {
   "cell_type": "code",
   "execution_count": 30,
   "metadata": {
    "colab": {
     "base_uri": "https://localhost:8080/"
    },
    "id": "BMfFWXGkGTe9",
    "outputId": "06cbcbee-5379-4297-d54d-84837b817264"
   },
   "outputs": [
    {
     "name": "stdout",
     "output_type": "stream",
     "text": [
      "Epoch 1/20\n",
      "451/451 [==============================] - 73s 140ms/step - loss: 3.5190 - val_loss: 3.0149\n",
      "Epoch 2/20\n",
      "451/451 [==============================] - 61s 136ms/step - loss: 2.8891 - val_loss: 2.7659\n",
      "Epoch 3/20\n",
      "451/451 [==============================] - 63s 139ms/step - loss: 2.6982 - val_loss: 2.6425\n",
      "Epoch 4/20\n",
      "451/451 [==============================] - 62s 139ms/step - loss: 2.5744 - val_loss: 2.5247\n",
      "Epoch 5/20\n",
      "451/451 [==============================] - 63s 139ms/step - loss: 2.4563 - val_loss: 2.4212\n",
      "Epoch 6/20\n",
      "451/451 [==============================] - 62s 139ms/step - loss: 2.3152 - val_loss: 2.2715\n",
      "Epoch 7/20\n",
      "451/451 [==============================] - 63s 139ms/step - loss: 2.1634 - val_loss: 2.1566\n",
      "Epoch 8/20\n",
      "451/451 [==============================] - 63s 139ms/step - loss: 2.0493 - val_loss: 2.0784\n",
      "Epoch 9/20\n",
      "451/451 [==============================] - 63s 139ms/step - loss: 1.9576 - val_loss: 2.0160\n",
      "Epoch 10/20\n",
      "451/451 [==============================] - 63s 139ms/step - loss: 1.8782 - val_loss: 1.9607\n",
      "Epoch 11/20\n",
      "451/451 [==============================] - 63s 139ms/step - loss: 1.8070 - val_loss: 1.9134\n",
      "Epoch 12/20\n",
      "451/451 [==============================] - 62s 137ms/step - loss: 1.7424 - val_loss: 1.8735\n",
      "Epoch 13/20\n",
      "451/451 [==============================] - 62s 136ms/step - loss: 1.6827 - val_loss: 1.8369\n",
      "Epoch 14/20\n",
      "451/451 [==============================] - 63s 139ms/step - loss: 1.6270 - val_loss: 1.8049\n",
      "Epoch 15/20\n",
      "451/451 [==============================] - 62s 138ms/step - loss: 1.5748 - val_loss: 1.7740\n",
      "Epoch 16/20\n",
      "451/451 [==============================] - 61s 136ms/step - loss: 1.5246 - val_loss: 1.7456\n",
      "Epoch 17/20\n",
      "451/451 [==============================] - 62s 138ms/step - loss: 1.4779 - val_loss: 1.7209\n",
      "Epoch 18/20\n",
      "451/451 [==============================] - 61s 136ms/step - loss: 1.4324 - val_loss: 1.6964\n",
      "Epoch 19/20\n",
      "451/451 [==============================] - 62s 138ms/step - loss: 1.3899 - val_loss: 1.6760\n",
      "Epoch 20/20\n",
      "451/451 [==============================] - 62s 139ms/step - loss: 1.3495 - val_loss: 1.6569\n"
     ]
    },
    {
     "data": {
      "text/plain": [
       "<keras.callbacks.History at 0x7fda9bbc9950>"
      ]
     },
     "execution_count": 30,
     "metadata": {},
     "output_type": "execute_result"
    }
   ],
   "source": [
    "from tensorflow.keras.layers import Embedding, LSTM, Dense, Activation , add\n",
    "model  = Encoder_decoder(encoder_inputs_length=31 ,decoder_inputs_length=8 , output_vocab_size = output_vocab)\n",
    "\n",
    "\n",
    "# loss_object = loss_object = tf.keras.losses.SparseCategoricalCrossentropy(from_logits=True, reduction='none')\n",
    "optimizer = tf.keras.optimizers.Adam()\n",
    "#defining callbacks\n",
    "his = tf.keras.callbacks.History()\n",
    "callbacks = [tf.keras.callbacks.TensorBoard(log_dir='logs/model2') , his]\n",
    "#compiling the model\n",
    "\n",
    "model.compile(optimizer=optimizer,loss='sparse_categorical_crossentropy')\n",
    "\n",
    "model.fit([x_train_enc , x_train_dec], y_train, batch_size=512,epochs = 20, validation_data = ([x_test_enc,x_test_dec], y_test) , callbacks = callbacks)"
   ]
  },
  {
   "cell_type": "code",
   "execution_count": 31,
   "metadata": {
    "colab": {
     "base_uri": "https://localhost:8080/"
    },
    "id": "pdObwuXZMc5X",
    "outputId": "2240f711-d7b5-471a-f3aa-7eab79419826"
   },
   "outputs": [
    {
     "data": {
      "text/plain": [
       "['history1']"
      ]
     },
     "execution_count": 31,
     "metadata": {},
     "output_type": "execute_result"
    }
   ],
   "source": [
    "joblib.dump(his.history,'history1')"
   ]
  },
  {
   "cell_type": "code",
   "execution_count": 32,
   "metadata": {
    "id": "7cw2v5reGZJn"
   },
   "outputs": [],
   "source": [
    "#Save weights\n",
    "model.save_weights('best_model1.h5')"
   ]
  },
  {
   "cell_type": "code",
   "execution_count": 33,
   "metadata": {
    "id": "Jooon54B1iTD"
   },
   "outputs": [],
   "source": [
    "#Load weights\n",
    "model.load_weights('best_model1.h5')"
   ]
  },
  {
   "cell_type": "code",
   "execution_count": 34,
   "metadata": {
    "colab": {
     "base_uri": "https://localhost:8080/"
    },
    "id": "rmyutF2R1qo1",
    "outputId": "4ace2dac-7357-4cc2-d8e9-eee4953e4405"
   },
   "outputs": [
    {
     "name": "stdout",
     "output_type": "stream",
     "text": [
      "Epoch 1/20\n",
      "451/451 [==============================] - 62s 137ms/step - loss: 1.3110 - val_loss: 1.6380\n",
      "Epoch 2/20\n",
      "451/451 [==============================] - 61s 136ms/step - loss: 1.2743 - val_loss: 1.6220\n",
      "Epoch 3/20\n",
      "451/451 [==============================] - 61s 136ms/step - loss: 1.2394 - val_loss: 1.6093\n",
      "Epoch 4/20\n",
      "451/451 [==============================] - 61s 136ms/step - loss: 1.2059 - val_loss: 1.5961\n",
      "Epoch 5/20\n",
      "451/451 [==============================] - 62s 139ms/step - loss: 1.1738 - val_loss: 1.5847\n",
      "Epoch 6/20\n",
      "451/451 [==============================] - 61s 136ms/step - loss: 1.1430 - val_loss: 1.5732\n",
      "Epoch 7/20\n",
      "451/451 [==============================] - 61s 136ms/step - loss: 1.1132 - val_loss: 1.5648\n",
      "Epoch 8/20\n",
      "451/451 [==============================] - 61s 136ms/step - loss: 1.0849 - val_loss: 1.5542\n",
      "Epoch 9/20\n",
      "451/451 [==============================] - 61s 136ms/step - loss: 1.0577 - val_loss: 1.5480\n",
      "Epoch 10/20\n",
      "451/451 [==============================] - 61s 136ms/step - loss: 1.0312 - val_loss: 1.5406\n",
      "Epoch 11/20\n",
      "451/451 [==============================] - 61s 136ms/step - loss: 1.0057 - val_loss: 1.5314\n",
      "Epoch 12/20\n",
      "451/451 [==============================] - 62s 136ms/step - loss: 0.9816 - val_loss: 1.5271\n",
      "Epoch 13/20\n",
      "451/451 [==============================] - 61s 136ms/step - loss: 0.9582 - val_loss: 1.5207\n",
      "Epoch 14/20\n",
      "451/451 [==============================] - 61s 136ms/step - loss: 0.9353 - val_loss: 1.5185\n",
      "Epoch 15/20\n",
      "451/451 [==============================] - 61s 136ms/step - loss: 0.9131 - val_loss: 1.5132\n",
      "Epoch 16/20\n",
      "451/451 [==============================] - 61s 136ms/step - loss: 0.8921 - val_loss: 1.5117\n",
      "Epoch 17/20\n",
      "451/451 [==============================] - 62s 138ms/step - loss: 0.8711 - val_loss: 1.5085\n",
      "Epoch 18/20\n",
      "451/451 [==============================] - 61s 136ms/step - loss: 0.8515 - val_loss: 1.5059\n",
      "Epoch 19/20\n",
      "451/451 [==============================] - 61s 136ms/step - loss: 0.8320 - val_loss: 1.5037\n",
      "Epoch 20/20\n",
      "451/451 [==============================] - 61s 136ms/step - loss: 0.8139 - val_loss: 1.5073\n"
     ]
    },
    {
     "data": {
      "text/plain": [
       "<keras.callbacks.History at 0x7fda9c6c51d0>"
      ]
     },
     "execution_count": 34,
     "metadata": {},
     "output_type": "execute_result"
    }
   ],
   "source": [
    "his2 = tf.keras.callbacks.History()\n",
    "callbacks = [his2]\n",
    "model.fit([x_train_enc , x_train_dec], y_train, batch_size=512,epochs = 20, validation_data = ([x_test_enc,x_test_dec], y_test) , callbacks = callbacks)"
   ]
  },
  {
   "cell_type": "code",
   "execution_count": 35,
   "metadata": {
    "colab": {
     "base_uri": "https://localhost:8080/"
    },
    "id": "XhQ1QhLQRIhi",
    "outputId": "d3cecc0a-bc65-44e9-f7a2-25fa67b4468b"
   },
   "outputs": [
    {
     "data": {
      "text/plain": [
       "['history2']"
      ]
     },
     "execution_count": 35,
     "metadata": {},
     "output_type": "execute_result"
    }
   ],
   "source": [
    "joblib.dump(his2.history,'history2')"
   ]
  },
  {
   "cell_type": "code",
   "execution_count": 36,
   "metadata": {
    "id": "v2LbAyfiRYNb"
   },
   "outputs": [],
   "source": [
    "h1 = joblib.load('history1')\n",
    "h2 = joblib.load('history2')\n",
    "loss = h1['loss']+h2['loss']\n",
    "val_loss = h1['val_loss']+h2['val_loss']"
   ]
  },
  {
   "cell_type": "code",
   "execution_count": 37,
   "metadata": {
    "colab": {
     "base_uri": "https://localhost:8080/",
     "height": 312
    },
    "id": "z298hvAC8JV-",
    "outputId": "ca99a162-5429-44f5-a9c6-efb84fe457dc"
   },
   "outputs": [
    {
     "data": {
      "text/plain": [
       "Text(0.5, 1.0, 'Loss Vs No of epochs')"
      ]
     },
     "execution_count": 37,
     "metadata": {},
     "output_type": "execute_result"
    },
    {
     "data": {
      "image/png": "[encoded data removed]",
      "text/plain": [
       "<Figure size 432x288 with 1 Axes>"
      ]
     },
     "metadata": {
      "needs_background": "light"
     },
     "output_type": "display_data"
    }
   ],
   "source": [
    "# loss = his.history['loss']\n",
    "# val_loss = his.history['val_loss']\n",
    "plt.plot(loss,label='Training loss')\n",
    "plt.plot(val_loss, label='Validation loss')\n",
    "plt.legend()\n",
    "plt.grid()\n",
    "plt.xlabel('No of epochs')\n",
    "plt.ylabel('Loss')\n",
    "plt.title('Loss Vs No of epochs')"
   ]
  },
  {
   "cell_type": "code",
   "execution_count": 38,
   "metadata": {
    "id": "pXkmBim67ce7"
   },
   "outputs": [],
   "source": [
    "model.save_weights('/content/drive/MyDrive/model1/best_model1.h5')"
   ]
  },
  {
   "cell_type": "code",
   "execution_count": 44,
   "metadata": {
    "id": "pl25zqU3qcyN"
   },
   "outputs": [],
   "source": [
    "#here we change the key value pair to value key pair\n",
    "eng_word = y_token.word_index\n",
    "new_dict = dict([(value, key) for key, value in eng_word.items()])\n",
    "new_dict[0] = 'start'"
   ]
  },
  {
   "cell_type": "code",
   "execution_count": 45,
   "metadata": {
    "id": "Ub0DeZty7icc"
   },
   "outputs": [],
   "source": [
    "#joblib.dump(new_dict , 'new_dict.pkl')"
   ]
  },
  {
   "cell_type": "code",
   "execution_count": 51,
   "metadata": {
    "id": "FPnU8I6jrBY-"
   },
   "outputs": [],
   "source": [
    "def predict(input_sentence):\n",
    "# A. Given input sentence, convert the sentence into integers using tokenizer used earlier\n",
    "#here we also check the we have the start and end token in sentences\n",
    "#then we convert out input into to token and do a padding\n",
    "  input = input_sentence\n",
    "  if input.split(' ')[0] != '<start>' and input.split(' ')[-1] != '<end>':\n",
    "    input = '<start>'+ ' ' + input + ' ' + '<end>'\n",
    "  else:\n",
    "    input = str(input)\n",
    "  input = enc_token.texts_to_sequences([str(input)])\n",
    "  input = pad_sequences(input, padding=\"post\",maxlen= 31)\n",
    "\n",
    "#as we know we have a three layer 1 ==> encoder 2 ==> decoder 3 ==> dense\n",
    "#so first is encoder we give the input as input sec and ini_state\n",
    "\n",
    "  enc_ini_states = model.layers[0].initialize_states(1)\n",
    "  enc_out, enc_h_state, enc_c_state = model.layers[0](input, enc_ini_states)\n",
    "\n",
    "#output of the encoder is a input as decoder\n",
    "# first word input of decoder is start token \n",
    "# then 2nd input of decoder is predecting word by model\n",
    "\n",
    "  decoder_initial_state = [enc_h_state, enc_c_state]\n",
    "  decoder_initial_input = np.zeros((1,1))\n",
    "  decoder_initial_input[0,0] = dec_token.word_index['<start>']\n",
    "\n",
    "  predict_word = []\n",
    "  w = []\n",
    "  for i in range(31):\n",
    "    dec_out, dec_h_state, dec_c_state = model.layers[1](decoder_initial_input, decoder_initial_state)\n",
    "    # we use 3rd layer and we get the max proba word as out put and the this word is next input of the decoder \n",
    "    english_predict = np.argmax(model.layers[2](dec_out).numpy().ravel())\n",
    "    predict_word.append(english_predict)\n",
    "    decoder_initial_input[0,0] = english_predict\n",
    "    #replacing the next decoder initial states with current decoder output \n",
    "    decoder_initial_state = [dec_h_state, dec_c_state]\n",
    "    w.append(new_dict[english_predict])\n",
    "\n",
    "    if new_dict[english_predict] == '<end>':\n",
    "      break\n",
    "  return ' '.join(w)"
   ]
  },
  {
   "cell_type": "code",
   "execution_count": 52,
   "metadata": {
    "colab": {
     "base_uri": "https://localhost:8080/",
     "height": 35
    },
    "id": "WA52oAbNrE7X",
    "outputId": "ef4d66b8-1277-46a1-b55e-52a7dc983fb3"
   },
   "outputs": [
    {
     "data": {
      "application/vnd.google.colaboratory.intrinsic+json": {
       "type": "string"
      },
      "text/plain": [
       "'question about the attached <end>'"
      ]
     },
     "execution_count": 52,
     "metadata": {},
     "output_type": "execute_result"
    }
   ],
   "source": [
    "predict('<start> you have any <end>')"
   ]
  },
  {
   "cell_type": "code",
   "execution_count": 53,
   "metadata": {
    "colab": {
     "base_uri": "https://localhost:8080/",
     "height": 35
    },
    "id": "JIiW9fci6VJb",
    "outputId": "f192a8d3-546c-4130-d713-69d53ef6ca4f"
   },
   "outputs": [
    {
     "data": {
      "application/vnd.google.colaboratory.intrinsic+json": {
       "type": "string"
      },
      "text/plain": [
       "'latest contact list <end>'"
      ]
     },
     "execution_count": 53,
     "metadata": {},
     "output_type": "execute_result"
    }
   ],
   "source": [
    "predict('<start> here is our <end>')"
   ]
  },
  {
   "cell_type": "code",
   "execution_count": 55,
   "metadata": {
    "colab": {
     "base_uri": "https://localhost:8080/",
     "height": 35
    },
    "id": "QB_dT0ea1Hul",
    "outputId": "de8cb957-fb01-422d-c01c-eec025de5105"
   },
   "outputs": [
    {
     "data": {
      "application/vnd.google.colaboratory.intrinsic+json": {
       "type": "string"
      },
      "text/plain": [
       "'you have a great weekend <end>'"
      ]
     },
     "execution_count": 55,
     "metadata": {},
     "output_type": "execute_result"
    }
   ],
   "source": [
    "predict('<start> how are you and hope <end>')"
   ]
  },
  {
   "cell_type": "code",
   "execution_count": 56,
   "metadata": {
    "colab": {
     "base_uri": "https://localhost:8080/"
    },
    "id": "va5bF1XBrG9W",
    "outputId": "44e9841b-734e-4247-fd6e-ca24c8f8b4a3"
   },
   "outputs": [
    {
     "name": "stdout",
     "output_type": "stream",
     "text": [
      "Input  ==> <start> we would like to accommodate your group if possible that <end>\n",
      "Output ==> <start> is fantastic\n",
      "Predict ==> would be great <end>\n",
      "====================================================================================================\n",
      "Input  ==> <start> if you have any questions please do <end>\n",
      "Output ==> <start> not hesitate to call me\n",
      "Predict ==> not hesitate to contact me <end>\n",
      "====================================================================================================\n",
      "Input  ==> <start> this is the procedure he has set for me i do not mean to complicate your life further but would really appreciate <end>\n",
      "Output ==> <start> it if you could do this\n",
      "Predict ==> it if you can <end>\n",
      "====================================================================================================\n",
      "Input  ==> <start> when asked whether as auditor for the railroad he would does this sound like the right <end>\n",
      "Output ==> <start> case\n",
      "Predict ==> one <end>\n",
      "====================================================================================================\n",
      "Input  ==> <start> there is a little controversy over this issue because the incentive is not offered to small business <end>\n",
      "Output ==> <start> or residents\n",
      "Predict ==> of their respective positions <end>\n",
      "====================================================================================================\n",
      "Input  ==> <start> what a great season hope you have a <end>\n",
      "Output ==> <start> good thanksgiving\n",
      "Predict ==> good job <end>\n",
      "====================================================================================================\n",
      "Input  ==> <start> please let me know if you have any questions or if you think <end>\n",
      "Output ==> <start> these thresholds need to be changed\n",
      "Predict ==> the need arises <end>\n",
      "====================================================================================================\n",
      "Input  ==> <start> you deserve it thank you so much for all <end>\n",
      "Output ==> <start> your help\n",
      "Predict ==> your help <end>\n",
      "====================================================================================================\n",
      "Input  ==> <start> give me a call whenever you <end>\n",
      "Output ==> <start> get in\n",
      "Predict ==> want to do <end>\n",
      "====================================================================================================\n",
      "Input  ==> <start> hey not so fast i did try to retrieve that info from the site prior to the call but <end>\n",
      "Output ==> <start> had no luck finding it\n",
      "Predict ==> is what you were looking for <end>\n",
      "====================================================================================================\n",
      "Input  ==> <start> many are not sticking around to find out that is financial marketspeak for insurance on bonds and bank loans <end>\n",
      "Output ==> <start> enron is connections are numerous\n",
      "Predict ==> and connections are numerous <end>\n",
      "====================================================================================================\n",
      "Input  ==> <start> these are my pet fish it really works the man poured the fish in to the lake and <end>\n",
      "Output ==> <start> stood and waited\n",
      "Predict ==> stood and waited <end>\n",
      "====================================================================================================\n",
      "Input  ==> <start> he got excited about it jus tlike we did i know the call will <end>\n",
      "Output ==> <start> go well\n",
      "Predict ==> be very much <end>\n",
      "====================================================================================================\n",
      "Input  ==> <start> not that she would she wants to edit it and try to send it out all at once <end>\n",
      "Output ==> <start> i am forced to tell you\n",
      "Predict ==> you get a converted copy <end>\n",
      "====================================================================================================\n",
      "Input  ==> <start> just let me know if you have any <end>\n",
      "Output ==> <start> questions or need any additional information\n",
      "Predict ==> questions or need anything else <end>\n",
      "====================================================================================================\n",
      "Input  ==> <start> it would not take that long to finish this spreadsheet if needed i will send it to you if <end>\n",
      "Output ==> <start> you want it\n",
      "Predict ==> you could give me a call <end>\n",
      "====================================================================================================\n",
      "Input  ==> <start> i will forward it to you <end>\n",
      "Output ==> <start> if it gets signed\n",
      "Predict ==> this afternoon <end>\n",
      "====================================================================================================\n",
      "Input  ==> <start> please mark on your calendars to attend given current discussions about the gas organization a <end>\n",
      "Output ==> <start> complete agenda will follow shortly\n",
      "Predict ==> complete agenda will follow shortly <end>\n",
      "====================================================================================================\n",
      "Input  ==> <start> please let me know if it is still ok to get a copy of <end>\n",
      "Output ==> <start> these\n",
      "Predict ==> the tape <end>\n",
      "====================================================================================================\n",
      "Input  ==> <start> if anyone has any concerns <end>\n",
      "Output ==> <start> or questions please let me know\n",
      "Predict ==> please let me know <end>\n",
      "====================================================================================================\n"
     ]
    }
   ],
   "source": [
    "data_sam = data.sample(20)\n",
    "for i in range(20):\n",
    "  print('Input  ==>' , data_sam.enc_inp.values[i])\n",
    "  print('Output ==>' , data_sam.dec_inp.values[i])\n",
    "  print('Predict ==>', predict(data_sam.enc_inp.values[i]))\n",
    "  print(50 * '==')"
   ]
  },
  {
   "cell_type": "markdown",
   "metadata": {},
   "source": [
    "### 9.1 BLUE score after the 20 epochs"
   ]
  },
  {
   "cell_type": "code",
   "execution_count": null,
   "metadata": {
    "colab": {
     "base_uri": "https://localhost:8080/"
    },
    "id": "nxgODd8N6lnB",
    "outputId": "d3dd7798-5c3d-4456-ebd9-43dc6abfc84a"
   },
   "outputs": [
    {
     "name": "stderr",
     "output_type": "stream",
     "text": [
      "  0%|          | 0/1000 [00:00<?, ?it/s]/usr/local/lib/python3.7/dist-packages/nltk/translate/bleu_score.py:490: UserWarning: \n",
      "Corpus/Sentence contains 0 counts of 2-gram overlaps.\n",
      "BLEU scores might be undesirable; use SmoothingFunction().\n",
      "  warnings.warn(_msg)\n",
      "  0%|          | 2/1000 [00:00<01:20, 12.39it/s]/usr/local/lib/python3.7/dist-packages/nltk/translate/bleu_score.py:490: UserWarning: \n",
      "Corpus/Sentence contains 0 counts of 4-gram overlaps.\n",
      "BLEU scores might be undesirable; use SmoothingFunction().\n",
      "  warnings.warn(_msg)\n",
      "  0%|          | 4/1000 [00:00<01:20, 12.44it/s]/usr/local/lib/python3.7/dist-packages/nltk/translate/bleu_score.py:490: UserWarning: \n",
      "Corpus/Sentence contains 0 counts of 3-gram overlaps.\n",
      "BLEU scores might be undesirable; use SmoothingFunction().\n",
      "  warnings.warn(_msg)\n",
      "100%|██████████| 1000/1000 [00:46<00:00, 21.34it/s]"
     ]
    },
    {
     "name": "stdout",
     "output_type": "stream",
     "text": [
      "Bleu Score ==>  0.6419517045194466\n"
     ]
    },
    {
     "name": "stderr",
     "output_type": "stream",
     "text": [
      "\n"
     ]
    }
   ],
   "source": [
    "from tqdm import tqdm\n",
    "data_sam = data.sample(10000)\n",
    "import nltk.translate.bleu_score as bleu\n",
    "bleu_score = []\n",
    "for i in tqdm(range(1000)):\n",
    "  actual  = data.our.iloc[i] \n",
    "  Predict = predict(data.enc_inp.iloc[i])\n",
    "  bleu_score.append(bleu.sentence_bleu([actual.split(),], Predict.split()))\n",
    "print('Bleu Score ==> ', np.mean(bleu_score))"
   ]
  },
  {
   "cell_type": "markdown",
   "metadata": {},
   "source": [
    "### 9.2 BLUE score after the 40 epochs"
   ]
  },
  {
   "cell_type": "code",
   "execution_count": 60,
   "metadata": {
    "colab": {
     "base_uri": "https://localhost:8080/"
    },
    "id": "Y58wfVavYMj2",
    "outputId": "e000d3b1-53b8-4d25-9c2c-c3835411b93a"
   },
   "outputs": [
    {
     "name": "stderr",
     "output_type": "stream",
     "text": [
      "  0%|          | 0/1000 [00:00<?, ?it/s]/usr/local/lib/python3.7/dist-packages/nltk/translate/bleu_score.py:490: UserWarning: \n",
      "Corpus/Sentence contains 0 counts of 2-gram overlaps.\n",
      "BLEU scores might be undesirable; use SmoothingFunction().\n",
      "  warnings.warn(_msg)\n",
      "  0%|          | 2/1000 [00:00<01:43,  9.69it/s]/usr/local/lib/python3.7/dist-packages/nltk/translate/bleu_score.py:490: UserWarning: \n",
      "Corpus/Sentence contains 0 counts of 4-gram overlaps.\n",
      "BLEU scores might be undesirable; use SmoothingFunction().\n",
      "  warnings.warn(_msg)\n",
      "  2%|▏         | 22/1000 [00:01<01:10, 13.91it/s]/usr/local/lib/python3.7/dist-packages/nltk/translate/bleu_score.py:490: UserWarning: \n",
      "Corpus/Sentence contains 0 counts of 3-gram overlaps.\n",
      "BLEU scores might be undesirable; use SmoothingFunction().\n",
      "  warnings.warn(_msg)\n",
      "100%|██████████| 1000/1000 [00:44<00:00, 22.52it/s]"
     ]
    },
    {
     "name": "stdout",
     "output_type": "stream",
     "text": [
      "Bleu Score ==>  0.6823627720876825\n"
     ]
    },
    {
     "name": "stderr",
     "output_type": "stream",
     "text": [
      "\n"
     ]
    }
   ],
   "source": [
    "from tqdm import tqdm\n",
    "data_sam = data.sample(1000)\n",
    "import nltk.translate.bleu_score as bleu\n",
    "bleu_score = []\n",
    "for i in tqdm(range(1000)):\n",
    "  actual  = data_sam.our.iloc[i] \n",
    "  Predict = predict(data_sam.enc_inp.iloc[i])\n",
    "  bleu_score.append(bleu.sentence_bleu([actual.split(),], Predict.split()))\n",
    "print('Bleu Score ==> ', np.mean(bleu_score))"
   ]
  },
  {
   "cell_type": "code",
   "execution_count": null,
   "metadata": {
    "id": "8RX-rXGf9KEm"
   },
   "outputs": [],
   "source": [
    "#Save weights\n",
    "model.save_weights('final_model1.h5')"
   ]
  },
  {
   "cell_type": "markdown",
   "metadata": {
    "id": "ed_n1t6haQIH"
   },
   "source": [
    "# 10 Encoder Decoder Model with Attention"
   ]
  },
  {
   "cell_type": "code",
   "execution_count": 2,
   "metadata": {
    "id": "zdkTIst0UlS3"
   },
   "outputs": [],
   "source": [
    "import joblib\n",
    "df = joblib.load('clean.pkl')"
   ]
  },
  {
   "cell_type": "code",
   "execution_count": 3,
   "metadata": {
    "colab": {
     "base_uri": "https://localhost:8080/",
     "height": 206
    },
    "id": "Ia52SA75Up_7",
    "outputId": "72a1d894-6d45-40b6-ff2c-e00e132e9347"
   },
   "outputs": [
    {
     "data": {
      "text/html": [
       "\n",
       "  <div id=\"df-4ad43e1c-6ee0-4518-be14-5704bf365286\">\n",
       "    <div class=\"colab-df-container\">\n",
       "      <div>\n",
       "<style scoped>\n",
       "    .dataframe tbody tr th:only-of-type {\n",
       "        vertical-align: middle;\n",
       "    }\n",
       "\n",
       "    .dataframe tbody tr th {\n",
       "        vertical-align: top;\n",
       "    }\n",
       "\n",
       "    .dataframe thead th {\n",
       "        text-align: right;\n",
       "    }\n",
       "</style>\n",
       "<table border=\"1\" class=\"dataframe\">\n",
       "  <thead>\n",
       "    <tr style=\"text-align: right;\">\n",
       "      <th></th>\n",
       "      <th>clean</th>\n",
       "    </tr>\n",
       "  </thead>\n",
       "  <tbody>\n",
       "    <tr>\n",
       "      <th>0</th>\n",
       "      <td>here is our forecast</td>\n",
       "    </tr>\n",
       "    <tr>\n",
       "      <th>1</th>\n",
       "      <td>traveling to have a business meeting takes the...</td>\n",
       "    </tr>\n",
       "    <tr>\n",
       "      <th>2</th>\n",
       "      <td>plus your thoughts on any changes that need to...</td>\n",
       "    </tr>\n",
       "    <tr>\n",
       "      <th>3</th>\n",
       "      <td>follow these steps so you do not misplace thes...</td>\n",
       "    </tr>\n",
       "    <tr>\n",
       "      <th>4</th>\n",
       "      <td>i have been involved in most of the meetings a...</td>\n",
       "    </tr>\n",
       "  </tbody>\n",
       "</table>\n",
       "</div>\n",
       "      <button class=\"colab-df-convert\" onclick=\"convertToInteractive('df-4ad43e1c-6ee0-4518-be14-5704bf365286')\"\n",
       "              title=\"Convert this dataframe to an interactive table.\"\n",
       "              style=\"display:none;\">\n",
       "        \n",
       "  <svg xmlns=\"http://www.w3.org/2000/svg\" height=\"24px\"viewBox=\"0 0 24 24\"\n",
       "       width=\"24px\">\n",
       "    <path d=\"M0 0h24v24H0V0z\" fill=\"none\"/>\n",
       "    <path d=\"M18.56 5.44l.94 2.06.94-2.06 2.06-.94-2.06-.94-.94-2.06-.94 2.06-2.06.94zm-11 1L8.5 8.5l.94-2.06 2.06-.94-2.06-.94L8.5 2.5l-.94 2.06-2.06.94zm10 10l.94 2.06.94-2.06 2.06-.94-2.06-.94-.94-2.06-.94 2.06-2.06.94z\"/><path d=\"M17.41 7.96l-1.37-1.37c-.4-.4-.92-.59-1.43-.59-.52 0-1.04.2-1.43.59L10.3 9.45l-7.72 7.72c-.78.78-.78 2.05 0 2.83L4 21.41c.39.39.9.59 1.41.59.51 0 1.02-.2 1.41-.59l7.78-7.78 2.81-2.81c.8-.78.8-2.07 0-2.86zM5.41 20L4 18.59l7.72-7.72 1.47 1.35L5.41 20z\"/>\n",
       "  </svg>\n",
       "      </button>\n",
       "      \n",
       "  <style>\n",
       "    .colab-df-container {\n",
       "      display:flex;\n",
       "      flex-wrap:wrap;\n",
       "      gap: 12px;\n",
       "    }\n",
       "\n",
       "    .colab-df-convert {\n",
       "      background-color: #E8F0FE;\n",
       "      border: none;\n",
       "      border-radius: 50%;\n",
       "      cursor: pointer;\n",
       "      display: none;\n",
       "      fill: #1967D2;\n",
       "      height: 32px;\n",
       "      padding: 0 0 0 0;\n",
       "      width: 32px;\n",
       "    }\n",
       "\n",
       "    .colab-df-convert:hover {\n",
       "      background-color: #E2EBFA;\n",
       "      box-shadow: 0px 1px 2px rgba(60, 64, 67, 0.3), 0px 1px 3px 1px rgba(60, 64, 67, 0.15);\n",
       "      fill: #174EA6;\n",
       "    }\n",
       "\n",
       "    [theme=dark] .colab-df-convert {\n",
       "      background-color: #3B4455;\n",
       "      fill: #D2E3FC;\n",
       "    }\n",
       "\n",
       "    [theme=dark] .colab-df-convert:hover {\n",
       "      background-color: #434B5C;\n",
       "      box-shadow: 0px 1px 3px 1px rgba(0, 0, 0, 0.15);\n",
       "      filter: drop-shadow(0px 1px 2px rgba(0, 0, 0, 0.3));\n",
       "      fill: #FFFFFF;\n",
       "    }\n",
       "  </style>\n",
       "\n",
       "      <script>\n",
       "        const buttonEl =\n",
       "          document.querySelector('#df-4ad43e1c-6ee0-4518-be14-5704bf365286 button.colab-df-convert');\n",
       "        buttonEl.style.display =\n",
       "          google.colab.kernel.accessAllowed ? 'block' : 'none';\n",
       "\n",
       "        async function convertToInteractive(key) {\n",
       "          const element = document.querySelector('#df-4ad43e1c-6ee0-4518-be14-5704bf365286');\n",
       "          const dataTable =\n",
       "            await google.colab.kernel.invokeFunction('convertToInteractive',\n",
       "                                                     [key], {});\n",
       "          if (!dataTable) return;\n",
       "\n",
       "          const docLinkHtml = 'Like what you see? Visit the ' +\n",
       "            '<a target=\"_blank\" href=https://colab.research.google.com/notebooks/data_table.ipynb>data table notebook</a>'\n",
       "            + ' to learn more about interactive tables.';\n",
       "          element.innerHTML = '';\n",
       "          dataTable['output_type'] = 'display_data';\n",
       "          await google.colab.output.renderOutput(dataTable, element);\n",
       "          const docLink = document.createElement('div');\n",
       "          docLink.innerHTML = docLinkHtml;\n",
       "          element.appendChild(docLink);\n",
       "        }\n",
       "      </script>\n",
       "    </div>\n",
       "  </div>\n",
       "  "
      ],
      "text/plain": [
       "                                               clean\n",
       "0                               here is our forecast\n",
       "1  traveling to have a business meeting takes the...\n",
       "2  plus your thoughts on any changes that need to...\n",
       "3  follow these steps so you do not misplace thes...\n",
       "4  i have been involved in most of the meetings a..."
      ]
     },
     "execution_count": 3,
     "metadata": {},
     "output_type": "execute_result"
    }
   ],
   "source": [
    "df = df.head(15000)\n",
    "df.head()"
   ]
  },
  {
   "cell_type": "code",
   "execution_count": 5,
   "metadata": {
    "colab": {
     "base_uri": "https://localhost:8080/"
    },
    "id": "Th5Y0MraVKdK",
    "outputId": "f5c52dc3-f40b-448f-c269-605af88d3b83"
   },
   "outputs": [
    {
     "name": "stderr",
     "output_type": "stream",
     "text": [
      "100%|██████████| 15000/15000 [00:02<00:00, 5893.47it/s]\n"
     ]
    }
   ],
   "source": [
    "x = []\n",
    "y = []\n",
    "for i in tqdm(df.clean):\n",
    "  a = i.split()\n",
    "  for j in range(1,len(a)):\n",
    "        x.append(' '.join(a[:j]))\n",
    "        y.append(' '.join(a[j:]))"
   ]
  },
  {
   "cell_type": "code",
   "execution_count": 6,
   "metadata": {
    "colab": {
     "base_uri": "https://localhost:8080/",
     "height": 206
    },
    "id": "m1uiuqgXVMIL",
    "outputId": "556075f1-ea55-432b-cd47-5b939f50295c"
   },
   "outputs": [
    {
     "data": {
      "text/html": [
       "\n",
       "  <div id=\"df-559d0ed9-7306-405a-9747-a59018c8a7e4\">\n",
       "    <div class=\"colab-df-container\">\n",
       "      <div>\n",
       "<style scoped>\n",
       "    .dataframe tbody tr th:only-of-type {\n",
       "        vertical-align: middle;\n",
       "    }\n",
       "\n",
       "    .dataframe tbody tr th {\n",
       "        vertical-align: top;\n",
       "    }\n",
       "\n",
       "    .dataframe thead th {\n",
       "        text-align: right;\n",
       "    }\n",
       "</style>\n",
       "<table border=\"1\" class=\"dataframe\">\n",
       "  <thead>\n",
       "    <tr style=\"text-align: right;\">\n",
       "      <th></th>\n",
       "      <th>x_train</th>\n",
       "      <th>y_train</th>\n",
       "    </tr>\n",
       "  </thead>\n",
       "  <tbody>\n",
       "    <tr>\n",
       "      <th>0</th>\n",
       "      <td>here</td>\n",
       "      <td>is our forecast</td>\n",
       "    </tr>\n",
       "    <tr>\n",
       "      <th>1</th>\n",
       "      <td>here is</td>\n",
       "      <td>our forecast</td>\n",
       "    </tr>\n",
       "    <tr>\n",
       "      <th>2</th>\n",
       "      <td>here is our</td>\n",
       "      <td>forecast</td>\n",
       "    </tr>\n",
       "    <tr>\n",
       "      <th>3</th>\n",
       "      <td>traveling</td>\n",
       "      <td>to have a business meeting takes the fun out o...</td>\n",
       "    </tr>\n",
       "    <tr>\n",
       "      <th>4</th>\n",
       "      <td>traveling to</td>\n",
       "      <td>have a business meeting takes the fun out of t...</td>\n",
       "    </tr>\n",
       "  </tbody>\n",
       "</table>\n",
       "</div>\n",
       "      <button class=\"colab-df-convert\" onclick=\"convertToInteractive('df-559d0ed9-7306-405a-9747-a59018c8a7e4')\"\n",
       "              title=\"Convert this dataframe to an interactive table.\"\n",
       "              style=\"display:none;\">\n",
       "        \n",
       "  <svg xmlns=\"http://www.w3.org/2000/svg\" height=\"24px\"viewBox=\"0 0 24 24\"\n",
       "       width=\"24px\">\n",
       "    <path d=\"M0 0h24v24H0V0z\" fill=\"none\"/>\n",
       "    <path d=\"M18.56 5.44l.94 2.06.94-2.06 2.06-.94-2.06-.94-.94-2.06-.94 2.06-2.06.94zm-11 1L8.5 8.5l.94-2.06 2.06-.94-2.06-.94L8.5 2.5l-.94 2.06-2.06.94zm10 10l.94 2.06.94-2.06 2.06-.94-2.06-.94-.94-2.06-.94 2.06-2.06.94z\"/><path d=\"M17.41 7.96l-1.37-1.37c-.4-.4-.92-.59-1.43-.59-.52 0-1.04.2-1.43.59L10.3 9.45l-7.72 7.72c-.78.78-.78 2.05 0 2.83L4 21.41c.39.39.9.59 1.41.59.51 0 1.02-.2 1.41-.59l7.78-7.78 2.81-2.81c.8-.78.8-2.07 0-2.86zM5.41 20L4 18.59l7.72-7.72 1.47 1.35L5.41 20z\"/>\n",
       "  </svg>\n",
       "      </button>\n",
       "      \n",
       "  <style>\n",
       "    .colab-df-container {\n",
       "      display:flex;\n",
       "      flex-wrap:wrap;\n",
       "      gap: 12px;\n",
       "    }\n",
       "\n",
       "    .colab-df-convert {\n",
       "      background-color: #E8F0FE;\n",
       "      border: none;\n",
       "      border-radius: 50%;\n",
       "      cursor: pointer;\n",
       "      display: none;\n",
       "      fill: #1967D2;\n",
       "      height: 32px;\n",
       "      padding: 0 0 0 0;\n",
       "      width: 32px;\n",
       "    }\n",
       "\n",
       "    .colab-df-convert:hover {\n",
       "      background-color: #E2EBFA;\n",
       "      box-shadow: 0px 1px 2px rgba(60, 64, 67, 0.3), 0px 1px 3px 1px rgba(60, 64, 67, 0.15);\n",
       "      fill: #174EA6;\n",
       "    }\n",
       "\n",
       "    [theme=dark] .colab-df-convert {\n",
       "      background-color: #3B4455;\n",
       "      fill: #D2E3FC;\n",
       "    }\n",
       "\n",
       "    [theme=dark] .colab-df-convert:hover {\n",
       "      background-color: #434B5C;\n",
       "      box-shadow: 0px 1px 3px 1px rgba(0, 0, 0, 0.15);\n",
       "      filter: drop-shadow(0px 1px 2px rgba(0, 0, 0, 0.3));\n",
       "      fill: #FFFFFF;\n",
       "    }\n",
       "  </style>\n",
       "\n",
       "      <script>\n",
       "        const buttonEl =\n",
       "          document.querySelector('#df-559d0ed9-7306-405a-9747-a59018c8a7e4 button.colab-df-convert');\n",
       "        buttonEl.style.display =\n",
       "          google.colab.kernel.accessAllowed ? 'block' : 'none';\n",
       "\n",
       "        async function convertToInteractive(key) {\n",
       "          const element = document.querySelector('#df-559d0ed9-7306-405a-9747-a59018c8a7e4');\n",
       "          const dataTable =\n",
       "            await google.colab.kernel.invokeFunction('convertToInteractive',\n",
       "                                                     [key], {});\n",
       "          if (!dataTable) return;\n",
       "\n",
       "          const docLinkHtml = 'Like what you see? Visit the ' +\n",
       "            '<a target=\"_blank\" href=https://colab.research.google.com/notebooks/data_table.ipynb>data table notebook</a>'\n",
       "            + ' to learn more about interactive tables.';\n",
       "          element.innerHTML = '';\n",
       "          dataTable['output_type'] = 'display_data';\n",
       "          await google.colab.output.renderOutput(dataTable, element);\n",
       "          const docLink = document.createElement('div');\n",
       "          docLink.innerHTML = docLinkHtml;\n",
       "          element.appendChild(docLink);\n",
       "        }\n",
       "      </script>\n",
       "    </div>\n",
       "  </div>\n",
       "  "
      ],
      "text/plain": [
       "        x_train                                            y_train\n",
       "0          here                                    is our forecast\n",
       "1       here is                                       our forecast\n",
       "2   here is our                                           forecast\n",
       "3     traveling  to have a business meeting takes the fun out o...\n",
       "4  traveling to  have a business meeting takes the fun out of t..."
      ]
     },
     "execution_count": 6,
     "metadata": {},
     "output_type": "execute_result"
    }
   ],
   "source": [
    "train_set = pd.DataFrame(data={'x_train':x,'y_train':y})\n",
    "train_set.head()"
   ]
  },
  {
   "cell_type": "code",
   "execution_count": 7,
   "metadata": {
    "id": "sohjGo9ZVNi7"
   },
   "outputs": [],
   "source": [
    "train_set['x_train_len'] = train_set['x_train'].apply(lambda text:len(text.split()))\n",
    "train_set['y_train_len'] = train_set['y_train'].apply(lambda text:len(text.split()))"
   ]
  },
  {
   "cell_type": "code",
   "execution_count": 8,
   "metadata": {
    "colab": {
     "base_uri": "https://localhost:8080/"
    },
    "id": "Aby6lfXOVO8P",
    "outputId": "c707e672-2847-4704-be13-74d33b76c390"
   },
   "outputs": [
    {
     "data": {
      "text/plain": [
       "(62250, 4)"
      ]
     },
     "execution_count": 8,
     "metadata": {},
     "output_type": "execute_result"
    }
   ],
   "source": [
    "train_set = train_set[train_set['x_train_len']>3]\n",
    "train_set = train_set[train_set['x_train_len']<30]\n",
    "train_set = train_set[train_set['y_train_len']<8]\n",
    "train_set.shape"
   ]
  },
  {
   "cell_type": "code",
   "execution_count": 9,
   "metadata": {
    "id": "_VVTVSSeVR6A"
   },
   "outputs": [],
   "source": [
    "data = train_set"
   ]
  },
  {
   "cell_type": "code",
   "execution_count": 10,
   "metadata": {
    "colab": {
     "base_uri": "https://localhost:8080/",
     "height": 206
    },
    "id": "fW8LExxrVUOB",
    "outputId": "4d0282ed-20ad-47a3-9fbf-a7dddfdb8cf0"
   },
   "outputs": [
    {
     "data": {
      "text/html": [
       "\n",
       "  <div id=\"df-b44e91a9-fbec-432e-adfa-f7ee11ded615\">\n",
       "    <div class=\"colab-df-container\">\n",
       "      <div>\n",
       "<style scoped>\n",
       "    .dataframe tbody tr th:only-of-type {\n",
       "        vertical-align: middle;\n",
       "    }\n",
       "\n",
       "    .dataframe tbody tr th {\n",
       "        vertical-align: top;\n",
       "    }\n",
       "\n",
       "    .dataframe thead th {\n",
       "        text-align: right;\n",
       "    }\n",
       "</style>\n",
       "<table border=\"1\" class=\"dataframe\">\n",
       "  <thead>\n",
       "    <tr style=\"text-align: right;\">\n",
       "      <th></th>\n",
       "      <th>enc_inp</th>\n",
       "      <th>dec_inp</th>\n",
       "      <th>our</th>\n",
       "    </tr>\n",
       "  </thead>\n",
       "  <tbody>\n",
       "    <tr>\n",
       "      <th>107</th>\n",
       "      <td>&lt;start&gt; plus your thoughts on &lt;end&gt;</td>\n",
       "      <td>&lt;start&gt; any changes that need to be made</td>\n",
       "      <td>any changes that need to be made &lt;end&gt;</td>\n",
       "    </tr>\n",
       "    <tr>\n",
       "      <th>108</th>\n",
       "      <td>&lt;start&gt; plus your thoughts on any &lt;end&gt;</td>\n",
       "      <td>&lt;start&gt; changes that need to be made</td>\n",
       "      <td>changes that need to be made &lt;end&gt;</td>\n",
       "    </tr>\n",
       "    <tr>\n",
       "      <th>109</th>\n",
       "      <td>&lt;start&gt; plus your thoughts on any changes &lt;end&gt;</td>\n",
       "      <td>&lt;start&gt; that need to be made</td>\n",
       "      <td>that need to be made &lt;end&gt;</td>\n",
       "    </tr>\n",
       "    <tr>\n",
       "      <th>110</th>\n",
       "      <td>&lt;start&gt; plus your thoughts on any changes that...</td>\n",
       "      <td>&lt;start&gt; need to be made</td>\n",
       "      <td>need to be made &lt;end&gt;</td>\n",
       "    </tr>\n",
       "    <tr>\n",
       "      <th>111</th>\n",
       "      <td>&lt;start&gt; plus your thoughts on any changes that...</td>\n",
       "      <td>&lt;start&gt; to be made</td>\n",
       "      <td>to be made &lt;end&gt;</td>\n",
       "    </tr>\n",
       "  </tbody>\n",
       "</table>\n",
       "</div>\n",
       "      <button class=\"colab-df-convert\" onclick=\"convertToInteractive('df-b44e91a9-fbec-432e-adfa-f7ee11ded615')\"\n",
       "              title=\"Convert this dataframe to an interactive table.\"\n",
       "              style=\"display:none;\">\n",
       "        \n",
       "  <svg xmlns=\"http://www.w3.org/2000/svg\" height=\"24px\"viewBox=\"0 0 24 24\"\n",
       "       width=\"24px\">\n",
       "    <path d=\"M0 0h24v24H0V0z\" fill=\"none\"/>\n",
       "    <path d=\"M18.56 5.44l.94 2.06.94-2.06 2.06-.94-2.06-.94-.94-2.06-.94 2.06-2.06.94zm-11 1L8.5 8.5l.94-2.06 2.06-.94-2.06-.94L8.5 2.5l-.94 2.06-2.06.94zm10 10l.94 2.06.94-2.06 2.06-.94-2.06-.94-.94-2.06-.94 2.06-2.06.94z\"/><path d=\"M17.41 7.96l-1.37-1.37c-.4-.4-.92-.59-1.43-.59-.52 0-1.04.2-1.43.59L10.3 9.45l-7.72 7.72c-.78.78-.78 2.05 0 2.83L4 21.41c.39.39.9.59 1.41.59.51 0 1.02-.2 1.41-.59l7.78-7.78 2.81-2.81c.8-.78.8-2.07 0-2.86zM5.41 20L4 18.59l7.72-7.72 1.47 1.35L5.41 20z\"/>\n",
       "  </svg>\n",
       "      </button>\n",
       "      \n",
       "  <style>\n",
       "    .colab-df-container {\n",
       "      display:flex;\n",
       "      flex-wrap:wrap;\n",
       "      gap: 12px;\n",
       "    }\n",
       "\n",
       "    .colab-df-convert {\n",
       "      background-color: #E8F0FE;\n",
       "      border: none;\n",
       "      border-radius: 50%;\n",
       "      cursor: pointer;\n",
       "      display: none;\n",
       "      fill: #1967D2;\n",
       "      height: 32px;\n",
       "      padding: 0 0 0 0;\n",
       "      width: 32px;\n",
       "    }\n",
       "\n",
       "    .colab-df-convert:hover {\n",
       "      background-color: #E2EBFA;\n",
       "      box-shadow: 0px 1px 2px rgba(60, 64, 67, 0.3), 0px 1px 3px 1px rgba(60, 64, 67, 0.15);\n",
       "      fill: #174EA6;\n",
       "    }\n",
       "\n",
       "    [theme=dark] .colab-df-convert {\n",
       "      background-color: #3B4455;\n",
       "      fill: #D2E3FC;\n",
       "    }\n",
       "\n",
       "    [theme=dark] .colab-df-convert:hover {\n",
       "      background-color: #434B5C;\n",
       "      box-shadow: 0px 1px 3px 1px rgba(0, 0, 0, 0.15);\n",
       "      filter: drop-shadow(0px 1px 2px rgba(0, 0, 0, 0.3));\n",
       "      fill: #FFFFFF;\n",
       "    }\n",
       "  </style>\n",
       "\n",
       "      <script>\n",
       "        const buttonEl =\n",
       "          document.querySelector('#df-b44e91a9-fbec-432e-adfa-f7ee11ded615 button.colab-df-convert');\n",
       "        buttonEl.style.display =\n",
       "          google.colab.kernel.accessAllowed ? 'block' : 'none';\n",
       "\n",
       "        async function convertToInteractive(key) {\n",
       "          const element = document.querySelector('#df-b44e91a9-fbec-432e-adfa-f7ee11ded615');\n",
       "          const dataTable =\n",
       "            await google.colab.kernel.invokeFunction('convertToInteractive',\n",
       "                                                     [key], {});\n",
       "          if (!dataTable) return;\n",
       "\n",
       "          const docLinkHtml = 'Like what you see? Visit the ' +\n",
       "            '<a target=\"_blank\" href=https://colab.research.google.com/notebooks/data_table.ipynb>data table notebook</a>'\n",
       "            + ' to learn more about interactive tables.';\n",
       "          element.innerHTML = '';\n",
       "          dataTable['output_type'] = 'display_data';\n",
       "          await google.colab.output.renderOutput(dataTable, element);\n",
       "          const docLink = document.createElement('div');\n",
       "          docLink.innerHTML = docLinkHtml;\n",
       "          element.appendChild(docLink);\n",
       "        }\n",
       "      </script>\n",
       "    </div>\n",
       "  </div>\n",
       "  "
      ],
      "text/plain": [
       "                                               enc_inp  \\\n",
       "107                <start> plus your thoughts on <end>   \n",
       "108            <start> plus your thoughts on any <end>   \n",
       "109    <start> plus your thoughts on any changes <end>   \n",
       "110  <start> plus your thoughts on any changes that...   \n",
       "111  <start> plus your thoughts on any changes that...   \n",
       "\n",
       "                                      dec_inp  \\\n",
       "107  <start> any changes that need to be made   \n",
       "108      <start> changes that need to be made   \n",
       "109              <start> that need to be made   \n",
       "110                   <start> need to be made   \n",
       "111                        <start> to be made   \n",
       "\n",
       "                                        our  \n",
       "107  any changes that need to be made <end>  \n",
       "108      changes that need to be made <end>  \n",
       "109              that need to be made <end>  \n",
       "110                   need to be made <end>  \n",
       "111                        to be made <end>  "
      ]
     },
     "execution_count": 10,
     "metadata": {},
     "output_type": "execute_result"
    }
   ],
   "source": [
    "data['enc_inp'] = '<start> ' + data['x_train'].astype(str)  + ' <end>'\n",
    "data['dec_inp'] = '<start> ' + data['y_train'].astype(str)\n",
    "data['our'] = data['y_train'].astype(str) + ' <end>'\n",
    "data = data.drop(['x_train','y_train','x_train_len', 'y_train_len'], axis=1)\n",
    "data.head()"
   ]
  },
  {
   "cell_type": "code",
   "execution_count": 11,
   "metadata": {
    "id": "2OpDjDv1VV3N"
   },
   "outputs": [],
   "source": [
    "from sklearn.model_selection import train_test_split\n",
    "train, test = train_test_split(data, test_size=0.33)"
   ]
  },
  {
   "cell_type": "code",
   "execution_count": 12,
   "metadata": {
    "id": "Pq6lkGL9VX0P"
   },
   "outputs": [],
   "source": [
    "#Train dataset\n",
    "x_train_encoder = train.enc_inp.values\n",
    "x_train_decoder = train.dec_inp.values\n",
    "y_train         = train.our.values"
   ]
  },
  {
   "cell_type": "code",
   "execution_count": 13,
   "metadata": {
    "id": "x7O8I0GbVZze"
   },
   "outputs": [],
   "source": [
    "#test dataset\n",
    "x_test_encoder = test.enc_inp.values\n",
    "x_test_decoder = test.dec_inp.values\n",
    "y_test         = test.our.values"
   ]
  },
  {
   "cell_type": "code",
   "execution_count": 14,
   "metadata": {
    "id": "A9KlEcdRVbDM"
   },
   "outputs": [],
   "source": [
    "def padding(train , test):\n",
    "  tokenizer = tf.keras.preprocessing.text.Tokenizer(filters = '!\"#$%&()*+,-./:;=?@[\\\\]^_`{|}~\\t\\n')\n",
    "  tokenizer.fit_on_texts(train)\n",
    "\n",
    "  x_train =  tokenizer.texts_to_sequences(train)\n",
    "  x_test  =  tokenizer.texts_to_sequences(test)\n",
    "\n",
    "\n",
    "  # padding train and test data using the maximum length\n",
    "  x_train = tf.keras.preprocessing.sequence.pad_sequences(x_train, padding='post')\n",
    "  x_test  = tf.keras.preprocessing.sequence.pad_sequences(x_test,  padding='post')\n",
    "\n",
    "  return tokenizer , x_train , x_test"
   ]
  },
  {
   "cell_type": "code",
   "execution_count": 15,
   "metadata": {
    "id": "kK1HwCeYVcir"
   },
   "outputs": [],
   "source": [
    "enc_token , x_train_enc , x_test_enc = padding(x_train_encoder , x_test_encoder)\n",
    "dec_token , x_train_dec , x_test_dec = padding(x_train_decoder , x_test_decoder)\n",
    "y_token   , y_train     , y_test     = padding(y_train , y_test)"
   ]
  },
  {
   "cell_type": "code",
   "execution_count": 16,
   "metadata": {
    "colab": {
     "base_uri": "https://localhost:8080/"
    },
    "id": "Qr5pfFaLVfV6",
    "outputId": "175237c5-3e23-4201-830d-a383752260c4"
   },
   "outputs": [
    {
     "name": "stdout",
     "output_type": "stream",
     "text": [
      "input vocab size ==> 8555\n",
      "output vocab size ==> 5544\n"
     ]
    }
   ],
   "source": [
    "input_vocab  = len(enc_token.word_index) + 1\n",
    "output_vocab = len(y_token.word_index) + 1\n",
    "print('input vocab size ==>' , input_vocab)\n",
    "print('output vocab size ==>' , output_vocab)"
   ]
  },
  {
   "cell_type": "code",
   "execution_count": 17,
   "metadata": {
    "id": "RuPjBm99VlDX"
   },
   "outputs": [],
   "source": [
    "class Encoder(tf.keras.Model):\n",
    "    '''\n",
    "    Encoder model -- That takes a input sequence and returns output sequence\n",
    "    '''\n",
    "\n",
    "    def __init__(self,inp_vocab_size,embedding_size,lstm_size,input_length):\n",
    "      super().__init__()\n",
    "      self.input_vocab = inp_vocab_size\n",
    "      self.embd_size   = embedding_size\n",
    "      self.lstm_size   = lstm_size\n",
    "      self.input_length = input_length\n",
    "\n",
    "      self.embadding = Embedding(input_dim = self.input_vocab, output_dim = self.embd_size, name=\"embedding_layer_encoder\")\n",
    "      self.lstm      = LSTM(self.lstm_size, return_state=True, return_sequences=True, name=\"Encoder_LSTM\")\n",
    "\n",
    "\n",
    "        #Initialize Embedding layer\n",
    "        #Intialize Encoder LSTM layer\n",
    "\n",
    "    def call(self,input_sequence,states):\n",
    "\n",
    "      input_embd = self.embadding(input_sequence)\n",
    "      lstm_output, lstm_state_h, lstm_state_c = self.lstm(input_embd , states)\n",
    "      return lstm_output, lstm_state_h, lstm_state_c\n",
    "\n",
    "    \n",
    "    def initialize_states(self,batch_size):\n",
    "\n",
    "      return tf.zeros((batch_size, self.lstm_size)) , tf.zeros((batch_size, self.lstm_size))\n",
    "      "
   ]
  },
  {
   "cell_type": "code",
   "execution_count": 18,
   "metadata": {
    "id": "79ITBS9GVmk0"
   },
   "outputs": [],
   "source": [
    "class Attention(tf.keras.layers.Layer):\n",
    "  '''\n",
    "    Class the calculates score based on the scoring_function using Bahdanu attention mechanism.\n",
    "  '''\n",
    "  def __init__(self,scoring_function, att_units):\n",
    "    super().__init__()\n",
    "    self.scoring_function = scoring_function\n",
    "\n",
    "    if self.scoring_function=='dot':\n",
    "      self.mul = tf.matmul\n",
    "      pass\n",
    "    if scoring_function == 'general':\n",
    "      self.dense = Dense(att_units)\n",
    "      self.mul   = tf.matmul\n",
    "      pass\n",
    "    elif scoring_function == 'concat':\n",
    "      self.tanh_activation = tf.nn.tanh\n",
    "      self.dense_concat_1  = Dense(att_units)\n",
    "      self.dense_concat_2  = Dense(att_units)\n",
    "      self.dens_1          = Dense(1)\n",
    "      pass\n",
    "\n",
    "  def call(self,decoder_hidden_state,encoder_output):\n",
    "\n",
    "    if self.scoring_function == 'dot':\n",
    "      decoder_hidden_state = tf.expand_dims(decoder_hidden_state, -1)\n",
    "      score = self.mul(encoder_output , decoder_hidden_state)\n",
    "      pass\n",
    "\n",
    "    elif self.scoring_function == 'general':\n",
    "      transformed_enc_out  = self.dense(encoder_output)\n",
    "      decoder_hidden_state = tf.expand_dims(decoder_hidden_state, -1)\n",
    "      score = self.mul(transformed_enc_out, decoder_hidden_state)\n",
    "      pass\n",
    "\n",
    "    elif self.scoring_function == 'concat':\n",
    "      transform_enc_out = self.dense_concat_1(encoder_output)\n",
    "      transform_dec_hidden_state = self.dense_concat_2(decoder_hidden_state)\n",
    "\n",
    "      adding = add([transform_enc_out, tf.expand_dims(transform_dec_hidden_state,1)])\n",
    "      adding = self.tanh_activation(adding)\n",
    "      score = self.dens_1(adding)\n",
    "      pass\n",
    "\n",
    "    score = tf.squeeze(score, axis = -1)\n",
    "    attention_weight = tf.nn.softmax(score)\n",
    "\n",
    "    attention_weight = tf.expand_dims(attention_weight, axis = -1)\n",
    "    #print(attention_weight.shape)\n",
    "    context_vector = tf.matmul(tf.transpose(encoder_output, perm = [0,2,1]), attention_weight)\n",
    "    context_vector = tf.squeeze(context_vector, axis = -1)\n",
    "    return context_vector, attention_weight"
   ]
  },
  {
   "cell_type": "code",
   "execution_count": 19,
   "metadata": {
    "id": "pJ5fBf5FVn6Y"
   },
   "outputs": [],
   "source": [
    "class One_Step_Decoder(tf.keras.Model):\n",
    "  def __init__(self,tar_vocab_size, embedding_dim, input_length, dec_units ,score_fun ,att_units):\n",
    "\n",
    "    super().__init__()\n",
    "    self.tar_vocab_size = tar_vocab_size\n",
    "    self.embedding_dim  = embedding_dim\n",
    "    self.input_length  = input_length\n",
    "    self.dec_units      = dec_units\n",
    "    self.score_fun      = score_fun\n",
    "    self.att_units      = att_units\n",
    "\n",
    "    #defining the lstm, embedding dense and Attention layer\n",
    "\n",
    "    self.embadding = Embedding(input_dim=self.tar_vocab_size, output_dim=self.embedding_dim, name= 'embedding_layer_decoder')\n",
    "    self.lstm      = LSTM(self.dec_units, return_state=True,return_sequences=True, name='lstm_layer_decoder')\n",
    "    self.dense     = Dense(self.tar_vocab_size, name= 'dense_layer_decoder')\n",
    "    self.attention = Attention(self.score_fun, self.att_units)\n",
    "\n",
    "\n",
    "      # Initialize decoder embedding layer, LSTM and any other objects needed\n",
    "\n",
    "\n",
    "\n",
    "  def call(self,input_to_decoder, encoder_output, state_h,state_c):\n",
    "    '''\n",
    "        One step decoder mechanisim step by step:\n",
    "      A. Pass the input_to_decoder to the embedding layer and then get the output(batch_size,1,embedding_dim)\n",
    "      B. Using the encoder_output and decoder hidden state, compute the context vector.\n",
    "      C. Concat the context vector with the step A output\n",
    "      D. Pass the Step-C output to LSTM/GRU and get the decoder output and states(hidden and cell state)\n",
    "      E. Pass the decoder output to dense layer(vocab size) and store the result into output.\n",
    "      F. Return the states from step D, output from Step E, attention weights from Step -B\n",
    "    '''\n",
    "\n",
    "    input = self.embadding(input_to_decoder)\n",
    "    context_vector, attention_weights = self.attention(state_h , encoder_output)\n",
    "    concat = tf.concat([tf.expand_dims(context_vector, 1), input], axis=-1)\n",
    "\n",
    "    decoder_output, state_h, state_c = self.lstm(concat)\n",
    "    decoder_output = tf.reshape(decoder_output, (-1, decoder_output.shape[2]))\n",
    "    output = self.dense(decoder_output)\n",
    "\n",
    "    return output, state_h, state_c, attention_weights, context_vector\n"
   ]
  },
  {
   "cell_type": "code",
   "execution_count": 20,
   "metadata": {
    "id": "KL0yv2hAVpQp"
   },
   "outputs": [],
   "source": [
    "class Decoder(tf.keras.Model):\n",
    "    def __init__(self,out_vocab_size, embedding_dim, input_length, dec_units ,score_fun ,att_units):\n",
    "      #Intialize necessary variables and create an object from the class onestepdecoder\n",
    "      super().__init__()\n",
    "\n",
    "      self.out_vocab_size = out_vocab_size\n",
    "      self.embedding_dim  = embedding_dim\n",
    "      self.input_length   = input_length\n",
    "      self.dec_units      = dec_units\n",
    "      self.score_fun      = score_fun\n",
    "      self.att_units      = att_units\n",
    "      self.One_Step_Decoder = One_Step_Decoder(self.out_vocab_size, self.embedding_dim, self.input_length, self.dec_units, self.score_fun, self.att_units)\n",
    "\n",
    "        \n",
    "    def call(self, input_to_decoder,encoder_output,decoder_hidden_state,decoder_cell_state ):\n",
    "\n",
    "        #Initialize an empty Tensor array, that will store the outputs at each and every time step\n",
    "        final_outputs= tf.TensorArray(tf.float32, size= input_to_decoder.shape[1], name=\"output_arrays\")\n",
    "        #Create a tensor array as shown in the reference notebook\n",
    "        #Iterate till the length of the decoder input\n",
    "        for timestep in range(input_to_decoder.shape[1]):\n",
    "          # Call onestepdecoder for each token in decoder_input\n",
    "          output, decoder_hidden_state, decoder_cell_state, attention_weights, context_vector = self.One_Step_Decoder(input_to_decoder[:,timestep:timestep+1], encoder_output, decoder_hidden_state,decoder_cell_state )\n",
    "          final_outputs = final_outputs.write(timestep, output)\n",
    "        \n",
    "        # Store the output in tensorarray\n",
    "        final_outputs = tf.transpose(final_outputs.stack(), [1, 0, 2])\n",
    "        # Return the tensor array\n",
    "        return final_outputs\n",
    "            \n",
    "        \n",
    "    "
   ]
  },
  {
   "cell_type": "code",
   "execution_count": 21,
   "metadata": {
    "id": "cdwfKKiYVqxP"
   },
   "outputs": [],
   "source": [
    "class encoder_decoder(tf.keras.Model):\n",
    "  def __init__(self, inp_vocab_size, out_vocab_size, embedding_size, enc_lstm_units, dec_lstm_units, enc_input_length, dec_input_length, score_fun, att_units):\n",
    "    super().__init__()\n",
    "    self.inp_vocab_size = inp_vocab_size\n",
    "    self.out_vocab_size = out_vocab_size\n",
    "    self.embedding_size = embedding_size\n",
    "    self.enc_lstm_units = enc_lstm_units\n",
    "    self.dec_lstm_units = dec_lstm_units\n",
    "    self.enc_input_length = enc_input_length\n",
    "    self.dec_input_length = dec_input_length\n",
    "    self.score_fun = score_fun\n",
    "    self.att_units = att_units\n",
    "    #Intialize objects from encoder decoder\n",
    "    \n",
    "    self.encoder = Encoder(self.inp_vocab_size, self.embedding_size, self.enc_lstm_units, self.enc_input_length)\n",
    "    self.decoder = Decoder(self.out_vocab_size, self.embedding_size, self.dec_input_length, self.dec_lstm_units, self.score_fun, self.att_units)\n",
    "    #there is no need to dense layer because we use a custom loss funn..\n",
    "    #self.dense   = Dense(self.out_vocab_size, activation='softmax')\n",
    "\n",
    "  \n",
    "  def call(self,data):\n",
    "    #Intialize encoder states, Pass the encoder_sequence to the embedding layer\n",
    "    # Decoder initial states are encoder final states, Initialize it accordingly\n",
    "    # Pass the decoder sequence,encoder_output,decoder states to Decoder\n",
    "    # return the decoder output\n",
    "    encoder_input , decoder_input = data[0] , data[1]\n",
    "    enc_initial_state= self.encoder.initialize_states(tf.shape(encoder_input)[0])\n",
    "    enc_out, enc_h_state, enc_c_state = self.encoder(encoder_input, enc_initial_state)\n",
    "\n",
    "    dec_out = self.decoder(decoder_input, enc_out, enc_h_state, enc_c_state)\n",
    "    #dec_out = self.dense(dec_out)\n",
    "    return dec_out"
   ]
  },
  {
   "cell_type": "code",
   "execution_count": 39,
   "metadata": {
    "id": "K0QSaWwcVsay"
   },
   "outputs": [],
   "source": [
    "#defining the model\n",
    "from tensorflow.keras.layers import Embedding, LSTM, Dense, Activation , add\n",
    "#self, inp_vocab_size, out_vocab_size, embedding_size, enc_lstm_units, dec_lstm_units, enc_input_length, dec_input_length, score_fun, att_units\n",
    "tf.keras.backend.clear_session()\n",
    "attention_dot_model = encoder_decoder(inp_vocab_size = input_vocab, out_vocab_size = output_vocab,\n",
    "                                      embedding_size = 256, enc_lstm_units = 200, dec_lstm_units = 200, \n",
    "                                      enc_input_length = 31, dec_input_length = 8, score_fun = 'dot', \n",
    "                                      att_units = 200)\n",
    "his = tf.keras.callbacks.History()\n",
    "callbacks = [tf.keras.callbacks.TensorBoard(log_dir='logs/model3') , his]\n",
    "#compiling the model\n",
    "attention_dot_model.compile(optimizer = tf.keras.optimizers.Adam(), loss = 'sparse_categorical_crossentropy')"
   ]
  },
  {
   "cell_type": "code",
   "execution_count": 40,
   "metadata": {
    "colab": {
     "base_uri": "https://localhost:8080/"
    },
    "id": "3pAdG6n5VuNi",
    "outputId": "fc463b1a-08ab-4cbf-80d6-fb3757021268"
   },
   "outputs": [
    {
     "name": "stdout",
     "output_type": "stream",
     "text": [
      "Epoch 1/20\n",
      "82/82 [==============================] - 36s 214ms/step - loss: 8.4089 - val_loss: 7.7504\n",
      "Epoch 2/20\n",
      "82/82 [==============================] - 13s 159ms/step - loss: 7.8038 - val_loss: 7.8336\n",
      "Epoch 3/20\n",
      "82/82 [==============================] - 14s 169ms/step - loss: 7.9021 - val_loss: 7.9404\n",
      "Epoch 4/20\n",
      "82/82 [==============================] - 14s 168ms/step - loss: 7.7836 - val_loss: 7.8219\n",
      "Epoch 5/20\n",
      "82/82 [==============================] - 13s 159ms/step - loss: 7.8078 - val_loss: 7.8682\n",
      "Epoch 6/20\n",
      "82/82 [==============================] - 14s 168ms/step - loss: 7.8405 - val_loss: 7.8865\n",
      "Epoch 7/20\n",
      "82/82 [==============================] - 13s 158ms/step - loss: 7.7629 - val_loss: 7.7553\n",
      "Epoch 8/20\n",
      "82/82 [==============================] - 14s 168ms/step - loss: 7.7562 - val_loss: 7.8049\n",
      "Epoch 9/20\n",
      "82/82 [==============================] - 14s 167ms/step - loss: 7.8071 - val_loss: 7.8610\n",
      "Epoch 10/20\n",
      "82/82 [==============================] - 14s 168ms/step - loss: 7.8822 - val_loss: 7.8000\n",
      "Epoch 11/20\n",
      "82/82 [==============================] - 13s 158ms/step - loss: 7.7869 - val_loss: 7.9831\n",
      "Epoch 12/20\n",
      "82/82 [==============================] - 13s 158ms/step - loss: 7.7985 - val_loss: 7.8317\n",
      "Epoch 13/20\n",
      "82/82 [==============================] - 14s 168ms/step - loss: 7.8419 - val_loss: 7.8835\n",
      "Epoch 14/20\n",
      "82/82 [==============================] - 14s 167ms/step - loss: 7.8405 - val_loss: 7.8544\n",
      "Epoch 15/20\n",
      "82/82 [==============================] - 14s 167ms/step - loss: 7.8658 - val_loss: 7.7851\n",
      "Epoch 16/20\n",
      "82/82 [==============================] - 14s 168ms/step - loss: 7.8078 - val_loss: 7.8304\n",
      "Epoch 17/20\n",
      "82/82 [==============================] - 13s 159ms/step - loss: 7.8208 - val_loss: 7.8656\n",
      "Epoch 18/20\n",
      "82/82 [==============================] - 14s 168ms/step - loss: 7.8070 - val_loss: 7.8055\n",
      "Epoch 19/20\n",
      "82/82 [==============================] - 14s 167ms/step - loss: 7.7627 - val_loss: 7.7963\n",
      "Epoch 20/20\n",
      "82/82 [==============================] - 14s 168ms/step - loss: 7.7791 - val_loss: 7.8595\n"
     ]
    },
    {
     "data": {
      "text/plain": [
       "<keras.callbacks.History at 0x7f02d5aeda10>"
      ]
     },
     "execution_count": 40,
     "metadata": {},
     "output_type": "execute_result"
    }
   ],
   "source": [
    "attention_dot_model.fit([x_train_enc , x_train_dec], y_train, batch_size = 512, epochs = 20, validation_data = ([x_test_enc,x_test_dec], y_test), callbacks = callbacks)"
   ]
  },
  {
   "cell_type": "code",
   "execution_count": 35,
   "metadata": {
    "id": "GtPdjVfdWC83"
   },
   "outputs": [],
   "source": [
    "eng_word = y_token.word_index\n",
    "new_dict = dict([(value, key) for key, value in eng_word.items()])\n",
    "new_dict[0] = 'start'"
   ]
  },
  {
   "cell_type": "code",
   "execution_count": 36,
   "metadata": {
    "colab": {
     "base_uri": "https://localhost:8080/",
     "height": 35
    },
    "id": "ZaxwWEsVYYly",
    "outputId": "21f54e69-ab3d-44b5-d4db-f9ed53fa4977"
   },
   "outputs": [
    {
     "data": {
      "application/vnd.google.colaboratory.intrinsic+json": {
       "type": "string"
      },
      "text/plain": [
       "'matter <end>'"
      ]
     },
     "execution_count": 36,
     "metadata": {},
     "output_type": "execute_result"
    }
   ],
   "source": [
    "model = attention_dot_model\n",
    "def predict_dot_model(input_sentence):\n",
    "# A. Given input sentence, convert the sentence into integers using tokenizer used earlier\n",
    "#here we also check the we have the start and end token in sentences\n",
    "#then we convert out input into to token and do a padding\n",
    "  input = input_sentence\n",
    "  if input.split(' ')[0] != '<start>' and input.split(' ')[-1] != '<end>':\n",
    "    input = '<start>'+ ' ' + input + ' ' + '<end>'\n",
    "  else:\n",
    "    input = str(input)\n",
    "  input = enc_token.texts_to_sequences([str(input)])\n",
    "  input = pad_sequences(input, padding= 'post',maxlen= 20)\n",
    "\n",
    "#as we know we have a two layer 1 ==> encoder 2 ==> decoder\n",
    "#so first is encoder we give the input as input sec and ini_state\n",
    "\n",
    "  enc_ini_states = model.layers[0].initialize_states(1)\n",
    "  enc_out, enc_h_state, enc_c_state = model.layers[0](input, enc_ini_states)\n",
    "\n",
    "  dec_h_state = enc_h_state\n",
    "  dec_c_state = enc_c_state\n",
    "\n",
    "\n",
    "#output of the encoder is a input as decoder\n",
    "# first word input of decoder is start token \n",
    "# then 2nd input of decoder is predecting word by model\n",
    "\n",
    "  decoder_initial_input = np.zeros((1,1))\n",
    "  decoder_initial_input[0,0] = dec_token.word_index['<start>']\n",
    "\n",
    "#here we store the word weigth , word and predicted word here predicted word means word token and word means word token corresponding word\n",
    "  predict_word = []\n",
    "  word = []\n",
    "  all_weight = []\n",
    "  for i in range(20):\n",
    "\n",
    "    predict , dec_h_state, dec_c_state, att_weight, con_vector =  model.layers[1].One_Step_Decoder(decoder_initial_input, enc_out, dec_h_state, dec_c_state)\n",
    "\n",
    "    # we use 3rd layer and we get the max proba word as out put and the this word is next input of the decoder \n",
    "    english_predict = np.argmax((predict).numpy().ravel())\n",
    "    predict_word.append(english_predict)\n",
    "    decoder_initial_input[0,0] = english_predict\n",
    "    #replacing the next decoder initial states with current decoder output \n",
    "    #decoder_initial_state = [dec_h_state, dec_c_state]\n",
    "    word.append(new_dict[english_predict])\n",
    "    all_weight.append(att_weight.numpy().ravel())\n",
    "\n",
    "    weight = np.array(all_weight)\n",
    "\n",
    "    if new_dict[english_predict] == '<end>':\n",
    "      break \n",
    "  return ' '.join(word) , weight #return the weight and predicted word\n",
    "predict_dot_model('<start> how are you and tell me  <end>')[0]"
   ]
  },
  {
   "cell_type": "code",
   "execution_count": 37,
   "metadata": {
    "colab": {
     "base_uri": "https://localhost:8080/"
    },
    "id": "hxGSHDJYYbs7",
    "outputId": "5b380481-1bc9-46f0-e7c5-774dc2e1e6b1"
   },
   "outputs": [
    {
     "name": "stdout",
     "output_type": "stream",
     "text": [
      "Input  ==> <start> you got it please forward to others whom you think might <end>\n",
      "Output ==> be interested <end>\n",
      "Predict ==> matter <end>\n",
      "====================================================================================================\n",
      "Input  ==> <start> we will use the same <end>\n",
      "Output ==> gas quality for each location <end>\n",
      "Predict ==> matter <end>\n",
      "====================================================================================================\n",
      "Input  ==> <start> currently you can only request test access production access should be added later this <end>\n",
      "Output ==> week <end>\n",
      "Predict ==> matter <end>\n",
      "====================================================================================================\n",
      "Input  ==> <start> i hope that you will be <end>\n",
      "Output ==> able to participate <end>\n",
      "Predict ==> matter <end>\n",
      "====================================================================================================\n",
      "Input  ==> <start> can you reassure me you <end>\n",
      "Output ==> are making up for my ineptitude <end>\n",
      "Predict ==> matter <end>\n",
      "====================================================================================================\n",
      "Input  ==> <start> i approve the expense and hourly rate might be the bargain <end>\n",
      "Output ==> of the century <end>\n",
      "Predict ==> matter <end>\n",
      "====================================================================================================\n",
      "Input  ==> <start> i would request that these receivables get written off in order to clean up the books if you have any questions please do not <end>\n",
      "Output ==> hesitate to give me a call <end>\n",
      "Predict ==> see weeks <end>\n",
      "====================================================================================================\n",
      "Input  ==> <start> i woke up and could <end>\n",
      "Output ==> not get back to sleep <end>\n",
      "Predict ==> matter <end>\n",
      "====================================================================================================\n",
      "Input  ==> <start> she is correct that no notice is required to conduct the <end>\n",
      "Output ==> characterization <end>\n",
      "Predict ==> matter <end>\n",
      "====================================================================================================\n",
      "Input  ==> <start> thanks again for all <end>\n",
      "Output ==> your help <end>\n",
      "Predict ==> matter <end>\n",
      "====================================================================================================\n",
      "Input  ==> <start> we are overlooking the pool now so stop by and visit i have attached the new address phone numbers <end>\n",
      "Output ==> will remain the same <end>\n",
      "Predict ==> see better resume mail crown <end>\n",
      "====================================================================================================\n",
      "Input  ==> <start> we have designed a new format that more accurately reflects the organizational changes that have <end>\n",
      "Output ==> recently taken place <end>\n",
      "Predict ==> matter <end>\n",
      "====================================================================================================\n",
      "Input  ==> <start> this means you can <end>\n",
      "Output ==> do big deals and small deals <end>\n",
      "Predict ==> matter <end>\n",
      "====================================================================================================\n",
      "Input  ==> <start> it was too early to say whether the governor would support the plan he said we are dangerously close to losing our businesses <end>\n",
      "Output ==> to other states <end>\n",
      "Predict ==> matter <end>\n",
      "====================================================================================================\n",
      "Input  ==> <start> your friend is defense however has <end>\n",
      "Output ==> other plans <end>\n",
      "Predict ==> matter <end>\n",
      "====================================================================================================\n",
      "Input  ==> <start> jesus condensate reimbursement short payments please review this letter <end>\n",
      "Output ==> and give me your observations suggestions <end>\n",
      "Predict ==> matter <end>\n",
      "====================================================================================================\n",
      "Input  ==> <start> it is a fantastic tool donahue <end>\n",
      "Output ==> also thinks it is a great tool <end>\n",
      "Predict ==> matter <end>\n",
      "====================================================================================================\n",
      "Input  ==> <start> also on an unrelated note see <end>\n",
      "Output ==> you in a bit <end>\n",
      "Predict ==> matter <end>\n",
      "====================================================================================================\n",
      "Input  ==> <start> please make sure you are contactable <end>\n",
      "Output ==> if problems occur <end>\n",
      "Predict ==> matter <end>\n",
      "====================================================================================================\n",
      "Input  ==> <start> i am looking forward to receiving <end>\n",
      "Output ==> you hourly data for our index soon <end>\n",
      "Predict ==> matter <end>\n",
      "====================================================================================================\n"
     ]
    }
   ],
   "source": [
    "data_sam = data.sample(20)\n",
    "for i in range(20):\n",
    "  print('Input  ==>' , data_sam.enc_inp.iloc[i])\n",
    "  print('Output ==>' , data_sam.our.iloc[i])\n",
    "  print('Predict ==>', predict_dot_model(data_sam.enc_inp.iloc[i])[0])\n",
    "  print(50 * '==')"
   ]
  },
  {
   "cell_type": "code",
   "execution_count": 33,
   "metadata": {
    "colab": {
     "base_uri": "https://localhost:8080/"
    },
    "id": "z52Y13j7ZXjn",
    "outputId": "36e74b06-a61c-4b74-ff1b-8919771c3ebd"
   },
   "outputs": [
    {
     "name": "stderr",
     "output_type": "stream",
     "text": [
      "/usr/local/lib/python3.7/dist-packages/nltk/translate/bleu_score.py:490: UserWarning: \n",
      "Corpus/Sentence contains 0 counts of 2-gram overlaps.\n",
      "BLEU scores might be undesirable; use SmoothingFunction().\n",
      "  warnings.warn(_msg)\n",
      "/usr/local/lib/python3.7/dist-packages/nltk/translate/bleu_score.py:490: UserWarning: \n",
      "Corpus/Sentence contains 0 counts of 3-gram overlaps.\n",
      "BLEU scores might be undesirable; use SmoothingFunction().\n",
      "  warnings.warn(_msg)\n"
     ]
    },
    {
     "name": "stdout",
     "output_type": "stream",
     "text": [
      "Bleu Score is ==>  0.22802166966108614\n"
     ]
    }
   ],
   "source": [
    "data_sam = data.sample(1000)\n",
    "import nltk.translate.bleu_score as bleu\n",
    "bleu_score = []\n",
    "for i in range(1000):\n",
    "  reference  = data_sam.enc_inp.iloc[i] \n",
    "  translation = predict_dot_model(data_sam.enc_inp.iloc[i])[0]\n",
    "  bleu_score.append(bleu.sentence_bleu([reference.split(),], translation.split()))\n",
    "print('Bleu Score is ==> ', np.mean(bleu_score))"
   ]
  },
  {
   "cell_type": "markdown",
   "metadata": {
    "id": "mSoDS9U8jHq2"
   },
   "source": [
    "# Model Compering"
   ]
  },
  {
   "cell_type": "code",
   "execution_count": 3,
   "metadata": {
    "id": "79-GKCs6vCpH"
   },
   "outputs": [
    {
     "name": "stdout",
     "output_type": "stream",
     "text": [
      "+--------------------------------+------------+\n",
      "|           Model Name           | BLUE Score |\n",
      "+--------------------------------+------------+\n",
      "|          Simple LSTM           |    0.20    |\n",
      "|        Encoder Decoder         |    0.68    |\n",
      "| Encoder Decoder With Attention |    0.22    |\n",
      "+--------------------------------+------------+\n"
     ]
    }
   ],
   "source": [
    "from prettytable import PrettyTable\n",
    "\n",
    "# Specify the Column Names while initializing the Table\n",
    "myTable = PrettyTable([\"Model Name\", \"BLUE Score\"])\n",
    "\n",
    "# Add rows\n",
    "myTable.add_row([\"Simple LSTM\", \"0.20\"])\n",
    "myTable.add_row([\"Encoder Decoder\" , '0.68'])\n",
    "myTable.add_row([\"Encoder Decoder With Attention\", '0.22'])\n",
    "\n",
    "\n",
    "print(myTable)"
   ]
  },
  {
   "cell_type": "code",
   "execution_count": null,
   "metadata": {},
   "outputs": [],
   "source": []
  }
 ],
 "metadata": {
  "accelerator": "GPU",
  "colab": {
   "collapsed_sections": [
    "GaBEQDbzT0S7",
    "ECzz2i5x73pB",
    "r-W_9nXscO9a"
   ],
   "name": "case_study_2with_gd",
   "provenance": []
  },
  "kernelspec": {
   "display_name": "Python 3 (ipykernel)",
   "language": "python",
   "name": "python3"
  },
  "language_info": {
   "codemirror_mode": {
    "name": "ipython",
    "version": 3
   },
   "file_extension": ".py",
   "mimetype": "text/x-python",
   "name": "python",
   "nbconvert_exporter": "python",
   "pygments_lexer": "ipython3",
   "version": "3.8.0rc1"
  }
 },
 "nbformat": 4,
 "nbformat_minor": 4
}
