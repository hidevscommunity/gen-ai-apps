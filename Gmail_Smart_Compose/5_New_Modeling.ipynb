{
 "cells": [
  {
   "cell_type": "markdown",
   "metadata": {
    "id": "0d-91IrIiXAe"
   },
   "source": [
    "# **8.The Baseline Modelling**"
   ]
  },
  {
   "cell_type": "code",
   "execution_count": 34,
   "metadata": {
    "id": "c6emS-njKdIG"
   },
   "outputs": [],
   "source": [
    "import pandas as pd\n",
    "import numpy as np\n",
    "import matplotlib.pyplot as plt\n",
    "from tqdm import tqdm\n",
    "import email\n",
    "import seaborn as sns\n",
    "import tensorflow as tf\n",
    "import pandas as pd\n",
    "from tensorflow.keras.preprocessing.text import Tokenizer\n",
    "from tensorflow.keras.preprocessing.sequence import pad_sequences"
   ]
  },
  {
   "cell_type": "code",
   "execution_count": 35,
   "metadata": {
    "id": "YO9niMldijyl"
   },
   "outputs": [],
   "source": [
    "import joblib\n",
    "df = joblib.load('/content/drive/MyDrive/case study 2/final_40k.pkl')"
   ]
  },
  {
   "cell_type": "code",
   "execution_count": 36,
   "metadata": {
    "colab": {
     "base_uri": "https://localhost:8080/"
    },
    "id": "i472OuP6i7L9",
    "outputId": "fd4c3b3d-7a95-4d26-80c0-625c57dd1df3"
   },
   "outputs": [
    {
     "data": {
      "text/plain": [
       "(41474, 2)"
      ]
     },
     "execution_count": 36,
     "metadata": {},
     "output_type": "execute_result"
    }
   ],
   "source": [
    "df.shape"
   ]
  },
  {
   "cell_type": "code",
   "execution_count": 38,
   "metadata": {
    "colab": {
     "base_uri": "https://localhost:8080/",
     "height": 206
    },
    "id": "FV6wt03yi_EF",
    "outputId": "d7371f35-eb06-41c8-91e8-b88a453068de"
   },
   "outputs": [
    {
     "data": {
      "text/html": [
       "\n",
       "  <div id=\"df-d895628c-d726-4428-b64b-a44ba868e7c4\">\n",
       "    <div class=\"colab-df-container\">\n",
       "      <div>\n",
       "<style scoped>\n",
       "    .dataframe tbody tr th:only-of-type {\n",
       "        vertical-align: middle;\n",
       "    }\n",
       "\n",
       "    .dataframe tbody tr th {\n",
       "        vertical-align: top;\n",
       "    }\n",
       "\n",
       "    .dataframe thead th {\n",
       "        text-align: right;\n",
       "    }\n",
       "</style>\n",
       "<table border=\"1\" class=\"dataframe\">\n",
       "  <thead>\n",
       "    <tr style=\"text-align: right;\">\n",
       "      <th></th>\n",
       "      <th>mail</th>\n",
       "      <th>len</th>\n",
       "    </tr>\n",
       "  </thead>\n",
       "  <tbody>\n",
       "    <tr>\n",
       "      <th>0</th>\n",
       "      <td>here our forecast</td>\n",
       "      <td>17</td>\n",
       "    </tr>\n",
       "    <tr>\n",
       "      <th>1</th>\n",
       "      <td>traveling have business meeting takes the fun ...</td>\n",
       "      <td>534</td>\n",
       "    </tr>\n",
       "    <tr>\n",
       "      <th>2</th>\n",
       "      <td>test successful way</td>\n",
       "      <td>19</td>\n",
       "    </tr>\n",
       "    <tr>\n",
       "      <th>3</th>\n",
       "      <td>randy can you send schedule the salary and lev...</td>\n",
       "      <td>132</td>\n",
       "    </tr>\n",
       "    <tr>\n",
       "      <th>4</th>\n",
       "      <td>let shoot for tuesday</td>\n",
       "      <td>21</td>\n",
       "    </tr>\n",
       "  </tbody>\n",
       "</table>\n",
       "</div>\n",
       "      <button class=\"colab-df-convert\" onclick=\"convertToInteractive('df-d895628c-d726-4428-b64b-a44ba868e7c4')\"\n",
       "              title=\"Convert this dataframe to an interactive table.\"\n",
       "              style=\"display:none;\">\n",
       "        \n",
       "  <svg xmlns=\"http://www.w3.org/2000/svg\" height=\"24px\"viewBox=\"0 0 24 24\"\n",
       "       width=\"24px\">\n",
       "    <path d=\"M0 0h24v24H0V0z\" fill=\"none\"/>\n",
       "    <path d=\"M18.56 5.44l.94 2.06.94-2.06 2.06-.94-2.06-.94-.94-2.06-.94 2.06-2.06.94zm-11 1L8.5 8.5l.94-2.06 2.06-.94-2.06-.94L8.5 2.5l-.94 2.06-2.06.94zm10 10l.94 2.06.94-2.06 2.06-.94-2.06-.94-.94-2.06-.94 2.06-2.06.94z\"/><path d=\"M17.41 7.96l-1.37-1.37c-.4-.4-.92-.59-1.43-.59-.52 0-1.04.2-1.43.59L10.3 9.45l-7.72 7.72c-.78.78-.78 2.05 0 2.83L4 21.41c.39.39.9.59 1.41.59.51 0 1.02-.2 1.41-.59l7.78-7.78 2.81-2.81c.8-.78.8-2.07 0-2.86zM5.41 20L4 18.59l7.72-7.72 1.47 1.35L5.41 20z\"/>\n",
       "  </svg>\n",
       "      </button>\n",
       "      \n",
       "  <style>\n",
       "    .colab-df-container {\n",
       "      display:flex;\n",
       "      flex-wrap:wrap;\n",
       "      gap: 12px;\n",
       "    }\n",
       "\n",
       "    .colab-df-convert {\n",
       "      background-color: #E8F0FE;\n",
       "      border: none;\n",
       "      border-radius: 50%;\n",
       "      cursor: pointer;\n",
       "      display: none;\n",
       "      fill: #1967D2;\n",
       "      height: 32px;\n",
       "      padding: 0 0 0 0;\n",
       "      width: 32px;\n",
       "    }\n",
       "\n",
       "    .colab-df-convert:hover {\n",
       "      background-color: #E2EBFA;\n",
       "      box-shadow: 0px 1px 2px rgba(60, 64, 67, 0.3), 0px 1px 3px 1px rgba(60, 64, 67, 0.15);\n",
       "      fill: #174EA6;\n",
       "    }\n",
       "\n",
       "    [theme=dark] .colab-df-convert {\n",
       "      background-color: #3B4455;\n",
       "      fill: #D2E3FC;\n",
       "    }\n",
       "\n",
       "    [theme=dark] .colab-df-convert:hover {\n",
       "      background-color: #434B5C;\n",
       "      box-shadow: 0px 1px 3px 1px rgba(0, 0, 0, 0.15);\n",
       "      filter: drop-shadow(0px 1px 2px rgba(0, 0, 0, 0.3));\n",
       "      fill: #FFFFFF;\n",
       "    }\n",
       "  </style>\n",
       "\n",
       "      <script>\n",
       "        const buttonEl =\n",
       "          document.querySelector('#df-d895628c-d726-4428-b64b-a44ba868e7c4 button.colab-df-convert');\n",
       "        buttonEl.style.display =\n",
       "          google.colab.kernel.accessAllowed ? 'block' : 'none';\n",
       "\n",
       "        async function convertToInteractive(key) {\n",
       "          const element = document.querySelector('#df-d895628c-d726-4428-b64b-a44ba868e7c4');\n",
       "          const dataTable =\n",
       "            await google.colab.kernel.invokeFunction('convertToInteractive',\n",
       "                                                     [key], {});\n",
       "          if (!dataTable) return;\n",
       "\n",
       "          const docLinkHtml = 'Like what you see? Visit the ' +\n",
       "            '<a target=\"_blank\" href=https://colab.research.google.com/notebooks/data_table.ipynb>data table notebook</a>'\n",
       "            + ' to learn more about interactive tables.';\n",
       "          element.innerHTML = '';\n",
       "          dataTable['output_type'] = 'display_data';\n",
       "          await google.colab.output.renderOutput(dataTable, element);\n",
       "          const docLink = document.createElement('div');\n",
       "          docLink.innerHTML = docLinkHtml;\n",
       "          element.appendChild(docLink);\n",
       "        }\n",
       "      </script>\n",
       "    </div>\n",
       "  </div>\n",
       "  "
      ],
      "text/plain": [
       "                                                mail  len\n",
       "0                                  here our forecast   17\n",
       "1  traveling have business meeting takes the fun ...  534\n",
       "2                                test successful way   19\n",
       "3  randy can you send schedule the salary and lev...  132\n",
       "4                              let shoot for tuesday   21"
      ]
     },
     "execution_count": 38,
     "metadata": {},
     "output_type": "execute_result"
    }
   ],
   "source": [
    "df.head()"
   ]
  },
  {
   "cell_type": "code",
   "execution_count": 39,
   "metadata": {
    "id": "ShAKXj1ujAyd"
   },
   "outputs": [],
   "source": [
    "from sklearn.model_selection import train_test_split\n",
    "train , test = train_test_split(df.mail, test_size=0.30, random_state=42)"
   ]
  },
  {
   "cell_type": "code",
   "execution_count": 40,
   "metadata": {
    "colab": {
     "base_uri": "https://localhost:8080/"
    },
    "id": "qQRvkQLQjEM3",
    "outputId": "850037a8-b792-4dd2-d5ed-c84182925208"
   },
   "outputs": [
    {
     "name": "stderr",
     "output_type": "stream",
     "text": [
      "100%|██████████| 29031/29031 [00:01<00:00, 22693.37it/s]\n"
     ]
    }
   ],
   "source": [
    "x = []\n",
    "y = []\n",
    "for i in tqdm(train):\n",
    "  a = i.split()\n",
    "  for j in range(1,len(a)):\n",
    "        x.append(' '.join(a[:j]))\n",
    "        y.append(' '.join(a[j:]))"
   ]
  },
  {
   "cell_type": "code",
   "execution_count": 41,
   "metadata": {
    "colab": {
     "base_uri": "https://localhost:8080/",
     "height": 206
    },
    "id": "J_nU-PJqjFst",
    "outputId": "6f783f56-1e8f-4937-ed31-09aada1a02a6"
   },
   "outputs": [
    {
     "data": {
      "text/html": [
       "\n",
       "  <div id=\"df-0169757e-bb5e-4422-a954-e81887ee8ce9\">\n",
       "    <div class=\"colab-df-container\">\n",
       "      <div>\n",
       "<style scoped>\n",
       "    .dataframe tbody tr th:only-of-type {\n",
       "        vertical-align: middle;\n",
       "    }\n",
       "\n",
       "    .dataframe tbody tr th {\n",
       "        vertical-align: top;\n",
       "    }\n",
       "\n",
       "    .dataframe thead th {\n",
       "        text-align: right;\n",
       "    }\n",
       "</style>\n",
       "<table border=\"1\" class=\"dataframe\">\n",
       "  <thead>\n",
       "    <tr style=\"text-align: right;\">\n",
       "      <th></th>\n",
       "      <th>x_train</th>\n",
       "      <th>y_train</th>\n",
       "    </tr>\n",
       "  </thead>\n",
       "  <tbody>\n",
       "    <tr>\n",
       "      <th>0</th>\n",
       "      <td>&lt;start&gt; can &lt;end&gt;</td>\n",
       "      <td>&lt;start&gt; everyone meet today please let know da...</td>\n",
       "    </tr>\n",
       "    <tr>\n",
       "      <th>1</th>\n",
       "      <td>&lt;start&gt; can everyone &lt;end&gt;</td>\n",
       "      <td>&lt;start&gt; meet today please let know daren &lt;end&gt;</td>\n",
       "    </tr>\n",
       "    <tr>\n",
       "      <th>2</th>\n",
       "      <td>&lt;start&gt; can everyone meet &lt;end&gt;</td>\n",
       "      <td>&lt;start&gt; today please let know daren &lt;end&gt;</td>\n",
       "    </tr>\n",
       "    <tr>\n",
       "      <th>3</th>\n",
       "      <td>&lt;start&gt; can everyone meet today &lt;end&gt;</td>\n",
       "      <td>&lt;start&gt; please let know daren &lt;end&gt;</td>\n",
       "    </tr>\n",
       "    <tr>\n",
       "      <th>4</th>\n",
       "      <td>&lt;start&gt; can everyone meet today please &lt;end&gt;</td>\n",
       "      <td>&lt;start&gt; let know daren &lt;end&gt;</td>\n",
       "    </tr>\n",
       "  </tbody>\n",
       "</table>\n",
       "</div>\n",
       "      <button class=\"colab-df-convert\" onclick=\"convertToInteractive('df-0169757e-bb5e-4422-a954-e81887ee8ce9')\"\n",
       "              title=\"Convert this dataframe to an interactive table.\"\n",
       "              style=\"display:none;\">\n",
       "        \n",
       "  <svg xmlns=\"http://www.w3.org/2000/svg\" height=\"24px\"viewBox=\"0 0 24 24\"\n",
       "       width=\"24px\">\n",
       "    <path d=\"M0 0h24v24H0V0z\" fill=\"none\"/>\n",
       "    <path d=\"M18.56 5.44l.94 2.06.94-2.06 2.06-.94-2.06-.94-.94-2.06-.94 2.06-2.06.94zm-11 1L8.5 8.5l.94-2.06 2.06-.94-2.06-.94L8.5 2.5l-.94 2.06-2.06.94zm10 10l.94 2.06.94-2.06 2.06-.94-2.06-.94-.94-2.06-.94 2.06-2.06.94z\"/><path d=\"M17.41 7.96l-1.37-1.37c-.4-.4-.92-.59-1.43-.59-.52 0-1.04.2-1.43.59L10.3 9.45l-7.72 7.72c-.78.78-.78 2.05 0 2.83L4 21.41c.39.39.9.59 1.41.59.51 0 1.02-.2 1.41-.59l7.78-7.78 2.81-2.81c.8-.78.8-2.07 0-2.86zM5.41 20L4 18.59l7.72-7.72 1.47 1.35L5.41 20z\"/>\n",
       "  </svg>\n",
       "      </button>\n",
       "      \n",
       "  <style>\n",
       "    .colab-df-container {\n",
       "      display:flex;\n",
       "      flex-wrap:wrap;\n",
       "      gap: 12px;\n",
       "    }\n",
       "\n",
       "    .colab-df-convert {\n",
       "      background-color: #E8F0FE;\n",
       "      border: none;\n",
       "      border-radius: 50%;\n",
       "      cursor: pointer;\n",
       "      display: none;\n",
       "      fill: #1967D2;\n",
       "      height: 32px;\n",
       "      padding: 0 0 0 0;\n",
       "      width: 32px;\n",
       "    }\n",
       "\n",
       "    .colab-df-convert:hover {\n",
       "      background-color: #E2EBFA;\n",
       "      box-shadow: 0px 1px 2px rgba(60, 64, 67, 0.3), 0px 1px 3px 1px rgba(60, 64, 67, 0.15);\n",
       "      fill: #174EA6;\n",
       "    }\n",
       "\n",
       "    [theme=dark] .colab-df-convert {\n",
       "      background-color: #3B4455;\n",
       "      fill: #D2E3FC;\n",
       "    }\n",
       "\n",
       "    [theme=dark] .colab-df-convert:hover {\n",
       "      background-color: #434B5C;\n",
       "      box-shadow: 0px 1px 3px 1px rgba(0, 0, 0, 0.15);\n",
       "      filter: drop-shadow(0px 1px 2px rgba(0, 0, 0, 0.3));\n",
       "      fill: #FFFFFF;\n",
       "    }\n",
       "  </style>\n",
       "\n",
       "      <script>\n",
       "        const buttonEl =\n",
       "          document.querySelector('#df-0169757e-bb5e-4422-a954-e81887ee8ce9 button.colab-df-convert');\n",
       "        buttonEl.style.display =\n",
       "          google.colab.kernel.accessAllowed ? 'block' : 'none';\n",
       "\n",
       "        async function convertToInteractive(key) {\n",
       "          const element = document.querySelector('#df-0169757e-bb5e-4422-a954-e81887ee8ce9');\n",
       "          const dataTable =\n",
       "            await google.colab.kernel.invokeFunction('convertToInteractive',\n",
       "                                                     [key], {});\n",
       "          if (!dataTable) return;\n",
       "\n",
       "          const docLinkHtml = 'Like what you see? Visit the ' +\n",
       "            '<a target=\"_blank\" href=https://colab.research.google.com/notebooks/data_table.ipynb>data table notebook</a>'\n",
       "            + ' to learn more about interactive tables.';\n",
       "          element.innerHTML = '';\n",
       "          dataTable['output_type'] = 'display_data';\n",
       "          await google.colab.output.renderOutput(dataTable, element);\n",
       "          const docLink = document.createElement('div');\n",
       "          docLink.innerHTML = docLinkHtml;\n",
       "          element.appendChild(docLink);\n",
       "        }\n",
       "      </script>\n",
       "    </div>\n",
       "  </div>\n",
       "  "
      ],
      "text/plain": [
       "                                        x_train  \\\n",
       "0                             <start> can <end>   \n",
       "1                    <start> can everyone <end>   \n",
       "2               <start> can everyone meet <end>   \n",
       "3         <start> can everyone meet today <end>   \n",
       "4  <start> can everyone meet today please <end>   \n",
       "\n",
       "                                             y_train  \n",
       "0  <start> everyone meet today please let know da...  \n",
       "1     <start> meet today please let know daren <end>  \n",
       "2          <start> today please let know daren <end>  \n",
       "3                <start> please let know daren <end>  \n",
       "4                       <start> let know daren <end>  "
      ]
     },
     "execution_count": 41,
     "metadata": {},
     "output_type": "execute_result"
    }
   ],
   "source": [
    "train_set = pd.DataFrame(data={'x_train':x,'y_train':y})\n",
    "train_set['x_train'] = '<start> ' + train_set['x_train'] + ' <end>'\n",
    "train_set['y_train'] = '<start> ' + train_set['y_train'] + ' <end>'\n",
    "train_set.head()"
   ]
  },
  {
   "cell_type": "code",
   "execution_count": 48,
   "metadata": {
    "id": "mcNWudfmCJUP"
   },
   "outputs": [],
   "source": [
    "train_set['x_train_len'] = train_set['x_train'].apply(lambda text:len(text.split()))\n",
    "\n",
    "#here we remove all the rows from x_train / x_test where len is less then 10 and more then 20\n",
    "train_set = train_set[train_set['x_train_len']>10]\n",
    "train_set = train_set[train_set['x_train_len']<20]"
   ]
  },
  {
   "cell_type": "code",
   "execution_count": 42,
   "metadata": {
    "colab": {
     "base_uri": "https://localhost:8080/"
    },
    "id": "NglgMcsVjHOM",
    "outputId": "e437140c-3b6d-4ac5-fa73-c95486ffb1b6"
   },
   "outputs": [
    {
     "name": "stderr",
     "output_type": "stream",
     "text": [
      "100%|██████████| 12443/12443 [00:00<00:00, 18345.84it/s]\n"
     ]
    }
   ],
   "source": [
    "x_test = []\n",
    "y_test = []\n",
    "for i in tqdm(test):\n",
    "  a = i.split()\n",
    "  for j in range(1,len(a)):\n",
    "        x_test.append(' '.join(a[:j]))\n",
    "        y_test.append(' '.join(a[j:]))"
   ]
  },
  {
   "cell_type": "code",
   "execution_count": 43,
   "metadata": {
    "colab": {
     "base_uri": "https://localhost:8080/",
     "height": 206
    },
    "id": "huauvM8CjJBJ",
    "outputId": "2ec10494-ac58-4333-fa43-9269f788cc81"
   },
   "outputs": [
    {
     "data": {
      "text/html": [
       "\n",
       "  <div id=\"df-73345a05-4eec-4ef7-a45d-fe45b88b0f7f\">\n",
       "    <div class=\"colab-df-container\">\n",
       "      <div>\n",
       "<style scoped>\n",
       "    .dataframe tbody tr th:only-of-type {\n",
       "        vertical-align: middle;\n",
       "    }\n",
       "\n",
       "    .dataframe tbody tr th {\n",
       "        vertical-align: top;\n",
       "    }\n",
       "\n",
       "    .dataframe thead th {\n",
       "        text-align: right;\n",
       "    }\n",
       "</style>\n",
       "<table border=\"1\" class=\"dataframe\">\n",
       "  <thead>\n",
       "    <tr style=\"text-align: right;\">\n",
       "      <th></th>\n",
       "      <th>x_test</th>\n",
       "      <th>y_test</th>\n",
       "    </tr>\n",
       "  </thead>\n",
       "  <tbody>\n",
       "    <tr>\n",
       "      <th>0</th>\n",
       "      <td>&lt;start&gt; derek &lt;end&gt;</td>\n",
       "      <td>&lt;start&gt; can you forward the &lt;end&gt;</td>\n",
       "    </tr>\n",
       "    <tr>\n",
       "      <th>1</th>\n",
       "      <td>&lt;start&gt; derek can &lt;end&gt;</td>\n",
       "      <td>&lt;start&gt; you forward the &lt;end&gt;</td>\n",
       "    </tr>\n",
       "    <tr>\n",
       "      <th>2</th>\n",
       "      <td>&lt;start&gt; derek can you &lt;end&gt;</td>\n",
       "      <td>&lt;start&gt; forward the &lt;end&gt;</td>\n",
       "    </tr>\n",
       "    <tr>\n",
       "      <th>3</th>\n",
       "      <td>&lt;start&gt; derek can you forward &lt;end&gt;</td>\n",
       "      <td>&lt;start&gt; the &lt;end&gt;</td>\n",
       "    </tr>\n",
       "    <tr>\n",
       "      <th>4</th>\n",
       "      <td>&lt;start&gt; begin &lt;end&gt;</td>\n",
       "      <td>&lt;start&gt; get the actual presentations set anyon...</td>\n",
       "    </tr>\n",
       "  </tbody>\n",
       "</table>\n",
       "</div>\n",
       "      <button class=\"colab-df-convert\" onclick=\"convertToInteractive('df-73345a05-4eec-4ef7-a45d-fe45b88b0f7f')\"\n",
       "              title=\"Convert this dataframe to an interactive table.\"\n",
       "              style=\"display:none;\">\n",
       "        \n",
       "  <svg xmlns=\"http://www.w3.org/2000/svg\" height=\"24px\"viewBox=\"0 0 24 24\"\n",
       "       width=\"24px\">\n",
       "    <path d=\"M0 0h24v24H0V0z\" fill=\"none\"/>\n",
       "    <path d=\"M18.56 5.44l.94 2.06.94-2.06 2.06-.94-2.06-.94-.94-2.06-.94 2.06-2.06.94zm-11 1L8.5 8.5l.94-2.06 2.06-.94-2.06-.94L8.5 2.5l-.94 2.06-2.06.94zm10 10l.94 2.06.94-2.06 2.06-.94-2.06-.94-.94-2.06-.94 2.06-2.06.94z\"/><path d=\"M17.41 7.96l-1.37-1.37c-.4-.4-.92-.59-1.43-.59-.52 0-1.04.2-1.43.59L10.3 9.45l-7.72 7.72c-.78.78-.78 2.05 0 2.83L4 21.41c.39.39.9.59 1.41.59.51 0 1.02-.2 1.41-.59l7.78-7.78 2.81-2.81c.8-.78.8-2.07 0-2.86zM5.41 20L4 18.59l7.72-7.72 1.47 1.35L5.41 20z\"/>\n",
       "  </svg>\n",
       "      </button>\n",
       "      \n",
       "  <style>\n",
       "    .colab-df-container {\n",
       "      display:flex;\n",
       "      flex-wrap:wrap;\n",
       "      gap: 12px;\n",
       "    }\n",
       "\n",
       "    .colab-df-convert {\n",
       "      background-color: #E8F0FE;\n",
       "      border: none;\n",
       "      border-radius: 50%;\n",
       "      cursor: pointer;\n",
       "      display: none;\n",
       "      fill: #1967D2;\n",
       "      height: 32px;\n",
       "      padding: 0 0 0 0;\n",
       "      width: 32px;\n",
       "    }\n",
       "\n",
       "    .colab-df-convert:hover {\n",
       "      background-color: #E2EBFA;\n",
       "      box-shadow: 0px 1px 2px rgba(60, 64, 67, 0.3), 0px 1px 3px 1px rgba(60, 64, 67, 0.15);\n",
       "      fill: #174EA6;\n",
       "    }\n",
       "\n",
       "    [theme=dark] .colab-df-convert {\n",
       "      background-color: #3B4455;\n",
       "      fill: #D2E3FC;\n",
       "    }\n",
       "\n",
       "    [theme=dark] .colab-df-convert:hover {\n",
       "      background-color: #434B5C;\n",
       "      box-shadow: 0px 1px 3px 1px rgba(0, 0, 0, 0.15);\n",
       "      filter: drop-shadow(0px 1px 2px rgba(0, 0, 0, 0.3));\n",
       "      fill: #FFFFFF;\n",
       "    }\n",
       "  </style>\n",
       "\n",
       "      <script>\n",
       "        const buttonEl =\n",
       "          document.querySelector('#df-73345a05-4eec-4ef7-a45d-fe45b88b0f7f button.colab-df-convert');\n",
       "        buttonEl.style.display =\n",
       "          google.colab.kernel.accessAllowed ? 'block' : 'none';\n",
       "\n",
       "        async function convertToInteractive(key) {\n",
       "          const element = document.querySelector('#df-73345a05-4eec-4ef7-a45d-fe45b88b0f7f');\n",
       "          const dataTable =\n",
       "            await google.colab.kernel.invokeFunction('convertToInteractive',\n",
       "                                                     [key], {});\n",
       "          if (!dataTable) return;\n",
       "\n",
       "          const docLinkHtml = 'Like what you see? Visit the ' +\n",
       "            '<a target=\"_blank\" href=https://colab.research.google.com/notebooks/data_table.ipynb>data table notebook</a>'\n",
       "            + ' to learn more about interactive tables.';\n",
       "          element.innerHTML = '';\n",
       "          dataTable['output_type'] = 'display_data';\n",
       "          await google.colab.output.renderOutput(dataTable, element);\n",
       "          const docLink = document.createElement('div');\n",
       "          docLink.innerHTML = docLinkHtml;\n",
       "          element.appendChild(docLink);\n",
       "        }\n",
       "      </script>\n",
       "    </div>\n",
       "  </div>\n",
       "  "
      ],
      "text/plain": [
       "                                x_test  \\\n",
       "0                  <start> derek <end>   \n",
       "1              <start> derek can <end>   \n",
       "2          <start> derek can you <end>   \n",
       "3  <start> derek can you forward <end>   \n",
       "4                  <start> begin <end>   \n",
       "\n",
       "                                              y_test  \n",
       "0                  <start> can you forward the <end>  \n",
       "1                      <start> you forward the <end>  \n",
       "2                          <start> forward the <end>  \n",
       "3                                  <start> the <end>  \n",
       "4  <start> get the actual presentations set anyon...  "
      ]
     },
     "execution_count": 43,
     "metadata": {},
     "output_type": "execute_result"
    }
   ],
   "source": [
    "test_set = pd.DataFrame(data={'x_test':x_test,'y_test':y_test})\n",
    "test_set['x_test'] = '<start> ' + test_set['x_test'] + ' <end>'\n",
    "test_set['y_test'] = '<start> ' + test_set['y_test'] + ' <end>'\n",
    "test_set.head()"
   ]
  },
  {
   "cell_type": "code",
   "execution_count": 71,
   "metadata": {
    "colab": {
     "base_uri": "https://localhost:8080/"
    },
    "id": "A_F7VAcUCPmm",
    "outputId": "3fa820a6-7fac-4b4d-c882-de1b1902b59f"
   },
   "outputs": [
    {
     "data": {
      "text/plain": [
       "(64032, 3)"
      ]
     },
     "execution_count": 71,
     "metadata": {},
     "output_type": "execute_result"
    }
   ],
   "source": [
    "test_set['x_test_len'] = test_set['x_test'].apply(lambda text:len(text.split()))\n",
    "\n",
    "#here we remove all the rows from x_train / x_test where len is less then 10 and more then 20\n",
    "test_set = test_set[test_set['x_test_len']>10]\n",
    "test_set = test_set[test_set['x_test_len']<20]\n",
    "test_set.shape"
   ]
  },
  {
   "cell_type": "code",
   "execution_count": 72,
   "metadata": {
    "colab": {
     "base_uri": "https://localhost:8080/"
    },
    "id": "D0NVtFnxjKcy",
    "outputId": "763503cd-cfe9-4cee-ad70-16da85b6fb4b"
   },
   "outputs": [
    {
     "name": "stdout",
     "output_type": "stream",
     "text": [
      "the vocab size is 8785\n"
     ]
    }
   ],
   "source": [
    "tk = Tokenizer()#filters: If not provided, by default filters out all punctuation terms\n",
    "tk_text = tk.fit_on_texts(list(train_set.x_train))\n",
    "vocab = len(tk.word_index) + 1\n",
    "print('the vocab size is', vocab)"
   ]
  },
  {
   "cell_type": "code",
   "execution_count": 73,
   "metadata": {
    "colab": {
     "base_uri": "https://localhost:8080/"
    },
    "id": "R_9KERDcjNkK",
    "outputId": "6d001fb2-c222-40c4-cce0-950fb4bb3986"
   },
   "outputs": [
    {
     "name": "stdout",
     "output_type": "stream",
     "text": [
      "the length of the train seq 11\n",
      "the length of test seq 11\n"
     ]
    }
   ],
   "source": [
    "#now we convert train and text datainto a corresponding index\n",
    "train_seq = tk.texts_to_sequences(list(train_set.x_train))\n",
    "print('the length of the train seq' ,len(train_seq[0]))\n",
    "#took padding length as 9000 because in each data points has avg 30 words sentence.\n",
    "train_data = pad_sequences(train_seq ,padding=\"post\", maxlen=30)\n",
    "\n",
    "test_seq = tk.texts_to_sequences(list(test_set.x_test))\n",
    "print('the length of test seq',len(test_seq[0]))\n",
    "test_data = pad_sequences(test_seq, padding=\"post\",maxlen=30)"
   ]
  },
  {
   "cell_type": "code",
   "execution_count": 74,
   "metadata": {
    "colab": {
     "base_uri": "https://localhost:8080/"
    },
    "id": "XKoVYHKujQBf",
    "outputId": "7b808084-56ba-40b9-d3f3-ef7162ef29e9"
   },
   "outputs": [
    {
     "name": "stdout",
     "output_type": "stream",
     "text": [
      "the vocab size is 9549\n"
     ]
    }
   ],
   "source": [
    "tk_y = Tokenizer()#filters: If not provided, by default filters out all punctuation terms\n",
    "tk_text_y = tk_y.fit_on_texts(list(train_set.y_train))\n",
    "vocab_y = len(tk_y.word_index) + 1\n",
    "print('the vocab size is', vocab_y)"
   ]
  },
  {
   "cell_type": "code",
   "execution_count": 75,
   "metadata": {
    "colab": {
     "base_uri": "https://localhost:8080/"
    },
    "id": "IPY_Vz4WjVT9",
    "outputId": "0f19d566-49ce-45b8-f24b-4574a8b9a4bf"
   },
   "outputs": [
    {
     "name": "stdout",
     "output_type": "stream",
     "text": [
      "the length of the train seq 3\n",
      "the length of test seq 38\n"
     ]
    }
   ],
   "source": [
    "#now we convert train and text datainto a corresponding index\n",
    "train_seq_y = tk_y.texts_to_sequences(list(train_set.y_train))\n",
    "print('the length of the train seq' ,len(train_seq_y[0]))\n",
    "#took padding length as 9000 because in each data points has avg 30 words sentence.\n",
    "train_data_y = pad_sequences(train_seq_y ,padding=\"post\", maxlen=30)\n",
    "\n",
    "test_seq_y = tk_y.texts_to_sequences(list(test_set.y_test))\n",
    "print('the length of test seq',len(test_seq_y[0]))\n",
    "test_data_y = pad_sequences(test_seq_y, padding=\"post\",maxlen=30)"
   ]
  },
  {
   "cell_type": "code",
   "execution_count": 77,
   "metadata": {
    "id": "cftJHfhej-CN"
   },
   "outputs": [],
   "source": [
    "#the very very basic LSTM model with the some hidden layes\n",
    "tf.keras.backend.clear_session()\n",
    "input_lay = tf.keras.Input(shape=(30,))\n",
    "\n",
    "emd_layer = tf.keras.layers.Embedding(vocab, 300, input_length=30)(input_lay)\n",
    "dense1 = tf.keras.layers.LSTM(300,return_sequences=True)(emd_layer)\n",
    "\n",
    "dropout_lay1 = tf.keras.layers.Dropout(rate = 0.3 , name = 'dropout_lay1')(dense1)\n",
    "\n",
    "dense2 = tf.keras.layers.Dense(512,activation='relu', kernel_initializer=tf.keras.initializers.he_normal, name = 'dense2')(dropout_lay1)\n",
    "\n",
    "dropout_lay2 = tf.keras.layers.Dropout(rate = 0.3 , name = 'dropout_lay2')(dense2)\n",
    "\n",
    "dense3 = tf.keras.layers.Dense(512,activation='relu', kernel_initializer=tf.keras.initializers.he_normal ,name = 'dense3')(dropout_lay2)\n",
    "\n",
    "output = tf.keras.layers.Dense(vocab_y,activation='softmax',kernel_initializer=tf.keras.initializers.he_normal , name = 'output')(dense3)\n",
    "\n",
    "model = tf.keras.Model(inputs= input_lay, outputs=output)"
   ]
  },
  {
   "cell_type": "code",
   "execution_count": 78,
   "metadata": {
    "colab": {
     "base_uri": "https://localhost:8080/"
    },
    "id": "d6YM6I81kpCC",
    "outputId": "1dcaf196-bd6b-4244-a37f-20b18eeab095"
   },
   "outputs": [
    {
     "name": "stdout",
     "output_type": "stream",
     "text": [
      "Model: \"model\"\n",
      "_________________________________________________________________\n",
      " Layer (type)                Output Shape              Param #   \n",
      "=================================================================\n",
      " input_1 (InputLayer)        [(None, 30)]              0         \n",
      "                                                                 \n",
      " embedding (Embedding)       (None, 30, 300)           2635500   \n",
      "                                                                 \n",
      " lstm (LSTM)                 (None, 30, 300)           721200    \n",
      "                                                                 \n",
      " dropout_lay1 (Dropout)      (None, 30, 300)           0         \n",
      "                                                                 \n",
      " dense2 (Dense)              (None, 30, 512)           154112    \n",
      "                                                                 \n",
      " dropout_lay2 (Dropout)      (None, 30, 512)           0         \n",
      "                                                                 \n",
      " dense3 (Dense)              (None, 30, 512)           262656    \n",
      "                                                                 \n",
      " output (Dense)              (None, 30, 9549)          4898637   \n",
      "                                                                 \n",
      "=================================================================\n",
      "Total params: 8,672,105\n",
      "Trainable params: 8,672,105\n",
      "Non-trainable params: 0\n",
      "_________________________________________________________________\n"
     ]
    }
   ],
   "source": [
    "model.summary()"
   ]
  },
  {
   "cell_type": "code",
   "execution_count": 79,
   "metadata": {
    "id": "TfMnc0vVksz6"
   },
   "outputs": [],
   "source": [
    "optimizer=tf.keras.optimizers.Adam()\n",
    "model.compile(optimizer=optimizer, loss='sparse_categorical_crossentropy', metrics=['accuracy'])"
   ]
  },
  {
   "cell_type": "code",
   "execution_count": 80,
   "metadata": {
    "colab": {
     "base_uri": "https://localhost:8080/"
    },
    "id": "KK6IxTlSkxMy",
    "outputId": "9f259080-4e78-4a9a-9cf3-a22e41b54c0c"
   },
   "outputs": [
    {
     "name": "stdout",
     "output_type": "stream",
     "text": [
      "Epoch 1/10\n",
      "295/295 [==============================] - 78s 257ms/step - loss: 4.4287 - accuracy: 0.4287 - val_loss: 4.2585 - val_accuracy: 0.4386\n",
      "Epoch 2/10\n",
      "295/295 [==============================] - 75s 254ms/step - loss: 4.0479 - accuracy: 0.4372 - val_loss: 4.3853 - val_accuracy: 0.4335\n",
      "Epoch 3/10\n",
      "295/295 [==============================] - 75s 253ms/step - loss: 3.8762 - accuracy: 0.4414 - val_loss: 4.5974 - val_accuracy: 0.4108\n",
      "Epoch 4/10\n",
      "295/295 [==============================] - 75s 254ms/step - loss: 3.7059 - accuracy: 0.4478 - val_loss: 4.9647 - val_accuracy: 0.4038\n",
      "Epoch 5/10\n",
      "295/295 [==============================] - 75s 254ms/step - loss: 3.5424 - accuracy: 0.4542 - val_loss: 5.3767 - val_accuracy: 0.3863\n",
      "Epoch 6/10\n",
      "295/295 [==============================] - 75s 254ms/step - loss: 3.3925 - accuracy: 0.4603 - val_loss: 5.5857 - val_accuracy: 0.3733\n",
      "Epoch 7/10\n",
      "295/295 [==============================] - 75s 253ms/step - loss: 3.2563 - accuracy: 0.4658 - val_loss: 5.7213 - val_accuracy: 0.3617\n",
      "Epoch 8/10\n",
      "295/295 [==============================] - 75s 253ms/step - loss: 3.1339 - accuracy: 0.4712 - val_loss: 6.1447 - val_accuracy: 0.3624\n",
      "Epoch 9/10\n",
      "295/295 [==============================] - 75s 254ms/step - loss: 3.0262 - accuracy: 0.4765 - val_loss: 6.5217 - val_accuracy: 0.3701\n",
      "Epoch 10/10\n",
      "295/295 [==============================] - 75s 253ms/step - loss: 2.9292 - accuracy: 0.4819 - val_loss: 6.4819 - val_accuracy: 0.3596\n"
     ]
    }
   ],
   "source": [
    "his = model.fit(train_data, train_data_y, epochs=10, validation_data=(test_data,test_data_y) , batch_size=512)"
   ]
  },
  {
   "cell_type": "code",
   "execution_count": 81,
   "metadata": {
    "id": "pHP6-XJpk0Ag"
   },
   "outputs": [],
   "source": [
    "h = his.history\n",
    "loss = h['loss']\n",
    "val_loss = h['val_loss']"
   ]
  },
  {
   "cell_type": "code",
   "execution_count": 82,
   "metadata": {
    "colab": {
     "base_uri": "https://localhost:8080/",
     "height": 312
    },
    "id": "YWajqElYG1Ek",
    "outputId": "35fd7019-6ee4-48f8-ce0f-30da45428e16"
   },
   "outputs": [
    {
     "data": {
      "text/plain": [
       "Text(0.5, 1.0, 'Loss Vs No of epochs')"
      ]
     },
     "execution_count": 82,
     "metadata": {},
     "output_type": "execute_result"
    },
    {
     "data": {
      "image/png": "[encoded data removed]",
      "text/plain": [
       "<Figure size 432x288 with 1 Axes>"
      ]
     },
     "metadata": {
      "needs_background": "light"
     },
     "output_type": "display_data"
    }
   ],
   "source": [
    "plt.plot(loss,label='Training loss')\n",
    "plt.plot(val_loss, label='Validation loss')\n",
    "plt.legend()\n",
    "plt.grid()\n",
    "plt.xlabel('No of epochs')\n",
    "plt.ylabel('Loss')\n",
    "plt.title('Loss Vs No of epochs')"
   ]
  },
  {
   "cell_type": "code",
   "execution_count": 83,
   "metadata": {
    "colab": {
     "base_uri": "https://localhost:8080/",
     "height": 312
    },
    "id": "gv3gUG77G1BG",
    "outputId": "97d86d98-9f8d-47a7-9aa9-a4ffc6952d8d"
   },
   "outputs": [
    {
     "data": {
      "text/plain": [
       "Text(0.5, 1.0, 'accuracy Vs No of epochs')"
      ]
     },
     "execution_count": 83,
     "metadata": {},
     "output_type": "execute_result"
    },
    {
     "data": {
      "image/png": "[encoded data removed]",
      "text/plain": [
       "<Figure size 432x288 with 1 Axes>"
      ]
     },
     "metadata": {
      "needs_background": "light"
     },
     "output_type": "display_data"
    }
   ],
   "source": [
    "accuracy = h['accuracy']\n",
    "val_accuracy = h['val_accuracy']\n",
    "plt.plot(accuracy,label='Training accuracy')\n",
    "plt.plot(val_accuracy, label='Validation accuracy')\n",
    "plt.legend()\n",
    "plt.grid()\n",
    "plt.xlabel('No of epochs')\n",
    "plt.ylabel('accuracy')\n",
    "plt.title('accuracy Vs No of epochs')"
   ]
  },
  {
   "cell_type": "code",
   "execution_count": 101,
   "metadata": {
    "id": "uiXI0aQZtbLl"
   },
   "outputs": [],
   "source": [
    "eng_word = tk_y.word_index\n",
    "new_dict = dict([(value, key) for key, value in eng_word.items()])"
   ]
  },
  {
   "cell_type": "code",
   "execution_count": 102,
   "metadata": {
    "id": "MUk2-5WppbtT"
   },
   "outputs": [],
   "source": [
    "import numpy as np\n",
    "def predict(train):\n",
    "  a = model.predict(train.reshape(-1,30))\n",
    "  f = []\n",
    "  d = []\n",
    "  for i in a[0]:\n",
    "    #print(i)\n",
    "    f.append(np.argmax(i))\n",
    "  for  i in f:\n",
    "    if i != 0:\n",
    "      d.append(new_dict[i])\n",
    "\n",
    "  return(' '.join(d))"
   ]
  },
  {
   "cell_type": "code",
   "execution_count": 103,
   "metadata": {
    "colab": {
     "base_uri": "https://localhost:8080/",
     "height": 52
    },
    "id": "wdWDMowNpqlS",
    "outputId": "962f54d3-b527-47d7-fc5f-f9af4557d4fa"
   },
   "outputs": [
    {
     "data": {
      "application/vnd.google.colaboratory.intrinsic+json": {
       "type": "string"
      },
      "text/plain": [
       "'start responded normally the the the enron attorney attorney mexico internal internal internal internal signed appointed appointed appointed tax into into this this this add your your thanks regards end'"
      ]
     },
     "execution_count": 103,
     "metadata": {},
     "output_type": "execute_result"
    }
   ],
   "source": [
    "predict(train_data[185])"
   ]
  },
  {
   "cell_type": "code",
   "execution_count": 104,
   "metadata": {
    "colab": {
     "base_uri": "https://localhost:8080/"
    },
    "id": "U-K_eRqn0oGO",
    "outputId": "dbeef092-996a-40ff-c031-d90429b21e79"
   },
   "outputs": [
    {
     "name": "stderr",
     "output_type": "stream",
     "text": [
      "  0%|          | 0/15000 [00:00<?, ?it/s]/usr/local/lib/python3.7/dist-packages/nltk/translate/bleu_score.py:490: UserWarning: \n",
      "Corpus/Sentence contains 0 counts of 2-gram overlaps.\n",
      "BLEU scores might be undesirable; use SmoothingFunction().\n",
      "  warnings.warn(_msg)\n",
      "  0%|          | 3/15000 [00:00<10:58, 22.79it/s]/usr/local/lib/python3.7/dist-packages/nltk/translate/bleu_score.py:490: UserWarning: \n",
      "Corpus/Sentence contains 0 counts of 4-gram overlaps.\n",
      "BLEU scores might be undesirable; use SmoothingFunction().\n",
      "  warnings.warn(_msg)\n",
      "  0%|          | 9/15000 [00:00<11:28, 21.77it/s]/usr/local/lib/python3.7/dist-packages/nltk/translate/bleu_score.py:490: UserWarning: \n",
      "Corpus/Sentence contains 0 counts of 3-gram overlaps.\n",
      "BLEU scores might be undesirable; use SmoothingFunction().\n",
      "  warnings.warn(_msg)\n",
      "100%|██████████| 15000/15000 [11:30<00:00, 21.73it/s]"
     ]
    },
    {
     "name": "stdout",
     "output_type": "stream",
     "text": [
      "\n",
      "Bleu Score ==>  0.2063198597853522\n"
     ]
    },
    {
     "name": "stderr",
     "output_type": "stream",
     "text": [
      "\n"
     ]
    }
   ],
   "source": [
    "data_sam = train_set.sample(15000)\n",
    "import nltk.translate.bleu_score as bleu\n",
    "bleu_score = []\n",
    "for i in tqdm(range(15000)):\n",
    "  actual  = data_sam.y_train.values[i]\n",
    "  input = tk.texts_to_sequences([str(data_sam.x_train.values[i])])\n",
    "  input = pad_sequences(input, padding=\"post\",maxlen= 30)\n",
    "  Predict = predict(input)\n",
    "  bleu_score.append(bleu.sentence_bleu([actual.split(),], Predict.split()))\n",
    "print()\n",
    "print('Bleu Score ==> ', np.mean(bleu_score))"
   ]
  },
  {
   "cell_type": "markdown",
   "metadata": {},
   "source": [
    "**The Bleu score is 0.20 and improves the bleu score we use the encoder and decoder-based model.**"
   ]
  },
  {
   "cell_type": "markdown",
   "metadata": {
    "id": "qsyic3iy9hxK"
   },
   "source": [
    "# 9 Encoder Decoder Model"
   ]
  },
  {
   "cell_type": "code",
   "execution_count": null,
   "metadata": {
    "id": "yOL2o1fwCenG"
   },
   "outputs": [],
   "source": [
    "import pandas as pd\n",
    "import numpy as np\n",
    "import matplotlib.pyplot as plt\n",
    "from tqdm import tqdm\n",
    "import email\n",
    "import seaborn as sns\n",
    "import tensorflow as tf\n",
    "\n",
    "from tensorflow.keras.preprocessing.text import Tokenizer\n",
    "from tensorflow.keras.preprocessing.sequence import pad_sequences"
   ]
  },
  {
   "cell_type": "code",
   "execution_count": null,
   "metadata": {
    "id": "8QLAuyxzCqOp"
   },
   "outputs": [],
   "source": [
    "import joblib\n",
    "df = joblib.load('clean.pkl')"
   ]
  },
  {
   "cell_type": "code",
   "execution_count": null,
   "metadata": {
    "colab": {
     "base_uri": "https://localhost:8080/",
     "height": 206
    },
    "id": "OLV3tKBkCtvG",
    "outputId": "7f99bb1b-bf18-4e50-ca6d-1255d3b2d164"
   },
   "outputs": [
    {
     "data": {
      "text/html": [
       "\n",
       "  <div id=\"df-43690141-9439-43c1-b127-53d739d50513\">\n",
       "    <div class=\"colab-df-container\">\n",
       "      <div>\n",
       "<style scoped>\n",
       "    .dataframe tbody tr th:only-of-type {\n",
       "        vertical-align: middle;\n",
       "    }\n",
       "\n",
       "    .dataframe tbody tr th {\n",
       "        vertical-align: top;\n",
       "    }\n",
       "\n",
       "    .dataframe thead th {\n",
       "        text-align: right;\n",
       "    }\n",
       "</style>\n",
       "<table border=\"1\" class=\"dataframe\">\n",
       "  <thead>\n",
       "    <tr style=\"text-align: right;\">\n",
       "      <th></th>\n",
       "      <th>clean</th>\n",
       "    </tr>\n",
       "  </thead>\n",
       "  <tbody>\n",
       "    <tr>\n",
       "      <th>0</th>\n",
       "      <td>here is our forecast</td>\n",
       "    </tr>\n",
       "    <tr>\n",
       "      <th>1</th>\n",
       "      <td>traveling to have a business meeting takes the...</td>\n",
       "    </tr>\n",
       "    <tr>\n",
       "      <th>2</th>\n",
       "      <td>plus your thoughts on any changes that need to...</td>\n",
       "    </tr>\n",
       "    <tr>\n",
       "      <th>3</th>\n",
       "      <td>follow these steps so you do not misplace thes...</td>\n",
       "    </tr>\n",
       "    <tr>\n",
       "      <th>4</th>\n",
       "      <td>i have been involved in most of the meetings a...</td>\n",
       "    </tr>\n",
       "  </tbody>\n",
       "</table>\n",
       "</div>\n",
       "      <button class=\"colab-df-convert\" onclick=\"convertToInteractive('df-43690141-9439-43c1-b127-53d739d50513')\"\n",
       "              title=\"Convert this dataframe to an interactive table.\"\n",
       "              style=\"display:none;\">\n",
       "        \n",
       "  <svg xmlns=\"http://www.w3.org/2000/svg\" height=\"24px\"viewBox=\"0 0 24 24\"\n",
       "       width=\"24px\">\n",
       "    <path d=\"M0 0h24v24H0V0z\" fill=\"none\"/>\n",
       "    <path d=\"M18.56 5.44l.94 2.06.94-2.06 2.06-.94-2.06-.94-.94-2.06-.94 2.06-2.06.94zm-11 1L8.5 8.5l.94-2.06 2.06-.94-2.06-.94L8.5 2.5l-.94 2.06-2.06.94zm10 10l.94 2.06.94-2.06 2.06-.94-2.06-.94-.94-2.06-.94 2.06-2.06.94z\"/><path d=\"M17.41 7.96l-1.37-1.37c-.4-.4-.92-.59-1.43-.59-.52 0-1.04.2-1.43.59L10.3 9.45l-7.72 7.72c-.78.78-.78 2.05 0 2.83L4 21.41c.39.39.9.59 1.41.59.51 0 1.02-.2 1.41-.59l7.78-7.78 2.81-2.81c.8-.78.8-2.07 0-2.86zM5.41 20L4 18.59l7.72-7.72 1.47 1.35L5.41 20z\"/>\n",
       "  </svg>\n",
       "      </button>\n",
       "      \n",
       "  <style>\n",
       "    .colab-df-container {\n",
       "      display:flex;\n",
       "      flex-wrap:wrap;\n",
       "      gap: 12px;\n",
       "    }\n",
       "\n",
       "    .colab-df-convert {\n",
       "      background-color: #E8F0FE;\n",
       "      border: none;\n",
       "      border-radius: 50%;\n",
       "      cursor: pointer;\n",
       "      display: none;\n",
       "      fill: #1967D2;\n",
       "      height: 32px;\n",
       "      padding: 0 0 0 0;\n",
       "      width: 32px;\n",
       "    }\n",
       "\n",
       "    .colab-df-convert:hover {\n",
       "      background-color: #E2EBFA;\n",
       "      box-shadow: 0px 1px 2px rgba(60, 64, 67, 0.3), 0px 1px 3px 1px rgba(60, 64, 67, 0.15);\n",
       "      fill: #174EA6;\n",
       "    }\n",
       "\n",
       "    [theme=dark] .colab-df-convert {\n",
       "      background-color: #3B4455;\n",
       "      fill: #D2E3FC;\n",
       "    }\n",
       "\n",
       "    [theme=dark] .colab-df-convert:hover {\n",
       "      background-color: #434B5C;\n",
       "      box-shadow: 0px 1px 3px 1px rgba(0, 0, 0, 0.15);\n",
       "      filter: drop-shadow(0px 1px 2px rgba(0, 0, 0, 0.3));\n",
       "      fill: #FFFFFF;\n",
       "    }\n",
       "  </style>\n",
       "\n",
       "      <script>\n",
       "        const buttonEl =\n",
       "          document.querySelector('#df-43690141-9439-43c1-b127-53d739d50513 button.colab-df-convert');\n",
       "        buttonEl.style.display =\n",
       "          google.colab.kernel.accessAllowed ? 'block' : 'none';\n",
       "\n",
       "        async function convertToInteractive(key) {\n",
       "          const element = document.querySelector('#df-43690141-9439-43c1-b127-53d739d50513');\n",
       "          const dataTable =\n",
       "            await google.colab.kernel.invokeFunction('convertToInteractive',\n",
       "                                                     [key], {});\n",
       "          if (!dataTable) return;\n",
       "\n",
       "          const docLinkHtml = 'Like what you see? Visit the ' +\n",
       "            '<a target=\"_blank\" href=https://colab.research.google.com/notebooks/data_table.ipynb>data table notebook</a>'\n",
       "            + ' to learn more about interactive tables.';\n",
       "          element.innerHTML = '';\n",
       "          dataTable['output_type'] = 'display_data';\n",
       "          await google.colab.output.renderOutput(dataTable, element);\n",
       "          const docLink = document.createElement('div');\n",
       "          docLink.innerHTML = docLinkHtml;\n",
       "          element.appendChild(docLink);\n",
       "        }\n",
       "      </script>\n",
       "    </div>\n",
       "  </div>\n",
       "  "
      ],
      "text/plain": [
       "                                               clean\n",
       "0                               here is our forecast\n",
       "1  traveling to have a business meeting takes the...\n",
       "2  plus your thoughts on any changes that need to...\n",
       "3  follow these steps so you do not misplace thes...\n",
       "4  i have been involved in most of the meetings a..."
      ]
     },
     "execution_count": 3,
     "metadata": {},
     "output_type": "execute_result"
    }
   ],
   "source": [
    "#df = df.sample(15000)\n",
    "df.head()"
   ]
  },
  {
   "cell_type": "code",
   "execution_count": null,
   "metadata": {
    "colab": {
     "base_uri": "https://localhost:8080/"
    },
    "id": "TIcx4qGvCwfG",
    "outputId": "e09917c7-907f-4173-b373-194d51f483c2"
   },
   "outputs": [
    {
     "name": "stderr",
     "output_type": "stream",
     "text": [
      "100%|██████████| 79616/79616 [00:07<00:00, 11034.37it/s]\n"
     ]
    }
   ],
   "source": [
    "x = []\n",
    "y = []\n",
    "for i in tqdm(df.clean):\n",
    "  a = i.split()\n",
    "  for j in range(1,len(a)):\n",
    "        x.append(' '.join(a[:j]))\n",
    "        y.append(' '.join(a[j:]))"
   ]
  },
  {
   "cell_type": "code",
   "execution_count": null,
   "metadata": {
    "colab": {
     "base_uri": "https://localhost:8080/",
     "height": 206
    },
    "id": "6qLMvhrLCzJO",
    "outputId": "f1b4cfc9-f7ac-4f5a-f81d-fe2d6f497c6d"
   },
   "outputs": [
    {
     "data": {
      "text/html": [
       "\n",
       "  <div id=\"df-8fcfbb8f-52e3-42e1-8641-8b13bb7d476f\">\n",
       "    <div class=\"colab-df-container\">\n",
       "      <div>\n",
       "<style scoped>\n",
       "    .dataframe tbody tr th:only-of-type {\n",
       "        vertical-align: middle;\n",
       "    }\n",
       "\n",
       "    .dataframe tbody tr th {\n",
       "        vertical-align: top;\n",
       "    }\n",
       "\n",
       "    .dataframe thead th {\n",
       "        text-align: right;\n",
       "    }\n",
       "</style>\n",
       "<table border=\"1\" class=\"dataframe\">\n",
       "  <thead>\n",
       "    <tr style=\"text-align: right;\">\n",
       "      <th></th>\n",
       "      <th>x_train</th>\n",
       "      <th>y_train</th>\n",
       "    </tr>\n",
       "  </thead>\n",
       "  <tbody>\n",
       "    <tr>\n",
       "      <th>0</th>\n",
       "      <td>here</td>\n",
       "      <td>is our forecast</td>\n",
       "    </tr>\n",
       "    <tr>\n",
       "      <th>1</th>\n",
       "      <td>here is</td>\n",
       "      <td>our forecast</td>\n",
       "    </tr>\n",
       "    <tr>\n",
       "      <th>2</th>\n",
       "      <td>here is our</td>\n",
       "      <td>forecast</td>\n",
       "    </tr>\n",
       "    <tr>\n",
       "      <th>3</th>\n",
       "      <td>traveling</td>\n",
       "      <td>to have a business meeting takes the fun out o...</td>\n",
       "    </tr>\n",
       "    <tr>\n",
       "      <th>4</th>\n",
       "      <td>traveling to</td>\n",
       "      <td>have a business meeting takes the fun out of t...</td>\n",
       "    </tr>\n",
       "  </tbody>\n",
       "</table>\n",
       "</div>\n",
       "      <button class=\"colab-df-convert\" onclick=\"convertToInteractive('df-8fcfbb8f-52e3-42e1-8641-8b13bb7d476f')\"\n",
       "              title=\"Convert this dataframe to an interactive table.\"\n",
       "              style=\"display:none;\">\n",
       "        \n",
       "  <svg xmlns=\"http://www.w3.org/2000/svg\" height=\"24px\"viewBox=\"0 0 24 24\"\n",
       "       width=\"24px\">\n",
       "    <path d=\"M0 0h24v24H0V0z\" fill=\"none\"/>\n",
       "    <path d=\"M18.56 5.44l.94 2.06.94-2.06 2.06-.94-2.06-.94-.94-2.06-.94 2.06-2.06.94zm-11 1L8.5 8.5l.94-2.06 2.06-.94-2.06-.94L8.5 2.5l-.94 2.06-2.06.94zm10 10l.94 2.06.94-2.06 2.06-.94-2.06-.94-.94-2.06-.94 2.06-2.06.94z\"/><path d=\"M17.41 7.96l-1.37-1.37c-.4-.4-.92-.59-1.43-.59-.52 0-1.04.2-1.43.59L10.3 9.45l-7.72 7.72c-.78.78-.78 2.05 0 2.83L4 21.41c.39.39.9.59 1.41.59.51 0 1.02-.2 1.41-.59l7.78-7.78 2.81-2.81c.8-.78.8-2.07 0-2.86zM5.41 20L4 18.59l7.72-7.72 1.47 1.35L5.41 20z\"/>\n",
       "  </svg>\n",
       "      </button>\n",
       "      \n",
       "  <style>\n",
       "    .colab-df-container {\n",
       "      display:flex;\n",
       "      flex-wrap:wrap;\n",
       "      gap: 12px;\n",
       "    }\n",
       "\n",
       "    .colab-df-convert {\n",
       "      background-color: #E8F0FE;\n",
       "      border: none;\n",
       "      border-radius: 50%;\n",
       "      cursor: pointer;\n",
       "      display: none;\n",
       "      fill: #1967D2;\n",
       "      height: 32px;\n",
       "      padding: 0 0 0 0;\n",
       "      width: 32px;\n",
       "    }\n",
       "\n",
       "    .colab-df-convert:hover {\n",
       "      background-color: #E2EBFA;\n",
       "      box-shadow: 0px 1px 2px rgba(60, 64, 67, 0.3), 0px 1px 3px 1px rgba(60, 64, 67, 0.15);\n",
       "      fill: #174EA6;\n",
       "    }\n",
       "\n",
       "    [theme=dark] .colab-df-convert {\n",
       "      background-color: #3B4455;\n",
       "      fill: #D2E3FC;\n",
       "    }\n",
       "\n",
       "    [theme=dark] .colab-df-convert:hover {\n",
       "      background-color: #434B5C;\n",
       "      box-shadow: 0px 1px 3px 1px rgba(0, 0, 0, 0.15);\n",
       "      filter: drop-shadow(0px 1px 2px rgba(0, 0, 0, 0.3));\n",
       "      fill: #FFFFFF;\n",
       "    }\n",
       "  </style>\n",
       "\n",
       "      <script>\n",
       "        const buttonEl =\n",
       "          document.querySelector('#df-8fcfbb8f-52e3-42e1-8641-8b13bb7d476f button.colab-df-convert');\n",
       "        buttonEl.style.display =\n",
       "          google.colab.kernel.accessAllowed ? 'block' : 'none';\n",
       "\n",
       "        async function convertToInteractive(key) {\n",
       "          const element = document.querySelector('#df-8fcfbb8f-52e3-42e1-8641-8b13bb7d476f');\n",
       "          const dataTable =\n",
       "            await google.colab.kernel.invokeFunction('convertToInteractive',\n",
       "                                                     [key], {});\n",
       "          if (!dataTable) return;\n",
       "\n",
       "          const docLinkHtml = 'Like what you see? Visit the ' +\n",
       "            '<a target=\"_blank\" href=https://colab.research.google.com/notebooks/data_table.ipynb>data table notebook</a>'\n",
       "            + ' to learn more about interactive tables.';\n",
       "          element.innerHTML = '';\n",
       "          dataTable['output_type'] = 'display_data';\n",
       "          await google.colab.output.renderOutput(dataTable, element);\n",
       "          const docLink = document.createElement('div');\n",
       "          docLink.innerHTML = docLinkHtml;\n",
       "          element.appendChild(docLink);\n",
       "        }\n",
       "      </script>\n",
       "    </div>\n",
       "  </div>\n",
       "  "
      ],
      "text/plain": [
       "        x_train                                            y_train\n",
       "0          here                                    is our forecast\n",
       "1       here is                                       our forecast\n",
       "2   here is our                                           forecast\n",
       "3     traveling  to have a business meeting takes the fun out o...\n",
       "4  traveling to  have a business meeting takes the fun out of t..."
      ]
     },
     "execution_count": 5,
     "metadata": {},
     "output_type": "execute_result"
    }
   ],
   "source": [
    "train_set = pd.DataFrame(data={'x_train':x,'y_train':y})\n",
    "# train_set['x_train'] = '<start> ' + train_set['x_train'] + ' <end>'\n",
    "# train_set['y_train'] = '<start> ' + train_set['y_train'] + ' <end>'\n",
    "train_set.head()"
   ]
  },
  {
   "cell_type": "code",
   "execution_count": null,
   "metadata": {
    "colab": {
     "base_uri": "https://localhost:8080/"
    },
    "id": "ZPl0Arl7C1F7",
    "outputId": "6a81df0f-f761-4aa5-c2ad-8d7a8cb3776c"
   },
   "outputs": [
    {
     "data": {
      "text/plain": [
       "(2180436, 2)"
      ]
     },
     "execution_count": 6,
     "metadata": {},
     "output_type": "execute_result"
    }
   ],
   "source": [
    "train_set.shape"
   ]
  },
  {
   "cell_type": "code",
   "execution_count": null,
   "metadata": {
    "id": "4MZwt0XGC4Aq"
   },
   "outputs": [],
   "source": [
    "train_set['x_train_len'] = train_set['x_train'].apply(lambda text:len(text.split()))\n",
    "train_set['y_train_len'] = train_set['y_train'].apply(lambda text:len(text.split()))\n",
    "\n",
    "#here we remove all the rows from x_train / x_test where len is less then 5\n"
   ]
  },
  {
   "cell_type": "code",
   "execution_count": null,
   "metadata": {
    "colab": {
     "base_uri": "https://localhost:8080/",
     "height": 206
    },
    "id": "NyvsY2h5Ivsr",
    "outputId": "ceb2d4a8-25b9-4fee-85d4-0106190e8a72"
   },
   "outputs": [
    {
     "data": {
      "text/html": [
       "\n",
       "  <div id=\"df-7b96f8d2-2f74-44e5-b3f7-4d4def244ae7\">\n",
       "    <div class=\"colab-df-container\">\n",
       "      <div>\n",
       "<style scoped>\n",
       "    .dataframe tbody tr th:only-of-type {\n",
       "        vertical-align: middle;\n",
       "    }\n",
       "\n",
       "    .dataframe tbody tr th {\n",
       "        vertical-align: top;\n",
       "    }\n",
       "\n",
       "    .dataframe thead th {\n",
       "        text-align: right;\n",
       "    }\n",
       "</style>\n",
       "<table border=\"1\" class=\"dataframe\">\n",
       "  <thead>\n",
       "    <tr style=\"text-align: right;\">\n",
       "      <th></th>\n",
       "      <th>x_train</th>\n",
       "      <th>y_train</th>\n",
       "      <th>x_train_len</th>\n",
       "      <th>y_train_len</th>\n",
       "    </tr>\n",
       "  </thead>\n",
       "  <tbody>\n",
       "    <tr>\n",
       "      <th>0</th>\n",
       "      <td>here</td>\n",
       "      <td>is our forecast</td>\n",
       "      <td>1</td>\n",
       "      <td>3</td>\n",
       "    </tr>\n",
       "    <tr>\n",
       "      <th>1</th>\n",
       "      <td>here is</td>\n",
       "      <td>our forecast</td>\n",
       "      <td>2</td>\n",
       "      <td>2</td>\n",
       "    </tr>\n",
       "    <tr>\n",
       "      <th>2</th>\n",
       "      <td>here is our</td>\n",
       "      <td>forecast</td>\n",
       "      <td>3</td>\n",
       "      <td>1</td>\n",
       "    </tr>\n",
       "    <tr>\n",
       "      <th>3</th>\n",
       "      <td>traveling</td>\n",
       "      <td>to have a business meeting takes the fun out o...</td>\n",
       "      <td>1</td>\n",
       "      <td>101</td>\n",
       "    </tr>\n",
       "    <tr>\n",
       "      <th>4</th>\n",
       "      <td>traveling to</td>\n",
       "      <td>have a business meeting takes the fun out of t...</td>\n",
       "      <td>2</td>\n",
       "      <td>100</td>\n",
       "    </tr>\n",
       "  </tbody>\n",
       "</table>\n",
       "</div>\n",
       "      <button class=\"colab-df-convert\" onclick=\"convertToInteractive('df-7b96f8d2-2f74-44e5-b3f7-4d4def244ae7')\"\n",
       "              title=\"Convert this dataframe to an interactive table.\"\n",
       "              style=\"display:none;\">\n",
       "        \n",
       "  <svg xmlns=\"http://www.w3.org/2000/svg\" height=\"24px\"viewBox=\"0 0 24 24\"\n",
       "       width=\"24px\">\n",
       "    <path d=\"M0 0h24v24H0V0z\" fill=\"none\"/>\n",
       "    <path d=\"M18.56 5.44l.94 2.06.94-2.06 2.06-.94-2.06-.94-.94-2.06-.94 2.06-2.06.94zm-11 1L8.5 8.5l.94-2.06 2.06-.94-2.06-.94L8.5 2.5l-.94 2.06-2.06.94zm10 10l.94 2.06.94-2.06 2.06-.94-2.06-.94-.94-2.06-.94 2.06-2.06.94z\"/><path d=\"M17.41 7.96l-1.37-1.37c-.4-.4-.92-.59-1.43-.59-.52 0-1.04.2-1.43.59L10.3 9.45l-7.72 7.72c-.78.78-.78 2.05 0 2.83L4 21.41c.39.39.9.59 1.41.59.51 0 1.02-.2 1.41-.59l7.78-7.78 2.81-2.81c.8-.78.8-2.07 0-2.86zM5.41 20L4 18.59l7.72-7.72 1.47 1.35L5.41 20z\"/>\n",
       "  </svg>\n",
       "      </button>\n",
       "      \n",
       "  <style>\n",
       "    .colab-df-container {\n",
       "      display:flex;\n",
       "      flex-wrap:wrap;\n",
       "      gap: 12px;\n",
       "    }\n",
       "\n",
       "    .colab-df-convert {\n",
       "      background-color: #E8F0FE;\n",
       "      border: none;\n",
       "      border-radius: 50%;\n",
       "      cursor: pointer;\n",
       "      display: none;\n",
       "      fill: #1967D2;\n",
       "      height: 32px;\n",
       "      padding: 0 0 0 0;\n",
       "      width: 32px;\n",
       "    }\n",
       "\n",
       "    .colab-df-convert:hover {\n",
       "      background-color: #E2EBFA;\n",
       "      box-shadow: 0px 1px 2px rgba(60, 64, 67, 0.3), 0px 1px 3px 1px rgba(60, 64, 67, 0.15);\n",
       "      fill: #174EA6;\n",
       "    }\n",
       "\n",
       "    [theme=dark] .colab-df-convert {\n",
       "      background-color: #3B4455;\n",
       "      fill: #D2E3FC;\n",
       "    }\n",
       "\n",
       "    [theme=dark] .colab-df-convert:hover {\n",
       "      background-color: #434B5C;\n",
       "      box-shadow: 0px 1px 3px 1px rgba(0, 0, 0, 0.15);\n",
       "      filter: drop-shadow(0px 1px 2px rgba(0, 0, 0, 0.3));\n",
       "      fill: #FFFFFF;\n",
       "    }\n",
       "  </style>\n",
       "\n",
       "      <script>\n",
       "        const buttonEl =\n",
       "          document.querySelector('#df-7b96f8d2-2f74-44e5-b3f7-4d4def244ae7 button.colab-df-convert');\n",
       "        buttonEl.style.display =\n",
       "          google.colab.kernel.accessAllowed ? 'block' : 'none';\n",
       "\n",
       "        async function convertToInteractive(key) {\n",
       "          const element = document.querySelector('#df-7b96f8d2-2f74-44e5-b3f7-4d4def244ae7');\n",
       "          const dataTable =\n",
       "            await google.colab.kernel.invokeFunction('convertToInteractive',\n",
       "                                                     [key], {});\n",
       "          if (!dataTable) return;\n",
       "\n",
       "          const docLinkHtml = 'Like what you see? Visit the ' +\n",
       "            '<a target=\"_blank\" href=https://colab.research.google.com/notebooks/data_table.ipynb>data table notebook</a>'\n",
       "            + ' to learn more about interactive tables.';\n",
       "          element.innerHTML = '';\n",
       "          dataTable['output_type'] = 'display_data';\n",
       "          await google.colab.output.renderOutput(dataTable, element);\n",
       "          const docLink = document.createElement('div');\n",
       "          docLink.innerHTML = docLinkHtml;\n",
       "          element.appendChild(docLink);\n",
       "        }\n",
       "      </script>\n",
       "    </div>\n",
       "  </div>\n",
       "  "
      ],
      "text/plain": [
       "        x_train                                            y_train  \\\n",
       "0          here                                    is our forecast   \n",
       "1       here is                                       our forecast   \n",
       "2   here is our                                           forecast   \n",
       "3     traveling  to have a business meeting takes the fun out o...   \n",
       "4  traveling to  have a business meeting takes the fun out of t...   \n",
       "\n",
       "   x_train_len  y_train_len  \n",
       "0            1            3  \n",
       "1            2            2  \n",
       "2            3            1  \n",
       "3            1          101  \n",
       "4            2          100  "
      ]
     },
     "execution_count": 8,
     "metadata": {},
     "output_type": "execute_result"
    }
   ],
   "source": [
    "train_set.head()"
   ]
  },
  {
   "cell_type": "code",
   "execution_count": null,
   "metadata": {
    "colab": {
     "base_uri": "https://localhost:8080/"
    },
    "id": "frCfVbu1rqjo",
    "outputId": "284098a2-ce99-4c0c-9ded-80c5dcf867d0"
   },
   "outputs": [
    {
     "data": {
      "text/plain": [
       "(344472, 4)"
      ]
     },
     "execution_count": 9,
     "metadata": {},
     "output_type": "execute_result"
    }
   ],
   "source": [
    "train_set = train_set[train_set['x_train_len']>3]\n",
    "train_set = train_set[train_set['x_train_len']<30]\n",
    "\n",
    "train_set = train_set[train_set['y_train_len']<8]\n",
    "\n",
    "train_set.shape"
   ]
  },
  {
   "cell_type": "code",
   "execution_count": null,
   "metadata": {
    "colab": {
     "base_uri": "https://localhost:8080/"
    },
    "id": "iVhR3KQLJffB",
    "outputId": "322b0c90-e9c2-4aba-920e-35b244049a1b"
   },
   "outputs": [
    {
     "data": {
      "text/plain": [
       "29"
      ]
     },
     "execution_count": 10,
     "metadata": {},
     "output_type": "execute_result"
    }
   ],
   "source": [
    "max(train_set.x_train_len.values)"
   ]
  },
  {
   "cell_type": "code",
   "execution_count": null,
   "metadata": {
    "colab": {
     "base_uri": "https://localhost:8080/"
    },
    "id": "GKLeJpJFr3W3",
    "outputId": "de66d007-2cda-44aa-ecca-d9a537ec954c"
   },
   "outputs": [
    {
     "data": {
      "text/plain": [
       "7"
      ]
     },
     "execution_count": 11,
     "metadata": {},
     "output_type": "execute_result"
    }
   ],
   "source": [
    "max(train_set.y_train_len.values)"
   ]
  },
  {
   "cell_type": "code",
   "execution_count": null,
   "metadata": {
    "id": "9wck_0giD13f"
   },
   "outputs": [],
   "source": [
    "data = train_set"
   ]
  },
  {
   "cell_type": "code",
   "execution_count": null,
   "metadata": {
    "colab": {
     "base_uri": "https://localhost:8080/",
     "height": 320
    },
    "id": "7VYgCZ8-C7Qq",
    "outputId": "45ce60cd-2a53-4120-8fee-c1520b21ac58"
   },
   "outputs": [
    {
     "data": {
      "text/html": [
       "\n",
       "  <div id=\"df-a6cfe7da-b1b3-44a1-a793-3f99ace5399d\">\n",
       "    <div class=\"colab-df-container\">\n",
       "      <div>\n",
       "<style scoped>\n",
       "    .dataframe tbody tr th:only-of-type {\n",
       "        vertical-align: middle;\n",
       "    }\n",
       "\n",
       "    .dataframe tbody tr th {\n",
       "        vertical-align: top;\n",
       "    }\n",
       "\n",
       "    .dataframe thead th {\n",
       "        text-align: right;\n",
       "    }\n",
       "</style>\n",
       "<table border=\"1\" class=\"dataframe\">\n",
       "  <thead>\n",
       "    <tr style=\"text-align: right;\">\n",
       "      <th></th>\n",
       "      <th>enc_inp</th>\n",
       "      <th>dec_inp</th>\n",
       "      <th>our</th>\n",
       "    </tr>\n",
       "  </thead>\n",
       "  <tbody>\n",
       "    <tr>\n",
       "      <th>107</th>\n",
       "      <td>&lt;start&gt; plus your thoughts on &lt;end&gt;</td>\n",
       "      <td>&lt;start&gt; any changes that need to be made</td>\n",
       "      <td>any changes that need to be made &lt;end&gt;</td>\n",
       "    </tr>\n",
       "    <tr>\n",
       "      <th>108</th>\n",
       "      <td>&lt;start&gt; plus your thoughts on any &lt;end&gt;</td>\n",
       "      <td>&lt;start&gt; changes that need to be made</td>\n",
       "      <td>changes that need to be made &lt;end&gt;</td>\n",
       "    </tr>\n",
       "    <tr>\n",
       "      <th>109</th>\n",
       "      <td>&lt;start&gt; plus your thoughts on any changes &lt;end&gt;</td>\n",
       "      <td>&lt;start&gt; that need to be made</td>\n",
       "      <td>that need to be made &lt;end&gt;</td>\n",
       "    </tr>\n",
       "    <tr>\n",
       "      <th>110</th>\n",
       "      <td>&lt;start&gt; plus your thoughts on any changes that...</td>\n",
       "      <td>&lt;start&gt; need to be made</td>\n",
       "      <td>need to be made &lt;end&gt;</td>\n",
       "    </tr>\n",
       "    <tr>\n",
       "      <th>111</th>\n",
       "      <td>&lt;start&gt; plus your thoughts on any changes that...</td>\n",
       "      <td>&lt;start&gt; to be made</td>\n",
       "      <td>to be made &lt;end&gt;</td>\n",
       "    </tr>\n",
       "  </tbody>\n",
       "</table>\n",
       "</div>\n",
       "      <button class=\"colab-df-convert\" onclick=\"convertToInteractive('df-a6cfe7da-b1b3-44a1-a793-3f99ace5399d')\"\n",
       "              title=\"Convert this dataframe to an interactive table.\"\n",
       "              style=\"display:none;\">\n",
       "        \n",
       "  <svg xmlns=\"http://www.w3.org/2000/svg\" height=\"24px\"viewBox=\"0 0 24 24\"\n",
       "       width=\"24px\">\n",
       "    <path d=\"M0 0h24v24H0V0z\" fill=\"none\"/>\n",
       "    <path d=\"M18.56 5.44l.94 2.06.94-2.06 2.06-.94-2.06-.94-.94-2.06-.94 2.06-2.06.94zm-11 1L8.5 8.5l.94-2.06 2.06-.94-2.06-.94L8.5 2.5l-.94 2.06-2.06.94zm10 10l.94 2.06.94-2.06 2.06-.94-2.06-.94-.94-2.06-.94 2.06-2.06.94z\"/><path d=\"M17.41 7.96l-1.37-1.37c-.4-.4-.92-.59-1.43-.59-.52 0-1.04.2-1.43.59L10.3 9.45l-7.72 7.72c-.78.78-.78 2.05 0 2.83L4 21.41c.39.39.9.59 1.41.59.51 0 1.02-.2 1.41-.59l7.78-7.78 2.81-2.81c.8-.78.8-2.07 0-2.86zM5.41 20L4 18.59l7.72-7.72 1.47 1.35L5.41 20z\"/>\n",
       "  </svg>\n",
       "      </button>\n",
       "      \n",
       "  <style>\n",
       "    .colab-df-container {\n",
       "      display:flex;\n",
       "      flex-wrap:wrap;\n",
       "      gap: 12px;\n",
       "    }\n",
       "\n",
       "    .colab-df-convert {\n",
       "      background-color: #E8F0FE;\n",
       "      border: none;\n",
       "      border-radius: 50%;\n",
       "      cursor: pointer;\n",
       "      display: none;\n",
       "      fill: #1967D2;\n",
       "      height: 32px;\n",
       "      padding: 0 0 0 0;\n",
       "      width: 32px;\n",
       "    }\n",
       "\n",
       "    .colab-df-convert:hover {\n",
       "      background-color: #E2EBFA;\n",
       "      box-shadow: 0px 1px 2px rgba(60, 64, 67, 0.3), 0px 1px 3px 1px rgba(60, 64, 67, 0.15);\n",
       "      fill: #174EA6;\n",
       "    }\n",
       "\n",
       "    [theme=dark] .colab-df-convert {\n",
       "      background-color: #3B4455;\n",
       "      fill: #D2E3FC;\n",
       "    }\n",
       "\n",
       "    [theme=dark] .colab-df-convert:hover {\n",
       "      background-color: #434B5C;\n",
       "      box-shadow: 0px 1px 3px 1px rgba(0, 0, 0, 0.15);\n",
       "      filter: drop-shadow(0px 1px 2px rgba(0, 0, 0, 0.3));\n",
       "      fill: #FFFFFF;\n",
       "    }\n",
       "  </style>\n",
       "\n",
       "      <script>\n",
       "        const buttonEl =\n",
       "          document.querySelector('#df-a6cfe7da-b1b3-44a1-a793-3f99ace5399d button.colab-df-convert');\n",
       "        buttonEl.style.display =\n",
       "          google.colab.kernel.accessAllowed ? 'block' : 'none';\n",
       "\n",
       "        async function convertToInteractive(key) {\n",
       "          const element = document.querySelector('#df-a6cfe7da-b1b3-44a1-a793-3f99ace5399d');\n",
       "          const dataTable =\n",
       "            await google.colab.kernel.invokeFunction('convertToInteractive',\n",
       "                                                     [key], {});\n",
       "          if (!dataTable) return;\n",
       "\n",
       "          const docLinkHtml = 'Like what you see? Visit the ' +\n",
       "            '<a target=\"_blank\" href=https://colab.research.google.com/notebooks/data_table.ipynb>data table notebook</a>'\n",
       "            + ' to learn more about interactive tables.';\n",
       "          element.innerHTML = '';\n",
       "          dataTable['output_type'] = 'display_data';\n",
       "          await google.colab.output.renderOutput(dataTable, element);\n",
       "          const docLink = document.createElement('div');\n",
       "          docLink.innerHTML = docLinkHtml;\n",
       "          element.appendChild(docLink);\n",
       "        }\n",
       "      </script>\n",
       "    </div>\n",
       "  </div>\n",
       "  "
      ],
      "text/plain": [
       "                                               enc_inp  \\\n",
       "107                <start> plus your thoughts on <end>   \n",
       "108            <start> plus your thoughts on any <end>   \n",
       "109    <start> plus your thoughts on any changes <end>   \n",
       "110  <start> plus your thoughts on any changes that...   \n",
       "111  <start> plus your thoughts on any changes that...   \n",
       "\n",
       "                                      dec_inp  \\\n",
       "107  <start> any changes that need to be made   \n",
       "108      <start> changes that need to be made   \n",
       "109              <start> that need to be made   \n",
       "110                   <start> need to be made   \n",
       "111                        <start> to be made   \n",
       "\n",
       "                                        our  \n",
       "107  any changes that need to be made <end>  \n",
       "108      changes that need to be made <end>  \n",
       "109              that need to be made <end>  \n",
       "110                   need to be made <end>  \n",
       "111                        to be made <end>  "
      ]
     },
     "execution_count": 13,
     "metadata": {},
     "output_type": "execute_result"
    }
   ],
   "source": [
    "\n",
    "\n",
    "data['enc_inp'] = '<start> ' + data['x_train'].astype(str)  + ' <end>'\n",
    "\n",
    "data['dec_inp'] = '<start> ' + data['y_train'].astype(str)\n",
    "data['our'] = data['y_train'].astype(str) + ' <end>'\n",
    "\n",
    "data = data.drop(['x_train','y_train','x_train_len', 'y_train_len'], axis=1)\n",
    "# only for the first sentance add a toke <end> so that we will have <end> in tokenizer\n",
    "data.head()"
   ]
  },
  {
   "cell_type": "code",
   "execution_count": null,
   "metadata": {
    "id": "Pah111ppESV2"
   },
   "outputs": [],
   "source": [
    "from sklearn.model_selection import train_test_split\n",
    "train, test = train_test_split(data, test_size=0.33)"
   ]
  },
  {
   "cell_type": "code",
   "execution_count": null,
   "metadata": {
    "colab": {
     "base_uri": "https://localhost:8080/"
    },
    "id": "4IAzWzChErSX",
    "outputId": "defb1386-9411-47e5-ff5c-246deffbd924"
   },
   "outputs": [
    {
     "name": "stdout",
     "output_type": "stream",
     "text": [
      "The shape of the train data ==> (230796, 3)\n",
      "The shape of the test  data ==> (113676, 3)\n"
     ]
    }
   ],
   "source": [
    "print('The shape of the train data ==>', train.shape)\n",
    "print('The shape of the test  data ==>', test.shape)"
   ]
  },
  {
   "cell_type": "code",
   "execution_count": null,
   "metadata": {
    "id": "buvN2EEsEt-O"
   },
   "outputs": [],
   "source": [
    "#Train dataset\n",
    "x_train_encoder = train.enc_inp.values\n",
    "x_train_decoder = train.dec_inp.values\n",
    "y_train         = train.our.values"
   ]
  },
  {
   "cell_type": "code",
   "execution_count": null,
   "metadata": {
    "id": "isXPcrGyE1dm"
   },
   "outputs": [],
   "source": [
    "#test dataset\n",
    "x_test_encoder = test.enc_inp.values\n",
    "x_test_decoder = test.dec_inp.values\n",
    "y_test         = test.our.values"
   ]
  },
  {
   "cell_type": "code",
   "execution_count": null,
   "metadata": {
    "colab": {
     "base_uri": "https://localhost:8080/"
    },
    "id": "_jCRpRooFBBG",
    "outputId": "c6353c36-c2af-4371-99ab-d7fbc0008d67"
   },
   "outputs": [
    {
     "name": "stdout",
     "output_type": "stream",
     "text": [
      "y_train shape and y_test shape ==> (230796,) (113676,)\n"
     ]
    }
   ],
   "source": [
    "print('y_train shape and y_test shape ==>' , y_train.shape, y_test.shape)"
   ]
  },
  {
   "cell_type": "code",
   "execution_count": null,
   "metadata": {
    "id": "esLVlgR_FCxL"
   },
   "outputs": [],
   "source": [
    "def padding(train , test):\n",
    "  tokenizer = tf.keras.preprocessing.text.Tokenizer(filters = '!\"#$%&()*+,-./:;=?@[\\\\]^_`{|}~\\t\\n')\n",
    "  tokenizer.fit_on_texts(train)\n",
    "\n",
    "  x_train =  tokenizer.texts_to_sequences(train)\n",
    "  x_test  =  tokenizer.texts_to_sequences(test)\n",
    "\n",
    "\n",
    "  # padding train and test data using the maximum length\n",
    "  x_train = tf.keras.preprocessing.sequence.pad_sequences(x_train, padding='post')\n",
    "  x_test  = tf.keras.preprocessing.sequence.pad_sequences(x_test,  padding='post')\n",
    "\n",
    "  return tokenizer , x_train , x_test"
   ]
  },
  {
   "cell_type": "code",
   "execution_count": null,
   "metadata": {
    "id": "meUz86YJFE_h"
   },
   "outputs": [],
   "source": [
    "ita_token , x_train_enc , x_test_enc = padding(x_train_encoder , x_test_encoder)\n",
    "eng_token , x_train_dec , x_test_dec = padding(x_train_decoder , x_test_decoder)\n",
    "y_token   , y_train     , y_test     = padding(y_train , y_test)"
   ]
  },
  {
   "cell_type": "code",
   "execution_count": null,
   "metadata": {
    "id": "ykUv3AsIFQTk"
   },
   "outputs": [],
   "source": [
    "class Encoder(tf.keras.Model):\n",
    "    '''\n",
    "    Encoder model -- That takes a input sequence and returns output sequence\n",
    "    '''\n",
    "\n",
    "    def __init__(self,inp_vocab_size,embedding_size,lstm_size,input_length):\n",
    "\n",
    "        #Initialize Embedding layer\n",
    "        #Intialize Encoder LSTM layer\n",
    "        super().__init__()\n",
    "        self.inp_vocab_size = inp_vocab_size\n",
    "        self.embedding_size = embedding_size\n",
    "        self.input_length = input_length\n",
    "        self.lstm_size= lstm_size\n",
    "        self.embedding = tf.keras.layers.Embedding(input_dim=self.inp_vocab_size, output_dim=self.embedding_size, name=\"embedding_layer_encoder\")\n",
    "        self.lstm = tf.keras.layers.LSTM(self.lstm_size, return_state=True, return_sequences=True, name=\"Encoder_LSTM\", recurrent_initializer='glorot_uniform')\n",
    "\n",
    "    def call(self,input_sequence,initial_state):\n",
    "      '''\n",
    "          This function takes a sequence input and the initial states of the encoder.\n",
    "          Pass the input_sequence input to the Embedding layer, Pass the embedding layer ouput to encoder_lstm\n",
    "          returns -- All encoder_outputs, last time steps hidden and cell state\n",
    "      '''\n",
    "      input_embedd = self.embedding(input_sequence)\n",
    "      lstm_output, lstm_state_h, lstm_state_c = self.lstm(input_embedd,initial_state = initial_state)\n",
    "      return lstm_output, lstm_state_h, lstm_state_c\n",
    "    \n",
    "    def initialize_states(self,batch_size):\n",
    "      '''\n",
    "      Given a batch size it will return intial hidden state and intial cell state.\n",
    "      If batch size is 32- Hidden state shape is [32,lstm_units], cell state shape is [32,lstm_units]\n",
    "      '''\n",
    "      return tf.zeros((batch_size, self.lstm_size)) , tf.zeros((batch_size, self.lstm_size))"
   ]
  },
  {
   "cell_type": "code",
   "execution_count": null,
   "metadata": {
    "id": "jsCYbX7WGMrS"
   },
   "outputs": [],
   "source": [
    "class Decoder(tf.keras.Model):\n",
    "    '''\n",
    "    Encoder model -- That takes a input sequence and returns output sequence\n",
    "    '''\n",
    "\n",
    "    def __init__(self,out_vocab_size,embedding_size,lstm_size,input_length):\n",
    "      super().__init__()\n",
    "      self.out_vocab_size = out_vocab_size\n",
    "      self.embedding_size = embedding_size\n",
    "      self.input_length = input_length\n",
    "      self.lstm_size= lstm_size\n",
    "\n",
    "        #Initialize Embedding layer\n",
    "        #Intialize Decoder LSTM layer\n",
    "\n",
    "      self.embedding = tf.keras.layers.Embedding(input_dim = self.out_vocab_size, output_dim = self.embedding_size, name=\"embedding_decoder_layer\")\n",
    "      \n",
    "      self.lstm = tf.keras.layers.LSTM(self.lstm_size, return_state=True, return_sequences=True, name=\"Decoder_lstm_layer\", recurrent_initializer='glorot_uniform')\n",
    "        \n",
    "\n",
    "\n",
    "    def call(self,input_sequence,initial_states):\n",
    "\n",
    "\n",
    "      \n",
    "      input_embedd = self.embedding(input_sequence)\n",
    "      decoder_output, decoder_final_state_h, decoder_final_state_c = self.lstm(input_embedd,initial_state = initial_states)\n",
    "      return decoder_output, decoder_final_state_h, decoder_final_state_c"
   ]
  },
  {
   "cell_type": "code",
   "execution_count": null,
   "metadata": {
    "id": "Avo8Xju9GQRs"
   },
   "outputs": [],
   "source": [
    "class Encoder_decoder(tf.keras.Model):\n",
    "    \n",
    "    def __init__(self,encoder_inputs_length,decoder_inputs_length, output_vocab_size):\n",
    "        super().__init__() # https://stackoverflow.com/a/27134600/4084039\n",
    "        #(self,inp_vocab_size,embedding_size,lstm_size,input_length):\n",
    "        self.encoder = Encoder(inp_vocab_size = input_vocab, embedding_size =  256, lstm_size = 200, input_length= encoder_inputs_length)\n",
    "        self.decoder = Decoder(out_vocab_size = output_vocab, embedding_size = 256, lstm_size = 200, input_length= decoder_inputs_length)\n",
    "        self.dense   = Dense(output_vocab_size, activation='softmax')\n",
    "        \n",
    "        #Create encoder object\n",
    "        #Create decoder object\n",
    "        #Intialize Dense layer(out_vocab_size) with activation='softmax'\n",
    "    \n",
    "    \n",
    "    def call(self,data):\n",
    "        '''\n",
    "        A. Pass the input sequence to Encoder layer -- Return encoder_output,encoder_final_state_h,encoder_final_state_c\n",
    "        B. Pass the target sequence to Decoder layer with intial states as encoder_final_state_h,encoder_final_state_C\n",
    "        C. Pass the decoder_outputs into Dense layer \n",
    "        \n",
    "        Return decoder_outputs\n",
    "        '''\n",
    "        input_to_encoder,input_to_decoder = data[0], data[1]\n",
    "        initial_state= self.encoder.initialize_states(tf.shape(input_to_encoder)[0])\n",
    "        encoder_output,state_h,state_c = self.encoder(input_to_encoder,initial_state)\n",
    "\n",
    "        decoder_output, decoder_final_state_h, decoder_final_state_c = self.decoder(input_to_decoder, [state_h,state_c]) \n",
    "        decoder_output = self.dense(decoder_output)\n",
    "\n",
    "        # return the decoder output\n",
    "        return decoder_output"
   ]
  },
  {
   "cell_type": "code",
   "execution_count": null,
   "metadata": {
    "colab": {
     "base_uri": "https://localhost:8080/"
    },
    "id": "ohLDWcmbyNlM",
    "outputId": "a42a166c-6c41-4f4e-8113-b693cd40e6fd"
   },
   "outputs": [
    {
     "name": "stdout",
     "output_type": "stream",
     "text": [
      "input vocab size ==> 18547\n",
      "output vocab size ==> 12127\n"
     ]
    }
   ],
   "source": [
    "input_vocab  = len(ita_token.word_index) + 1\n",
    "output_vocab = len(y_token.word_index) + 1\n",
    "print('input vocab size ==>' , input_vocab)\n",
    "print('output vocab size ==>' , output_vocab)"
   ]
  },
  {
   "cell_type": "code",
   "execution_count": null,
   "metadata": {
    "colab": {
     "base_uri": "https://localhost:8080/"
    },
    "id": "BMfFWXGkGTe9",
    "outputId": "046c2b86-55b1-45a3-83d9-50d5293b72fd"
   },
   "outputs": [
    {
     "name": "stdout",
     "output_type": "stream",
     "text": [
      "Epoch 1/60\n",
      "451/451 [==============================] - 75s 141ms/step - loss: 3.5180 - val_loss: 3.0174\n",
      "Epoch 2/60\n",
      "451/451 [==============================] - 62s 137ms/step - loss: 2.8903 - val_loss: 2.7697\n",
      "Epoch 3/60\n",
      "451/451 [==============================] - 63s 139ms/step - loss: 2.6992 - val_loss: 2.6467\n",
      "Epoch 4/60\n",
      "451/451 [==============================] - 62s 136ms/step - loss: 2.5798 - val_loss: 2.5383\n",
      "Epoch 5/60\n",
      "451/451 [==============================] - 63s 139ms/step - loss: 2.4694 - val_loss: 2.4535\n",
      "Epoch 6/60\n",
      "451/451 [==============================] - 63s 139ms/step - loss: 2.3706 - val_loss: 2.3603\n",
      "Epoch 7/60\n",
      "451/451 [==============================] - 62s 137ms/step - loss: 2.2696 - val_loss: 2.2757\n",
      "Epoch 8/60\n",
      "451/451 [==============================] - 63s 139ms/step - loss: 2.1723 - val_loss: 2.1918\n",
      "Epoch 9/60\n",
      "451/451 [==============================] - 61s 136ms/step - loss: 2.0722 - val_loss: 2.1096\n",
      "Epoch 10/60\n",
      "451/451 [==============================] - 63s 139ms/step - loss: 1.9833 - val_loss: 2.0458\n",
      "Epoch 11/60\n",
      "451/451 [==============================] - 63s 139ms/step - loss: 1.9081 - val_loss: 1.9943\n",
      "Epoch 12/60\n",
      "451/451 [==============================] - 63s 139ms/step - loss: 1.8417 - val_loss: 1.9479\n",
      "Epoch 13/60\n",
      "451/451 [==============================] - 63s 139ms/step - loss: 1.7809 - val_loss: 1.9085\n",
      "Epoch 14/60\n",
      "451/451 [==============================] - 63s 139ms/step - loss: 1.7241 - val_loss: 1.8721\n",
      "Epoch 15/60\n",
      "451/451 [==============================] - 62s 139ms/step - loss: 1.6709 - val_loss: 1.8365\n",
      "Epoch 16/60\n",
      "451/451 [==============================] - 62s 139ms/step - loss: 1.6200 - val_loss: 1.8054\n",
      "Epoch 17/60\n",
      "451/451 [==============================] - 63s 139ms/step - loss: 1.5714 - val_loss: 1.7754\n",
      "Epoch 18/60\n",
      "451/451 [==============================] - 62s 138ms/step - loss: 1.5247 - val_loss: 1.7482\n",
      "Epoch 19/60\n",
      "451/451 [==============================] - 62s 139ms/step - loss: 1.4799 - val_loss: 1.7264\n",
      "Epoch 20/60\n",
      "451/451 [==============================] - 62s 139ms/step - loss: 1.4368 - val_loss: 1.7021\n",
      "Epoch 21/60\n",
      "451/451 [==============================] - 62s 138ms/step - loss: 1.3964 - val_loss: 1.6837\n",
      "Epoch 22/60\n",
      "451/451 [==============================] - 62s 138ms/step - loss: 1.3576 - val_loss: 1.6645\n",
      "Epoch 23/60\n",
      "451/451 [==============================] - 61s 136ms/step - loss: 1.3205 - val_loss: 1.6468\n",
      "Epoch 24/60\n",
      "451/451 [==============================] - 62s 139ms/step - loss: 1.2845 - val_loss: 1.6322\n",
      "Epoch 25/60\n",
      "451/451 [==============================] - 62s 139ms/step - loss: 1.2505 - val_loss: 1.6178\n",
      "Epoch 26/60\n",
      "451/451 [==============================] - 62s 138ms/step - loss: 1.2176 - val_loss: 1.6051\n",
      "Epoch 27/60\n",
      "451/451 [==============================] - 61s 136ms/step - loss: 1.1861 - val_loss: 1.5923\n",
      "Epoch 28/60\n",
      "451/451 [==============================] - 62s 139ms/step - loss: 1.1561 - val_loss: 1.5812\n",
      "Epoch 29/60\n",
      "451/451 [==============================] - 61s 136ms/step - loss: 1.1271 - val_loss: 1.5745\n",
      "Epoch 30/60\n",
      "451/451 [==============================] - 62s 138ms/step - loss: 1.0995 - val_loss: 1.5644\n",
      "Epoch 31/60\n",
      "451/451 [==============================] - 62s 138ms/step - loss: 1.0725 - val_loss: 1.5603\n",
      "Epoch 32/60\n",
      "451/451 [==============================] - 62s 139ms/step - loss: 1.0472 - val_loss: 1.5508\n",
      "Epoch 33/60\n",
      "451/451 [==============================] - 62s 138ms/step - loss: 1.0223 - val_loss: 1.5459\n",
      "Epoch 34/60\n",
      "451/451 [==============================] - 62s 138ms/step - loss: 0.9983 - val_loss: 1.5365\n",
      "Epoch 35/60\n",
      "451/451 [==============================] - 62s 138ms/step - loss: 0.9760 - val_loss: 1.5310\n",
      "Epoch 36/60\n",
      "451/451 [==============================] - 62s 138ms/step - loss: 0.9537 - val_loss: 1.5306\n",
      "Epoch 37/60\n",
      "451/451 [==============================] - 61s 136ms/step - loss: 0.9323 - val_loss: 1.5247\n",
      "Epoch 38/60\n",
      "451/451 [==============================] - 62s 138ms/step - loss: 0.9120 - val_loss: 1.5194\n",
      "Epoch 39/60\n",
      "451/451 [==============================] - 62s 138ms/step - loss: 0.8917 - val_loss: 1.5172\n",
      "Epoch 40/60\n",
      "451/451 [==============================] - 62s 138ms/step - loss: 0.8723 - val_loss: 1.5130\n",
      "Epoch 41/60\n",
      "451/451 [==============================] - 62s 138ms/step - loss: 0.8543 - val_loss: 1.5140\n",
      "Epoch 42/60\n",
      "451/451 [==============================] - 62s 138ms/step - loss: 0.8355 - val_loss: 1.5131\n",
      "Epoch 43/60\n",
      "451/451 [==============================] - 62s 138ms/step - loss: 0.8183 - val_loss: 1.5118\n",
      "Epoch 44/60\n",
      "451/451 [==============================] - 61s 136ms/step - loss: 0.8010 - val_loss: 1.5115\n",
      "Epoch 45/60\n",
      "451/451 [==============================] - 61s 136ms/step - loss: 0.7849 - val_loss: 1.5121\n",
      "Epoch 46/60\n",
      "451/451 [==============================] - 62s 138ms/step - loss: 0.7690 - val_loss: 1.5097\n",
      "Epoch 47/60\n",
      "451/451 [==============================] - 62s 138ms/step - loss: 0.7532 - val_loss: 1.5132\n",
      "Epoch 48/60\n",
      "451/451 [==============================] - 62s 138ms/step - loss: 0.7384 - val_loss: 1.5129\n",
      "Epoch 49/60\n",
      "451/451 [==============================] - 61s 136ms/step - loss: 0.7240 - val_loss: 1.5116\n",
      "Epoch 50/60\n",
      "451/451 [==============================] - 62s 138ms/step - loss: 0.7097 - val_loss: 1.5140\n",
      "Epoch 51/60\n",
      "451/451 [==============================] - 62s 138ms/step - loss: 0.6959 - val_loss: 1.5179\n",
      "Epoch 52/60\n",
      "451/451 [==============================] - 62s 138ms/step - loss: 0.6825 - val_loss: 1.5182\n",
      "Epoch 53/60\n",
      "451/451 [==============================] - 61s 136ms/step - loss: 0.6695 - val_loss: 1.5183\n",
      "Epoch 54/60\n",
      "451/451 [==============================] - 62s 138ms/step - loss: 0.6567 - val_loss: 1.5257\n",
      "Epoch 55/60\n",
      "451/451 [==============================] - 61s 136ms/step - loss: 0.6449 - val_loss: 1.5263\n",
      "Epoch 56/60\n",
      "451/451 [==============================] - 61s 136ms/step - loss: 0.6327 - val_loss: 1.5286\n",
      "Epoch 57/60\n",
      "451/451 [==============================] - 62s 138ms/step - loss: 0.6211 - val_loss: 1.5328\n",
      "Epoch 58/60\n",
      "451/451 [==============================] - 62s 139ms/step - loss: 0.6103 - val_loss: 1.5386\n",
      "Epoch 59/60\n",
      "451/451 [==============================] - 62s 138ms/step - loss: 0.5986 - val_loss: 1.5375\n",
      "Epoch 60/60\n",
      "451/451 [==============================] - 62s 138ms/step - loss: 0.5884 - val_loss: 1.5418\n"
     ]
    },
    {
     "data": {
      "text/plain": [
       "<keras.callbacks.History at 0x7f212697bf50>"
      ]
     },
     "execution_count": 27,
     "metadata": {},
     "output_type": "execute_result"
    }
   ],
   "source": [
    "from tensorflow.keras.layers import Embedding, LSTM, Dense, Activation , add\n",
    "model  = Encoder_decoder(encoder_inputs_length=31 ,decoder_inputs_length=8 , output_vocab_size = output_vocab)\n",
    "\n",
    "\n",
    "# loss_object = loss_object = tf.keras.losses.SparseCategoricalCrossentropy(from_logits=True, reduction='none')\n",
    "optimizer = tf.keras.optimizers.Adam()\n",
    "#defining callbacks\n",
    "his = tf.keras.callbacks.History()\n",
    "callbacks = [tf.keras.callbacks.TensorBoard(log_dir='logs/model2') , his]\n",
    "#compiling the model\n",
    "\n",
    "model.compile(optimizer=optimizer,loss='sparse_categorical_crossentropy')\n",
    "\n",
    "model.fit([x_train_enc , x_train_dec], y_train, batch_size=512,epochs = 60, validation_data = ([x_test_enc,x_test_dec], y_test) , callbacks = callbacks)"
   ]
  },
  {
   "cell_type": "code",
   "execution_count": null,
   "metadata": {
    "colab": {
     "base_uri": "https://localhost:8080/"
    },
    "id": "bTGfEW5qU9ll",
    "outputId": "38955f7e-b60e-4baa-f6b5-6c61b95686c3"
   },
   "outputs": [
    {
     "name": "stdout",
     "output_type": "stream",
     "text": [
      "Model: \"encoder_decoder\"\n",
      "_________________________________________________________________\n",
      " Layer (type)                Output Shape              Param #   \n",
      "=================================================================\n",
      " encoder (Encoder)           multiple                  5113632   \n",
      "                                                                 \n",
      " decoder (Decoder)           multiple                  3470112   \n",
      "                                                                 \n",
      " dense (Dense)               multiple                  2437527   \n",
      "                                                                 \n",
      "=================================================================\n",
      "Total params: 11,021,271\n",
      "Trainable params: 11,021,271\n",
      "Non-trainable params: 0\n",
      "_________________________________________________________________\n"
     ]
    }
   ],
   "source": [
    "model.summary()"
   ]
  },
  {
   "cell_type": "code",
   "execution_count": null,
   "metadata": {
    "colab": {
     "base_uri": "https://localhost:8080/",
     "height": 312
    },
    "id": "z298hvAC8JV-",
    "outputId": "9f18b49e-502e-4fff-8e53-f93ec4f8a940"
   },
   "outputs": [
    {
     "data": {
      "text/plain": [
       "Text(0.5, 1.0, 'Loss Vs No of epochs')"
      ]
     },
     "execution_count": 29,
     "metadata": {},
     "output_type": "execute_result"
    },
    {
     "data": {
      "image/png": "[encoded data removed]",
      "text/plain": [
       "<Figure size 432x288 with 1 Axes>"
      ]
     },
     "metadata": {
      "needs_background": "light"
     },
     "output_type": "display_data"
    }
   ],
   "source": [
    "loss = his.history['loss']\n",
    "val_loss = his.history['val_loss']\n",
    "plt.plot(loss,label='Training loss')\n",
    "plt.plot(val_loss, label='Validation loss')\n",
    "plt.legend()\n",
    "plt.grid()\n",
    "plt.xlabel('No of epochs')\n",
    "plt.ylabel('Loss')\n",
    "plt.title('Loss Vs No of epochs')"
   ]
  },
  {
   "cell_type": "code",
   "execution_count": null,
   "metadata": {
    "id": "pXkmBim67ce7"
   },
   "outputs": [],
   "source": [
    "# model.save_weights('/content/drive/MyDrive/model1/best_model1.h5')"
   ]
  },
  {
   "cell_type": "code",
   "execution_count": null,
   "metadata": {
    "id": "pl25zqU3qcyN"
   },
   "outputs": [],
   "source": [
    "#here we change the key value pair to value key pair\n",
    "eng_word = y_token.word_index\n",
    "new_dict = dict([(value, key) for key, value in eng_word.items()])\n",
    "new_dict[0] = ''"
   ]
  },
  {
   "cell_type": "code",
   "execution_count": null,
   "metadata": {
    "id": "FPnU8I6jrBY-"
   },
   "outputs": [],
   "source": [
    "def predict(input_sentence):\n",
    "# A. Given input sentence, convert the sentence into integers using tokenizer used earlier\n",
    "#here we also check the we have the start and end token in sentences\n",
    "#then we convert out input into to token and do a padding\n",
    "  input = input_sentence\n",
    "  if input.split(' ')[0] != '<start>' and input.split(' ')[-1] != '<end>':\n",
    "    input = '<start>'+ ' ' + input + ' ' + '<end>'\n",
    "  else:\n",
    "    input = str(input)\n",
    "  input = ita_token.texts_to_sequences([str(input)])\n",
    "  input = pad_sequences(input, padding=\"post\",maxlen= 20)\n",
    "\n",
    "#as we know we have a three layer 1 ==> encoder 2 ==> decoder 3 ==> dense\n",
    "#so first is encoder we give the input as input sec and ini_state\n",
    "\n",
    "  enc_ini_states = model.layers[0].initialize_states(1)\n",
    "  enc_out, enc_h_state, enc_c_state = model.layers[0](input, enc_ini_states)\n",
    "\n",
    "#output of the encoder is a input as decoder\n",
    "# first word input of decoder is start token \n",
    "# then 2nd input of decoder is predecting word by model\n",
    "\n",
    "  decoder_initial_state = [enc_h_state, enc_c_state]\n",
    "  decoder_initial_input = np.zeros((1,1))\n",
    "  decoder_initial_input[0,0] = eng_token.word_index['<start>']\n",
    "\n",
    "  predict_word = []\n",
    "  w = []\n",
    "  for i in range(20):\n",
    "    dec_out, dec_h_state, dec_c_state = model.layers[1](decoder_initial_input, decoder_initial_state)\n",
    "    # we use 3rd layer and we get the max proba word as out put and the this word is next input of the decoder \n",
    "    english_predict = np.argmax(model.layers[2](dec_out).numpy().ravel())\n",
    "    predict_word.append(english_predict)\n",
    "    decoder_initial_input[0,0] = english_predict\n",
    "    #replacing the next decoder initial states with current decoder output \n",
    "    decoder_initial_state = [dec_h_state, dec_c_state]\n",
    "    w.append(new_dict[english_predict])\n",
    "\n",
    "    if new_dict[english_predict] == '<end>':\n",
    "      break\n",
    "  return ' '.join(w)"
   ]
  },
  {
   "cell_type": "code",
   "execution_count": null,
   "metadata": {
    "colab": {
     "base_uri": "https://localhost:8080/",
     "height": 35
    },
    "id": "WA52oAbNrE7X",
    "outputId": "e2dbaeed-93f9-466d-ea78-ebce5c0f4aa4"
   },
   "outputs": [
    {
     "data": {
      "application/vnd.google.colaboratory.intrinsic+json": {
       "type": "string"
      },
      "text/plain": [
       "'questions please let me know your thoughts <end>'"
      ]
     },
     "execution_count": 32,
     "metadata": {},
     "output_type": "execute_result"
    }
   ],
   "source": [
    "predict('<start> you have any <end>')"
   ]
  },
  {
   "cell_type": "code",
   "execution_count": null,
   "metadata": {
    "colab": {
     "base_uri": "https://localhost:8080/",
     "height": 35
    },
    "id": "JIiW9fci6VJb",
    "outputId": "660d486d-aaab-4031-ffa3-6da68f4a2ad6"
   },
   "outputs": [
    {
     "data": {
      "application/vnd.google.colaboratory.intrinsic+json": {
       "type": "string"
      },
      "text/plain": [
       "'there is a problem <end>'"
      ]
     },
     "execution_count": 37,
     "metadata": {},
     "output_type": "execute_result"
    }
   ],
   "source": [
    "predict('<start> my mood is not good if <end>')"
   ]
  },
  {
   "cell_type": "code",
   "execution_count": null,
   "metadata": {
    "colab": {
     "base_uri": "https://localhost:8080/",
     "height": 35
    },
    "id": "QB_dT0ea1Hul",
    "outputId": "589c6533-b79f-41f8-d827-38c1215b5ff5"
   },
   "outputs": [
    {
     "data": {
      "application/vnd.google.colaboratory.intrinsic+json": {
       "type": "string"
      },
      "text/plain": [
       "'questions please feel free to call <end>'"
      ]
     },
     "execution_count": 46,
     "metadata": {},
     "output_type": "execute_result"
    }
   ],
   "source": [
    "predict('<start> if you have any   <end>')"
   ]
  },
  {
   "cell_type": "code",
   "execution_count": null,
   "metadata": {
    "colab": {
     "base_uri": "https://localhost:8080/",
     "height": 35
    },
    "id": "Ujhi0gLekffg",
    "outputId": "3e374bf0-f533-47c9-f179-1ae20983eea2"
   },
   "outputs": [
    {
     "data": {
      "application/vnd.google.colaboratory.intrinsic+json": {
       "type": "string"
      },
      "text/plain": [
       "'save her for your review <end>'"
      ]
     },
     "execution_count": 39,
     "metadata": {},
     "output_type": "execute_result"
    }
   ],
   "source": [
    "predict('<start> how are you and <end>')"
   ]
  },
  {
   "cell_type": "code",
   "execution_count": null,
   "metadata": {
    "colab": {
     "base_uri": "https://localhost:8080/"
    },
    "id": "va5bF1XBrG9W",
    "outputId": "349bcb76-4cf1-434c-d5dc-68f16b3a1a49"
   },
   "outputs": [
    {
     "name": "stdout",
     "output_type": "stream",
     "text": [
      "Input  ==> <start> the meter cards will use the calculation only gary if we need to clarify any of the above <end>\n",
      "Output ==> <start> please let me know\n",
      "Predict ==> procedures please let me know <end>\n",
      "====================================================================================================\n",
      "Input  ==> <start> click here to see what we have to offer he is expected to play this week he is still expected to play he <end>\n",
      "Output ==> <start> is expected to start this week\n",
      "Predict ==> will take more later <end>\n",
      "====================================================================================================\n",
      "Input  ==> <start> please update me on your <end>\n",
      "Output ==> <start> progress\n",
      "Predict ==> cell phone if you need <end>\n",
      "====================================================================================================\n",
      "Input  ==> <start> i have added some language to your proposals but have kept the intention intact please take a look at the attached and let me know <end>\n",
      "Output ==> <start> if anything further\n",
      "Predict ==> when you would like to proceed <end>\n",
      "====================================================================================================\n",
      "Input  ==> <start> we have completed some studies but still need to check on a case or two hope to have a breif system impact study report out to you very <end>\n",
      "Output ==> <start> soon\n",
      "Predict ==> soon <end>\n",
      "====================================================================================================\n",
      "Input  ==> <start> i am just cleaning up my <end>\n",
      "Output ==> <start> apartment getting ready for the big move\n",
      "Predict ==> apartment getting ready for the job <end>\n",
      "====================================================================================================\n",
      "Input  ==> <start> it may hit the papers in <end>\n",
      "Output ==> <start> the morning\n",
      "Predict ==> the morning <end>\n",
      "====================================================================================================\n",
      "Input  ==> <start> i have attached a copy of my resume for your reference and look forward to hearing <end>\n",
      "Output ==> <start> from you\n",
      "Predict ==> from you <end>\n",
      "====================================================================================================\n",
      "Input  ==> <start> i may be available to help at nights in math can you please respond with details about the program how old the kids are <end>\n",
      "Output ==> <start> the commitment required etc\n",
      "Predict ==> not taking care of life <end>\n",
      "====================================================================================================\n",
      "Input  ==> <start> it may be done in stages e there is some concern about moving liquids around when the flow is <end>\n",
      "Output ==> <start> reversed physically the gas would burn\n",
      "Predict ==> reviewed <end>\n",
      "====================================================================================================\n",
      "Input  ==> <start> i will also drop off a copy of <end>\n",
      "Output ==> <start> the population weighting\n",
      "Predict ==> the population weighting <end>\n",
      "====================================================================================================\n",
      "Input  ==> <start> there is not any excuse for you not to show up and hang with <end>\n",
      "Output ==> <start> your classmates\n",
      "Predict ==> your classmates <end>\n",
      "====================================================================================================\n",
      "Input  ==> <start> harvard is interested in metals <end>\n",
      "Output ==> <start> trading\n",
      "Predict ==> trading <end>\n",
      "====================================================================================================\n",
      "Input  ==> <start> provided for each are redlined and modified <end>\n",
      "Output ==> <start> versions\n",
      "Predict ==> comment below <end>\n",
      "====================================================================================================\n",
      "Input  ==> <start> below is a list of my favorites smart and provocative this book belongs on the shelf of any businessperson looking for a fresh point of view all rights <end>\n",
      "Output ==> <start> reserved\n",
      "Predict ==> reserved <end>\n",
      "====================================================================================================\n",
      "Input  ==> <start> in fact it works so well we are certain you will be a <end>\n",
      "Output ==> <start> happy customer\n",
      "Predict ==> blast <end>\n",
      "====================================================================================================\n",
      "Input  ==> <start> please email it to him as well i would like to get this one done today if <end>\n",
      "Output ==> <start> at all possible\n",
      "Predict ==> possible <end>\n",
      "====================================================================================================\n",
      "Input  ==> <start> you will automatically begin receiving email offers from various companies to help you better manage your <end>\n",
      "Output ==> <start> busy life\n",
      "Predict ==> life <end>\n",
      "====================================================================================================\n",
      "Input  ==> <start> today we are eight blessed is he who has found his work let him ask no other blessedness we do not like to receive junk <end>\n",
      "Output ==> <start> mail and know you do not either\n",
      "Predict ==> profile dsm group <end>\n",
      "====================================================================================================\n",
      "Input  ==> <start> i am so glad you wrote back congratulations on <end>\n",
      "Output ==> <start> your marriage\n",
      "Predict ==> your marriage <end>\n",
      "====================================================================================================\n"
     ]
    }
   ],
   "source": [
    "data_sam = data.sample(20)\n",
    "for i in range(20):\n",
    "  print('Input  ==>' , data_sam.enc_inp.values[i])\n",
    "  print('Output ==>' , data_sam.dec_inp.values[i])\n",
    "  print('Predict ==>', predict(data_sam.enc_inp.values[i]))\n",
    "  print(50 * '==')"
   ]
  },
  {
   "cell_type": "code",
   "execution_count": null,
   "metadata": {
    "colab": {
     "base_uri": "https://localhost:8080/"
    },
    "id": "nxgODd8N6lnB",
    "outputId": "6834a1c1-fc5e-48ef-f14e-556bfe0a0b23"
   },
   "outputs": [
    {
     "name": "stderr",
     "output_type": "stream",
     "text": [
      "  0%|          | 0/1000 [00:00<?, ?it/s]/usr/local/lib/python3.7/dist-packages/nltk/translate/bleu_score.py:490: UserWarning: \n",
      "Corpus/Sentence contains 0 counts of 2-gram overlaps.\n",
      "BLEU scores might be undesirable; use SmoothingFunction().\n",
      "  warnings.warn(_msg)\n",
      "/usr/local/lib/python3.7/dist-packages/nltk/translate/bleu_score.py:490: UserWarning: \n",
      "Corpus/Sentence contains 0 counts of 3-gram overlaps.\n",
      "BLEU scores might be undesirable; use SmoothingFunction().\n",
      "  warnings.warn(_msg)\n",
      "  2%|▏         | 15/1000 [00:00<00:39, 24.80it/s]/usr/local/lib/python3.7/dist-packages/nltk/translate/bleu_score.py:490: UserWarning: \n",
      "Corpus/Sentence contains 0 counts of 4-gram overlaps.\n",
      "BLEU scores might be undesirable; use SmoothingFunction().\n",
      "  warnings.warn(_msg)\n",
      "100%|██████████| 1000/1000 [00:32<00:00, 30.65it/s]"
     ]
    },
    {
     "name": "stdout",
     "output_type": "stream",
     "text": [
      "Bleu Score ==>  0.7159375178311874\n"
     ]
    },
    {
     "name": "stderr",
     "output_type": "stream",
     "text": [
      "\n"
     ]
    }
   ],
   "source": [
    "from tqdm import tqdm\n",
    "data_sam = data.sample(10000)\n",
    "import nltk.translate.bleu_score as bleu\n",
    "bleu_score = []\n",
    "for i in tqdm(range(1000)):\n",
    "  actual  = data_sam.our.iloc[i] \n",
    "  Predict = predict(data_sam.enc_inp.iloc[i])\n",
    "  bleu_score.append(bleu.sentence_bleu([actual.split(),], Predict.split()))\n",
    "print('Bleu Score ==> ', np.mean(bleu_score))"
   ]
  },
  {
   "cell_type": "code",
   "execution_count": null,
   "metadata": {
    "colab": {
     "base_uri": "https://localhost:8080/"
    },
    "id": "UiORV2-WBK-3",
    "outputId": "1adce4c0-dbf3-4d4b-9264-0f7207d72632"
   },
   "outputs": [
    {
     "name": "stdout",
     "output_type": "stream",
     "text": [
      "Mounted at /content/drive\n"
     ]
    }
   ],
   "source": [
    "from google.colab import drive\n",
    "drive.mount('/content/drive')"
   ]
  },
  {
   "cell_type": "code",
   "execution_count": null,
   "metadata": {
    "id": "n6vDJz81BJ7B"
   },
   "outputs": [],
   "source": [
    "model.save_weights('/content/drive/MyDrive/model_new/best_model1.h5')"
   ]
  },
  {
   "cell_type": "markdown",
   "metadata": {
    "id": "gzxSfralmwNS"
   },
   "source": [
    "# 10 Encoder Decoder Model with Attention"
   ]
  },
  {
   "cell_type": "code",
   "execution_count": null,
   "metadata": {
    "id": "76FQyEkq48Ny"
   },
   "outputs": [],
   "source": [
    "#load the data \n",
    "import joblib\n",
    "data = joblib.load('/content/drive/MyDrive/case study 2/enc_dec.pkl')"
   ]
  },
  {
   "cell_type": "code",
   "execution_count": null,
   "metadata": {
    "colab": {
     "base_uri": "https://localhost:8080/",
     "height": 206
    },
    "id": "xFLnkgOP5PTz",
    "outputId": "0a7d5bf3-4fb0-43f6-eace-ebfa40633353"
   },
   "outputs": [
    {
     "data": {
      "text/html": [
       "\n",
       "  <div id=\"df-087613ef-6383-460b-bb8c-559ef79c2635\">\n",
       "    <div class=\"colab-df-container\">\n",
       "      <div>\n",
       "<style scoped>\n",
       "    .dataframe tbody tr th:only-of-type {\n",
       "        vertical-align: middle;\n",
       "    }\n",
       "\n",
       "    .dataframe tbody tr th {\n",
       "        vertical-align: top;\n",
       "    }\n",
       "\n",
       "    .dataframe thead th {\n",
       "        text-align: right;\n",
       "    }\n",
       "</style>\n",
       "<table border=\"1\" class=\"dataframe\">\n",
       "  <thead>\n",
       "    <tr style=\"text-align: right;\">\n",
       "      <th></th>\n",
       "      <th>enc_inp</th>\n",
       "      <th>dec_inp</th>\n",
       "      <th>our</th>\n",
       "    </tr>\n",
       "  </thead>\n",
       "  <tbody>\n",
       "    <tr>\n",
       "      <th>107</th>\n",
       "      <td>&lt;start&gt; plus your thoughts on &lt;end&gt;</td>\n",
       "      <td>&lt;start&gt; any changes that need to be made</td>\n",
       "      <td>any changes that need to be made &lt;end&gt;</td>\n",
       "    </tr>\n",
       "    <tr>\n",
       "      <th>108</th>\n",
       "      <td>&lt;start&gt; plus your thoughts on any &lt;end&gt;</td>\n",
       "      <td>&lt;start&gt; changes that need to be made</td>\n",
       "      <td>changes that need to be made &lt;end&gt;</td>\n",
       "    </tr>\n",
       "    <tr>\n",
       "      <th>109</th>\n",
       "      <td>&lt;start&gt; plus your thoughts on any changes &lt;end&gt;</td>\n",
       "      <td>&lt;start&gt; that need to be made</td>\n",
       "      <td>that need to be made &lt;end&gt;</td>\n",
       "    </tr>\n",
       "    <tr>\n",
       "      <th>110</th>\n",
       "      <td>&lt;start&gt; plus your thoughts on any changes that...</td>\n",
       "      <td>&lt;start&gt; need to be made</td>\n",
       "      <td>need to be made &lt;end&gt;</td>\n",
       "    </tr>\n",
       "    <tr>\n",
       "      <th>111</th>\n",
       "      <td>&lt;start&gt; plus your thoughts on any changes that...</td>\n",
       "      <td>&lt;start&gt; to be made</td>\n",
       "      <td>to be made &lt;end&gt;</td>\n",
       "    </tr>\n",
       "  </tbody>\n",
       "</table>\n",
       "</div>\n",
       "      <button class=\"colab-df-convert\" onclick=\"convertToInteractive('df-087613ef-6383-460b-bb8c-559ef79c2635')\"\n",
       "              title=\"Convert this dataframe to an interactive table.\"\n",
       "              style=\"display:none;\">\n",
       "        \n",
       "  <svg xmlns=\"http://www.w3.org/2000/svg\" height=\"24px\"viewBox=\"0 0 24 24\"\n",
       "       width=\"24px\">\n",
       "    <path d=\"M0 0h24v24H0V0z\" fill=\"none\"/>\n",
       "    <path d=\"M18.56 5.44l.94 2.06.94-2.06 2.06-.94-2.06-.94-.94-2.06-.94 2.06-2.06.94zm-11 1L8.5 8.5l.94-2.06 2.06-.94-2.06-.94L8.5 2.5l-.94 2.06-2.06.94zm10 10l.94 2.06.94-2.06 2.06-.94-2.06-.94-.94-2.06-.94 2.06-2.06.94z\"/><path d=\"M17.41 7.96l-1.37-1.37c-.4-.4-.92-.59-1.43-.59-.52 0-1.04.2-1.43.59L10.3 9.45l-7.72 7.72c-.78.78-.78 2.05 0 2.83L4 21.41c.39.39.9.59 1.41.59.51 0 1.02-.2 1.41-.59l7.78-7.78 2.81-2.81c.8-.78.8-2.07 0-2.86zM5.41 20L4 18.59l7.72-7.72 1.47 1.35L5.41 20z\"/>\n",
       "  </svg>\n",
       "      </button>\n",
       "      \n",
       "  <style>\n",
       "    .colab-df-container {\n",
       "      display:flex;\n",
       "      flex-wrap:wrap;\n",
       "      gap: 12px;\n",
       "    }\n",
       "\n",
       "    .colab-df-convert {\n",
       "      background-color: #E8F0FE;\n",
       "      border: none;\n",
       "      border-radius: 50%;\n",
       "      cursor: pointer;\n",
       "      display: none;\n",
       "      fill: #1967D2;\n",
       "      height: 32px;\n",
       "      padding: 0 0 0 0;\n",
       "      width: 32px;\n",
       "    }\n",
       "\n",
       "    .colab-df-convert:hover {\n",
       "      background-color: #E2EBFA;\n",
       "      box-shadow: 0px 1px 2px rgba(60, 64, 67, 0.3), 0px 1px 3px 1px rgba(60, 64, 67, 0.15);\n",
       "      fill: #174EA6;\n",
       "    }\n",
       "\n",
       "    [theme=dark] .colab-df-convert {\n",
       "      background-color: #3B4455;\n",
       "      fill: #D2E3FC;\n",
       "    }\n",
       "\n",
       "    [theme=dark] .colab-df-convert:hover {\n",
       "      background-color: #434B5C;\n",
       "      box-shadow: 0px 1px 3px 1px rgba(0, 0, 0, 0.15);\n",
       "      filter: drop-shadow(0px 1px 2px rgba(0, 0, 0, 0.3));\n",
       "      fill: #FFFFFF;\n",
       "    }\n",
       "  </style>\n",
       "\n",
       "      <script>\n",
       "        const buttonEl =\n",
       "          document.querySelector('#df-087613ef-6383-460b-bb8c-559ef79c2635 button.colab-df-convert');\n",
       "        buttonEl.style.display =\n",
       "          google.colab.kernel.accessAllowed ? 'block' : 'none';\n",
       "\n",
       "        async function convertToInteractive(key) {\n",
       "          const element = document.querySelector('#df-087613ef-6383-460b-bb8c-559ef79c2635');\n",
       "          const dataTable =\n",
       "            await google.colab.kernel.invokeFunction('convertToInteractive',\n",
       "                                                     [key], {});\n",
       "          if (!dataTable) return;\n",
       "\n",
       "          const docLinkHtml = 'Like what you see? Visit the ' +\n",
       "            '<a target=\"_blank\" href=https://colab.research.google.com/notebooks/data_table.ipynb>data table notebook</a>'\n",
       "            + ' to learn more about interactive tables.';\n",
       "          element.innerHTML = '';\n",
       "          dataTable['output_type'] = 'display_data';\n",
       "          await google.colab.output.renderOutput(dataTable, element);\n",
       "          const docLink = document.createElement('div');\n",
       "          docLink.innerHTML = docLinkHtml;\n",
       "          element.appendChild(docLink);\n",
       "        }\n",
       "      </script>\n",
       "    </div>\n",
       "  </div>\n",
       "  "
      ],
      "text/plain": [
       "                                               enc_inp  \\\n",
       "107                <start> plus your thoughts on <end>   \n",
       "108            <start> plus your thoughts on any <end>   \n",
       "109    <start> plus your thoughts on any changes <end>   \n",
       "110  <start> plus your thoughts on any changes that...   \n",
       "111  <start> plus your thoughts on any changes that...   \n",
       "\n",
       "                                      dec_inp  \\\n",
       "107  <start> any changes that need to be made   \n",
       "108      <start> changes that need to be made   \n",
       "109              <start> that need to be made   \n",
       "110                   <start> need to be made   \n",
       "111                        <start> to be made   \n",
       "\n",
       "                                        our  \n",
       "107  any changes that need to be made <end>  \n",
       "108      changes that need to be made <end>  \n",
       "109              that need to be made <end>  \n",
       "110                   need to be made <end>  \n",
       "111                        to be made <end>  "
      ]
     },
     "execution_count": 35,
     "metadata": {},
     "output_type": "execute_result"
    }
   ],
   "source": [
    "#df = df.head(15000)\n",
    "data.head()"
   ]
  },
  {
   "cell_type": "code",
   "execution_count": null,
   "metadata": {
    "id": "rejl1n1h6NYh"
   },
   "outputs": [],
   "source": [
    "from sklearn.model_selection import train_test_split\n",
    "train, test = train_test_split(data, test_size=0.33)"
   ]
  },
  {
   "cell_type": "code",
   "execution_count": null,
   "metadata": {
    "colab": {
     "base_uri": "https://localhost:8080/"
    },
    "id": "GpXobz5r6QeL",
    "outputId": "b5359471-de76-4691-a491-2e51550131ae"
   },
   "outputs": [
    {
     "name": "stdout",
     "output_type": "stream",
     "text": [
      "The shape of the train data ==> (230796, 3)\n",
      "The shape of the test  data ==> (113676, 3)\n"
     ]
    }
   ],
   "source": [
    "print('The shape of the train data ==>', train.shape)\n",
    "print('The shape of the test  data ==>', test.shape)"
   ]
  },
  {
   "cell_type": "code",
   "execution_count": null,
   "metadata": {
    "colab": {
     "base_uri": "https://localhost:8080/"
    },
    "id": "U6Zxae5qlfcZ",
    "outputId": "aaff4dc1-45e0-4648-b294-2a9d725f059d"
   },
   "outputs": [
    {
     "data": {
      "text/plain": [
       "450"
      ]
     },
     "execution_count": 38,
     "metadata": {},
     "output_type": "execute_result"
    }
   ],
   "source": [
    "230796//512"
   ]
  },
  {
   "cell_type": "code",
   "execution_count": null,
   "metadata": {
    "colab": {
     "base_uri": "https://localhost:8080/"
    },
    "id": "GyVMAizllfQu",
    "outputId": "25e1f82c-7f92-449f-c066-3f91153320c6"
   },
   "outputs": [
    {
     "data": {
      "text/plain": [
       "222"
      ]
     },
     "execution_count": 39,
     "metadata": {},
     "output_type": "execute_result"
    }
   ],
   "source": [
    "113676//512"
   ]
  },
  {
   "cell_type": "code",
   "execution_count": null,
   "metadata": {
    "id": "RqIS7LS_6R1t"
   },
   "outputs": [],
   "source": [
    "#Train dataset\n",
    "x_train_encoder = train.enc_inp.values\n",
    "x_train_decoder = train.dec_inp.values\n",
    "y_train         = train.our.values"
   ]
  },
  {
   "cell_type": "code",
   "execution_count": null,
   "metadata": {
    "id": "IW1y_-Un6TwI"
   },
   "outputs": [],
   "source": [
    "#test dataset\n",
    "x_test_encoder = test.enc_inp.values\n",
    "x_test_decoder = test.dec_inp.values\n",
    "y_test         = test.our.values"
   ]
  },
  {
   "cell_type": "code",
   "execution_count": null,
   "metadata": {
    "colab": {
     "base_uri": "https://localhost:8080/"
    },
    "id": "sYGbhs7q6VIv",
    "outputId": "667ad723-92cd-4324-8557-31e68442446d"
   },
   "outputs": [
    {
     "name": "stdout",
     "output_type": "stream",
     "text": [
      "y_train shape and y_test shape ==> (230796,) (113676,)\n"
     ]
    }
   ],
   "source": [
    "print('y_train shape and y_test shape ==>' , y_train.shape, y_test.shape)"
   ]
  },
  {
   "cell_type": "code",
   "execution_count": null,
   "metadata": {
    "id": "lAoU8LlL6XOL"
   },
   "outputs": [],
   "source": [
    "def padding(train , test):\n",
    "  tokenizer = tf.keras.preprocessing.text.Tokenizer(filters = '!\"#$%&()*+,-./:;=?@[\\\\]^_`{|}~\\t\\n')\n",
    "  tokenizer.fit_on_texts(train)\n",
    "\n",
    "  x_train =  tokenizer.texts_to_sequences(train)\n",
    "  x_test  =  tokenizer.texts_to_sequences(test)\n",
    "\n",
    "\n",
    "  # padding train and test data using the maximum length\n",
    "  x_train = tf.keras.preprocessing.sequence.pad_sequences(x_train, padding='post')\n",
    "  x_test  = tf.keras.preprocessing.sequence.pad_sequences(x_test,  padding='post')\n",
    "\n",
    "  return tokenizer , x_train , x_test"
   ]
  },
  {
   "cell_type": "code",
   "execution_count": null,
   "metadata": {
    "id": "rq8rClPJ6Y6Y"
   },
   "outputs": [],
   "source": [
    "ita_token , x_train_enc , x_test_enc = padding(x_train_encoder , x_test_encoder)\n",
    "eng_token , x_train_dec , x_test_dec = padding(x_train_decoder , x_test_decoder)\n",
    "y_token   , y_train     , y_test     = padding(y_train , y_test)"
   ]
  },
  {
   "cell_type": "code",
   "execution_count": null,
   "metadata": {
    "colab": {
     "base_uri": "https://localhost:8080/"
    },
    "id": "snYw6hhO6eL1",
    "outputId": "dd4702e0-148f-4503-b8f9-6895d973a0ed"
   },
   "outputs": [
    {
     "name": "stdout",
     "output_type": "stream",
     "text": [
      "input vocab size ==> 18529\n",
      "output vocab size ==> 12120\n"
     ]
    }
   ],
   "source": [
    "input_vocab  = len(ita_token.word_index) + 1\n",
    "output_vocab = len(y_token.word_index) + 1\n",
    "print('input vocab size ==>' , input_vocab)\n",
    "print('output vocab size ==>' , output_vocab)"
   ]
  },
  {
   "cell_type": "code",
   "execution_count": null,
   "metadata": {
    "colab": {
     "base_uri": "https://localhost:8080/"
    },
    "id": "gDRlCXnX6i94",
    "outputId": "0beff39f-1afb-424e-d345-bd4fb07b54b5"
   },
   "outputs": [
    {
     "name": "stdout",
     "output_type": "stream",
     "text": [
      "Encoder input length ==> 31\n",
      "Decoder input length ==> 8\n"
     ]
    }
   ],
   "source": [
    "print('Encoder input length ==>' , x_train_enc.shape[1])\n",
    "print('Decoder input length ==>' , x_train_dec.shape[1])"
   ]
  },
  {
   "cell_type": "code",
   "execution_count": null,
   "metadata": {
    "id": "WsXX4dH_kg-F"
   },
   "outputs": [],
   "source": [
    "class Encoder(tf.keras.Model):\n",
    "    '''\n",
    "    Encoder model -- That takes a input sequence and returns output sequence\n",
    "    '''\n",
    "\n",
    "    def __init__(self,inp_vocab_size,embedding_size,lstm_size,input_length):\n",
    "      super().__init__()\n",
    "      self.input_vocab = inp_vocab_size\n",
    "      self.embd_size   = embedding_size\n",
    "      self.lstm_size   = lstm_size\n",
    "      self.input_length = input_length\n",
    "\n",
    "      self.embadding = Embedding(input_dim = self.input_vocab, output_dim = self.embd_size, name=\"embedding_layer_encoder\")\n",
    "      self.lstm      = LSTM(self.lstm_size, return_state=True, return_sequences=True, name=\"Encoder_LSTM\")\n",
    "\n",
    "\n",
    "        #Initialize Embedding layer\n",
    "        #Intialize Encoder LSTM layer\n",
    "\n",
    "    def call(self,input_sequence,states):\n",
    "\n",
    "      input_embd = self.embadding(input_sequence)\n",
    "      lstm_output, lstm_state_h, lstm_state_c = self.lstm(input_embd , states)\n",
    "      return lstm_output, lstm_state_h, lstm_state_c\n",
    "\n",
    "    \n",
    "    def initialize_states(self,batch_size):\n",
    "\n",
    "      return tf.zeros((batch_size, self.lstm_size)) , tf.zeros((batch_size, self.lstm_size))\n",
    "      "
   ]
  },
  {
   "cell_type": "code",
   "execution_count": null,
   "metadata": {
    "id": "C9vxwr46kmtB"
   },
   "outputs": [],
   "source": [
    "class Attention(tf.keras.layers.Layer):\n",
    "  '''\n",
    "    Class the calculates score based on the scoring_function using Bahdanu attention mechanism.\n",
    "  '''\n",
    "  def __init__(self,scoring_function, att_units):\n",
    "    super().__init__()\n",
    "    self.scoring_function = scoring_function\n",
    "\n",
    "    if self.scoring_function=='dot':\n",
    "      self.mul = tf.matmul\n",
    "      pass\n",
    "    if scoring_function == 'general':\n",
    "      self.dense = Dense(att_units)\n",
    "      self.mul   = tf.matmul\n",
    "      pass\n",
    "    elif scoring_function == 'concat':\n",
    "      self.tanh_activation = tf.nn.tanh\n",
    "      self.dense_concat_1  = Dense(att_units)\n",
    "      self.dense_concat_2  = Dense(att_units)\n",
    "      self.dens_1          = Dense(1)\n",
    "      pass\n",
    "\n",
    "  def call(self,decoder_hidden_state,encoder_output):\n",
    "\n",
    "    if self.scoring_function == 'dot':\n",
    "      decoder_hidden_state = tf.expand_dims(decoder_hidden_state, -1)\n",
    "      score = self.mul(encoder_output , decoder_hidden_state)\n",
    "      pass\n",
    "\n",
    "    elif self.scoring_function == 'general':\n",
    "      transformed_enc_out  = self.dense(encoder_output)\n",
    "      decoder_hidden_state = tf.expand_dims(decoder_hidden_state, -1)\n",
    "      score = self.mul(transformed_enc_out, decoder_hidden_state)\n",
    "      pass\n",
    "\n",
    "    elif self.scoring_function == 'concat':\n",
    "      transform_enc_out = self.dense_concat_1(encoder_output)\n",
    "      transform_dec_hidden_state = self.dense_concat_2(decoder_hidden_state)\n",
    "\n",
    "      adding = add([transform_enc_out, tf.expand_dims(transform_dec_hidden_state,1)])\n",
    "      adding = self.tanh_activation(adding)\n",
    "      score = self.dens_1(adding)\n",
    "      pass\n",
    "\n",
    "    score = tf.squeeze(score, axis = -1)\n",
    "    attention_weight = tf.nn.softmax(score)\n",
    "\n",
    "    attention_weight = tf.expand_dims(attention_weight, axis = -1)\n",
    "    #print(attention_weight.shape)\n",
    "    context_vector = tf.matmul(tf.transpose(encoder_output, perm = [0,2,1]), attention_weight)\n",
    "    context_vector = tf.squeeze(context_vector, axis = -1)\n",
    "    return context_vector, attention_weight"
   ]
  },
  {
   "cell_type": "code",
   "execution_count": null,
   "metadata": {
    "id": "TNoaZY9Ukq5K"
   },
   "outputs": [],
   "source": [
    "class One_Step_Decoder(tf.keras.Model):\n",
    "  def __init__(self,tar_vocab_size, embedding_dim, input_length, dec_units ,score_fun ,att_units):\n",
    "\n",
    "    super().__init__()\n",
    "    self.tar_vocab_size = tar_vocab_size\n",
    "    self.embedding_dim  = embedding_dim\n",
    "    self.input_length  = input_length\n",
    "    self.dec_units      = dec_units\n",
    "    self.score_fun      = score_fun\n",
    "    self.att_units      = att_units\n",
    "\n",
    "    #defining the lstm, embedding dense and Attention layer\n",
    "\n",
    "    self.embadding = Embedding(input_dim=self.tar_vocab_size, output_dim=self.embedding_dim, name= 'embedding_layer_decoder')\n",
    "    self.lstm      = LSTM(self.dec_units, return_state=True,return_sequences=True, name='lstm_layer_decoder')\n",
    "    self.dense     = Dense(self.tar_vocab_size, name= 'dense_layer_decoder')\n",
    "    self.attention = Attention(self.score_fun, self.att_units)\n",
    "\n",
    "\n",
    "      # Initialize decoder embedding layer, LSTM and any other objects needed\n",
    "\n",
    "\n",
    "\n",
    "  def call(self,input_to_decoder, encoder_output, state_h,state_c):\n",
    "\n",
    "    input = self.embadding(input_to_decoder)\n",
    "    context_vector, attention_weights = self.attention(state_h , encoder_output)\n",
    "    concat = tf.concat([tf.expand_dims(context_vector, 1), input], axis=-1)\n",
    "\n",
    "    decoder_output, state_h, state_c = self.lstm(concat)\n",
    "    decoder_output = tf.reshape(decoder_output, (-1, decoder_output.shape[2]))\n",
    "    output = self.dense(decoder_output)\n",
    "\n",
    "    return output, state_h, state_c, attention_weights, context_vector"
   ]
  },
  {
   "cell_type": "code",
   "execution_count": null,
   "metadata": {
    "id": "pN5cQmSlkz8k"
   },
   "outputs": [],
   "source": [
    "class Decoder(tf.keras.Model):\n",
    "    def __init__(self,out_vocab_size, embedding_dim, input_length, dec_units ,score_fun ,att_units):\n",
    "      #Intialize necessary variables and create an object from the class onestepdecoder\n",
    "      super().__init__()\n",
    "\n",
    "      self.out_vocab_size = out_vocab_size\n",
    "      self.embedding_dim  = embedding_dim\n",
    "      self.input_length   = input_length\n",
    "      self.dec_units      = dec_units\n",
    "      self.score_fun      = score_fun\n",
    "      self.att_units      = att_units\n",
    "      self.One_Step_Decoder = One_Step_Decoder(self.out_vocab_size, self.embedding_dim, self.input_length, self.dec_units, self.score_fun, self.att_units)\n",
    "\n",
    "        \n",
    "    def call(self, input_to_decoder,encoder_output,decoder_hidden_state,decoder_cell_state ):\n",
    "\n",
    "        #Initialize an empty Tensor array, that will store the outputs at each and every time step\n",
    "        final_outputs= tf.TensorArray(tf.float32, size= input_to_decoder.shape[1], name=\"output_arrays\")\n",
    "        #Create a tensor array as shown in the reference notebook\n",
    "        #Iterate till the length of the decoder input\n",
    "        for timestep in range(input_to_decoder.shape[1]):\n",
    "          # Call onestepdecoder for each token in decoder_input\n",
    "          output, decoder_hidden_state, decoder_cell_state, attention_weights, context_vector = self.One_Step_Decoder(input_to_decoder[:,timestep:timestep+1], encoder_output, decoder_hidden_state,decoder_cell_state )\n",
    "          final_outputs = final_outputs.write(timestep, output)\n",
    "        \n",
    "        # Store the output in tensorarray\n",
    "        final_outputs = tf.transpose(final_outputs.stack(), [1, 0, 2])\n",
    "        # Return the tensor array\n",
    "        return final_outputs\n",
    "            "
   ]
  },
  {
   "cell_type": "code",
   "execution_count": null,
   "metadata": {
    "id": "lmvoQS2tk31S"
   },
   "outputs": [],
   "source": [
    "class encoder_decoder(tf.keras.Model):\n",
    "  def __init__(self, inp_vocab_size, out_vocab_size, embedding_size, enc_lstm_units, dec_lstm_units, enc_input_length, dec_input_length, score_fun, att_units):\n",
    "    super().__init__()\n",
    "    self.inp_vocab_size = inp_vocab_size\n",
    "    self.out_vocab_size = out_vocab_size\n",
    "    self.embedding_size = embedding_size\n",
    "    self.enc_lstm_units = enc_lstm_units\n",
    "    self.dec_lstm_units = dec_lstm_units\n",
    "    self.enc_input_length = enc_input_length\n",
    "    self.dec_input_length = dec_input_length\n",
    "    self.score_fun = score_fun\n",
    "    self.att_units = att_units\n",
    "    #Intialize objects from encoder decoder\n",
    "    \n",
    "    self.encoder = Encoder(self.inp_vocab_size, self.embedding_size, self.enc_lstm_units, self.enc_input_length)\n",
    "    self.decoder = Decoder(self.out_vocab_size, self.embedding_size, self.dec_input_length, self.dec_lstm_units, self.score_fun, self.att_units)\n",
    "    #there is no need to dense layer because we use a custom loss funn..\n",
    "    #self.dense   = Dense(self.out_vocab_size, activation='softmax')\n",
    "\n",
    "  \n",
    "  def call(self,data):\n",
    "    #Intialize encoder states, Pass the encoder_sequence to the embedding layer\n",
    "    # Decoder initial states are encoder final states, Initialize it accordingly\n",
    "    # Pass the decoder sequence,encoder_output,decoder states to Decoder\n",
    "    # return the decoder output\n",
    "    encoder_input , decoder_input = data[0] , data[1]\n",
    "    enc_initial_state= self.encoder.initialize_states(tf.shape(encoder_input)[0])\n",
    "    enc_out, enc_h_state, enc_c_state = self.encoder(encoder_input, enc_initial_state)\n",
    "\n",
    "    dec_out = self.decoder(decoder_input, enc_out, enc_h_state, enc_c_state)\n",
    "    #dec_out = self.dense(dec_out)\n",
    "    return dec_out"
   ]
  },
  {
   "cell_type": "code",
   "execution_count": null,
   "metadata": {
    "id": "udUXx5cHk7Lc"
   },
   "outputs": [],
   "source": [
    "loss_object = tf.keras.losses.SparseCategoricalCrossentropy(from_logits=True, reduction='none')\n",
    "\n",
    "\n",
    "def loss_function(real, pred):\n",
    "    \"\"\" Custom loss function that will not consider the loss for padded zeros.\n",
    "    why are we using this, can't we use simple sparse categorical crossentropy?\n",
    "    Yes, you can use simple sparse categorical crossentropy as loss like we did in task-1. But in this loss function we are ignoring the loss\n",
    "    for the padded zeros. i.e when the input is zero then we donot need to worry what the output is. This padded zeros are added from our end\n",
    "    during preprocessing to make equal length for all the sentences.\n",
    "\n",
    "    \"\"\"\n",
    "    \n",
    "    \n",
    "    mask = tf.math.logical_not(tf.math.equal(real, 0))\n",
    "    loss_ = loss_object(real, pred)\n",
    "\n",
    "    mask = tf.cast(mask, dtype=loss_.dtype)\n",
    "    loss_ *= mask\n",
    "\n",
    "    return tf.reduce_mean(loss_)\n"
   ]
  },
  {
   "cell_type": "markdown",
   "metadata": {},
   "source": [
    "## 10.1 Attention with Dot Function"
   ]
  },
  {
   "cell_type": "code",
   "execution_count": null,
   "metadata": {
    "id": "Yr_yZ88Fk-_Q"
   },
   "outputs": [],
   "source": [
    "from tensorflow.keras.layers import Embedding, LSTM, Dense, Activation , add\n",
    "tf.keras.backend.clear_session()\n",
    "attention_dot_model = encoder_decoder(inp_vocab_size = input_vocab, out_vocab_size = output_vocab,\n",
    "                                      embedding_size = 300, enc_lstm_units = 200, dec_lstm_units = 200, \n",
    "                                      enc_input_length = 31, dec_input_length = 8, score_fun = 'dot', \n",
    "                                      att_units = 200)\n",
    "his = tf.keras.callbacks.History()\n",
    "callbacks = [tf.keras.callbacks.TensorBoard(log_dir='logs/model3') , his]\n",
    "#compiling the model\n",
    "attention_dot_model.compile(optimizer = tf.keras.optimizers.Adam(), loss = loss_function)"
   ]
  },
  {
   "cell_type": "code",
   "execution_count": null,
   "metadata": {
    "colab": {
     "base_uri": "https://localhost:8080/"
    },
    "id": "cKiuM4rOlL0A",
    "outputId": "cf6af4a2-1201-4123-fb91-04951df1e159"
   },
   "outputs": [
    {
     "name": "stdout",
     "output_type": "stream",
     "text": [
      "Epoch 1/10\n",
      "450/450 [==============================] - 62s 109ms/step - loss: 3.3483 - val_loss: 3.0560\n",
      "Epoch 2/10\n",
      "450/450 [==============================] - 47s 104ms/step - loss: 2.9337 - val_loss: 2.8334\n",
      "Epoch 3/10\n",
      "450/450 [==============================] - 43s 96ms/step - loss: 2.7613 - val_loss: 2.7189\n",
      "Epoch 4/10\n",
      "450/450 [==============================] - 43s 97ms/step - loss: 2.6690 - val_loss: 2.6579\n",
      "Epoch 5/10\n",
      "450/450 [==============================] - 47s 104ms/step - loss: 2.6103 - val_loss: 2.6133\n",
      "Epoch 6/10\n",
      "450/450 [==============================] - 47s 104ms/step - loss: 2.5324 - val_loss: 2.5053\n",
      "Epoch 7/10\n",
      "450/450 [==============================] - 47s 104ms/step - loss: 2.3989 - val_loss: 2.3708\n",
      "Epoch 8/10\n",
      "450/450 [==============================] - 44s 97ms/step - loss: 2.2799 - val_loss: 2.2912\n",
      "Epoch 9/10\n",
      "450/450 [==============================] - 43s 97ms/step - loss: 2.1979 - val_loss: 2.2325\n",
      "Epoch 10/10\n",
      "450/450 [==============================] - 43s 97ms/step - loss: 2.1275 - val_loss: 2.1813\n"
     ]
    },
    {
     "data": {
      "text/plain": [
       "<keras.callbacks.History at 0x7f1813205090>"
      ]
     },
     "execution_count": 54,
     "metadata": {},
     "output_type": "execute_result"
    }
   ],
   "source": [
    "attention_dot_model.fit([x_train_enc , x_train_dec], y_train, steps_per_epoch=450,epochs = 10, validation_data = ([x_test_enc,x_test_dec], y_test), validation_steps = 222 , callbacks = callbacks)"
   ]
  },
  {
   "cell_type": "code",
   "execution_count": null,
   "metadata": {
    "colab": {
     "base_uri": "https://localhost:8080/",
     "height": 295
    },
    "id": "yGelvzvTmT9b",
    "outputId": "479e2957-b6f7-415b-dc9c-f3f907623999"
   },
   "outputs": [
    {
     "data": {
      "image/png": "[encoded data removed]",
      "text/plain": [
       "<Figure size 432x288 with 1 Axes>"
      ]
     },
     "metadata": {
      "needs_background": "light"
     },
     "output_type": "display_data"
    }
   ],
   "source": [
    "plt.plot(his.history['loss'])  \n",
    "plt.plot(his.history['val_loss'])  \n",
    "plt.title('model loss')  \n",
    "plt.ylabel('loss')  \n",
    "plt.xlabel('epoch')\n",
    "plt.grid()  \n",
    "plt.legend(['train', 'test'])  \n",
    "plt.show()"
   ]
  },
  {
   "cell_type": "code",
   "execution_count": null,
   "metadata": {
    "id": "hEqinVVnn-Vt"
   },
   "outputs": [],
   "source": [
    "eng_word = y_token.word_index\n",
    "new_dict = dict([(value, key) for key, value in eng_word.items()])\n",
    "new_dict[0] = 'start'"
   ]
  },
  {
   "cell_type": "code",
   "execution_count": null,
   "metadata": {
    "id": "HOgc030eoCV9"
   },
   "outputs": [],
   "source": [
    "model = attention_dot_model\n",
    "def predict_dot_model(input_sentence):\n",
    "# A. Given input sentence, convert the sentence into integers using tokenizer used earlier\n",
    "#here we also check the we have the start and end token in sentences\n",
    "#then we convert out input into to token and do a padding\n",
    "  input = input_sentence\n",
    "  if input.split(' ')[0] != '<start>' and input.split(' ')[-1] != '<end>':\n",
    "    input = '<start>'+ ' ' + input + ' ' + '<end>'\n",
    "  else:\n",
    "    input = str(input)\n",
    "  input = ita_token.texts_to_sequences([str(input)])\n",
    "  input = pad_sequences(input, padding= 'post',maxlen= 8)\n",
    "\n",
    "#as we know we have a two layer 1 ==> encoder 2 ==> decoder\n",
    "#so first is encoder we give the input as input sec and ini_state\n",
    "\n",
    "  enc_ini_states = model.layers[0].initialize_states(1)\n",
    "  enc_out, enc_h_state, enc_c_state = model.layers[0](input, enc_ini_states)\n",
    "\n",
    "  dec_h_state = enc_h_state\n",
    "  dec_c_state = enc_c_state\n",
    "\n",
    "\n",
    "#output of the encoder is a input as decoder\n",
    "# first word input of decoder is start token \n",
    "# then 2nd input of decoder is predecting word by model\n",
    "\n",
    "  decoder_initial_input = np.zeros((1,1))\n",
    "  decoder_initial_input[0,0] = eng_token.word_index['<start>']\n",
    "\n",
    "#here we store the word weigth , word and predicted word here predicted word means word token and word means word token corresponding word\n",
    "  predict_word = []\n",
    "  word = []\n",
    "  all_weight = []\n",
    "  for i in range(8):\n",
    "\n",
    "    predict , dec_h_state, dec_c_state, att_weight, con_vector =  model.layers[1].One_Step_Decoder(decoder_initial_input, enc_out, dec_h_state, dec_c_state)\n",
    "\n",
    "    # we use 3rd layer and we get the max proba word as out put and the this word is next input of the decoder \n",
    "    english_predict = np.argmax((predict).numpy().ravel())\n",
    "    predict_word.append(english_predict)\n",
    "    decoder_initial_input[0,0] = english_predict\n",
    "    #replacing the next decoder initial states with current decoder output \n",
    "    #decoder_initial_state = [dec_h_state, dec_c_state]\n",
    "    word.append(new_dict[english_predict])\n",
    "    all_weight.append(att_weight.numpy().ravel())\n",
    "\n",
    "    weight = np.array(all_weight)\n",
    "\n",
    "    if new_dict[english_predict] == '<end>':\n",
    "      break \n",
    "  return ' '.join(word) , weight #return the weight and predicted word"
   ]
  },
  {
   "cell_type": "code",
   "execution_count": null,
   "metadata": {
    "colab": {
     "base_uri": "https://localhost:8080/",
     "height": 35
    },
    "id": "vHlRgJuBoNGe",
    "outputId": "f47c5870-ae53-41c1-bab4-0117933b2cc0"
   },
   "outputs": [
    {
     "data": {
      "application/vnd.google.colaboratory.intrinsic+json": {
       "type": "string"
      },
      "text/plain": [
       "'you posted <end>'"
      ]
     },
     "execution_count": 62,
     "metadata": {},
     "output_type": "execute_result"
    }
   ],
   "source": [
    "predict_dot_model('i love komal and')[0]"
   ]
  },
  {
   "cell_type": "code",
   "execution_count": null,
   "metadata": {
    "colab": {
     "base_uri": "https://localhost:8080/"
    },
    "id": "tsEfbLBIoR_e",
    "outputId": "3a16f718-1a22-401c-a9a4-f43e685b591a"
   },
   "outputs": [
    {
     "name": "stdout",
     "output_type": "stream",
     "text": [
      "Input  ==> <start> here are a few to look <end>\n",
      "Output ==> at <end>\n",
      "Predict ==> to you <end>\n",
      "====================================================================================================\n",
      "Input  ==> <start> glad to discuss the actuals <end>\n",
      "Output ==> have been verified <end>\n",
      "Predict ==> to you have a chance <end>\n",
      "====================================================================================================\n",
      "Input  ==> <start> he said that they <end>\n",
      "Output ==> were in no hurry to execute trades <end>\n",
      "Predict ==> are not <end>\n",
      "====================================================================================================\n",
      "Input  ==> <start> hope all is well and <end>\n",
      "Output ==> as always thanks for your help <end>\n",
      "Predict ==> you <end>\n",
      "====================================================================================================\n",
      "Input  ==> <start> thanks for your help take a <end>\n",
      "Output ==> look at this proposal <end>\n",
      "Predict ==> call me <end>\n",
      "====================================================================================================\n",
      "Input  ==> <start> please see the attached alex will take care of this tonight let me know what you need <end>\n",
      "Output ==> to do <end>\n",
      "Predict ==> to discuss <end>\n",
      "====================================================================================================\n",
      "Input  ==> <start> you are doing it <end>\n",
      "Output ==> again <end>\n",
      "Predict ==> will be a good weekend <end>\n",
      "====================================================================================================\n",
      "Input  ==> <start> institutional impediments and traders incomplete understanding of the markets however could <end>\n",
      "Output ==> have delayed or prevented price convergence <end>\n",
      "Predict ==> be provided <end>\n",
      "====================================================================================================\n",
      "Input  ==> <start> kevin will be the only <end>\n",
      "Output ==> remaining employee from this group <end>\n",
      "Predict ==> the same <end>\n",
      "====================================================================================================\n",
      "Input  ==> <start> for initial mutual fund purchases please view the prospectus from the link in your trade confirmation <end>\n",
      "Output ==> please verify that the information is accurate <end>\n",
      "Predict ==> the same <end>\n",
      "====================================================================================================\n",
      "Input  ==> <start> i believe this to be undistputed proof that there is intellegent life making strange <end>\n",
      "Output ==> crop formations <end>\n",
      "Predict ==> to the market <end>\n",
      "====================================================================================================\n",
      "Input  ==> <start> the second tab summarizes last week is gas transactions and the third tab <end>\n",
      "Output ==> lists the gas transaction details <end>\n",
      "Predict ==> you have any questions <end>\n",
      "====================================================================================================\n",
      "Input  ==> <start> this one is an exception i sent out a mail about this site before about a month ago let me explain the situation again let me know if there <end>\n",
      "Output ==> is still a question <end>\n",
      "Predict ==> have any questions <end>\n",
      "====================================================================================================\n",
      "Input  ==> <start> i miss you too we should get together in the relatively near future any review use distribution or disclosure by others is <end>\n",
      "Output ==> strictly prohibited <end>\n",
      "Predict ==> strictly prohibited <end>\n",
      "====================================================================================================\n",
      "Input  ==> <start> we just got notice of new cash control procedures accounting a list of payees and amounts that need to be paid for the following <end>\n",
      "Output ==> two weeks your assistance is appreciated <end>\n",
      "Predict ==> the next week <end>\n",
      "====================================================================================================\n",
      "Input  ==> <start> you may log back on at your <end>\n",
      "Output ==> earliest convience we appreciate your patience <end>\n",
      "Predict ==> information <end>\n",
      "====================================================================================================\n",
      "Input  ==> <start> i will be sending <end>\n",
      "Output ==> mine around later this afternoon <end>\n",
      "Predict ==> this <end>\n",
      "====================================================================================================\n",
      "Input  ==> <start> she is fine and acts like she belongs there are plenty of new <end>\n",
      "Output ==> things for her to investigate <end>\n",
      "Predict ==> to the same <end>\n",
      "====================================================================================================\n",
      "Input  ==> <start> while the comments received were helpful some important <end>\n",
      "Output ==> questions still remain <end>\n",
      "Predict ==> or distribution list <end>\n",
      "====================================================================================================\n",
      "Input  ==> <start> i am drafting a paper on balanced schedules i am thinking about <end>\n",
      "Output ==> borrowing some examples <end>\n",
      "Predict ==> the same <end>\n",
      "====================================================================================================\n"
     ]
    }
   ],
   "source": [
    "data_sam = data.sample(20)\n",
    "for i in range(20):\n",
    "  print('Input  ==>' , data_sam.enc_inp.iloc[i])\n",
    "  print('Output ==>' , data_sam.our.iloc[i])\n",
    "  print('Predict ==>', predict_dot_model(data_sam.enc_inp.iloc[i])[0])\n",
    "  print(50 * '==')"
   ]
  },
  {
   "cell_type": "markdown",
   "metadata": {},
   "source": [
    "### 10.1.1 BLUE score after 10 epoch"
   ]
  },
  {
   "cell_type": "code",
   "execution_count": null,
   "metadata": {
    "colab": {
     "base_uri": "https://localhost:8080/"
    },
    "id": "PYSaGMz1rK4o",
    "outputId": "e4b1f700-1c9e-4586-e072-53c1492ea5c2"
   },
   "outputs": [
    {
     "name": "stderr",
     "output_type": "stream",
     "text": [
      "/usr/local/lib/python3.7/dist-packages/nltk/translate/bleu_score.py:490: UserWarning: \n",
      "Corpus/Sentence contains 0 counts of 2-gram overlaps.\n",
      "BLEU scores might be undesirable; use SmoothingFunction().\n",
      "  warnings.warn(_msg)\n",
      "/usr/local/lib/python3.7/dist-packages/nltk/translate/bleu_score.py:490: UserWarning: \n",
      "Corpus/Sentence contains 0 counts of 3-gram overlaps.\n",
      "BLEU scores might be undesirable; use SmoothingFunction().\n",
      "  warnings.warn(_msg)\n",
      "/usr/local/lib/python3.7/dist-packages/nltk/translate/bleu_score.py:490: UserWarning: \n",
      "Corpus/Sentence contains 0 counts of 4-gram overlaps.\n",
      "BLEU scores might be undesirable; use SmoothingFunction().\n",
      "  warnings.warn(_msg)\n"
     ]
    },
    {
     "name": "stdout",
     "output_type": "stream",
     "text": [
      "Bleu Score is ==>  0.5098406574674417\n"
     ]
    }
   ],
   "source": [
    "data_sam = data.sample(1000)\n",
    "import nltk.translate.bleu_score as bleu\n",
    "bleu_score = []\n",
    "for i in range(1000):\n",
    "  reference  = data_sam.our.iloc[i] \n",
    "  translation = predict_dot_model(data_sam.enc_inp.iloc[i])[0]\n",
    "  bleu_score.append(bleu.sentence_bleu([reference.split(),], translation.split()))\n",
    "print('Bleu Score is ==> ', np.mean(bleu_score))"
   ]
  },
  {
   "cell_type": "code",
   "execution_count": null,
   "metadata": {
    "colab": {
     "base_uri": "https://localhost:8080/"
    },
    "id": "Gyw-mOa0sHWY",
    "outputId": "33a37273-3c2b-4d2c-d6b8-84e115aa0ac8"
   },
   "outputs": [
    {
     "data": {
      "text/plain": [
       "['history1']"
      ]
     },
     "execution_count": 67,
     "metadata": {},
     "output_type": "execute_result"
    }
   ],
   "source": [
    "joblib.dump(his.history,'history1')"
   ]
  },
  {
   "cell_type": "code",
   "execution_count": null,
   "metadata": {
    "id": "_8pjLjL-siES"
   },
   "outputs": [],
   "source": [
    "#Save weights\n",
    "attention_dot_model.save_weights('best_model1.h5')"
   ]
  },
  {
   "cell_type": "code",
   "execution_count": null,
   "metadata": {
    "id": "wi8Grw95soGR"
   },
   "outputs": [],
   "source": [
    "#Load weights\n",
    "attention_dot_model.load_weights('best_model1.h5')"
   ]
  },
  {
   "cell_type": "code",
   "execution_count": null,
   "metadata": {
    "colab": {
     "base_uri": "https://localhost:8080/"
    },
    "id": "Rv9OB-BdsrrQ",
    "outputId": "cd245318-7547-4f77-cf97-89db0a0e47f7"
   },
   "outputs": [
    {
     "name": "stdout",
     "output_type": "stream",
     "text": [
      "Epoch 1/20\n",
      "450/450 [==============================] - 47s 104ms/step - loss: 2.0626 - val_loss: 2.1374\n",
      "Epoch 2/20\n",
      "450/450 [==============================] - 47s 104ms/step - loss: 2.0022 - val_loss: 2.0958\n",
      "Epoch 3/20\n",
      "450/450 [==============================] - 44s 97ms/step - loss: 1.9458 - val_loss: 2.0618\n",
      "Epoch 4/20\n",
      "450/450 [==============================] - 43s 96ms/step - loss: 1.8925 - val_loss: 2.0265\n",
      "Epoch 5/20\n",
      "450/450 [==============================] - 47s 104ms/step - loss: 1.8426 - val_loss: 1.9990\n",
      "Epoch 6/20\n",
      "450/450 [==============================] - 44s 97ms/step - loss: 1.7952 - val_loss: 1.9691\n",
      "Epoch 7/20\n",
      "450/450 [==============================] - 47s 104ms/step - loss: 1.7498 - val_loss: 1.9475\n",
      "Epoch 8/20\n",
      "450/450 [==============================] - 43s 97ms/step - loss: 1.7067 - val_loss: 1.9203\n",
      "Epoch 9/20\n",
      "450/450 [==============================] - 43s 96ms/step - loss: 1.6657 - val_loss: 1.9030\n",
      "Epoch 10/20\n",
      "450/450 [==============================] - 43s 96ms/step - loss: 1.6263 - val_loss: 1.8830\n",
      "Epoch 11/20\n",
      "450/450 [==============================] - 47s 104ms/step - loss: 1.5893 - val_loss: 1.8664\n",
      "Epoch 12/20\n",
      "450/450 [==============================] - 43s 97ms/step - loss: 1.5529 - val_loss: 1.8489\n",
      "Epoch 13/20\n",
      "450/450 [==============================] - 43s 96ms/step - loss: 1.5184 - val_loss: 1.8386\n",
      "Epoch 14/20\n",
      "450/450 [==============================] - 43s 97ms/step - loss: 1.4855 - val_loss: 1.8197\n",
      "Epoch 15/20\n",
      "450/450 [==============================] - 47s 104ms/step - loss: 1.4540 - val_loss: 1.8108\n",
      "Epoch 16/20\n",
      "450/450 [==============================] - 43s 97ms/step - loss: 1.4234 - val_loss: 1.7974\n",
      "Epoch 17/20\n",
      "450/450 [==============================] - 47s 104ms/step - loss: 1.3943 - val_loss: 1.7876\n",
      "Epoch 18/20\n",
      "450/450 [==============================] - 44s 97ms/step - loss: 1.3663 - val_loss: 1.7744\n",
      "Epoch 19/20\n",
      "450/450 [==============================] - 43s 96ms/step - loss: 1.3386 - val_loss: 1.7668\n",
      "Epoch 20/20\n",
      "450/450 [==============================] - 43s 97ms/step - loss: 1.3136 - val_loss: 1.7593\n"
     ]
    },
    {
     "data": {
      "text/plain": [
       "<keras.callbacks.History at 0x7f1795dd16d0>"
      ]
     },
     "execution_count": 70,
     "metadata": {},
     "output_type": "execute_result"
    }
   ],
   "source": [
    "his2 = tf.keras.callbacks.History()\n",
    "callbacks = [tf.keras.callbacks.TensorBoard(log_dir='logs/model3') , his2]\n",
    "# #compiling the model\n",
    "# attention_dot_model.compile(optimizer = tf.keras.optimizers.Adam(), loss = loss_function)\n",
    "attention_dot_model.fit([x_train_enc , x_train_dec], y_train, steps_per_epoch=450,epochs = 20, validation_data = ([x_test_enc,x_test_dec], y_test), validation_steps = 222 , callbacks = callbacks)"
   ]
  },
  {
   "cell_type": "code",
   "execution_count": null,
   "metadata": {
    "id": "bxPbdrOrs8aC"
   },
   "outputs": [],
   "source": [
    "model = attention_dot_model\n",
    "def predict_dot_model(input_sentence):\n",
    "# A. Given input sentence, convert the sentence into integers using tokenizer used earlier\n",
    "#here we also check the we have the start and end token in sentences\n",
    "#then we convert out input into to token and do a padding\n",
    "  input = input_sentence\n",
    "  if input.split(' ')[0] != '<start>' and input.split(' ')[-1] != '<end>':\n",
    "    input = '<start>'+ ' ' + input + ' ' + '<end>'\n",
    "  else:\n",
    "    input = str(input)\n",
    "  input = ita_token.texts_to_sequences([str(input)])\n",
    "  input = pad_sequences(input, padding= 'post',maxlen= 8)\n",
    "\n",
    "#as we know we have a two layer 1 ==> encoder 2 ==> decoder\n",
    "#so first is encoder we give the input as input sec and ini_state\n",
    "\n",
    "  enc_ini_states = model.layers[0].initialize_states(1)\n",
    "  enc_out, enc_h_state, enc_c_state = model.layers[0](input, enc_ini_states)\n",
    "\n",
    "  dec_h_state = enc_h_state\n",
    "  dec_c_state = enc_c_state\n",
    "\n",
    "\n",
    "#output of the encoder is a input as decoder\n",
    "# first word input of decoder is start token \n",
    "# then 2nd input of decoder is predecting word by model\n",
    "\n",
    "  decoder_initial_input = np.zeros((1,1))\n",
    "  decoder_initial_input[0,0] = eng_token.word_index['<start>']\n",
    "\n",
    "#here we store the word weigth , word and predicted word here predicted word means word token and word means word token corresponding word\n",
    "  predict_word = []\n",
    "  word = []\n",
    "  all_weight = []\n",
    "  for i in range(8):\n",
    "\n",
    "    predict , dec_h_state, dec_c_state, att_weight, con_vector =  model.layers[1].One_Step_Decoder(decoder_initial_input, enc_out, dec_h_state, dec_c_state)\n",
    "\n",
    "    # we use 3rd layer and we get the max proba word as out put and the this word is next input of the decoder \n",
    "    english_predict = np.argmax((predict).numpy().ravel())\n",
    "    predict_word.append(english_predict)\n",
    "    decoder_initial_input[0,0] = english_predict\n",
    "    #replacing the next decoder initial states with current decoder output \n",
    "    #decoder_initial_state = [dec_h_state, dec_c_state]\n",
    "    word.append(new_dict[english_predict])\n",
    "    all_weight.append(att_weight.numpy().ravel())\n",
    "\n",
    "    weight = np.array(all_weight)\n",
    "\n",
    "    if new_dict[english_predict] == '<end>':\n",
    "      break \n",
    "  return ' '.join(word) , weight #return the weight and predicted word"
   ]
  },
  {
   "cell_type": "code",
   "execution_count": null,
   "metadata": {
    "colab": {
     "base_uri": "https://localhost:8080/",
     "height": 35
    },
    "id": "GpCxyXgdwhSA",
    "outputId": "53ea2db2-0b10-43ba-a260-e4a7b95259b7"
   },
   "outputs": [
    {
     "data": {
      "application/vnd.google.colaboratory.intrinsic+json": {
       "type": "string"
      },
      "text/plain": [
       "'you will let you know <end>'"
      ]
     },
     "execution_count": 80,
     "metadata": {},
     "output_type": "execute_result"
    }
   ],
   "source": [
    "predict_dot_model('i love you band')[0]"
   ]
  },
  {
   "cell_type": "code",
   "execution_count": null,
   "metadata": {
    "colab": {
     "base_uri": "https://localhost:8080/"
    },
    "id": "WVs-4Q85wjn5",
    "outputId": "a0175033-c872-48a2-91ca-74fcebdfca99"
   },
   "outputs": [
    {
     "name": "stdout",
     "output_type": "stream",
     "text": [
      "Input  ==> <start> i would love to see you any review use distribution or disclosure by others is <end>\n",
      "Output ==> strictly prohibited <end>\n",
      "Predict ==> strictly prohibited <end>\n",
      "====================================================================================================\n",
      "Input  ==> <start> let me know what you think <end>\n",
      "Output ==> talk to you soon <end>\n",
      "Predict ==> the way to go <end>\n",
      "====================================================================================================\n",
      "Input  ==> <start> i attach notes from our conference call today sarah feel free to <end>\n",
      "Output ==> put these notes on the web site <end>\n",
      "Predict ==> the meeting <end>\n",
      "====================================================================================================\n",
      "Input  ==> <start> two teams can be allocated for each the source code and build process are sufficient to allow for running almost <end>\n",
      "Output ==> immediately with its own staff <end>\n",
      "Predict ==> on the program for a conference rooms for\n",
      "====================================================================================================\n",
      "Input  ==> <start> you know it is a good party when you make the news you should <end>\n",
      "Output ==> be hearing from him shortly <end>\n",
      "Predict ==> be <end>\n",
      "====================================================================================================\n",
      "Input  ==> <start> if you have questions on this or anything else <end>\n",
      "Output ==> please feel free to contact me <end>\n",
      "Predict ==> is greatly appreciated <end>\n",
      "====================================================================================================\n",
      "Input  ==> <start> therefore we have made arrangements to sale <end>\n",
      "Output ==> the gas to another party <end>\n",
      "Predict ==> the hotel <end>\n",
      "====================================================================================================\n",
      "Input  ==> <start> the path is marked in lotus notes with a <end>\n",
      "Output ==> cut symbol <end>\n",
      "Predict ==> the morning you think <end>\n",
      "====================================================================================================\n",
      "Input  ==> <start> you will find the new site more user friendly our peoplemoves section will keep you up to date with all the latest changes in senior executives in the <end>\n",
      "Output ==> market <end>\n",
      "Predict ==> process <end>\n",
      "====================================================================================================\n",
      "Input  ==> <start> however the committee did approve of opening up the roster to additional participants <end>\n",
      "Output ==> call me for details <end>\n",
      "Predict ==> electronic mail me <end>\n",
      "====================================================================================================\n",
      "Input  ==> <start> i would appreciate it if you send me the new gas price as soon as you get a chance hope everything is <end>\n",
      "Output ==> going well <end>\n",
      "Predict ==> well <end>\n",
      "====================================================================================================\n",
      "Input  ==> <start> if you have any questions about <end>\n",
      "Output ==> the data please let me know <end>\n",
      "Predict ==> the number below <end>\n",
      "====================================================================================================\n",
      "Input  ==> <start> participate in college recruiting efforts motivate staff to consistently perform at high levels any review use distribution or disclosure by <end>\n",
      "Output ==> others is strictly prohibited <end>\n",
      "Predict ==> others is strictly prohibited <end>\n",
      "====================================================================================================\n",
      "Input  ==> <start> please print all three documents for your reference if you have any questions or conflicts of schedule please do not hesitate to <end>\n",
      "Output ==> contact me <end>\n",
      "Predict ==> any questions <end>\n",
      "====================================================================================================\n",
      "Input  ==> <start> i want to confirm <end>\n",
      "Output ==> that this date still works for everyone <end>\n",
      "Predict ==> this <end>\n",
      "====================================================================================================\n",
      "Input  ==> <start> this is intended to <end>\n",
      "Output ==> clarify a few points <end>\n",
      "Predict ==> this email by the above <end>\n",
      "====================================================================================================\n",
      "Input  ==> <start> i don t know check requests should be delivered three days in advance the only exceptions to this process will be items such as same day payment for <end>\n",
      "Output ==> prepay commodities <end>\n",
      "Predict ==> local whatsoever capitalize household simulated resonate pdf tent\n",
      "====================================================================================================\n",
      "Input  ==> <start> please review and if acceptable execute in blue ink please call me if you need anything or have <end>\n",
      "Output ==> any questions <end>\n",
      "Predict ==> any questions <end>\n",
      "====================================================================================================\n",
      "Input  ==> <start> we will notify you by email when other <end>\n",
      "Output ==> strategies are offered in the near future <end>\n",
      "Predict ==> the number <end>\n",
      "====================================================================================================\n",
      "Input  ==> <start> about if there is any documents about this subject the answer is <end>\n",
      "Output ==> no <end>\n",
      "Predict ==> for your help <end>\n",
      "====================================================================================================\n"
     ]
    }
   ],
   "source": [
    "data_sam = data.sample(20)\n",
    "for i in range(20):\n",
    "  print('Input  ==>' , data_sam.enc_inp.iloc[i])\n",
    "  print('Output ==>' , data_sam.our.iloc[i])\n",
    "  print('Predict ==>', predict_dot_model(data_sam.enc_inp.iloc[i])[0])\n",
    "  print(50 * '==')"
   ]
  },
  {
   "cell_type": "markdown",
   "metadata": {},
   "source": [
    "### 10.1.2 BLUE score after 30 epoch"
   ]
  },
  {
   "cell_type": "code",
   "execution_count": null,
   "metadata": {
    "colab": {
     "base_uri": "https://localhost:8080/"
    },
    "id": "oMP4woMDwna5",
    "outputId": "6b4dd45a-0120-4c34-d11a-9a68e5f046e5"
   },
   "outputs": [
    {
     "name": "stderr",
     "output_type": "stream",
     "text": [
      "/usr/local/lib/python3.7/dist-packages/nltk/translate/bleu_score.py:490: UserWarning: \n",
      "Corpus/Sentence contains 0 counts of 2-gram overlaps.\n",
      "BLEU scores might be undesirable; use SmoothingFunction().\n",
      "  warnings.warn(_msg)\n",
      "/usr/local/lib/python3.7/dist-packages/nltk/translate/bleu_score.py:490: UserWarning: \n",
      "Corpus/Sentence contains 0 counts of 4-gram overlaps.\n",
      "BLEU scores might be undesirable; use SmoothingFunction().\n",
      "  warnings.warn(_msg)\n",
      "/usr/local/lib/python3.7/dist-packages/nltk/translate/bleu_score.py:490: UserWarning: \n",
      "Corpus/Sentence contains 0 counts of 3-gram overlaps.\n",
      "BLEU scores might be undesirable; use SmoothingFunction().\n",
      "  warnings.warn(_msg)\n"
     ]
    },
    {
     "name": "stdout",
     "output_type": "stream",
     "text": [
      "Bleu Score is ==>  0.5011863994763639\n"
     ]
    }
   ],
   "source": [
    "data_sam = data.sample(1000)\n",
    "import nltk.translate.bleu_score as bleu\n",
    "bleu_score = []\n",
    "for i in range(1000):\n",
    "  reference  = data_sam.our.iloc[i] \n",
    "  translation = predict_dot_model(data_sam.enc_inp.iloc[i])[0]\n",
    "  bleu_score.append(bleu.sentence_bleu([reference.split(),], translation.split()))\n",
    "print('Bleu Score is ==> ', np.mean(bleu_score))"
   ]
  },
  {
   "cell_type": "code",
   "execution_count": null,
   "metadata": {
    "colab": {
     "base_uri": "https://localhost:8080/"
    },
    "id": "OlvMWj0Xwshf",
    "outputId": "7e2b31a2-6263-4ff1-dd0e-06e3be60bf23"
   },
   "outputs": [
    {
     "data": {
      "text/plain": [
       "['history2']"
      ]
     },
     "execution_count": 75,
     "metadata": {},
     "output_type": "execute_result"
    }
   ],
   "source": [
    "joblib.dump(his2.history,'history2')"
   ]
  },
  {
   "cell_type": "code",
   "execution_count": null,
   "metadata": {
    "id": "KhXBtshQw7BN"
   },
   "outputs": [],
   "source": [
    "h1 = joblib.load('history1')\n",
    "h2 = joblib.load('history2')\n",
    "loss = h1['loss']+h2['loss']\n",
    "val_loss = h1['val_loss']+h2['val_loss']"
   ]
  },
  {
   "cell_type": "code",
   "execution_count": null,
   "metadata": {
    "colab": {
     "base_uri": "https://localhost:8080/",
     "height": 312
    },
    "id": "wrEIiNzDw949",
    "outputId": "16b86816-2834-4288-a2d2-245215e9e1b5"
   },
   "outputs": [
    {
     "data": {
      "text/plain": [
       "Text(0.5, 1.0, 'Loss Vs No of epochs')"
      ]
     },
     "execution_count": 77,
     "metadata": {},
     "output_type": "execute_result"
    },
    {
     "data": {
      "image/png": "[encoded data removed]",
      "text/plain": [
       "<Figure size 432x288 with 1 Axes>"
      ]
     },
     "metadata": {
      "needs_background": "light"
     },
     "output_type": "display_data"
    }
   ],
   "source": [
    "# loss = his.history['loss']\n",
    "# val_loss = his.history['val_loss']\n",
    "plt.plot(loss,label='Training loss')\n",
    "plt.plot(val_loss, label='Validation loss')\n",
    "plt.legend()\n",
    "plt.grid()\n",
    "plt.xlabel('No of epochs')\n",
    "plt.ylabel('Loss')\n",
    "plt.title('Loss Vs No of epochs')"
   ]
  },
  {
   "cell_type": "markdown",
   "metadata": {
    "id": "qxoG3AVqzTKh"
   },
   "source": [
    "## 10.2 Attention with General Function"
   ]
  },
  {
   "cell_type": "code",
   "execution_count": null,
   "metadata": {
    "id": "ixAtQecNxG6T"
   },
   "outputs": [],
   "source": [
    "#defining the model\n",
    "tf.keras.backend.clear_session()\n",
    "attention_general_model = encoder_decoder(inp_vocab_size = input_vocab, out_vocab_size = output_vocab,\n",
    "                                      embedding_size = 300, enc_lstm_units = 256, dec_lstm_units = 256, \n",
    "                                      enc_input_length = 31, dec_input_length = 8, score_fun = 'general', \n",
    "                                      att_units = 256)\n",
    "his = tf.keras.callbacks.History()\n",
    "callbacks = [tf.keras.callbacks.TensorBoard(log_dir='logs/model4_general') , his]\n",
    "#compiling the model\n",
    "attention_general_model.compile(optimizer = tf.keras.optimizers.Adam(learning_rate = 0.001), loss = loss_function)"
   ]
  },
  {
   "cell_type": "code",
   "execution_count": null,
   "metadata": {
    "colab": {
     "base_uri": "https://localhost:8080/"
    },
    "id": "SfUNK543zVjF",
    "outputId": "471a1622-edcd-4bb6-cf8a-91fc1bed816f"
   },
   "outputs": [
    {
     "name": "stdout",
     "output_type": "stream",
     "text": [
      "Epoch 1/20\n",
      "450/450 [==============================] - 75s 133ms/step - loss: 3.3461 - val_loss: 3.0379\n",
      "Epoch 2/20\n",
      "450/450 [==============================] - 57s 126ms/step - loss: 2.9134 - val_loss: 2.8144\n",
      "Epoch 3/20\n",
      "450/450 [==============================] - 56s 124ms/step - loss: 2.7457 - val_loss: 2.7050\n",
      "Epoch 4/20\n",
      "450/450 [==============================] - 55s 123ms/step - loss: 2.6540 - val_loss: 2.6438\n",
      "Epoch 5/20\n",
      "450/450 [==============================] - 56s 124ms/step - loss: 2.5955 - val_loss: 2.6037\n",
      "Epoch 6/20\n",
      "450/450 [==============================] - 57s 127ms/step - loss: 2.5478 - val_loss: 2.5608\n",
      "Epoch 7/20\n",
      "450/450 [==============================] - 56s 124ms/step - loss: 2.5024 - val_loss: 2.5277\n",
      "Epoch 8/20\n",
      "450/450 [==============================] - 57s 127ms/step - loss: 2.4665 - val_loss: 2.5002\n",
      "Epoch 9/20\n",
      "450/450 [==============================] - 56s 124ms/step - loss: 2.4324 - val_loss: 2.4723\n",
      "Epoch 10/20\n",
      "450/450 [==============================] - 56s 124ms/step - loss: 2.3951 - val_loss: 2.4404\n",
      "Epoch 11/20\n",
      "450/450 [==============================] - 56s 124ms/step - loss: 2.3474 - val_loss: 2.3875\n",
      "Epoch 12/20\n",
      "450/450 [==============================] - 56s 124ms/step - loss: 2.2887 - val_loss: 2.3272\n",
      "Epoch 13/20\n",
      "450/450 [==============================] - 57s 127ms/step - loss: 2.2256 - val_loss: 2.2756\n",
      "Epoch 14/20\n",
      "450/450 [==============================] - 57s 127ms/step - loss: 2.1749 - val_loss: 2.2364\n",
      "Epoch 15/20\n",
      "450/450 [==============================] - 56s 125ms/step - loss: 2.1212 - val_loss: 2.1990\n",
      "Epoch 16/20\n",
      "450/450 [==============================] - 56s 124ms/step - loss: 2.0770 - val_loss: 2.1651\n",
      "Epoch 17/20\n",
      "450/450 [==============================] - 57s 127ms/step - loss: 2.0391 - val_loss: 2.1414\n",
      "Epoch 18/20\n",
      "450/450 [==============================] - 56s 125ms/step - loss: 2.0072 - val_loss: 2.1143\n",
      "Epoch 19/20\n",
      "450/450 [==============================] - 57s 127ms/step - loss: 1.9708 - val_loss: 2.0945\n",
      "Epoch 20/20\n",
      "450/450 [==============================] - 56s 124ms/step - loss: 1.9407 - val_loss: 2.0700\n"
     ]
    },
    {
     "data": {
      "text/plain": [
       "<keras.callbacks.History at 0x7f1793505fd0>"
      ]
     },
     "execution_count": 87,
     "metadata": {},
     "output_type": "execute_result"
    }
   ],
   "source": [
    "attention_general_model.fit([x_train_enc , x_train_dec], y_train, steps_per_epoch=450,epochs = 20, validation_data = ([x_test_enc,x_test_dec], y_test), validation_steps = 222 , callbacks = callbacks)"
   ]
  },
  {
   "cell_type": "code",
   "execution_count": null,
   "metadata": {
    "colab": {
     "base_uri": "https://localhost:8080/",
     "height": 295
    },
    "id": "mDDobrO4zbKC",
    "outputId": "6933c0a7-bc13-4a69-b13b-2f394eeea70d"
   },
   "outputs": [
    {
     "data": {
      "image/png": "[encoded data removed]",
      "text/plain": [
       "<Figure size 432x288 with 1 Axes>"
      ]
     },
     "metadata": {
      "needs_background": "light"
     },
     "output_type": "display_data"
    }
   ],
   "source": [
    "plt.plot(his.history['loss'])  \n",
    "plt.plot(his.history['val_loss'])  \n",
    "plt.title('model loss')  \n",
    "plt.ylabel('loss')  \n",
    "plt.xlabel('epoch')\n",
    "plt.grid()  \n",
    "plt.legend(['train', 'test'])  \n",
    "plt.show()"
   ]
  },
  {
   "cell_type": "code",
   "execution_count": null,
   "metadata": {
    "colab": {
     "base_uri": "https://localhost:8080/",
     "height": 35
    },
    "id": "IiOy2eDO4KRl",
    "outputId": "3cb4037d-a1e7-4d09-e7e0-f9926115173e"
   },
   "outputs": [
    {
     "data": {
      "application/vnd.google.colaboratory.intrinsic+json": {
       "type": "string"
      },
      "text/plain": [
       "'you have any questions <end>'"
      ]
     },
     "execution_count": 92,
     "metadata": {},
     "output_type": "execute_result"
    }
   ],
   "source": [
    "model = attention_general_model\n",
    "def predict_general_model(input_sentence):\n",
    "# A. Given input sentence, convert the sentence into integers using tokenizer used earlier\n",
    "#here we also check the we have the start and end token in sentences\n",
    "#then we convert out input into to token and do a padding\n",
    "  input = input_sentence\n",
    "  if input.split(' ')[0] != '<start>' and input.split(' ')[-1] != '<end>':\n",
    "    input = '<start>'+ ' ' + input + ' ' + '<end>'\n",
    "  else:\n",
    "    input = str(input)\n",
    "  input = ita_token.texts_to_sequences([str(input)])\n",
    "  input = pad_sequences(input, padding= 'post',maxlen= 8)\n",
    "\n",
    "#as we know we have a three layer 1 ==> encoder 2 ==> decoder 3 ==> dense\n",
    "#so first is encoder we give the input as input sec and ini_state\n",
    "\n",
    "  enc_ini_states = model.layers[0].initialize_states(1)\n",
    "  enc_out, enc_h_state, enc_c_state = model.layers[0](input, enc_ini_states)\n",
    "\n",
    "  dec_h_state = enc_h_state\n",
    "  dec_c_state = enc_c_state\n",
    "\n",
    "\n",
    "#output of the encoder is a input as decoder\n",
    "# first word input of decoder is start token \n",
    "# then 2nd input of decoder is predecting word by model\n",
    "\n",
    "  decoder_initial_input = np.zeros((1,1))\n",
    "  decoder_initial_input[0,0] = eng_token.word_index['<start>']\n",
    "\n",
    "\n",
    "  predict_word = []\n",
    "  word = []\n",
    "  all_weight = []\n",
    "  for i in range(8):\n",
    "\n",
    "    predict , dec_h_state, dec_c_state, att_weight, con_vector =  model.layers[1].One_Step_Decoder(decoder_initial_input, enc_out, dec_h_state, dec_c_state)\n",
    "\n",
    "    # we use 3rd layer and we get the max proba word as out put and the this word is next input of the decoder \n",
    "    english_predict = np.argmax((predict).numpy().ravel())\n",
    "    predict_word.append(english_predict)\n",
    "    decoder_initial_input[0,0] = english_predict\n",
    "    #replacing the next decoder initial states with current decoder output \n",
    "    #decoder_initial_state = [dec_h_state, dec_c_state]\n",
    "    word.append(new_dict[english_predict])\n",
    "    all_weight.append(att_weight.numpy().ravel())\n",
    "\n",
    "    weight = np.array(all_weight)\n",
    "\n",
    "    if new_dict[english_predict] == '<end>':\n",
    "      break\n",
    "  return ' '.join(word) , weight\n",
    "predict_general_model('<start> let me know if  <end>')[0]"
   ]
  },
  {
   "cell_type": "code",
   "execution_count": null,
   "metadata": {
    "colab": {
     "base_uri": "https://localhost:8080/"
    },
    "id": "I_VcA0Zl4UAw",
    "outputId": "f9f952a1-b4e3-4270-936c-fae2289a1916"
   },
   "outputs": [
    {
     "name": "stdout",
     "output_type": "stream",
     "text": [
      "Input  ==> <start> you are the man see most recent email thanks a million i owe you one this <end>\n",
      "Output ==> one was really a hot potato <end>\n",
      "Predict ==> is prohibited scares <end>\n",
      "====================================================================================================\n",
      "Input  ==> <start> brent is waiting for the arrival of his cabinet installer who is running late he will be in as soon as he <end>\n",
      "Output ==> can <end>\n",
      "Predict ==> is not be provided <end>\n",
      "====================================================================================================\n",
      "Input  ==> <start> give me a shout i did not think it would be that soon talk to you soon any review use distribution or <end>\n",
      "Output ==> disclosure by others is strictly prohibited <end>\n",
      "Predict ==> if disucss propane butane and discuss <end>\n",
      "====================================================================================================\n",
      "Input  ==> <start> you can ignore the other file as it is not applicable to engineering thanks and call if this is <end>\n",
      "Output ==> not clear <end>\n",
      "Predict ==> legal scares properties mentioning lukemia properties mentioning lukemia\n",
      "====================================================================================================\n",
      "Input  ==> <start> but let me know what you want me to look for in the remaining <end>\n",
      "Output ==> deals <end>\n",
      "Predict ==> intensive suffered cream eligibility govern suffered cream eligibility\n",
      "====================================================================================================\n",
      "Input  ==> <start> seems that things are <end>\n",
      "Output ==> going well <end>\n",
      "Predict ==> a good <end>\n",
      "====================================================================================================\n",
      "Input  ==> <start> hey team just wanted to let everyone know who <end>\n",
      "Output ==> to call <end>\n",
      "Predict ==> is not be <end>\n",
      "====================================================================================================\n",
      "Input  ==> <start> godspeed to you and your family as you make this <end>\n",
      "Output ==> trip have a safe trip <end>\n",
      "Predict ==> if you millennium rollover weekend rat poison rat\n",
      "====================================================================================================\n",
      "Input  ==> <start> to better focus on the different commercial functions and to capture market share and value the group is being realigned please join us <end>\n",
      "Output ==> in congratulating everyone in their assignments <end>\n",
      "Predict ==> to call <end>\n",
      "====================================================================================================\n",
      "Input  ==> <start> i would want an average wr and a <end>\n",
      "Output ==> solid back <end>\n",
      "Predict ==> good work posted <end>\n",
      "====================================================================================================\n",
      "Input  ==> <start> i have a copy of the agreement if anyone needs to <end>\n",
      "Output ==> see it <end>\n",
      "Predict ==> if disucss propane komputera rat poison wiecznie wells\n",
      "====================================================================================================\n",
      "Input  ==> <start> and to start off the week soon we will be <end>\n",
      "Output ==> livin high and wide <end>\n",
      "Predict ==> you soon <end>\n",
      "====================================================================================================\n",
      "Input  ==> <start> please review the spreadsheet and contact me to discuss the deviations in our computations i look forward to a speedy resolution of <end>\n",
      "Output ==> our outstanding settlement issues <end>\n",
      "Predict ==> you a call addtional information <end>\n",
      "====================================================================================================\n",
      "Input  ==> <start> i will suggest to our counsel that we have a call mid next week involving you me and them we will have an initial draft by <end>\n",
      "Output ==> the middle of next week <end>\n",
      "Predict ==> the attached <end>\n",
      "====================================================================================================\n",
      "Input  ==> <start> no network hardware or systems are anticipated to be shutdown intermettent <end>\n",
      "Output ==> disruption to last about five minutes <end>\n",
      "Predict ==> to discuss <end>\n",
      "====================================================================================================\n",
      "Input  ==> <start> for sake of clarification both documents <end>\n",
      "Output ==> sent out are attached below <end>\n",
      "Predict ==> in the future <end>\n",
      "====================================================================================================\n",
      "Input  ==> <start> make a difference learn all the details here click here for more information make <end>\n",
      "Output ==> any updates or changes <end>\n",
      "Predict ==> the end of the future <end>\n",
      "====================================================================================================\n",
      "Input  ==> <start> we will be watching the screen this morning but let us know if you see an opportunity <end>\n",
      "Output ==> to transact <end>\n",
      "Predict ==> punishment properties tanks feet countperparty wiecznie pour pour\n",
      "====================================================================================================\n",
      "Input  ==> <start> church who released the findings during a media luncheon in conjunction with the group is summer membership meeting managing risk appropriately benefits consumers and risk management is more efficient <end>\n",
      "Output ==> and effective in a truly competitive regime <end>\n",
      "Predict ==> and comment <end>\n",
      "====================================================================================================\n",
      "Input  ==> <start> please let me know if <end>\n",
      "Output ==> you plan on attending the meeting <end>\n",
      "Predict ==> you have any questions <end>\n",
      "====================================================================================================\n"
     ]
    }
   ],
   "source": [
    "data_sam = data.sample(20)\n",
    "for i in range(20):\n",
    "  print('Input  ==>' , data_sam.enc_inp.iloc[i])\n",
    "  print('Output ==>' , data_sam.our.iloc[i])\n",
    "  print('Predict ==>', predict_general_model(data_sam.enc_inp.iloc[i])[0])\n",
    "  print(50 * '==')"
   ]
  },
  {
   "cell_type": "code",
   "execution_count": null,
   "metadata": {
    "colab": {
     "base_uri": "https://localhost:8080/"
    },
    "id": "R48fUr-N4lDG",
    "outputId": "868c4663-52cd-4d7b-f2f6-ed226e538cb6"
   },
   "outputs": [
    {
     "name": "stderr",
     "output_type": "stream",
     "text": [
      "/usr/local/lib/python3.7/dist-packages/nltk/translate/bleu_score.py:490: UserWarning: \n",
      "Corpus/Sentence contains 0 counts of 2-gram overlaps.\n",
      "BLEU scores might be undesirable; use SmoothingFunction().\n",
      "  warnings.warn(_msg)\n",
      "/usr/local/lib/python3.7/dist-packages/nltk/translate/bleu_score.py:490: UserWarning: \n",
      "Corpus/Sentence contains 0 counts of 4-gram overlaps.\n",
      "BLEU scores might be undesirable; use SmoothingFunction().\n",
      "  warnings.warn(_msg)\n",
      "/usr/local/lib/python3.7/dist-packages/nltk/translate/bleu_score.py:490: UserWarning: \n",
      "Corpus/Sentence contains 0 counts of 3-gram overlaps.\n",
      "BLEU scores might be undesirable; use SmoothingFunction().\n",
      "  warnings.warn(_msg)\n"
     ]
    },
    {
     "name": "stdout",
     "output_type": "stream",
     "text": [
      "Bleu Score is ==>  0.4048202788918177\n"
     ]
    }
   ],
   "source": [
    "data_sam = data.sample(1000)\n",
    "import nltk.translate.bleu_score as bleu\n",
    "bleu_score = []\n",
    "for i in range(1000):\n",
    "  reference  = data_sam.our.iloc[i] \n",
    "  translation = predict_general_model(data_sam.enc_inp.iloc[i])[0]\n",
    "  bleu_score.append(bleu.sentence_bleu([reference.split(),], translation.split()))\n",
    "print('Bleu Score is ==> ', np.mean(bleu_score))"
   ]
  },
  {
   "cell_type": "markdown",
   "metadata": {
    "id": "xt1dDw4t7M9q"
   },
   "source": [
    "## 10.3 Attention with Concat Function"
   ]
  },
  {
   "cell_type": "code",
   "execution_count": null,
   "metadata": {
    "id": "aBWj1o0I4y7z"
   },
   "outputs": [],
   "source": [
    "#defining the model\n",
    "tf.keras.backend.clear_session()\n",
    "attention_concat_model = encoder_decoder(inp_vocab_size = input_vocab, out_vocab_size = output_vocab,\n",
    "                                      embedding_size = 256, enc_lstm_units = 256, dec_lstm_units = 256, \n",
    "                                      enc_input_length = 31, dec_input_length = 8, score_fun = 'concat', \n",
    "                                      att_units = 256)\n",
    "his = tf.keras.callbacks.History()\n",
    "callbacks = [tf.keras.callbacks.TensorBoard(log_dir='logs/model2') , his]\n",
    "#compiling the model\n",
    "attention_concat_model.compile(optimizer = tf.keras.optimizers.Adam(), loss = loss_function)"
   ]
  },
  {
   "cell_type": "code",
   "execution_count": null,
   "metadata": {
    "colab": {
     "base_uri": "https://localhost:8080/"
    },
    "id": "cci8pZGg7Qwa",
    "outputId": "46625599-ba7f-4560-ef7e-a6b6172b71b6"
   },
   "outputs": [
    {
     "name": "stdout",
     "output_type": "stream",
     "text": [
      "Epoch 1/20\n",
      "450/450 [==============================] - 78s 137ms/step - loss: 3.3601 - val_loss: 3.0586\n",
      "Epoch 2/20\n",
      "450/450 [==============================] - 59s 132ms/step - loss: 2.9137 - val_loss: 2.7640\n",
      "Epoch 3/20\n",
      "450/450 [==============================] - 59s 131ms/step - loss: 2.6411 - val_loss: 2.5452\n",
      "Epoch 4/20\n",
      "450/450 [==============================] - 59s 130ms/step - loss: 2.4388 - val_loss: 2.3878\n",
      "Epoch 5/20\n",
      "450/450 [==============================] - 59s 131ms/step - loss: 2.2881 - val_loss: 2.2754\n",
      "Epoch 6/20\n",
      "450/450 [==============================] - 59s 131ms/step - loss: 2.1717 - val_loss: 2.1896\n",
      "Epoch 7/20\n",
      "450/450 [==============================] - 59s 131ms/step - loss: 2.0713 - val_loss: 2.1133\n",
      "Epoch 8/20\n",
      "450/450 [==============================] - 59s 131ms/step - loss: 1.9824 - val_loss: 2.0512\n",
      "Epoch 9/20\n",
      "450/450 [==============================] - 59s 130ms/step - loss: 1.9018 - val_loss: 1.9970\n",
      "Epoch 10/20\n",
      "450/450 [==============================] - 59s 131ms/step - loss: 1.8283 - val_loss: 1.9501\n",
      "Epoch 11/20\n",
      "450/450 [==============================] - 59s 132ms/step - loss: 1.7601 - val_loss: 1.9055\n",
      "Epoch 12/20\n",
      "450/450 [==============================] - 59s 131ms/step - loss: 1.6956 - val_loss: 1.8621\n",
      "Epoch 13/20\n",
      "450/450 [==============================] - 59s 131ms/step - loss: 1.6346 - val_loss: 1.8268\n",
      "Epoch 14/20\n",
      "450/450 [==============================] - 59s 131ms/step - loss: 1.5762 - val_loss: 1.7952\n",
      "Epoch 15/20\n",
      "450/450 [==============================] - 59s 131ms/step - loss: 1.5213 - val_loss: 1.7617\n",
      "Epoch 16/20\n",
      "450/450 [==============================] - 59s 131ms/step - loss: 1.4688 - val_loss: 1.7341\n",
      "Epoch 17/20\n",
      "450/450 [==============================] - 59s 131ms/step - loss: 1.4180 - val_loss: 1.7065\n",
      "Epoch 18/20\n",
      "450/450 [==============================] - 59s 131ms/step - loss: 1.3697 - val_loss: 1.6833\n",
      "Epoch 19/20\n",
      "450/450 [==============================] - 59s 131ms/step - loss: 1.3240 - val_loss: 1.6585\n",
      "Epoch 20/20\n",
      "450/450 [==============================] - 59s 130ms/step - loss: 1.2792 - val_loss: 1.6387\n"
     ]
    },
    {
     "data": {
      "text/plain": [
       "<keras.callbacks.History at 0x7f17955434d0>"
      ]
     },
     "execution_count": 96,
     "metadata": {},
     "output_type": "execute_result"
    }
   ],
   "source": [
    "attention_concat_model.fit([x_train_enc , x_train_dec], y_train, steps_per_epoch=450,epochs = 20, validation_data = ([x_test_enc,x_test_dec], y_test), validation_steps = 222 , callbacks = callbacks)"
   ]
  },
  {
   "cell_type": "code",
   "execution_count": null,
   "metadata": {
    "colab": {
     "base_uri": "https://localhost:8080/",
     "height": 295
    },
    "id": "leVYxcoK7b84",
    "outputId": "f3ba02dc-e39b-49b5-fc64-bddc6d6c3f09"
   },
   "outputs": [
    {
     "data": {
      "image/png": "[encoded data removed]",
      "text/plain": [
       "<Figure size 432x288 with 1 Axes>"
      ]
     },
     "metadata": {
      "needs_background": "light"
     },
     "output_type": "display_data"
    }
   ],
   "source": [
    "plt.plot(his.history['loss'])  \n",
    "plt.plot(his.history['val_loss'])  \n",
    "plt.title('model loss')  \n",
    "plt.ylabel('loss')  \n",
    "plt.xlabel('epoch')\n",
    "plt.grid()  \n",
    "plt.legend(['train', 'test'])  \n",
    "plt.show()"
   ]
  },
  {
   "cell_type": "code",
   "execution_count": null,
   "metadata": {
    "colab": {
     "base_uri": "https://localhost:8080/",
     "height": 35
    },
    "id": "jSKdAAf9ACmI",
    "outputId": "59bf3ed0-cd4a-4e17-f81b-0a8fec41cae9"
   },
   "outputs": [
    {
     "data": {
      "application/vnd.google.colaboratory.intrinsic+json": {
       "type": "string"
      },
      "text/plain": [
       "'few oour reminders <end>'"
      ]
     },
     "execution_count": 115,
     "metadata": {},
     "output_type": "execute_result"
    }
   ],
   "source": [
    "model = attention_concat_model\n",
    "def predict_concat_model(input_sentence):\n",
    "# A. Given input sentence, convert the sentence into integers using tokenizer used earlier\n",
    "#here we also check the we have the start and end token in sentences\n",
    "#then we convert out input into to token and do a padding\n",
    "  input = input_sentence\n",
    "  if input.split(' ')[0] != '<start>' and input.split(' ')[-1] != '<end>':\n",
    "    input = '<start>'+ ' ' + input + ' ' + '<end>'\n",
    "  else:\n",
    "    input = str(input)\n",
    "  input = ita_token.texts_to_sequences([str(input)])\n",
    "  input = pad_sequences(input, padding= 'post',maxlen= 8)\n",
    "\n",
    "#as we know we have a three layer 1 ==> encoder 2 ==> decoder 3 ==> dense\n",
    "#so first is encoder we give the input as input sec and ini_state\n",
    "\n",
    "  enc_ini_states = model.layers[0].initialize_states(1)\n",
    "  enc_out, enc_h_state, enc_c_state = model.layers[0](input, enc_ini_states)\n",
    "\n",
    "  dec_h_state = enc_h_state\n",
    "  dec_c_state = enc_c_state\n",
    "\n",
    "\n",
    "#output of the encoder is a input as decoder\n",
    "# first word input of decoder is start token \n",
    "# then 2nd input of decoder is predecting word by model\n",
    "\n",
    "  decoder_initial_input = np.zeros((1,1))\n",
    "  decoder_initial_input[0,0] = eng_token.word_index['<start>']\n",
    "\n",
    "\n",
    "  predict_word = []\n",
    "  word = []\n",
    "  all_weight = []\n",
    "  for i in range(8):\n",
    "\n",
    "    predict , dec_h_state, dec_c_state, att_weight, con_vector =  model.layers[1].One_Step_Decoder(decoder_initial_input, enc_out, dec_h_state, dec_c_state)\n",
    "\n",
    "    # we use 3rd layer and we get the max proba word as out put and the this word is next input of the decoder \n",
    "    english_predict = np.argmax((predict).numpy().ravel())\n",
    "    predict_word.append(english_predict)\n",
    "    decoder_initial_input[0,0] = english_predict\n",
    "    #replacing the next decoder initial states with current decoder output \n",
    "    #decoder_initial_state = [dec_h_state, dec_c_state]\n",
    "    word.append(new_dict[english_predict])\n",
    "    all_weight.append(att_weight.numpy().ravel())\n",
    "\n",
    "    weight = np.array(all_weight)\n",
    "\n",
    "    if new_dict[english_predict] == '<end>':\n",
    "      break\n",
    "  return ' '.join(word) , weight\n",
    "predict_concat_model('<start> we are making a number of <end>')[0]"
   ]
  },
  {
   "cell_type": "code",
   "execution_count": null,
   "metadata": {
    "colab": {
     "base_uri": "https://localhost:8080/"
    },
    "id": "J3jL3ncPATgV",
    "outputId": "ffe86d59-c66d-40f0-80f7-833912fecfa3"
   },
   "outputs": [
    {
     "name": "stdout",
     "output_type": "stream",
     "text": [
      "Input  ==> <start> let me know what else you will need to prepare the statistical analysis the numbers include highs and lows let me know your ideas on how to address <end>\n",
      "Output ==> this in the quote <end>\n",
      "Predict ==> your help <end>\n",
      "====================================================================================================\n",
      "Input  ==> <start> thank you for your suggestions during our phone conversation the other day as of this afternoon the website is up and running if you have <end>\n",
      "Output ==> questions please contact me <end>\n",
      "Predict ==> questions please let me know <end>\n",
      "====================================================================================================\n",
      "Input  ==> <start> this displays the severity of the <end>\n",
      "Output ==> supply issues <end>\n",
      "Predict ==> crock <end>\n",
      "====================================================================================================\n",
      "Input  ==> <start> this is to have unhindered <end>\n",
      "Output ==> governor response throughout the system <end>\n",
      "Predict ==> email <end>\n",
      "====================================================================================================\n",
      "Input  ==> <start> let me know if you <end>\n",
      "Output ==> have concerns <end>\n",
      "Predict ==> comments <end>\n",
      "====================================================================================================\n",
      "Input  ==> <start> please find attached execution copies of the above captioned documents thank you for <end>\n",
      "Output ==> your attention to these matters <end>\n",
      "Predict ==> assistance <end>\n",
      "====================================================================================================\n",
      "Input  ==> <start> at this time we are <end>\n",
      "Output ==> confirming the details of your travel requests <end>\n",
      "Predict ==> inconvenience <end>\n",
      "====================================================================================================\n",
      "Input  ==> <start> as an accommodation and clarification we propose restoring the parenthetical i hope these revisions are acceptable please call me and we can coordinate the preparation <end>\n",
      "Output ==> of execution documents thanks and best regards <end>\n",
      "Predict ==> it is <end>\n",
      "====================================================================================================\n",
      "Input  ==> <start> please let me know if we can get the dispatch on the requested <end>\n",
      "Output ==> day to perform the testing <end>\n",
      "Predict ==> help <end>\n",
      "====================================================================================================\n",
      "Input  ==> <start> i have ordered your computer and accessories for home use i am working with telerate department on how you will be able to access it <end>\n",
      "Output ==> from your home <end>\n",
      "Predict ==> us <end>\n",
      "====================================================================================================\n",
      "Input  ==> <start> i have copies of the documents i will <end>\n",
      "Output ==> have them delivered to your office tomorrow <end>\n",
      "Predict ==> you in the various issues <end>\n",
      "====================================================================================================\n",
      "Input  ==> <start> changes in reservation billing b lunch will be provided attire is business <end>\n",
      "Output ==> casual <end>\n",
      "Predict ==> is questionable <end>\n",
      "====================================================================================================\n",
      "Input  ==> <start> continued system difficulties combined with understaffing has resulted in <end>\n",
      "Output ==> more frequent mistakes <end>\n",
      "Predict ==> them <end>\n",
      "====================================================================================================\n",
      "Input  ==> <start> we are comfortable because as the counterparty is credit quality deteriorates the amount of exposure to which we are subject decreases we requested that they raise this <end>\n",
      "Output ==> issue with their respective superiors <end>\n",
      "Predict ==> system <end>\n",
      "====================================================================================================\n",
      "Input  ==> <start> let is ensure we have healthy utilities and that our state is not burdened for decades by high <end>\n",
      "Output ==> energy costs <end>\n",
      "Predict ==> customers <end>\n",
      "====================================================================================================\n",
      "Input  ==> <start> enclosed is my resume <end>\n",
      "Output ==> thanks a lot <end>\n",
      "Predict ==> help <end>\n",
      "====================================================================================================\n",
      "Input  ==> <start> it was a promo video we can not use kal and <end>\n",
      "Output ==> legal are chasing <end>\n",
      "Predict ==> chance to proceed <end>\n",
      "====================================================================================================\n",
      "Input  ==> <start> i have a few follow up questions thank <end>\n",
      "Output ==> you very much <end>\n",
      "Predict ==> your comments <end>\n",
      "====================================================================================================\n",
      "Input  ==> <start> i spoke with her yesterday and she is working on it they tell me they will <end>\n",
      "Output ==> be ready no later than tomorrow <end>\n",
      "Predict ==> you there <end>\n",
      "====================================================================================================\n",
      "Input  ==> <start> i do not believe we have received a <end>\n",
      "Output ==> single one yet <end>\n",
      "Predict ==> inconvenience <end>\n",
      "====================================================================================================\n"
     ]
    }
   ],
   "source": [
    "data_sam = data.sample(20)\n",
    "for i in range(20):\n",
    "  print('Input  ==>' , data_sam.enc_inp.iloc[i])\n",
    "  print('Output ==>' , data_sam.our.iloc[i])\n",
    "  print('Predict ==>', predict_concat_model(data_sam.enc_inp.iloc[i])[0])\n",
    "  print(50 * '==')"
   ]
  },
  {
   "cell_type": "code",
   "execution_count": null,
   "metadata": {
    "colab": {
     "base_uri": "https://localhost:8080/"
    },
    "id": "ELnqGYqrAfC0",
    "outputId": "2485b3aa-94b5-496c-e8fb-14f717dd543e"
   },
   "outputs": [
    {
     "name": "stderr",
     "output_type": "stream",
     "text": [
      "/usr/local/lib/python3.7/dist-packages/nltk/translate/bleu_score.py:490: UserWarning: \n",
      "Corpus/Sentence contains 0 counts of 2-gram overlaps.\n",
      "BLEU scores might be undesirable; use SmoothingFunction().\n",
      "  warnings.warn(_msg)\n",
      "/usr/local/lib/python3.7/dist-packages/nltk/translate/bleu_score.py:490: UserWarning: \n",
      "Corpus/Sentence contains 0 counts of 3-gram overlaps.\n",
      "BLEU scores might be undesirable; use SmoothingFunction().\n",
      "  warnings.warn(_msg)\n",
      "/usr/local/lib/python3.7/dist-packages/nltk/translate/bleu_score.py:490: UserWarning: \n",
      "Corpus/Sentence contains 0 counts of 4-gram overlaps.\n",
      "BLEU scores might be undesirable; use SmoothingFunction().\n",
      "  warnings.warn(_msg)\n"
     ]
    },
    {
     "name": "stdout",
     "output_type": "stream",
     "text": [
      "Bleu Score is ==>  0.4755912718751114\n"
     ]
    }
   ],
   "source": [
    "data_sam = data.sample(1000)\n",
    "import nltk.translate.bleu_score as bleu\n",
    "bleu_score = []\n",
    "for i in range(1000):\n",
    "  reference  = data_sam.our.iloc[i] \n",
    "  translation = predict_concat_model(data_sam.enc_inp.iloc[i])[0]\n",
    "  bleu_score.append(bleu.sentence_bleu([reference.split(),], translation.split()))\n",
    "print('Bleu Score is ==> ', np.mean(bleu_score))"
   ]
  },
  {
   "cell_type": "code",
   "execution_count": 2,
   "metadata": {
    "id": "nu5wpM9yDFSD"
   },
   "outputs": [
    {
     "name": "stdout",
     "output_type": "stream",
     "text": [
      "+-------------------------------------------------+------------+\n",
      "|                    Model Name                   | BLUE Score |\n",
      "+-------------------------------------------------+------------+\n",
      "|                   Simple LSTM                   |    0.20    |\n",
      "|                 Encoder Decoder                 |    0.70    |\n",
      "|   Encoder Decoder Attention With Dot Function   |    0.50    |\n",
      "| Encoder Decoder Attention With General Function |    0.40    |\n",
      "|  Encoder Decoder Attention With Concat Function |    0.47    |\n",
      "+-------------------------------------------------+------------+\n"
     ]
    }
   ],
   "source": [
    "from prettytable import PrettyTable\n",
    "\n",
    "# Specify the Column Names while initializing the Table\n",
    "myTable = PrettyTable([\"Model Name\", \"BLUE Score\"])\n",
    "\n",
    "# Add rows\n",
    "myTable.add_row([\"Simple LSTM\", \"0.20\"])\n",
    "myTable.add_row([\"Encoder Decoder\" , '0.70'])\n",
    "myTable.add_row([\"Encoder Decoder Attention With Dot Function\", '0.50'])\n",
    "myTable.add_row([\"Encoder Decoder Attention With General Function\", '0.40'])\n",
    "myTable.add_row([\"Encoder Decoder Attention With Concat Function\", '0.47'])\n",
    "\n",
    "\n",
    "print(myTable)"
   ]
  },
  {
   "cell_type": "code",
   "execution_count": null,
   "metadata": {},
   "outputs": [],
   "source": []
  }
 ],
 "metadata": {
  "accelerator": "GPU",
  "colab": {
   "collapsed_sections": [
    "GaBEQDbzT0S7",
    "ECzz2i5x73pB",
    "r-W_9nXscO9a"
   ],
   "name": "case_study_2with_gd",
   "provenance": []
  },
  "kernelspec": {
   "display_name": "Python 3 (ipykernel)",
   "language": "python",
   "name": "python3"
  },
  "language_info": {
   "codemirror_mode": {
    "name": "ipython",
    "version": 3
   },
   "file_extension": ".py",
   "mimetype": "text/x-python",
   "name": "python",
   "nbconvert_exporter": "python",
   "pygments_lexer": "ipython3",
   "version": "3.8.0rc1"
  }
 },
 "nbformat": 4,
 "nbformat_minor": 4
}
