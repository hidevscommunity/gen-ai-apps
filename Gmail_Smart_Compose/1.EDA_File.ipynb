{
 "cells": [
  {
   "cell_type": "markdown",
   "metadata": {
    "id": "1sQZD-lpTKq8"
   },
   "source": [
    "# Gmail Smart Compose"
   ]
  },
  {
   "cell_type": "markdown",
   "metadata": {
    "id": "OwQi0PxyrYcI"
   },
   "source": [
    "# 1. Business Problem"
   ]
  },
  {
   "cell_type": "markdown",
   "metadata": {
    "id": "X6EwhCGlrYcJ"
   },
   "source": [
    "## 1.1. Description\n",
    "Source of data - https://www.kaggle.com/datasets/wcukierski/enron-email-dataset\n",
    "\n",
    "AS we all know about the E-mail, the E-mail continues to be a ubiquitous and growing form of communication all over the world, with an estimated 3.8 billion users sending 281 billion e-mails daily.\n",
    "\n",
    "All you have experienced the Gmail smart compose, maybe even without knowing you all are actually using the Gmail smart compose\n",
    "in daily life. Maybe you notice when typing an email, sometimes Gmail suggests the relevant or relevant sentences, this is nothing but Gmail smart compose.\n",
    "\n",
    "#### Problem statement : \n",
    "So here is the task we have to make a model, which can predict the sentences or words based on the given sentence or some words. the input is a sequence of words and the output is also a sequence of words, so we have to build the sequency-based model. "
   ]
  },
  {
   "cell_type": "markdown",
   "metadata": {
    "id": "jJ6yUYU2rYcM"
   },
   "source": [
    "## 1.2. Source/Useful Links\n",
    "Some articles and reference blogs about the problem statement\n",
    "\n",
    "Blog 1 https://arxiv.org/pdf/1906.00080.pdf - This is the main research paper on the implementation of Smart Gmail Compose.\n",
    "\n",
    "Blog 2  https://towardsdatascience.com/gmail-style-smart-compose-using-char-ngram-language-models-a73c09550447\n",
    "\n",
    "Blog 3 https://blog.jiayihu.net/gmail-smart-compose-in-keras-and-tensorflow-js/ "
   ]
  },
  {
   "cell_type": "markdown",
   "metadata": {
    "id": "SmHugUfprYcO"
   },
   "source": [
    "## 1.3. Data Information\n",
    "For this task, our data is Gmail conversation-based data.\n",
    "\n",
    "The dataset we use is The Enron Email Dataset, and the dataset contains 500,000+ emails from 150 employees of the Enron Corporation.It was obtained by the Federal Energy Regulatory Commission during its investigation of Enron's collapse.\n",
    "\n",
    "Link of dataset https://www.kaggle.com/datasets/wcukierski/enron-email-dataset"
   ]
  },
  {
   "cell_type": "markdown",
   "metadata": {
    "id": "kg2P8AuJrYcP"
   },
   "source": [
    "# 2 Problem Formulation"
   ]
  },
  {
   "cell_type": "markdown",
   "metadata": {
    "id": "FmcXWpxBrYcQ"
   },
   "source": [
    "Sequence and language modeling task\n",
    "\n",
    "So here our input and output are the sequences of words and we have to predict the sequence of words given the input of sentences.\n",
    "\n",
    "Here the use of a Neural network-based model is preferable to the simple\n",
    "machine learning model, the task is a sequence-based task, so we can use\n",
    "sequence-to sequence-based models like LSTM, and GRU, and also we can use\n",
    "Encode decoder based model. \n",
    "\n",
    "To create the data we can use the  character n-gram like this,  let\n",
    "suppose we have the one sentence ‘here is our mail’ so our x_train and y_train\n",
    "look like this, \n",
    "\n",
    "    x_train           y_train\n",
    "    h                 ere is our mail\n",
    "    he                re is our mail\n",
    "    her               e is our mail\n",
    "    here              is our mail\n",
    "    here i            s our mail\n",
    "    here is           our mail \n"
   ]
  },
  {
   "cell_type": "markdown",
   "metadata": {
    "id": "MLeNU--nrYck"
   },
   "source": [
    "# 3 Performance Metrics\n",
    "As the performance metrics, we use the BLEU (Bilingual Evaluation Understudy) score, it is a score for comparing a candidate translation of text to one or more reference translations more about https://machinelearningmastery.com/calculate-bleu-score-for-text-python/\n",
    "\n",
    "<p>It is quick and inexpensive to calculate.<br> \n",
    "It is easy to understand.<br>\n",
    "It is language independent.<br>\n",
    "It correlates highly with human evaluation.<br>\n",
    "It has been widely adopted.</p>\n",
    "\n",
    "Main research paper use the perplexity as the performance matrix, perplexity metric in NLP is a way to capture the degree of ‘uncertainty’ a model has in predicting (assigning probabilities to) some text. \n"
   ]
  },
  {
   "cell_type": "markdown",
   "metadata": {
    "id": "NRnIQIvUrYcl"
   },
   "source": [
    "## Import Libraries"
   ]
  },
  {
   "cell_type": "code",
   "execution_count": 3,
   "metadata": {
    "id": "gZ10P0mErYcm"
   },
   "outputs": [],
   "source": [
    "import pandas as pd\n",
    "import matplotlib.pyplot as plt\n",
    "from tqdm import tqdm\n",
    "import email\n",
    "import seaborn as sns\n",
    "import scipy"
   ]
  },
  {
   "cell_type": "code",
   "execution_count": 4,
   "metadata": {
    "id": "q2zUbQP_TnRl"
   },
   "outputs": [],
   "source": [
    "#read the data\n",
    "data = pd.read_csv('/content/drive/MyDrive/case study 2/emails.csv')"
   ]
  },
  {
   "cell_type": "code",
   "execution_count": 5,
   "metadata": {
    "colab": {
     "base_uri": "https://localhost:8080/",
     "height": 206
    },
    "id": "tNKhqWuxTyMK",
    "outputId": "8443185f-be39-4125-e900-ee03950e6963"
   },
   "outputs": [
    {
     "data": {
      "text/html": [
       "\n",
       "  <div id=\"df-1d45fc7d-5534-48bd-9b76-0d2c7b304b7d\">\n",
       "    <div class=\"colab-df-container\">\n",
       "      <div>\n",
       "<style scoped>\n",
       "    .dataframe tbody tr th:only-of-type {\n",
       "        vertical-align: middle;\n",
       "    }\n",
       "\n",
       "    .dataframe tbody tr th {\n",
       "        vertical-align: top;\n",
       "    }\n",
       "\n",
       "    .dataframe thead th {\n",
       "        text-align: right;\n",
       "    }\n",
       "</style>\n",
       "<table border=\"1\" class=\"dataframe\">\n",
       "  <thead>\n",
       "    <tr style=\"text-align: right;\">\n",
       "      <th></th>\n",
       "      <th>file</th>\n",
       "      <th>message</th>\n",
       "    </tr>\n",
       "  </thead>\n",
       "  <tbody>\n",
       "    <tr>\n",
       "      <th>0</th>\n",
       "      <td>allen-p/_sent_mail/1.</td>\n",
       "      <td>Message-ID: &lt;18782981.1075855378110.JavaMail.e...</td>\n",
       "    </tr>\n",
       "    <tr>\n",
       "      <th>1</th>\n",
       "      <td>allen-p/_sent_mail/10.</td>\n",
       "      <td>Message-ID: &lt;15464986.1075855378456.JavaMail.e...</td>\n",
       "    </tr>\n",
       "    <tr>\n",
       "      <th>2</th>\n",
       "      <td>allen-p/_sent_mail/100.</td>\n",
       "      <td>Message-ID: &lt;24216240.1075855687451.JavaMail.e...</td>\n",
       "    </tr>\n",
       "    <tr>\n",
       "      <th>3</th>\n",
       "      <td>allen-p/_sent_mail/1000.</td>\n",
       "      <td>Message-ID: &lt;13505866.1075863688222.JavaMail.e...</td>\n",
       "    </tr>\n",
       "    <tr>\n",
       "      <th>4</th>\n",
       "      <td>allen-p/_sent_mail/1001.</td>\n",
       "      <td>Message-ID: &lt;30922949.1075863688243.JavaMail.e...</td>\n",
       "    </tr>\n",
       "  </tbody>\n",
       "</table>\n",
       "</div>\n",
       "      <button class=\"colab-df-convert\" onclick=\"convertToInteractive('df-1d45fc7d-5534-48bd-9b76-0d2c7b304b7d')\"\n",
       "              title=\"Convert this dataframe to an interactive table.\"\n",
       "              style=\"display:none;\">\n",
       "        \n",
       "  <svg xmlns=\"http://www.w3.org/2000/svg\" height=\"24px\"viewBox=\"0 0 24 24\"\n",
       "       width=\"24px\">\n",
       "    <path d=\"M0 0h24v24H0V0z\" fill=\"none\"/>\n",
       "    <path d=\"M18.56 5.44l.94 2.06.94-2.06 2.06-.94-2.06-.94-.94-2.06-.94 2.06-2.06.94zm-11 1L8.5 8.5l.94-2.06 2.06-.94-2.06-.94L8.5 2.5l-.94 2.06-2.06.94zm10 10l.94 2.06.94-2.06 2.06-.94-2.06-.94-.94-2.06-.94 2.06-2.06.94z\"/><path d=\"M17.41 7.96l-1.37-1.37c-.4-.4-.92-.59-1.43-.59-.52 0-1.04.2-1.43.59L10.3 9.45l-7.72 7.72c-.78.78-.78 2.05 0 2.83L4 21.41c.39.39.9.59 1.41.59.51 0 1.02-.2 1.41-.59l7.78-7.78 2.81-2.81c.8-.78.8-2.07 0-2.86zM5.41 20L4 18.59l7.72-7.72 1.47 1.35L5.41 20z\"/>\n",
       "  </svg>\n",
       "      </button>\n",
       "      \n",
       "  <style>\n",
       "    .colab-df-container {\n",
       "      display:flex;\n",
       "      flex-wrap:wrap;\n",
       "      gap: 12px;\n",
       "    }\n",
       "\n",
       "    .colab-df-convert {\n",
       "      background-color: #E8F0FE;\n",
       "      border: none;\n",
       "      border-radius: 50%;\n",
       "      cursor: pointer;\n",
       "      display: none;\n",
       "      fill: #1967D2;\n",
       "      height: 32px;\n",
       "      padding: 0 0 0 0;\n",
       "      width: 32px;\n",
       "    }\n",
       "\n",
       "    .colab-df-convert:hover {\n",
       "      background-color: #E2EBFA;\n",
       "      box-shadow: 0px 1px 2px rgba(60, 64, 67, 0.3), 0px 1px 3px 1px rgba(60, 64, 67, 0.15);\n",
       "      fill: #174EA6;\n",
       "    }\n",
       "\n",
       "    [theme=dark] .colab-df-convert {\n",
       "      background-color: #3B4455;\n",
       "      fill: #D2E3FC;\n",
       "    }\n",
       "\n",
       "    [theme=dark] .colab-df-convert:hover {\n",
       "      background-color: #434B5C;\n",
       "      box-shadow: 0px 1px 3px 1px rgba(0, 0, 0, 0.15);\n",
       "      filter: drop-shadow(0px 1px 2px rgba(0, 0, 0, 0.3));\n",
       "      fill: #FFFFFF;\n",
       "    }\n",
       "  </style>\n",
       "\n",
       "      <script>\n",
       "        const buttonEl =\n",
       "          document.querySelector('#df-1d45fc7d-5534-48bd-9b76-0d2c7b304b7d button.colab-df-convert');\n",
       "        buttonEl.style.display =\n",
       "          google.colab.kernel.accessAllowed ? 'block' : 'none';\n",
       "\n",
       "        async function convertToInteractive(key) {\n",
       "          const element = document.querySelector('#df-1d45fc7d-5534-48bd-9b76-0d2c7b304b7d');\n",
       "          const dataTable =\n",
       "            await google.colab.kernel.invokeFunction('convertToInteractive',\n",
       "                                                     [key], {});\n",
       "          if (!dataTable) return;\n",
       "\n",
       "          const docLinkHtml = 'Like what you see? Visit the ' +\n",
       "            '<a target=\"_blank\" href=https://colab.research.google.com/notebooks/data_table.ipynb>data table notebook</a>'\n",
       "            + ' to learn more about interactive tables.';\n",
       "          element.innerHTML = '';\n",
       "          dataTable['output_type'] = 'display_data';\n",
       "          await google.colab.output.renderOutput(dataTable, element);\n",
       "          const docLink = document.createElement('div');\n",
       "          docLink.innerHTML = docLinkHtml;\n",
       "          element.appendChild(docLink);\n",
       "        }\n",
       "      </script>\n",
       "    </div>\n",
       "  </div>\n",
       "  "
      ],
      "text/plain": [
       "                       file                                            message\n",
       "0     allen-p/_sent_mail/1.  Message-ID: <18782981.1075855378110.JavaMail.e...\n",
       "1    allen-p/_sent_mail/10.  Message-ID: <15464986.1075855378456.JavaMail.e...\n",
       "2   allen-p/_sent_mail/100.  Message-ID: <24216240.1075855687451.JavaMail.e...\n",
       "3  allen-p/_sent_mail/1000.  Message-ID: <13505866.1075863688222.JavaMail.e...\n",
       "4  allen-p/_sent_mail/1001.  Message-ID: <30922949.1075863688243.JavaMail.e..."
      ]
     },
     "execution_count": 5,
     "metadata": {},
     "output_type": "execute_result"
    }
   ],
   "source": [
    "data.head()"
   ]
  },
  {
   "cell_type": "code",
   "execution_count": 6,
   "metadata": {
    "colab": {
     "base_uri": "https://localhost:8080/"
    },
    "id": "V-aGZFgR1MF_",
    "outputId": "aaee1070-3f72-4fd2-8854-afc5dbf14d2c"
   },
   "outputs": [
    {
     "data": {
      "text/plain": [
       "(517401, 2)"
      ]
     },
     "execution_count": 6,
     "metadata": {},
     "output_type": "execute_result"
    }
   ],
   "source": [
    "data.shape"
   ]
  },
  {
   "cell_type": "code",
   "execution_count": 7,
   "metadata": {
    "colab": {
     "base_uri": "https://localhost:8080/"
    },
    "id": "hjxEDWVwT1z8",
    "outputId": "4c7d7116-70a9-48a0-99ac-6bf615f55979"
   },
   "outputs": [
    {
     "name": "stdout",
     "output_type": "stream",
     "text": [
      "Message-ID: <22766758.1075855690869.JavaMail.evans@thyme>\n",
      "Date: Fri, 26 May 2000 00:08:00 -0700 (PDT)\n",
      "From: phillip.allen@enron.com\n",
      "To: stagecoachmama@hotmail.com\n",
      "Subject: Re: Todays update\n",
      "Mime-Version: 1.0\n",
      "Content-Type: text/plain; charset=us-ascii\n",
      "Content-Transfer-Encoding: 7bit\n",
      "X-From: Phillip K Allen\n",
      "X-To: \"Lucy Gonzalez\" <stagecoachmama@hotmail.com> @ ENRON\n",
      "X-cc: \n",
      "X-bcc: \n",
      "X-Folder: \\Phillip_Allen_Dec2000\\Notes Folders\\'sent mail\n",
      "X-Origin: Allen-P\n",
      "X-FileName: pallen.nsf\n",
      "\n",
      "Lucy,\n",
      " I am going to be in Seguin this Saturday through Monday.  We can talk about \n",
      "a unit for Wade then.  I will call the bank again today to resolve \n",
      "authorization on the account.  Lets keep the office open until noon on \n",
      "Memorial day.\n",
      "\n",
      "Philllip\n"
     ]
    }
   ],
   "source": [
    "print(data.message.values[180])"
   ]
  },
  {
   "cell_type": "markdown",
   "metadata": {
    "id": "Y9i4wybVrYcs"
   },
   "source": [
    "#### Obs\n",
    "Our mail contains many things like, message id, date, time, subject, etc.\n",
    "\n",
    "When we clean the data we have to care about the\n",
    "privacy,\n",
    "because mail can contain the user's phone number, account number, etc.\n",
    "\n",
    "here we only need only message and, the rest of all things we remove from the data\n",
    "\n",
    "And here we have the total number of data points are 517401"
   ]
  },
  {
   "cell_type": "markdown",
   "metadata": {
    "id": "GaBEQDbzT0S7"
   },
   "source": [
    "# 4 Exploratory Data Analysis(EDA)"
   ]
  },
  {
   "cell_type": "code",
   "execution_count": 8,
   "metadata": {
    "colab": {
     "base_uri": "https://localhost:8080/"
    },
    "id": "3Bth18HzUDYX",
    "outputId": "4f9dbb71-43ac-4048-aebd-e783d0ac1484"
   },
   "outputs": [
    {
     "data": {
      "text/plain": [
       "[('Message-ID', '<22766758.1075855690869.JavaMail.evans@thyme>'),\n",
       " ('Date', 'Fri, 26 May 2000 00:08:00 -0700 (PDT)'),\n",
       " ('From', 'phillip.allen@enron.com'),\n",
       " ('To', 'stagecoachmama@hotmail.com'),\n",
       " ('Subject', 'Re: Todays update'),\n",
       " ('Mime-Version', '1.0'),\n",
       " ('Content-Type', 'text/plain; charset=us-ascii'),\n",
       " ('Content-Transfer-Encoding', '7bit'),\n",
       " ('X-From', 'Phillip K Allen'),\n",
       " ('X-To', '\"Lucy Gonzalez\" <stagecoachmama@hotmail.com> @ ENRON'),\n",
       " ('X-cc', ''),\n",
       " ('X-bcc', ''),\n",
       " ('X-Folder', \"\\\\Phillip_Allen_Dec2000\\\\Notes Folders\\\\'sent mail\"),\n",
       " ('X-Origin', 'Allen-P'),\n",
       " ('X-FileName', 'pallen.nsf')]"
      ]
     },
     "execution_count": 8,
     "metadata": {},
     "output_type": "execute_result"
    }
   ],
   "source": [
    "message = data.message.values[180]\n",
    "e = email.message_from_string(message)\n",
    "e.items()"
   ]
  },
  {
   "cell_type": "code",
   "execution_count": 9,
   "metadata": {
    "colab": {
     "base_uri": "https://localhost:8080/",
     "height": 52
    },
    "id": "JWoH_2ryUDU2",
    "outputId": "1ee5b356-8bab-49b6-b773-2acf244c33b4"
   },
   "outputs": [
    {
     "data": {
      "application/vnd.google.colaboratory.intrinsic+json": {
       "type": "string"
      },
      "text/plain": [
       "'Lucy,\\n I am going to be in Seguin this Saturday through Monday.  We can talk about \\na unit for Wade then.  I will call the bank again today to resolve \\nauthorization on the account.  Lets keep the office open until noon on \\nMemorial day.\\n\\nPhilllip'"
      ]
     },
     "execution_count": 9,
     "metadata": {},
     "output_type": "execute_result"
    }
   ],
   "source": [
    "e.get_payload()"
   ]
  },
  {
   "cell_type": "markdown",
   "metadata": {
    "id": "S9rCZ91vrYcv"
   },
   "source": [
    "As a first step here we remove the subject, and user mail id and we take only the messages from the data.\n",
    "to do this step we use the email library.\n",
    "\n",
    "Basically, the email library converts the whole mail into a list of tuples and takes only those tuples that contain the message."
   ]
  },
  {
   "cell_type": "code",
   "execution_count": 10,
   "metadata": {
    "colab": {
     "base_uri": "https://localhost:8080/"
    },
    "id": "tr1Tw6F0UDSo",
    "outputId": "43489891-928b-46bb-8b12-c30c14134136"
   },
   "outputs": [
    {
     "name": "stderr",
     "output_type": "stream",
     "text": [
      "100%|██████████| 517401/517401 [01:22<00:00, 6282.54it/s]\n"
     ]
    }
   ],
   "source": [
    "#extract the message from the mail\n",
    "mail = []\n",
    "for i in tqdm(data.message.values):\n",
    "  e = email.message_from_string(i)\n",
    "  mail.append(e.get_payload())"
   ]
  },
  {
   "cell_type": "code",
   "execution_count": 11,
   "metadata": {
    "id": "LyIKqF3wUDQS"
   },
   "outputs": [],
   "source": [
    "#count the length of the message\n",
    "data['mail'] = mail\n",
    "data['len']  = list(data['mail'].apply(lambda x:len(x)))"
   ]
  },
  {
   "cell_type": "code",
   "execution_count": 13,
   "metadata": {
    "colab": {
     "base_uri": "https://localhost:8080/",
     "height": 300
    },
    "id": "LpYWdW4l0gVE",
    "outputId": "c072b71b-b458-4e7a-f662-826d1032d8b9"
   },
   "outputs": [
    {
     "data": {
      "text/html": [
       "\n",
       "  <div id=\"df-34140209-8556-4b17-9e76-2ac3830bbaad\">\n",
       "    <div class=\"colab-df-container\">\n",
       "      <div>\n",
       "<style scoped>\n",
       "    .dataframe tbody tr th:only-of-type {\n",
       "        vertical-align: middle;\n",
       "    }\n",
       "\n",
       "    .dataframe tbody tr th {\n",
       "        vertical-align: top;\n",
       "    }\n",
       "\n",
       "    .dataframe thead th {\n",
       "        text-align: right;\n",
       "    }\n",
       "</style>\n",
       "<table border=\"1\" class=\"dataframe\">\n",
       "  <thead>\n",
       "    <tr style=\"text-align: right;\">\n",
       "      <th></th>\n",
       "      <th>len</th>\n",
       "    </tr>\n",
       "  </thead>\n",
       "  <tbody>\n",
       "    <tr>\n",
       "      <th>count</th>\n",
       "      <td>5.174010e+05</td>\n",
       "    </tr>\n",
       "    <tr>\n",
       "      <th>mean</th>\n",
       "      <td>1.845373e+03</td>\n",
       "    </tr>\n",
       "    <tr>\n",
       "      <th>std</th>\n",
       "      <td>8.181162e+03</td>\n",
       "    </tr>\n",
       "    <tr>\n",
       "      <th>min</th>\n",
       "      <td>1.000000e+00</td>\n",
       "    </tr>\n",
       "    <tr>\n",
       "      <th>25%</th>\n",
       "      <td>2.880000e+02</td>\n",
       "    </tr>\n",
       "    <tr>\n",
       "      <th>50%</th>\n",
       "      <td>7.700000e+02</td>\n",
       "    </tr>\n",
       "    <tr>\n",
       "      <th>75%</th>\n",
       "      <td>1.757000e+03</td>\n",
       "    </tr>\n",
       "    <tr>\n",
       "      <th>max</th>\n",
       "      <td>2.011422e+06</td>\n",
       "    </tr>\n",
       "  </tbody>\n",
       "</table>\n",
       "</div>\n",
       "      <button class=\"colab-df-convert\" onclick=\"convertToInteractive('df-34140209-8556-4b17-9e76-2ac3830bbaad')\"\n",
       "              title=\"Convert this dataframe to an interactive table.\"\n",
       "              style=\"display:none;\">\n",
       "        \n",
       "  <svg xmlns=\"http://www.w3.org/2000/svg\" height=\"24px\"viewBox=\"0 0 24 24\"\n",
       "       width=\"24px\">\n",
       "    <path d=\"M0 0h24v24H0V0z\" fill=\"none\"/>\n",
       "    <path d=\"M18.56 5.44l.94 2.06.94-2.06 2.06-.94-2.06-.94-.94-2.06-.94 2.06-2.06.94zm-11 1L8.5 8.5l.94-2.06 2.06-.94-2.06-.94L8.5 2.5l-.94 2.06-2.06.94zm10 10l.94 2.06.94-2.06 2.06-.94-2.06-.94-.94-2.06-.94 2.06-2.06.94z\"/><path d=\"M17.41 7.96l-1.37-1.37c-.4-.4-.92-.59-1.43-.59-.52 0-1.04.2-1.43.59L10.3 9.45l-7.72 7.72c-.78.78-.78 2.05 0 2.83L4 21.41c.39.39.9.59 1.41.59.51 0 1.02-.2 1.41-.59l7.78-7.78 2.81-2.81c.8-.78.8-2.07 0-2.86zM5.41 20L4 18.59l7.72-7.72 1.47 1.35L5.41 20z\"/>\n",
       "  </svg>\n",
       "      </button>\n",
       "      \n",
       "  <style>\n",
       "    .colab-df-container {\n",
       "      display:flex;\n",
       "      flex-wrap:wrap;\n",
       "      gap: 12px;\n",
       "    }\n",
       "\n",
       "    .colab-df-convert {\n",
       "      background-color: #E8F0FE;\n",
       "      border: none;\n",
       "      border-radius: 50%;\n",
       "      cursor: pointer;\n",
       "      display: none;\n",
       "      fill: #1967D2;\n",
       "      height: 32px;\n",
       "      padding: 0 0 0 0;\n",
       "      width: 32px;\n",
       "    }\n",
       "\n",
       "    .colab-df-convert:hover {\n",
       "      background-color: #E2EBFA;\n",
       "      box-shadow: 0px 1px 2px rgba(60, 64, 67, 0.3), 0px 1px 3px 1px rgba(60, 64, 67, 0.15);\n",
       "      fill: #174EA6;\n",
       "    }\n",
       "\n",
       "    [theme=dark] .colab-df-convert {\n",
       "      background-color: #3B4455;\n",
       "      fill: #D2E3FC;\n",
       "    }\n",
       "\n",
       "    [theme=dark] .colab-df-convert:hover {\n",
       "      background-color: #434B5C;\n",
       "      box-shadow: 0px 1px 3px 1px rgba(0, 0, 0, 0.15);\n",
       "      filter: drop-shadow(0px 1px 2px rgba(0, 0, 0, 0.3));\n",
       "      fill: #FFFFFF;\n",
       "    }\n",
       "  </style>\n",
       "\n",
       "      <script>\n",
       "        const buttonEl =\n",
       "          document.querySelector('#df-34140209-8556-4b17-9e76-2ac3830bbaad button.colab-df-convert');\n",
       "        buttonEl.style.display =\n",
       "          google.colab.kernel.accessAllowed ? 'block' : 'none';\n",
       "\n",
       "        async function convertToInteractive(key) {\n",
       "          const element = document.querySelector('#df-34140209-8556-4b17-9e76-2ac3830bbaad');\n",
       "          const dataTable =\n",
       "            await google.colab.kernel.invokeFunction('convertToInteractive',\n",
       "                                                     [key], {});\n",
       "          if (!dataTable) return;\n",
       "\n",
       "          const docLinkHtml = 'Like what you see? Visit the ' +\n",
       "            '<a target=\"_blank\" href=https://colab.research.google.com/notebooks/data_table.ipynb>data table notebook</a>'\n",
       "            + ' to learn more about interactive tables.';\n",
       "          element.innerHTML = '';\n",
       "          dataTable['output_type'] = 'display_data';\n",
       "          await google.colab.output.renderOutput(dataTable, element);\n",
       "          const docLink = document.createElement('div');\n",
       "          docLink.innerHTML = docLinkHtml;\n",
       "          element.appendChild(docLink);\n",
       "        }\n",
       "      </script>\n",
       "    </div>\n",
       "  </div>\n",
       "  "
      ],
      "text/plain": [
       "                len\n",
       "count  5.174010e+05\n",
       "mean   1.845373e+03\n",
       "std    8.181162e+03\n",
       "min    1.000000e+00\n",
       "25%    2.880000e+02\n",
       "50%    7.700000e+02\n",
       "75%    1.757000e+03\n",
       "max    2.011422e+06"
      ]
     },
     "execution_count": 13,
     "metadata": {},
     "output_type": "execute_result"
    }
   ],
   "source": [
    "data.describe()"
   ]
  },
  {
   "cell_type": "markdown",
   "metadata": {
    "id": "y8RR27-lHbZJ"
   },
   "source": [
    "Here the mean value is 1845 which means most data point has an 1845 length of the message"
   ]
  },
  {
   "cell_type": "code",
   "execution_count": 14,
   "metadata": {
    "colab": {
     "base_uri": "https://localhost:8080/",
     "height": 513
    },
    "id": "EEzabwU6UDLx",
    "outputId": "22e82f81-fc57-46ef-8671-c58a76715898"
   },
   "outputs": [
    {
     "data": {
      "image/png": "[encoded data removed]",
      "text/plain": [
       "<Figure size 576x576 with 1 Axes>"
      ]
     },
     "metadata": {
      "needs_background": "light"
     },
     "output_type": "display_data"
    }
   ],
   "source": [
    "x_1 = data.len.sample(1500)\n",
    "plt.figure(figsize=(8,8))\n",
    "plt.hist(x_1,bins = 30)\n",
    "plt.title(\"Histogram of mail message lenght with 1500 datapoints\")\n",
    "plt.xlabel(\"Length of the Mails\")\n",
    "plt.ylabel(\"Cont\")\n",
    "plt.grid()"
   ]
  },
  {
   "cell_type": "markdown",
   "metadata": {
    "id": "-N2kiIEDrYc1"
   },
   "source": [
    "Let's do some first basic EDA on the length of the message\n",
    "\n",
    "Here we take the random 1500 mail and we plot the histogram of the length of mail.\n",
    "\n",
    "From the histogram, we can say there are many mail messages where the length of the message is between 1000 to 10000 and a very small part of the message where the length message is above the 30000.\n",
    "\n",
    "I think is very long message is not adding much more value to our study so we remove all these types of the message from the data."
   ]
  },
  {
   "cell_type": "code",
   "execution_count": 15,
   "metadata": {
    "colab": {
     "base_uri": "https://localhost:8080/",
     "height": 405
    },
    "id": "TTP8Jm6DUDJd",
    "outputId": "ec2afca6-2745-4f31-f81b-0c61b12e0f5c"
   },
   "outputs": [
    {
     "name": "stderr",
     "output_type": "stream",
     "text": [
      "/usr/local/lib/python3.7/dist-packages/seaborn/distributions.py:2619: FutureWarning: `distplot` is a deprecated function and will be removed in a future version. Please adapt your code to use either `displot` (a figure-level function with similar flexibility) or `histplot` (an axes-level function for histograms).\n",
      "  warnings.warn(msg, FutureWarning)\n"
     ]
    },
    {
     "data": {
      "image/png": "[encoded data removed]",
      "text/plain": [
       "<Figure size 720x360 with 1 Axes>"
      ]
     },
     "metadata": {
      "needs_background": "light"
     },
     "output_type": "display_data"
    }
   ],
   "source": [
    "from scipy import stats\n",
    "sample = x_1\n",
    "plt.figure(figsize=(10,5))\n",
    "plt.title(\"Distribution plot of mail message lenght with 1500 datapoints\")\n",
    "plt.ylabel('Density of the length of email messages')\n",
    "plt.grid()\n",
    "ax = sns.distplot(sample, kde=False, fit=stats.norm)"
   ]
  },
  {
   "cell_type": "markdown",
   "metadata": {
    "id": "HCvFizZ6rYc2"
   },
   "source": [
    "Here we take the same sample as above, and we plot the distribution of the mail message length, the distribution falls down very sharply and the tail of the distribution is very long.\n",
    "\n",
    "so we can say here the more message length is between the 0 to 10k and very less point has a length of more than the 10k."
   ]
  },
  {
   "cell_type": "code",
   "execution_count": 16,
   "metadata": {
    "colab": {
     "base_uri": "https://localhost:8080/"
    },
    "id": "HnHGmy3vUDHM",
    "outputId": "9fd77123-b20f-4631-9dd9-2a297e0f868c"
   },
   "outputs": [
    {
     "name": "stdout",
     "output_type": "stream",
     "text": [
      "5 Percentile value is 58.0\n",
      "10 Percentile value is 109.0\n",
      "15 Percentile value is 167.0\n",
      "20 Percentile value is 221.0\n",
      "25 Percentile value is 288.0\n",
      "30 Percentile value is 361.0\n",
      "35 Percentile value is 447.0\n",
      "40 Percentile value is 539.0\n",
      "45 Percentile value is 647.0\n",
      "50 Percentile value is 770.0\n",
      "55 Percentile value is 905.0\n",
      "60 Percentile value is 1067.0\n",
      "65 Percentile value is 1251.0\n",
      "70 Percentile value is 1465.0\n",
      "75 Percentile value is 1757.0\n",
      "80 Percentile value is 2146.0\n",
      "85 Percentile value is 2706.0\n",
      "90 Percentile value is 3657.0\n",
      "95 Percentile value is 5909.0\n",
      "100 Percentile value is 2011422.0\n"
     ]
    }
   ],
   "source": [
    "import numpy as np\n",
    "a = data.len.values\n",
    "for i in range(5 , 105,5):\n",
    "    p = np.percentile(a, i)\n",
    "    print('{} Percentile value is {}'.format(i,p))"
   ]
  },
  {
   "cell_type": "code",
   "execution_count": 17,
   "metadata": {
    "colab": {
     "base_uri": "https://localhost:8080/"
    },
    "id": "dRE3-uYdUDFF",
    "outputId": "2f09a4bd-9e8c-41e7-ebc0-47c522da6f33"
   },
   "outputs": [
    {
     "name": "stdout",
     "output_type": "stream",
     "text": [
      "90  percentile value is 3657.0\n",
      "91  percentile value is 3946.0\n",
      "92  percentile value is 4303.0\n",
      "93  percentile value is 4746.0\n",
      "94  percentile value is 5282.0\n",
      "95  percentile value is 5909.0\n",
      "96  percentile value is 6792.0\n",
      "97  percentile value is 8185.0\n",
      "98  percentile value is 10674.0\n",
      "99  percentile value is 16229.0\n",
      "100  percentile value is 2011422.0\n"
     ]
    }
   ],
   "source": [
    "for i in range(90 , 101,1):\n",
    "    p = np.percentile(a, i)\n",
    "    print(i,' percentile value is',p)"
   ]
  },
  {
   "cell_type": "code",
   "execution_count": 18,
   "metadata": {
    "colab": {
     "base_uri": "https://localhost:8080/"
    },
    "id": "wPwTks70UDCy",
    "outputId": "4e237510-58dd-4918-82ea-e4aa1c693e5e"
   },
   "outputs": [
    {
     "name": "stdout",
     "output_type": "stream",
     "text": [
      "99.1  percentile value is 17646.000000000233\n",
      "99.2  percentile value is 19156.0\n",
      "99.3  percentile value is 20754.0\n",
      "99.4  percentile value is 23214.0\n",
      "99.5  percentile value is 27195.0\n",
      "99.6  percentile value is 31196.800000000396\n",
      "99.7  percentile value is 36641.0\n",
      "99.8  percentile value is 51085.0\n",
      "99.9  percentile value is 83929.20000001404\n",
      "100.0  percentile value is 2011422.0\n"
     ]
    }
   ],
   "source": [
    "for i in np.arange(0.1, 1.1, 0.1):\n",
    "    b = (99+i)/100* 100\n",
    "    p = np.percentile(a, b)\n",
    "    print(b,' percentile value is',p)"
   ]
  },
  {
   "cell_type": "markdown",
   "metadata": {
    "id": "Wve8g-v9rYc5"
   },
   "source": [
    "Here we  find the percentile values of the mail message length,\n",
    "\n",
    "In the first section, we find the 5 to 100 percentile values and the 5 percentile value is 58 which means the 5 percent data has a length is 58, but the 95 to 100 percentile values increase the very fast, so let's zoom the values of 95 to 100 percentile values.\n",
    "\n",
    "In the second, we take the 90 to 100 percentile values and we show that the 99 percent data length is 16k but in 99 to 100 percent value increases very fast, so we zoom further,\n",
    "\n",
    "In the third section we take the 99 to 100 percentile values and the message length increase very fast so here we take only 5 to 95 percentile values and the rest of the data we remove from the dataset"
   ]
  },
  {
   "cell_type": "code",
   "execution_count": 26,
   "metadata": {
    "colab": {
     "base_uri": "https://localhost:8080/",
     "height": 405
    },
    "id": "3GBzyMTgCDLN",
    "outputId": "38c778f6-a140-4869-fe77-3bb813823c15"
   },
   "outputs": [
    {
     "name": "stderr",
     "output_type": "stream",
     "text": [
      "/usr/local/lib/python3.7/dist-packages/seaborn/distributions.py:2619: FutureWarning: `distplot` is a deprecated function and will be removed in a future version. Please adapt your code to use either `displot` (a figure-level function with similar flexibility) or `histplot` (an axes-level function for histograms).\n",
      "  warnings.warn(msg, FutureWarning)\n"
     ]
    },
    {
     "data": {
      "image/png": "[encoded data removed]",
      "text/plain": [
       "<Figure size 720x360 with 1 Axes>"
      ]
     },
     "metadata": {
      "needs_background": "light"
     },
     "output_type": "display_data"
    }
   ],
   "source": [
    "sample = x_1\n",
    "plt.figure(figsize=(10,5))\n",
    "plt.title(\"Cdf of the mail message length \")\n",
    "ax = sns.distplot(sample, hist_kws=dict(cumulative=True), kde_kws=dict(cumulative=True))\n",
    "plt.grid()"
   ]
  },
  {
   "cell_type": "markdown",
   "metadata": {
    "id": "RqF4UKGCrYc6"
   },
   "source": [
    "From the CDF we can say that 99% of the data mail message length is less than the 10k"
   ]
  },
  {
   "cell_type": "code",
   "execution_count": 20,
   "metadata": {
    "id": "IQ8PjoVhCDB2"
   },
   "outputs": [],
   "source": [
    "#removing further data points based on the 5th and 95th percentile values\n",
    "data_ = data[(data.len > 58.0) & (data.len< 5909.0)]"
   ]
  },
  {
   "cell_type": "code",
   "execution_count": 21,
   "metadata": {
    "colab": {
     "base_uri": "https://localhost:8080/"
    },
    "id": "jA0hljEdCC9n",
    "outputId": "b3c60aaf-ad1d-46ea-a9ac-a57748a54506"
   },
   "outputs": [
    {
     "data": {
      "text/plain": [
       "(465083, 4)"
      ]
     },
     "execution_count": 21,
     "metadata": {},
     "output_type": "execute_result"
    }
   ],
   "source": [
    "data_.shape"
   ]
  },
  {
   "cell_type": "markdown",
   "metadata": {
    "id": "4-yak0EsHbZn"
   },
   "source": [
    "After the removing unwanted data we have the total number of data points are 465083"
   ]
  },
  {
   "cell_type": "code",
   "execution_count": 22,
   "metadata": {
    "colab": {
     "base_uri": "https://localhost:8080/",
     "height": 300
    },
    "id": "K8JIg87k0u32",
    "outputId": "2643d972-10fe-4dd8-dbba-1448dab005e9"
   },
   "outputs": [
    {
     "data": {
      "text/html": [
       "\n",
       "  <div id=\"df-9eccbb8f-aec1-4455-a2dd-f161b89a7181\">\n",
       "    <div class=\"colab-df-container\">\n",
       "      <div>\n",
       "<style scoped>\n",
       "    .dataframe tbody tr th:only-of-type {\n",
       "        vertical-align: middle;\n",
       "    }\n",
       "\n",
       "    .dataframe tbody tr th {\n",
       "        vertical-align: top;\n",
       "    }\n",
       "\n",
       "    .dataframe thead th {\n",
       "        text-align: right;\n",
       "    }\n",
       "</style>\n",
       "<table border=\"1\" class=\"dataframe\">\n",
       "  <thead>\n",
       "    <tr style=\"text-align: right;\">\n",
       "      <th></th>\n",
       "      <th>len</th>\n",
       "    </tr>\n",
       "  </thead>\n",
       "  <tbody>\n",
       "    <tr>\n",
       "      <th>count</th>\n",
       "      <td>465083.000000</td>\n",
       "    </tr>\n",
       "    <tr>\n",
       "      <th>mean</th>\n",
       "      <td>1179.354829</td>\n",
       "    </tr>\n",
       "    <tr>\n",
       "      <th>std</th>\n",
       "      <td>1179.732833</td>\n",
       "    </tr>\n",
       "    <tr>\n",
       "      <th>min</th>\n",
       "      <td>59.000000</td>\n",
       "    </tr>\n",
       "    <tr>\n",
       "      <th>25%</th>\n",
       "      <td>325.000000</td>\n",
       "    </tr>\n",
       "    <tr>\n",
       "      <th>50%</th>\n",
       "      <td>771.000000</td>\n",
       "    </tr>\n",
       "    <tr>\n",
       "      <th>75%</th>\n",
       "      <td>1601.000000</td>\n",
       "    </tr>\n",
       "    <tr>\n",
       "      <th>max</th>\n",
       "      <td>5908.000000</td>\n",
       "    </tr>\n",
       "  </tbody>\n",
       "</table>\n",
       "</div>\n",
       "      <button class=\"colab-df-convert\" onclick=\"convertToInteractive('df-9eccbb8f-aec1-4455-a2dd-f161b89a7181')\"\n",
       "              title=\"Convert this dataframe to an interactive table.\"\n",
       "              style=\"display:none;\">\n",
       "        \n",
       "  <svg xmlns=\"http://www.w3.org/2000/svg\" height=\"24px\"viewBox=\"0 0 24 24\"\n",
       "       width=\"24px\">\n",
       "    <path d=\"M0 0h24v24H0V0z\" fill=\"none\"/>\n",
       "    <path d=\"M18.56 5.44l.94 2.06.94-2.06 2.06-.94-2.06-.94-.94-2.06-.94 2.06-2.06.94zm-11 1L8.5 8.5l.94-2.06 2.06-.94-2.06-.94L8.5 2.5l-.94 2.06-2.06.94zm10 10l.94 2.06.94-2.06 2.06-.94-2.06-.94-.94-2.06-.94 2.06-2.06.94z\"/><path d=\"M17.41 7.96l-1.37-1.37c-.4-.4-.92-.59-1.43-.59-.52 0-1.04.2-1.43.59L10.3 9.45l-7.72 7.72c-.78.78-.78 2.05 0 2.83L4 21.41c.39.39.9.59 1.41.59.51 0 1.02-.2 1.41-.59l7.78-7.78 2.81-2.81c.8-.78.8-2.07 0-2.86zM5.41 20L4 18.59l7.72-7.72 1.47 1.35L5.41 20z\"/>\n",
       "  </svg>\n",
       "      </button>\n",
       "      \n",
       "  <style>\n",
       "    .colab-df-container {\n",
       "      display:flex;\n",
       "      flex-wrap:wrap;\n",
       "      gap: 12px;\n",
       "    }\n",
       "\n",
       "    .colab-df-convert {\n",
       "      background-color: #E8F0FE;\n",
       "      border: none;\n",
       "      border-radius: 50%;\n",
       "      cursor: pointer;\n",
       "      display: none;\n",
       "      fill: #1967D2;\n",
       "      height: 32px;\n",
       "      padding: 0 0 0 0;\n",
       "      width: 32px;\n",
       "    }\n",
       "\n",
       "    .colab-df-convert:hover {\n",
       "      background-color: #E2EBFA;\n",
       "      box-shadow: 0px 1px 2px rgba(60, 64, 67, 0.3), 0px 1px 3px 1px rgba(60, 64, 67, 0.15);\n",
       "      fill: #174EA6;\n",
       "    }\n",
       "\n",
       "    [theme=dark] .colab-df-convert {\n",
       "      background-color: #3B4455;\n",
       "      fill: #D2E3FC;\n",
       "    }\n",
       "\n",
       "    [theme=dark] .colab-df-convert:hover {\n",
       "      background-color: #434B5C;\n",
       "      box-shadow: 0px 1px 3px 1px rgba(0, 0, 0, 0.15);\n",
       "      filter: drop-shadow(0px 1px 2px rgba(0, 0, 0, 0.3));\n",
       "      fill: #FFFFFF;\n",
       "    }\n",
       "  </style>\n",
       "\n",
       "      <script>\n",
       "        const buttonEl =\n",
       "          document.querySelector('#df-9eccbb8f-aec1-4455-a2dd-f161b89a7181 button.colab-df-convert');\n",
       "        buttonEl.style.display =\n",
       "          google.colab.kernel.accessAllowed ? 'block' : 'none';\n",
       "\n",
       "        async function convertToInteractive(key) {\n",
       "          const element = document.querySelector('#df-9eccbb8f-aec1-4455-a2dd-f161b89a7181');\n",
       "          const dataTable =\n",
       "            await google.colab.kernel.invokeFunction('convertToInteractive',\n",
       "                                                     [key], {});\n",
       "          if (!dataTable) return;\n",
       "\n",
       "          const docLinkHtml = 'Like what you see? Visit the ' +\n",
       "            '<a target=\"_blank\" href=https://colab.research.google.com/notebooks/data_table.ipynb>data table notebook</a>'\n",
       "            + ' to learn more about interactive tables.';\n",
       "          element.innerHTML = '';\n",
       "          dataTable['output_type'] = 'display_data';\n",
       "          await google.colab.output.renderOutput(dataTable, element);\n",
       "          const docLink = document.createElement('div');\n",
       "          docLink.innerHTML = docLinkHtml;\n",
       "          element.appendChild(docLink);\n",
       "        }\n",
       "      </script>\n",
       "    </div>\n",
       "  </div>\n",
       "  "
      ],
      "text/plain": [
       "                 len\n",
       "count  465083.000000\n",
       "mean     1179.354829\n",
       "std      1179.732833\n",
       "min        59.000000\n",
       "25%       325.000000\n",
       "50%       771.000000\n",
       "75%      1601.000000\n",
       "max      5908.000000"
      ]
     },
     "execution_count": 22,
     "metadata": {},
     "output_type": "execute_result"
    }
   ],
   "source": [
    "data_.describe()"
   ]
  },
  {
   "cell_type": "markdown",
   "metadata": {
    "id": "_jv-4u7DHbZq"
   },
   "source": [
    "After the removing the unwanted data points the mean value is 1179"
   ]
  },
  {
   "cell_type": "code",
   "execution_count": 23,
   "metadata": {
    "colab": {
     "base_uri": "https://localhost:8080/",
     "height": 513
    },
    "id": "AlJk2IVPTwLF",
    "outputId": "3102f8f6-0192-4b40-b575-d1b4b921996a"
   },
   "outputs": [
    {
     "data": {
      "image/png": "[encoded data removed]",
      "text/plain": [
       "<Figure size 576x576 with 1 Axes>"
      ]
     },
     "metadata": {
      "needs_background": "light"
     },
     "output_type": "display_data"
    }
   ],
   "source": [
    "x_2 = data_.len.sample(1500)\n",
    "plt.figure(figsize=(8,8))\n",
    "plt.hist(x_2,bins = 30)\n",
    "plt.title(\"Histogram of mail message lenght with 1500 with clean datapoints\")\n",
    "plt.xlabel(\"Number of the Mails\")\n",
    "plt.ylabel(\"Length of the message in each bins\")\n",
    "plt.grid()"
   ]
  },
  {
   "cell_type": "markdown",
   "metadata": {
    "id": "naOz4tiSrYc_"
   },
   "source": [
    "After the removal of the unwanted mail message length, our histogram looks very clear and most of the mail message length is less than the 3000"
   ]
  },
  {
   "cell_type": "code",
   "execution_count": 24,
   "metadata": {
    "colab": {
     "base_uri": "https://localhost:8080/",
     "height": 405
    },
    "id": "cFKLb9pnTwRT",
    "outputId": "3346bf0f-ae65-4d01-deb9-d57399a34f98"
   },
   "outputs": [
    {
     "name": "stderr",
     "output_type": "stream",
     "text": [
      "/usr/local/lib/python3.7/dist-packages/seaborn/distributions.py:2619: FutureWarning: `distplot` is a deprecated function and will be removed in a future version. Please adapt your code to use either `displot` (a figure-level function with similar flexibility) or `histplot` (an axes-level function for histograms).\n",
      "  warnings.warn(msg, FutureWarning)\n"
     ]
    },
    {
     "data": {
      "image/png": "[encoded data removed]",
      "text/plain": [
       "<Figure size 720x360 with 1 Axes>"
      ]
     },
     "metadata": {
      "needs_background": "light"
     },
     "output_type": "display_data"
    }
   ],
   "source": [
    "sample = x_2\n",
    "plt.figure(figsize=(10,5))\n",
    "plt.title(\"Distribution plot of mail message lenght with 1500 with clean datapoints\")\n",
    "plt.ylabel('Density of the length of email messages')\n",
    "plt.grid()\n",
    "ax = sns.distplot(sample, kde=False, fit=stats.norm)"
   ]
  },
  {
   "cell_type": "code",
   "execution_count": 27,
   "metadata": {
    "colab": {
     "base_uri": "https://localhost:8080/",
     "height": 405
    },
    "id": "KrofBBP-TwOZ",
    "outputId": "694951dd-62cb-4ea5-941e-62ff40a024da"
   },
   "outputs": [
    {
     "name": "stderr",
     "output_type": "stream",
     "text": [
      "/usr/local/lib/python3.7/dist-packages/seaborn/distributions.py:2619: FutureWarning: `distplot` is a deprecated function and will be removed in a future version. Please adapt your code to use either `displot` (a figure-level function with similar flexibility) or `histplot` (an axes-level function for histograms).\n",
      "  warnings.warn(msg, FutureWarning)\n"
     ]
    },
    {
     "data": {
      "image/png": "[encoded data removed]",
      "text/plain": [
       "<Figure size 720x360 with 1 Axes>"
      ]
     },
     "metadata": {
      "needs_background": "light"
     },
     "output_type": "display_data"
    }
   ],
   "source": [
    "sample = x_2\n",
    "plt.figure(figsize=(10,5))\n",
    "plt.title(\"Cdf of the mail message length with clean data points \")\n",
    "ax = sns.distplot(sample, hist_kws=dict(cumulative=True), kde_kws=dict(cumulative=True))\n",
    "plt.grid()"
   ]
  },
  {
   "cell_type": "markdown",
   "metadata": {
    "id": "Yq9gMfHmrYdA"
   },
   "source": [
    "From the CDF we can say that 99% of the data mail message length is less than the 5000"
   ]
  },
  {
   "cell_type": "code",
   "execution_count": 30,
   "metadata": {
    "colab": {
     "base_uri": "https://localhost:8080/",
     "height": 295
    },
    "id": "rfYf-iihFKao",
    "outputId": "46d45ea3-cc40-4b8e-9206-0fc09613b0f2"
   },
   "outputs": [
    {
     "data": {
      "image/png": "[encoded data removed]",
      "text/plain": [
       "<Figure size 432x288 with 1 Axes>"
      ]
     },
     "metadata": {
      "needs_background": "light"
     },
     "output_type": "display_data"
    }
   ],
   "source": [
    "#Q-Q plot for checking if the mail message length is normal distribution\n",
    "scipy.stats.probplot(sample, plot=plt)\n",
    "plt.show()"
   ]
  },
  {
   "cell_type": "markdown",
   "metadata": {
    "id": "jHx7-Xa_JFht"
   },
   "source": [
    "From the Q-Q plot, we can say the length of the message is not follow the normal distribution"
   ]
  },
  {
   "cell_type": "code",
   "execution_count": null,
   "metadata": {},
   "outputs": [],
   "source": []
  }
 ],
 "metadata": {
  "colab": {
   "collapsed_sections": [],
   "name": "EDA.ipynb",
   "provenance": []
  },
  "kernelspec": {
   "display_name": "Python 3 (ipykernel)",
   "language": "python",
   "name": "python3"
  },
  "language_info": {
   "codemirror_mode": {
    "name": "ipython",
    "version": 3
   },
   "file_extension": ".py",
   "mimetype": "text/x-python",
   "name": "python",
   "nbconvert_exporter": "python",
   "pygments_lexer": "ipython3",
   "version": "3.8.0rc1"
  }
 },
 "nbformat": 4,
 "nbformat_minor": 1
}
