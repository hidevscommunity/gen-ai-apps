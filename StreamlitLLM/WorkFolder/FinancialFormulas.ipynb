{
 "cells": [
  {
   "cell_type": "markdown",
   "metadata": {},
   "source": [
    "# Libraries"
   ]
  },
  {
   "cell_type": "code",
   "execution_count": 1,
   "metadata": {},
   "outputs": [],
   "source": [
    "# Core Libraries \n",
    "import pandas as pd\n",
    "import numpy as np\n",
    "import requests\n",
    "\n",
    "# For Pattern\n",
    "import re\n",
    "\n",
    "\n",
    "# Datetime\n",
    "from datetime import datetime\n",
    "\n",
    "# For Yahoo Data Sets\n",
    "import yfinance as yf"
   ]
  },
  {
   "cell_type": "markdown",
   "metadata": {},
   "source": [
    "* Libraries Version "
   ]
  },
  {
   "cell_type": "code",
   "execution_count": 2,
   "metadata": {},
   "outputs": [
    {
     "name": "stdout",
     "output_type": "stream",
     "text": [
      "Pandas Version: 2.0.2 \n",
      " ----\n",
      "Numpy Version: 1.22.3\n",
      " ----\n",
      "Re Version: 2.2.1\n",
      " ----\n",
      "yfinance Version: 0.2.26\n",
      " ----\n",
      "Requests Version: 2.31.0\n"
     ]
    }
   ],
   "source": [
    "print(f\"Pandas Version: {pd.__version__} \\n ----\")\n",
    "print(f\"Numpy Version: {np.__version__}\\n ----\")\n",
    "print(f\"Re Version: {re.__version__}\\n ----\")\n",
    "print(f\"yfinance Version: {yf.__version__}\\n ----\")\n",
    "print(f\"Requests Version: {requests.__version__}\")"
   ]
  },
  {
   "cell_type": "markdown",
   "metadata": {},
   "source": [
    "## API KEY Configuration"
   ]
  },
  {
   "cell_type": "markdown",
   "metadata": {},
   "source": [
    "* API keys hidden for security !!!"
   ]
  },
  {
   "cell_type": "code",
   "execution_count": 3,
   "metadata": {},
   "outputs": [],
   "source": [
    "#for Api Key --- AlphaVantage Api Key  (https://www.alphavantage.co/)\n",
    "from dotenv import load_dotenv\n",
    "import os\n",
    "\n",
    "def configure():\n",
    "    load_dotenv()"
   ]
  },
  {
   "cell_type": "markdown",
   "metadata": {},
   "source": [
    "# Formulas"
   ]
  },
  {
   "cell_type": "code",
   "execution_count": 4,
   "metadata": {},
   "outputs": [
    {
     "name": "stdout",
     "output_type": "stream",
     "text": [
      "[*********************100%***********************]  1 of 1 completed\n",
      "[*********************100%***********************]  1 of 1 completed\n",
      "[*********************100%***********************]  1 of 1 completed\n"
     ]
    }
   ],
   "source": [
    "Apple = yf.download(\"AAPL\") \n",
    "Tesla = yf.download(\"TSLA\")\n",
    "SP500_index = yf.download(\"SPY\") "
   ]
  },
  {
   "cell_type": "markdown",
   "metadata": {},
   "source": [
    "* Beta"
   ]
  },
  {
   "cell_type": "code",
   "execution_count": 5,
   "metadata": {},
   "outputs": [
    {
     "name": "stdout",
     "output_type": "stream",
     "text": [
      "Beta coefficient for Apple Inc.: 1.30\n",
      "\n",
      "Beta coefficient for Tesla Company: 1.74\n"
     ]
    }
   ],
   "source": [
    "SP500_data = SP500_index.copy()\n",
    "Apple_data = Apple.copy()\n",
    "Tesla_data = Tesla.copy()\n",
    "\n",
    "SP500_2022 = SP500_data[(SP500_data.index >= \"2021-12-31\") & (SP500_data.index <= \"2022-12-31\")]\n",
    "SP500_2022 = SP500_2022[\"Close\"]\n",
    "\n",
    "AAPL_2022 = Apple_data[(Apple_data.index >= \"2021-12-31\") & (Apple_data.index <= \"2022-12-31\")]\n",
    "AAPL_2022 = AAPL_2022[\"Close\"]\n",
    "\n",
    "Tesla_2022 = Tesla_data[(Tesla_data.index >= \"2021-12-31\") & (Tesla_data.index <= \"2022-12-31\")]\n",
    "Tesla_2022 = Tesla_2022[\"Close\"]\n",
    "\n",
    "# Calculate the daily returns for the stock and the market index\n",
    "AAPL_returns  = AAPL_2022.pct_change()              # the return on an individual stock\n",
    "Tesla_returns = Tesla_2022.pct_change()\n",
    "SP500_returns = SP500_2022.pct_change()             # the return on an overall market\n",
    "\n",
    "# Calculate the covariance between the stock returns and the market index returns\n",
    "covariance   = AAPL_returns.cov(SP500_returns)\n",
    "covariance_2 = Tesla_returns.cov(SP500_returns)\n",
    "\n",
    "# Calculate the variance of the market index returns\n",
    "variance   = SP500_returns.var()\n",
    "\n",
    "# Calculate the beta coefficient\n",
    "beta   = covariance / variance\n",
    "beta_2 = covariance_2 / variance\n",
    "\n",
    "print(f'Beta coefficient for Apple Inc.: {beta:.2f}')\n",
    "print()\n",
    "print(f'Beta coefficient for Tesla Company: {beta_2:.2f}')"
   ]
  },
  {
   "cell_type": "code",
   "execution_count": 6,
   "metadata": {},
   "outputs": [
    {
     "data": {
      "text/html": [
       "<div>\n",
       "<style scoped>\n",
       "    .dataframe tbody tr th:only-of-type {\n",
       "        vertical-align: middle;\n",
       "    }\n",
       "\n",
       "    .dataframe tbody tr th {\n",
       "        vertical-align: top;\n",
       "    }\n",
       "\n",
       "    .dataframe thead th {\n",
       "        text-align: right;\n",
       "    }\n",
       "</style>\n",
       "<table border=\"1\" class=\"dataframe\">\n",
       "  <thead>\n",
       "    <tr style=\"text-align: right;\">\n",
       "      <th></th>\n",
       "      <th>APPL Beta Coff.</th>\n",
       "      <th>TSLA Beta Coff.</th>\n",
       "    </tr>\n",
       "  </thead>\n",
       "  <tbody>\n",
       "    <tr>\n",
       "      <th>2018-12-31</th>\n",
       "      <td>1.258444</td>\n",
       "      <td>1.354869</td>\n",
       "    </tr>\n",
       "    <tr>\n",
       "      <th>2019-12-31</th>\n",
       "      <td>1.551936</td>\n",
       "      <td>1.329462</td>\n",
       "    </tr>\n",
       "    <tr>\n",
       "      <th>2020-12-31</th>\n",
       "      <td>1.159793</td>\n",
       "      <td>1.273195</td>\n",
       "    </tr>\n",
       "    <tr>\n",
       "      <th>2021-12-31</th>\n",
       "      <td>1.314310</td>\n",
       "      <td>1.872431</td>\n",
       "    </tr>\n",
       "    <tr>\n",
       "      <th>2022-12-31</th>\n",
       "      <td>1.304357</td>\n",
       "      <td>1.742990</td>\n",
       "    </tr>\n",
       "  </tbody>\n",
       "</table>\n",
       "</div>"
      ],
      "text/plain": [
       "            APPL Beta Coff.  TSLA Beta Coff.\n",
       "2018-12-31         1.258444         1.354869\n",
       "2019-12-31         1.551936         1.329462\n",
       "2020-12-31         1.159793         1.273195\n",
       "2021-12-31         1.314310         1.872431\n",
       "2022-12-31         1.304357         1.742990"
      ]
     },
     "execution_count": 6,
     "metadata": {},
     "output_type": "execute_result"
    }
   ],
   "source": [
    "date_df = pd.DataFrame(pd.date_range(start='2017-12-31', end='2022-12-31', freq= \"Y\"))\n",
    "date_list = date_df[0].dt.strftime(\"%Y-%m-%d\")\n",
    "date_list = date_list.to_list()\n",
    "\n",
    "New_SP500 = {}\n",
    "New_APPL  = {}\n",
    "New_TSLA  = {}\n",
    "New_APPL_returns = {}\n",
    "New_TSLA_returns = {}\n",
    "New_SP500_returns = {}\n",
    "cov = {}\n",
    "cov_2 = {}\n",
    "var = {}\n",
    "var = {}\n",
    "Apple_Beta = []\n",
    "Tesla_Beta = []\n",
    "Beta = []\n",
    "for i in np.arange(0,len(date_list)):\n",
    "    z = i + 1\n",
    "    \n",
    "    if z < 6:\n",
    "        x_SP    = SP500_data[(SP500_data.index >= f\"{date_list[i]}\") & (SP500_data.index <= f\"{date_list[z]}\")]\n",
    "        y_AAPL  = Apple_data[(Apple_data.index >= f\"{date_list[i]}\") & (Apple_data.index <= f\"{date_list[z]}\")]\n",
    "        k_TSLA  = Tesla_data[(Tesla_data.index >= f\"{date_list[i]}\") & (Tesla_data.index <= f\"{date_list[z]}\")]\n",
    "        New_SP500[i] = pd.DataFrame(x_SP)\n",
    "        New_APPL[i]  = pd.DataFrame(y_AAPL)\n",
    "        New_TSLA[i]  = pd.DataFrame(k_TSLA)\n",
    "    else:\n",
    "        pass\n",
    "\n",
    "for n in np.arange(0, 5):\n",
    "\n",
    "    New_APPL[n]  = pd.DataFrame(New_APPL[n][\"Close\"])\n",
    "    New_APPL_returns[n]  = pd.DataFrame(New_APPL[n][\"Close\"]).pct_change()\n",
    "\n",
    "    New_TSLA[n]  = pd.DataFrame(New_TSLA[n][\"Close\"])\n",
    "    New_TSLA_returns[n]  = pd.DataFrame(New_TSLA[n][\"Close\"]).pct_change()\n",
    "    \n",
    "    New_SP500[n] = pd.DataFrame(New_SP500[n][\"Close\"])\n",
    "    New_SP500_returns[n] = pd.DataFrame(New_SP500[n][\"Close\"]).pct_change()\n",
    "\n",
    "\n",
    "    New_APPL_returns[n][np.isnan(New_APPL_returns[n]) | np.isinf(New_APPL_returns[n])] = 0\n",
    "    New_TSLA_returns[n][np.isnan(New_TSLA_returns[n]) | np.isinf(New_TSLA_returns[n])] = 0\n",
    "    New_SP500_returns[n][np.isnan(New_SP500_returns[n]) | np.isinf(New_SP500_returns[n])] = 0\n",
    "    \n",
    "    cov[n] = np.cov(New_APPL_returns[n][\"Close\"].values, New_SP500_returns[n][\"Close\"].values)[0][1]\n",
    "    cov_2[n] = np.cov(New_TSLA_returns[n][\"Close\"].values,New_SP500_returns[n][\"Close\"].values)[0][1]\n",
    "    var[n] = np.var(New_SP500_returns[n][\"Close\"].values)\n",
    "\n",
    "    x = cov[n] / var[n]\n",
    "    y = cov_2[n] / var[n]\n",
    "\n",
    "    Apple_Beta.append(x)\n",
    "    Tesla_Beta.append(y)\n",
    "\n",
    "Beta = pd.DataFrame(index = date_list[1:])\n",
    "Beta[\"APPL Beta Coff.\"] = Apple_Beta\n",
    "Beta[\"TSLA Beta Coff.\"] = Tesla_Beta\n",
    "Beta"
   ]
  },
  {
   "cell_type": "markdown",
   "metadata": {},
   "source": [
    "** General Financial Formulas**"
   ]
  },
  {
   "cell_type": "code",
   "execution_count": 7,
   "metadata": {},
   "outputs": [],
   "source": [
    "ticker = \"AAPL\"\n",
    "FS = [\"INCOME_STATEMENT\",\"BALANCE_SHEET\",\"CASH_FLOW\"]   # Financial Statements\n",
    "\n",
    "data = []\n",
    "IS = {}                                                 # Income Statements\n",
    "BS = {}                                                 # Balance Sheet\n",
    "CF = {}                                                 # Cash Flow\n",
    "\n",
    "\n",
    "for i in FS:\n",
    "    url = f'https://www.alphavantage.co/query?function={i}&symbol={ticker}&apikey={os.getenv(\"Alphavantage_key\")}'\n",
    "    r = requests.get(url)\n",
    "    data.append(r.json())\n",
    "\n",
    "    data_df = pd.DataFrame(data)\n",
    "    \n",
    "    df = {}\n",
    "    for i in np.arange(0, len(data_df)):\n",
    "        df[i] = data_df.iloc[i].get(\"annualReports\")\n",
    "\n",
    "IS = pd.DataFrame(df[0]).T.reset_index()\n",
    "BS = pd.DataFrame(df[1]).T.reset_index()\n",
    "CF = pd.DataFrame(df[2]).T.reset_index()\n",
    "\n",
    "FS = [IS,BS,CF]\n",
    "\n",
    "IS_fiscal_Date = IS.iloc[0].to_list()\n",
    "IS_index = IS.iloc[1].to_list()\n",
    "\n",
    "FS_pattern = []\n",
    "\n",
    "for i in np.arange(0, len(FS)):\n",
    "    FS[i].replace(\"None\",0,inplace = True)\n",
    "    FS[i].fillna(0)\n",
    "\n",
    "    FS[i].copy\n",
    "    FS[i].loc[2:,[0,1,2,3,4]] = FS[i].loc[2:,[0,1,2,3,4]].astype(\"float64\")\n",
    "    \n",
    "    FS[i].loc[:1] = IS_fiscal_Date\n",
    "    FS[i].loc[1] = IS_index\n",
    "    \n",
    "    FS_pattern.append(FS[i][\"index\"])\n",
    "\n",
    "pattern_list = pd.DataFrame()\n",
    "\n",
    "IS = FS_pattern[0]\n",
    "two = FS_pattern[1]\n",
    "three = FS_pattern[2]\n",
    "\n",
    "pat_list = [IS,two,three]\n",
    "\n",
    "pattern = '[A-Z][^A-Z]*|[A-Z]*[^A-Z][^A-Z]*|[A-Z]*[^A-Z][^A-Z][^A-Z]*|[A-Z]*[^A-Z][^A-Z][^A-Z][^A-Z]*'\n",
    "\n",
    "FS_0_join = []\n",
    "for i in np.arange(0, len(IS)):\n",
    "    FS_0_pattern = IS[i]\n",
    "    FS_0_findall = re.findall(pattern,FS_0_pattern)\n",
    "    FS_0_join.append(\" \".join(FS_0_findall).title())\n",
    "FS[0][\"index\"] = FS_0_join\n",
    "\n",
    "FS_1_join = []\n",
    "for z in np.arange(0, len(two)):\n",
    "    FS_1_pattern = two[z]\n",
    "    FS_1_findall = re.findall(pattern,FS_1_pattern)\n",
    "    FS_1_join.append(\" \".join(FS_1_findall).title())\n",
    "FS[1][\"index\"] = FS_1_join\n",
    "\n",
    "FS_2_join = []\n",
    "for q in np.arange(0, len(three)):\n",
    "    FS_2_pattern = three[q]\n",
    "    FS_2_findall = re.findall(pattern,FS_2_pattern)\n",
    "    FS_2_join.append(\" \".join(FS_2_findall).title())\n",
    "FS[2][\"index\"] = FS_2_join\n",
    "\n",
    "index_names = [\"INCOME STATEMENT\",\"BALANCE SHEET\",\"CASH FLOW\"]\n",
    "\n",
    "for i in np.arange(0,3):\n",
    "    FS[i].columns = IS_fiscal_Date\n",
    "    FS[i] = FS[i].drop(0)\n",
    "\n",
    "    FS[i].index.name = index_names[i]\n",
    "\n",
    "AAPL_FS = FS"
   ]
  },
  {
   "cell_type": "code",
   "execution_count": 8,
   "metadata": {},
   "outputs": [
    {
     "data": {
      "text/html": [
       "<div>\n",
       "<style scoped>\n",
       "    .dataframe tbody tr th:only-of-type {\n",
       "        vertical-align: middle;\n",
       "    }\n",
       "\n",
       "    .dataframe tbody tr th {\n",
       "        vertical-align: top;\n",
       "    }\n",
       "\n",
       "    .dataframe thead th {\n",
       "        text-align: right;\n",
       "    }\n",
       "</style>\n",
       "<table border=\"1\" class=\"dataframe\">\n",
       "  <thead>\n",
       "    <tr style=\"text-align: right;\">\n",
       "      <th></th>\n",
       "      <th>Net Working Capital</th>\n",
       "      <th>Current Ratio</th>\n",
       "      <th>D/E Ratio</th>\n",
       "      <th>EPS Ratio</th>\n",
       "      <th>Profit Margin</th>\n",
       "      <th>Asset Turnover Ratio</th>\n",
       "      <th>Financial Leverage Ratio</th>\n",
       "      <th>DuPont ROE</th>\n",
       "      <th>Beta Coff.</th>\n",
       "    </tr>\n",
       "    <tr>\n",
       "      <th>Apple Inc.</th>\n",
       "      <th></th>\n",
       "      <th></th>\n",
       "      <th></th>\n",
       "      <th></th>\n",
       "      <th></th>\n",
       "      <th></th>\n",
       "      <th></th>\n",
       "      <th></th>\n",
       "      <th></th>\n",
       "    </tr>\n",
       "  </thead>\n",
       "  <tbody>\n",
       "    <tr>\n",
       "      <th>2022-09-30</th>\n",
       "      <td>-1.857700e+10</td>\n",
       "      <td>0.88%</td>\n",
       "      <td>2.37%</td>\n",
       "      <td>5.33%</td>\n",
       "      <td>0.25%</td>\n",
       "      <td>2.22%</td>\n",
       "      <td>6.96%</td>\n",
       "      <td>1.97%</td>\n",
       "      <td>1.304357</td>\n",
       "    </tr>\n",
       "    <tr>\n",
       "      <th>2021-09-30</th>\n",
       "      <td>9.355000e+09</td>\n",
       "      <td>1.07%</td>\n",
       "      <td>1.98%</td>\n",
       "      <td>4.88%</td>\n",
       "      <td>0.26%</td>\n",
       "      <td>2.07%</td>\n",
       "      <td>5.56%</td>\n",
       "      <td>1.50%</td>\n",
       "      <td>1.314310</td>\n",
       "    </tr>\n",
       "    <tr>\n",
       "      <th>2020-09-30</th>\n",
       "      <td>3.832100e+10</td>\n",
       "      <td>1.36%</td>\n",
       "      <td>1.72%</td>\n",
       "      <td>2.55%</td>\n",
       "      <td>0.21%</td>\n",
       "      <td>1.68%</td>\n",
       "      <td>4.96%</td>\n",
       "      <td>0.88%</td>\n",
       "      <td>1.159793</td>\n",
       "    </tr>\n",
       "    <tr>\n",
       "      <th>2019-09-30</th>\n",
       "      <td>5.710100e+10</td>\n",
       "      <td>1.54%</td>\n",
       "      <td>1.19%</td>\n",
       "      <td>9.26%</td>\n",
       "      <td>0.22%</td>\n",
       "      <td>1.52%</td>\n",
       "      <td>3.74%</td>\n",
       "      <td>0.61%</td>\n",
       "      <td>1.551936</td>\n",
       "    </tr>\n",
       "    <tr>\n",
       "      <th>2018-09-30</th>\n",
       "      <td>1.541000e+10</td>\n",
       "      <td>1.13%</td>\n",
       "      <td>1.07%</td>\n",
       "      <td>9.64%</td>\n",
       "      <td>0.22%</td>\n",
       "      <td>1.45%</td>\n",
       "      <td>3.41%</td>\n",
       "      <td>0.56%</td>\n",
       "      <td>1.258444</td>\n",
       "    </tr>\n",
       "  </tbody>\n",
       "</table>\n",
       "</div>"
      ],
      "text/plain": [
       "            Net Working Capital Current Ratio D/E Ratio EPS Ratio  \\\n",
       "Apple Inc.                                                          \n",
       "2022-09-30        -1.857700e+10         0.88%     2.37%     5.33%   \n",
       "2021-09-30         9.355000e+09         1.07%     1.98%     4.88%   \n",
       "2020-09-30         3.832100e+10         1.36%     1.72%     2.55%   \n",
       "2019-09-30         5.710100e+10         1.54%     1.19%     9.26%   \n",
       "2018-09-30         1.541000e+10         1.13%     1.07%     9.64%   \n",
       "\n",
       "           Profit Margin Asset Turnover Ratio Financial Leverage Ratio  \\\n",
       "Apple Inc.                                                               \n",
       "2022-09-30         0.25%                2.22%                    6.96%   \n",
       "2021-09-30         0.26%                2.07%                    5.56%   \n",
       "2020-09-30         0.21%                1.68%                    4.96%   \n",
       "2019-09-30         0.22%                1.52%                    3.74%   \n",
       "2018-09-30         0.22%                1.45%                    3.41%   \n",
       "\n",
       "           DuPont ROE  Beta Coff.  \n",
       "Apple Inc.                         \n",
       "2022-09-30      1.97%    1.304357  \n",
       "2021-09-30      1.50%    1.314310  \n",
       "2020-09-30      0.88%    1.159793  \n",
       "2019-09-30      0.61%    1.551936  \n",
       "2018-09-30      0.56%    1.258444  "
      ]
     },
     "execution_count": 8,
     "metadata": {},
     "output_type": "execute_result"
    }
   ],
   "source": [
    "TotalDebt = AAPL_FS[1][AAPL_FS[1][\"fiscalDateEnding\"] == \"Current Debt\"].values[0][1:] + AAPL_FS[1][AAPL_FS[1][\"fiscalDateEnding\"] == \"Long Term Debt Noncurrent\"].values[0][1:]\n",
    "\n",
    "Current_liabilities   = AAPL_FS[1][AAPL_FS[1][\"fiscalDateEnding\"] == \"Total Current Liabilities\"].values[0][1:]\n",
    "Current_asset         = AAPL_FS[1][AAPL_FS[1][\"fiscalDateEnding\"] == \"Total Current Assets\"].values[0][1:]\n",
    "Total_Debt            = TotalDebt\n",
    "Total_equity          = AAPL_FS[1][AAPL_FS[1][\"fiscalDateEnding\"] == \"Total Shareholder Equity\"].values[0][1:]\n",
    "Long_term_debt        = AAPL_FS[1][AAPL_FS[1][\"fiscalDateEnding\"] == \"Long Term Debt Noncurrent\"].values[0][1:]\n",
    "Net_income            = AAPL_FS[2][AAPL_FS[2][\"fiscalDateEnding\"] == \"Net Income\"].values[0][1:]\n",
    "Dividends             = AAPL_FS[2][AAPL_FS[2][\"fiscalDateEnding\"] == \"Dividend Payout\"].values[0][1:]\n",
    "Outstanding_share     = AAPL_FS[1][AAPL_FS[1][\"fiscalDateEnding\"] == \"Common Stock Shares Outstanding\"].values[0][1:]\n",
    "Revenue               = AAPL_FS[0][AAPL_FS[0][\"fiscalDateEnding\"] == \"Total Revenue\"].values[0][1:]\n",
    "Total_asset           = AAPL_FS[1][AAPL_FS[1][\"fiscalDateEnding\"] == \"Total Assets\"].values[0][1:]\n",
    "\n",
    "NetWorkingCapital = []\n",
    "CurrentRatio = []\n",
    "DERatio  = []\n",
    "FinancialLeverage = []\n",
    "EPSRatio  = []\n",
    "ROE = []\n",
    "ProfitMargin  = []\n",
    "AssetTurnOverRatio = []\n",
    "\n",
    "for i in np.arange(0,len(Current_asset)):\n",
    "    Net_Working_Capital     = Current_asset[i] - Current_liabilities[i]\n",
    "    Current_Ratio           = float(Current_asset[i]) / float(Current_liabilities[i])\n",
    "    DE_Ratio                = float(Total_Debt[i])    / float(Total_equity[i])\n",
    "    Fianancial_Leverage     = float(Total_asset[i])    / float(Total_equity[i])\n",
    "    EPS_Ratio               = ((Net_income[i] - Dividends[i]) / Outstanding_share[i])\n",
    "    R_O_E                   = float(Net_income[i]) / float(Total_equity[i])\n",
    "    Profit_Margin           = float(Net_income[i]) / float(Revenue[i])\n",
    "    Asset_Turn_over_ratio   = float(Revenue[i]) / (float(Total_asset[i])/2)\n",
    "    \n",
    "    NetWorkingCapital.append(Net_Working_Capital)\n",
    "    CurrentRatio.append(Current_Ratio)\n",
    "    DERatio.append(DE_Ratio)\n",
    "    FinancialLeverage.append(Fianancial_Leverage)\n",
    "    EPSRatio.append(EPS_Ratio)\n",
    "    ROE.append(R_O_E)\n",
    "    ProfitMargin.append(Profit_Margin)\n",
    "    AssetTurnOverRatio.append(Asset_Turn_over_ratio)\n",
    "\n",
    "\n",
    "AAPL_Ratios = pd.DataFrame(NetWorkingCapital, columns = [\"Net Working Capital\"])\n",
    "AAPL_Ratios = pd.DataFrame(AAPL_Ratios[\"Net Working Capital\"])\n",
    "AAPL_Ratios[\"Current Ratio\"] = CurrentRatio\n",
    "AAPL_Ratios[\"Current Ratio\"] = AAPL_Ratios[\"Current Ratio\"].map(\"{:,.2f}%\".format)\n",
    "AAPL_Ratios[\"D/E Ratio\"] = DERatio\n",
    "AAPL_Ratios[\"D/E Ratio\"] = AAPL_Ratios[\"D/E Ratio\"].map(\"{:,.2f}%\".format)\n",
    "AAPL_Ratios[\"EPS Ratio\"] = EPSRatio\n",
    "AAPL_Ratios[\"EPS Ratio\"] = AAPL_Ratios[\"EPS Ratio\"].map(\"{:,.2f}%\".format)\n",
    "AAPL_Ratios[\"Profit Margin\"] = ProfitMargin\n",
    "AAPL_Ratios[\"Profit Margin\"] = AAPL_Ratios[\"Profit Margin\"].map(\"{:,.2f}%\".format)\n",
    "AAPL_Ratios[\"Asset Turnover Ratio\"] = AssetTurnOverRatio\n",
    "AAPL_Ratios[\"Asset Turnover Ratio\"] = AAPL_Ratios[\"Asset Turnover Ratio\"].map(\"{:,.2f}%\".format)\n",
    "AAPL_Ratios[\"Financial Leverage Ratio\"] = FinancialLeverage\n",
    "AAPL_Ratios[\"Financial Leverage Ratio\"] = AAPL_Ratios[\"Financial Leverage Ratio\"].map(\"{:,.2f}%\".format)\n",
    "AAPL_Ratios[\"DuPont ROE\"] = ROE\n",
    "AAPL_Ratios[\"DuPont ROE\"] = AAPL_Ratios[\"DuPont ROE\"].map(\"{:,.2f}%\".format)\n",
    "AAPL_Ratios.index = AAPL_FS[0].columns.values[1:]\n",
    "\n",
    "AAPL_Ratios.index.name = \"Apple Inc.\"\n",
    "\n",
    "AppleBeta = Apple_Beta[::-1]\n",
    "AAPL_Ratios[\"Beta Coff.\"] = AppleBeta\n",
    "AAPL_Ratios\n"
   ]
  },
  {
   "cell_type": "markdown",
   "metadata": {},
   "source": [
    "### WACC (Weighted Average Cost of Capital)"
   ]
  },
  {
   "cell_type": "markdown",
   "metadata": {},
   "source": [
    "[Referance](https://www.youtube.com/watch?v=yIJjUzyNGqg&ab_channel=Dividendology)"
   ]
  },
  {
   "cell_type": "code",
   "execution_count": 9,
   "metadata": {},
   "outputs": [
    {
     "name": "stdout",
     "output_type": "stream",
     "text": [
      "[*********************100%***********************]  1 of 1 completed\n"
     ]
    },
    {
     "data": {
      "text/html": [
       "<div>\n",
       "<style scoped>\n",
       "    .dataframe tbody tr th:only-of-type {\n",
       "        vertical-align: middle;\n",
       "    }\n",
       "\n",
       "    .dataframe tbody tr th {\n",
       "        vertical-align: top;\n",
       "    }\n",
       "\n",
       "    .dataframe thead th {\n",
       "        text-align: right;\n",
       "    }\n",
       "</style>\n",
       "<table border=\"1\" class=\"dataframe\">\n",
       "  <thead>\n",
       "    <tr style=\"text-align: right;\">\n",
       "      <th></th>\n",
       "      <th>Open</th>\n",
       "      <th>High</th>\n",
       "      <th>Low</th>\n",
       "      <th>Close</th>\n",
       "      <th>Adj Close</th>\n",
       "      <th>Volume</th>\n",
       "    </tr>\n",
       "    <tr>\n",
       "      <th>Date</th>\n",
       "      <th></th>\n",
       "      <th></th>\n",
       "      <th></th>\n",
       "      <th></th>\n",
       "      <th></th>\n",
       "      <th></th>\n",
       "    </tr>\n",
       "  </thead>\n",
       "  <tbody>\n",
       "    <tr>\n",
       "      <th>2023-09-08</th>\n",
       "      <td>178.350006</td>\n",
       "      <td>180.240005</td>\n",
       "      <td>177.789993</td>\n",
       "      <td>178.179993</td>\n",
       "      <td>178.179993</td>\n",
       "      <td>65551300</td>\n",
       "    </tr>\n",
       "  </tbody>\n",
       "</table>\n",
       "</div>"
      ],
      "text/plain": [
       "                  Open        High         Low       Close   Adj Close  \\\n",
       "Date                                                                     \n",
       "2023-09-08  178.350006  180.240005  177.789993  178.179993  178.179993   \n",
       "\n",
       "              Volume  \n",
       "Date                  \n",
       "2023-09-08  65551300  "
      ]
     },
     "execution_count": 9,
     "metadata": {},
     "output_type": "execute_result"
    }
   ],
   "source": [
    "AAPL_Last_Stock_Price = yf.download(\"AAPL\", period=\"min\")\n",
    "AAPL_Last_Stock_Price"
   ]
  },
  {
   "cell_type": "code",
   "execution_count": 10,
   "metadata": {},
   "outputs": [
    {
     "name": "stdout",
     "output_type": "stream",
     "text": [
      "Apple Company Market Capitalazation is 2840799349726.8677\n"
     ]
    }
   ],
   "source": [
    "Market_value_of_equity = Outstanding_share[0] * AAPL_Last_Stock_Price[\"Close\"].values[0]\n",
    "print(f\"Apple Company Market Capitalazation is {Market_value_of_equity}\")"
   ]
  },
  {
   "cell_type": "markdown",
   "metadata": {},
   "source": [
    "#### Cost of Debt"
   ]
  },
  {
   "cell_type": "markdown",
   "metadata": {},
   "source": [
    "[Referance](https://analystanswers.com/total-debt-definition-formula-step-by-step-examples/)"
   ]
  },
  {
   "cell_type": "code",
   "execution_count": 11,
   "metadata": {},
   "outputs": [
    {
     "data": {
      "text/html": [
       "<div>\n",
       "<style scoped>\n",
       "    .dataframe tbody tr th:only-of-type {\n",
       "        vertical-align: middle;\n",
       "    }\n",
       "\n",
       "    .dataframe tbody tr th {\n",
       "        vertical-align: top;\n",
       "    }\n",
       "\n",
       "    .dataframe thead th {\n",
       "        text-align: right;\n",
       "    }\n",
       "</style>\n",
       "<table border=\"1\" class=\"dataframe\">\n",
       "  <thead>\n",
       "    <tr style=\"text-align: right;\">\n",
       "      <th></th>\n",
       "      <th>Interest_expense</th>\n",
       "      <th>Total Debt</th>\n",
       "      <th>Cost_debt</th>\n",
       "      <th>Income_tax_expense</th>\n",
       "      <th>Before_Income_tax</th>\n",
       "      <th>Effective_tax_rate</th>\n",
       "      <th>Cost_of_debt_after_tax</th>\n",
       "    </tr>\n",
       "  </thead>\n",
       "  <tbody>\n",
       "    <tr>\n",
       "      <th>0</th>\n",
       "      <td>2.931000e+09</td>\n",
       "      <td>1.201980e+11</td>\n",
       "      <td>0.024385</td>\n",
       "      <td>1.930000e+10</td>\n",
       "      <td>1.191030e+11</td>\n",
       "      <td>0.162045</td>\n",
       "      <td>0.020433</td>\n",
       "    </tr>\n",
       "  </tbody>\n",
       "</table>\n",
       "</div>"
      ],
      "text/plain": [
       "   Interest_expense    Total Debt  Cost_debt  Income_tax_expense  \\\n",
       "0      2.931000e+09  1.201980e+11   0.024385        1.930000e+10   \n",
       "\n",
       "   Before_Income_tax  Effective_tax_rate  Cost_of_debt_after_tax  \n",
       "0       1.191030e+11            0.162045                0.020433  "
      ]
     },
     "execution_count": 11,
     "metadata": {},
     "output_type": "execute_result"
    }
   ],
   "source": [
    "Cost_of_debt = pd.DataFrame()\n",
    "Cost_of_debt[\"Interest_expense\"] = [AAPL_FS[0][AAPL_FS[0][\"fiscalDateEnding\"] == \"Interest Expense\"].values[0][1]]\n",
    "Cost_of_debt[\"Total Debt\"] = [TotalDebt[0]]\n",
    "Cost_of_debt[\"Cost_debt\"] = [(Cost_of_debt.iloc[0][\"Interest_expense\"] / Cost_of_debt.iloc[0][\"Total Debt\"])]\n",
    "Cost_of_debt[\"Income_tax_expense\"] = [AAPL_FS[0][AAPL_FS[0][\"fiscalDateEnding\"] == \"Income Tax Expense\"].values[0][1]]\n",
    "Cost_of_debt[\"Before_Income_tax\"] = [AAPL_FS[0][AAPL_FS[0][\"fiscalDateEnding\"] == \"Income Before Tax\"].values[0][1]] \n",
    "Cost_of_debt[\"Effective_tax_rate\"]= Cost_of_debt[\"Income_tax_expense\"] / Cost_of_debt[\"Before_Income_tax\"]\n",
    "Cost_of_debt[\"Cost_of_debt_after_tax\"] = Cost_of_debt[\"Cost_debt\"] * (1 - Cost_of_debt[\"Effective_tax_rate\"])\n",
    "Cost_of_debt "
   ]
  },
  {
   "cell_type": "markdown",
   "metadata": {},
   "source": [
    "#### Cost of Equity"
   ]
  },
  {
   "cell_type": "code",
   "execution_count": 12,
   "metadata": {},
   "outputs": [
    {
     "data": {
      "text/html": [
       "<div>\n",
       "<style scoped>\n",
       "    .dataframe tbody tr th:only-of-type {\n",
       "        vertical-align: middle;\n",
       "    }\n",
       "\n",
       "    .dataframe tbody tr th {\n",
       "        vertical-align: top;\n",
       "    }\n",
       "\n",
       "    .dataframe thead th {\n",
       "        text-align: right;\n",
       "    }\n",
       "</style>\n",
       "<table border=\"1\" class=\"dataframe\">\n",
       "  <thead>\n",
       "    <tr style=\"text-align: right;\">\n",
       "      <th></th>\n",
       "      <th>Open</th>\n",
       "      <th>High</th>\n",
       "      <th>Low</th>\n",
       "      <th>Close</th>\n",
       "      <th>Adj Close</th>\n",
       "      <th>Volume</th>\n",
       "    </tr>\n",
       "    <tr>\n",
       "      <th>Date</th>\n",
       "      <th></th>\n",
       "      <th></th>\n",
       "      <th></th>\n",
       "      <th></th>\n",
       "      <th></th>\n",
       "      <th></th>\n",
       "    </tr>\n",
       "  </thead>\n",
       "  <tbody>\n",
       "    <tr>\n",
       "      <th>1993-01-29</th>\n",
       "      <td>43.968750</td>\n",
       "      <td>43.968750</td>\n",
       "      <td>43.750000</td>\n",
       "      <td>43.937500</td>\n",
       "      <td>25.029364</td>\n",
       "      <td>1003200</td>\n",
       "    </tr>\n",
       "    <tr>\n",
       "      <th>1993-02-01</th>\n",
       "      <td>43.968750</td>\n",
       "      <td>44.250000</td>\n",
       "      <td>43.968750</td>\n",
       "      <td>44.250000</td>\n",
       "      <td>25.207390</td>\n",
       "      <td>480500</td>\n",
       "    </tr>\n",
       "    <tr>\n",
       "      <th>1993-02-02</th>\n",
       "      <td>44.218750</td>\n",
       "      <td>44.375000</td>\n",
       "      <td>44.125000</td>\n",
       "      <td>44.343750</td>\n",
       "      <td>25.260788</td>\n",
       "      <td>201300</td>\n",
       "    </tr>\n",
       "    <tr>\n",
       "      <th>1993-02-03</th>\n",
       "      <td>44.406250</td>\n",
       "      <td>44.843750</td>\n",
       "      <td>44.375000</td>\n",
       "      <td>44.812500</td>\n",
       "      <td>25.527815</td>\n",
       "      <td>529400</td>\n",
       "    </tr>\n",
       "    <tr>\n",
       "      <th>1993-02-04</th>\n",
       "      <td>44.968750</td>\n",
       "      <td>45.093750</td>\n",
       "      <td>44.468750</td>\n",
       "      <td>45.000000</td>\n",
       "      <td>25.634634</td>\n",
       "      <td>531500</td>\n",
       "    </tr>\n",
       "    <tr>\n",
       "      <th>...</th>\n",
       "      <td>...</td>\n",
       "      <td>...</td>\n",
       "      <td>...</td>\n",
       "      <td>...</td>\n",
       "      <td>...</td>\n",
       "      <td>...</td>\n",
       "    </tr>\n",
       "    <tr>\n",
       "      <th>2023-09-01</th>\n",
       "      <td>453.170013</td>\n",
       "      <td>453.670013</td>\n",
       "      <td>449.679993</td>\n",
       "      <td>451.190002</td>\n",
       "      <td>451.190002</td>\n",
       "      <td>58875700</td>\n",
       "    </tr>\n",
       "    <tr>\n",
       "      <th>2023-09-05</th>\n",
       "      <td>450.730011</td>\n",
       "      <td>451.059998</td>\n",
       "      <td>449.170013</td>\n",
       "      <td>449.239990</td>\n",
       "      <td>449.239990</td>\n",
       "      <td>55166200</td>\n",
       "    </tr>\n",
       "    <tr>\n",
       "      <th>2023-09-06</th>\n",
       "      <td>448.399994</td>\n",
       "      <td>448.510010</td>\n",
       "      <td>443.809998</td>\n",
       "      <td>446.220001</td>\n",
       "      <td>446.220001</td>\n",
       "      <td>70758500</td>\n",
       "    </tr>\n",
       "    <tr>\n",
       "      <th>2023-09-07</th>\n",
       "      <td>443.109985</td>\n",
       "      <td>445.549988</td>\n",
       "      <td>442.750000</td>\n",
       "      <td>444.850006</td>\n",
       "      <td>444.850006</td>\n",
       "      <td>70355400</td>\n",
       "    </tr>\n",
       "    <tr>\n",
       "      <th>2023-09-08</th>\n",
       "      <td>444.899994</td>\n",
       "      <td>447.109985</td>\n",
       "      <td>444.529999</td>\n",
       "      <td>445.519989</td>\n",
       "      <td>445.519989</td>\n",
       "      <td>61659700</td>\n",
       "    </tr>\n",
       "  </tbody>\n",
       "</table>\n",
       "<p>7708 rows × 6 columns</p>\n",
       "</div>"
      ],
      "text/plain": [
       "                  Open        High         Low       Close   Adj Close  \\\n",
       "Date                                                                     \n",
       "1993-01-29   43.968750   43.968750   43.750000   43.937500   25.029364   \n",
       "1993-02-01   43.968750   44.250000   43.968750   44.250000   25.207390   \n",
       "1993-02-02   44.218750   44.375000   44.125000   44.343750   25.260788   \n",
       "1993-02-03   44.406250   44.843750   44.375000   44.812500   25.527815   \n",
       "1993-02-04   44.968750   45.093750   44.468750   45.000000   25.634634   \n",
       "...                ...         ...         ...         ...         ...   \n",
       "2023-09-01  453.170013  453.670013  449.679993  451.190002  451.190002   \n",
       "2023-09-05  450.730011  451.059998  449.170013  449.239990  449.239990   \n",
       "2023-09-06  448.399994  448.510010  443.809998  446.220001  446.220001   \n",
       "2023-09-07  443.109985  445.549988  442.750000  444.850006  444.850006   \n",
       "2023-09-08  444.899994  447.109985  444.529999  445.519989  445.519989   \n",
       "\n",
       "              Volume  \n",
       "Date                  \n",
       "1993-01-29   1003200  \n",
       "1993-02-01    480500  \n",
       "1993-02-02    201300  \n",
       "1993-02-03    529400  \n",
       "1993-02-04    531500  \n",
       "...              ...  \n",
       "2023-09-01  58875700  \n",
       "2023-09-05  55166200  \n",
       "2023-09-06  70758500  \n",
       "2023-09-07  70355400  \n",
       "2023-09-08  61659700  \n",
       "\n",
       "[7708 rows x 6 columns]"
      ]
     },
     "execution_count": 12,
     "metadata": {},
     "output_type": "execute_result"
    }
   ],
   "source": [
    "SP500_index"
   ]
  },
  {
   "cell_type": "code",
   "execution_count": 13,
   "metadata": {},
   "outputs": [
    {
     "name": "stdout",
     "output_type": "stream",
     "text": [
      "[*********************100%***********************]  1 of 1 completed\n"
     ]
    },
    {
     "data": {
      "text/html": [
       "<div>\n",
       "<style scoped>\n",
       "    .dataframe tbody tr th:only-of-type {\n",
       "        vertical-align: middle;\n",
       "    }\n",
       "\n",
       "    .dataframe tbody tr th {\n",
       "        vertical-align: top;\n",
       "    }\n",
       "\n",
       "    .dataframe thead th {\n",
       "        text-align: right;\n",
       "    }\n",
       "</style>\n",
       "<table border=\"1\" class=\"dataframe\">\n",
       "  <thead>\n",
       "    <tr style=\"text-align: right;\">\n",
       "      <th></th>\n",
       "      <th>Beta</th>\n",
       "      <th>Market_return</th>\n",
       "      <th>Risk_Free_Rate</th>\n",
       "      <th>Cost_of_Equity</th>\n",
       "    </tr>\n",
       "  </thead>\n",
       "  <tbody>\n",
       "    <tr>\n",
       "      <th>0</th>\n",
       "      <td>1.28498</td>\n",
       "      <td>0.09</td>\n",
       "      <td>0.04258</td>\n",
       "      <td>0.103514</td>\n",
       "    </tr>\n",
       "  </tbody>\n",
       "</table>\n",
       "</div>"
      ],
      "text/plain": [
       "      Beta  Market_return  Risk_Free_Rate  Cost_of_Equity\n",
       "0  1.28498           0.09         0.04258        0.103514"
      ]
     },
     "execution_count": 13,
     "metadata": {},
     "output_type": "execute_result"
    }
   ],
   "source": [
    "SP_500 = SP500_index[SP500_index.index >= \"2021-01-01\"]\n",
    "SP_500 = SP_500[\"Close\"]\n",
    "Apple_1  = Apple[Apple.index >= \"2021-01-01\"]\n",
    "Apple_1  = Apple[\"Close\"]\n",
    "\n",
    "SP_500_r = SP_500.pct_change()\n",
    "Apple_r  = Apple_1.pct_change()\n",
    "\n",
    "cov = Apple_r.cov(SP_500_r) \n",
    "var = SP_500_r.var()\n",
    "\n",
    "bet_a = cov / var\n",
    "bet_a\n",
    "\n",
    "Cost_of_Equity = pd.DataFrame()\n",
    "Cost_of_Equity[\"Beta\"] = [bet_a]\n",
    "Cost_of_Equity[\"Market_return\"] = [0.09]\n",
    "Cost_of_Equity[\"Risk_Free_Rate\"] = [yf.download(\"^TNX\",period=\"10y\").iloc[-1][\"Close\"]/100]\n",
    "Cost_of_Equity[\"Cost_of_Equity\"] = abs(Cost_of_Equity[\"Risk_Free_Rate\"] + Cost_of_Equity[\"Beta\"]*(Cost_of_Equity[\"Market_return\"] - Cost_of_Equity[\"Risk_Free_Rate\"]))\n",
    "Cost_of_Equity"
   ]
  },
  {
   "cell_type": "markdown",
   "metadata": {},
   "source": [
    "#### Weight of Debt and Equity"
   ]
  },
  {
   "cell_type": "code",
   "execution_count": 14,
   "metadata": {},
   "outputs": [
    {
     "data": {
      "text/html": [
       "<div>\n",
       "<style scoped>\n",
       "    .dataframe tbody tr th:only-of-type {\n",
       "        vertical-align: middle;\n",
       "    }\n",
       "\n",
       "    .dataframe tbody tr th {\n",
       "        vertical-align: top;\n",
       "    }\n",
       "\n",
       "    .dataframe thead th {\n",
       "        text-align: right;\n",
       "    }\n",
       "</style>\n",
       "<table border=\"1\" class=\"dataframe\">\n",
       "  <thead>\n",
       "    <tr style=\"text-align: right;\">\n",
       "      <th></th>\n",
       "      <th>Total</th>\n",
       "      <th>W_Total Debt</th>\n",
       "      <th>W_MarketCap</th>\n",
       "    </tr>\n",
       "  </thead>\n",
       "  <tbody>\n",
       "    <tr>\n",
       "      <th>0</th>\n",
       "      <td>2.960997e+12</td>\n",
       "      <td>0.040594</td>\n",
       "      <td>0.959406</td>\n",
       "    </tr>\n",
       "  </tbody>\n",
       "</table>\n",
       "</div>"
      ],
      "text/plain": [
       "          Total  W_Total Debt  W_MarketCap\n",
       "0  2.960997e+12      0.040594     0.959406"
      ]
     },
     "execution_count": 14,
     "metadata": {},
     "output_type": "execute_result"
    }
   ],
   "source": [
    "WACC = pd.DataFrame()\n",
    "WACC[\"Total\"] = [TotalDebt[0] + Market_value_of_equity]\n",
    "WACC[\"W_Total Debt\"] = Cost_of_debt[\"Total Debt\"] / WACC[\"Total\"]\n",
    "WACC[\"W_MarketCap\"]  = Market_value_of_equity / WACC[\"Total\"]\n",
    "WACC"
   ]
  },
  {
   "cell_type": "code",
   "execution_count": 15,
   "metadata": {},
   "outputs": [
    {
     "name": "stdout",
     "output_type": "stream",
     "text": [
      "Weighted average cost of capital: 0    0.100141\n",
      "dtype: float64\n"
     ]
    }
   ],
   "source": [
    "wacc = Cost_of_debt[\"Cost_debt\"]*WACC[\"W_Total Debt\"]*(1-Cost_of_debt[\"Effective_tax_rate\"]) + Cost_of_Equity[\"Cost_of_Equity\"]*WACC[\"W_MarketCap\"]\n",
    "wacc = f\"Weighted average cost of capital: {wacc}\"\n",
    "print(wacc)"
   ]
  },
  {
   "cell_type": "markdown",
   "metadata": {},
   "source": [
    "### Bankruptcy Models Formulas"
   ]
  },
  {
   "cell_type": "markdown",
   "metadata": {},
   "source": [
    "### Altman Z-Score"
   ]
  },
  {
   "cell_type": "markdown",
   "metadata": {},
   "source": [
    "Altman Z-Score = 1.2A + 1.4B + 3.3C + 0.6D + 1.0E\n",
    "\n",
    "Where:\n",
    "\n",
    "A = working capital / total assets\n",
    "B = retained earnings / total assets\n",
    "C = earnings before interest and tax / total assets\n",
    "D = market value of equity / total liabilities\n",
    "E = sales /total assets"
   ]
  },
  {
   "cell_type": "markdown",
   "metadata": {},
   "source": [
    "An Altman Z-score close to 0 suggests a company might be headed for bankruptcy, while a score closer to 3 suggests a company is in solid financial positioning."
   ]
  },
  {
   "cell_type": "code",
   "execution_count": 16,
   "metadata": {},
   "outputs": [
    {
     "data": {
      "text/html": [
       "<div>\n",
       "<style scoped>\n",
       "    .dataframe tbody tr th:only-of-type {\n",
       "        vertical-align: middle;\n",
       "    }\n",
       "\n",
       "    .dataframe tbody tr th {\n",
       "        vertical-align: top;\n",
       "    }\n",
       "\n",
       "    .dataframe thead th {\n",
       "        text-align: right;\n",
       "    }\n",
       "</style>\n",
       "<table border=\"1\" class=\"dataframe\">\n",
       "  <thead>\n",
       "    <tr style=\"text-align: right;\">\n",
       "      <th></th>\n",
       "      <th>0</th>\n",
       "    </tr>\n",
       "    <tr>\n",
       "      <th>0</th>\n",
       "      <th></th>\n",
       "    </tr>\n",
       "  </thead>\n",
       "  <tbody>\n",
       "    <tr>\n",
       "      <th>2023-09-08</th>\n",
       "      <td>178.179993</td>\n",
       "    </tr>\n",
       "    <tr>\n",
       "      <th>2022-09-09</th>\n",
       "      <td>157.369995</td>\n",
       "    </tr>\n",
       "    <tr>\n",
       "      <th>2021-09-10</th>\n",
       "      <td>148.970001</td>\n",
       "    </tr>\n",
       "    <tr>\n",
       "      <th>2020-09-04</th>\n",
       "      <td>120.959999</td>\n",
       "    </tr>\n",
       "    <tr>\n",
       "      <th>2019-09-06</th>\n",
       "      <td>53.314999</td>\n",
       "    </tr>\n",
       "  </tbody>\n",
       "</table>\n",
       "</div>"
      ],
      "text/plain": [
       "                     0\n",
       "0                     \n",
       "2023-09-08  178.179993\n",
       "2022-09-09  157.369995\n",
       "2021-09-10  148.970001\n",
       "2020-09-04  120.959999\n",
       "2019-09-06   53.314999"
      ]
     },
     "execution_count": 16,
     "metadata": {},
     "output_type": "execute_result"
    }
   ],
   "source": [
    "Last_Stock_Price = Apple\n",
    "\n",
    "Last_weekday = []\n",
    "for i in np.arange(0,5):\n",
    "    current_date = datetime.now().date()\n",
    "    one_year_ago = current_date - pd.DateOffset(years=i)\n",
    "    business_days = pd.bdate_range(end=one_year_ago, periods=7)\n",
    "    last_friday = [business_days[business_days.weekday == 4].max()]\n",
    "\n",
    "    Last_weekday.append(last_friday)\n",
    "\n",
    "Last_weekday = pd.DataFrame(Last_weekday)\n",
    "Last_weekday[0] = pd.DatetimeIndex(Last_weekday[0].dt.strftime(\"%Y-%m-%d\"))\n",
    "        \n",
    "values = []\n",
    "for i in np.arange(0,len(Last_weekday)):\n",
    "    Data_prices = Last_Stock_Price[\"Close\"][Last_Stock_Price.index == Last_weekday.iloc[i][0]]\n",
    "    values.append(Data_prices)\n",
    "values = pd.DataFrame(values)\n",
    "        \n",
    "df_without_nan = values.dropna(axis = 0, how= \"all\")\n",
    "LastStockPrice = df_without_nan.values.flatten()\n",
    "LastStockPrice = pd.DataFrame(LastStockPrice)\n",
    "LastStockPrice = LastStockPrice.dropna()\n",
    "LastStockPrice.index = Last_weekday[0]\n",
    "\n",
    "LastStockPrice"
   ]
  },
  {
   "cell_type": "code",
   "execution_count": 17,
   "metadata": {},
   "outputs": [
    {
     "data": {
      "text/html": [
       "<div>\n",
       "<style scoped>\n",
       "    .dataframe tbody tr th:only-of-type {\n",
       "        vertical-align: middle;\n",
       "    }\n",
       "\n",
       "    .dataframe tbody tr th {\n",
       "        vertical-align: top;\n",
       "    }\n",
       "\n",
       "    .dataframe thead th {\n",
       "        text-align: right;\n",
       "    }\n",
       "</style>\n",
       "<table border=\"1\" class=\"dataframe\">\n",
       "  <thead>\n",
       "    <tr style=\"text-align: right;\">\n",
       "      <th></th>\n",
       "      <th>A</th>\n",
       "      <th>B</th>\n",
       "      <th>C</th>\n",
       "      <th>D</th>\n",
       "      <th>E</th>\n",
       "      <th>Score</th>\n",
       "    </tr>\n",
       "    <tr>\n",
       "      <th>Apple Inc.</th>\n",
       "      <th></th>\n",
       "      <th></th>\n",
       "      <th></th>\n",
       "      <th></th>\n",
       "      <th></th>\n",
       "      <th></th>\n",
       "    </tr>\n",
       "  </thead>\n",
       "  <tbody>\n",
       "    <tr>\n",
       "      <th>0</th>\n",
       "      <td>-0.052663</td>\n",
       "      <td>-0.008697</td>\n",
       "      <td>0.345945</td>\n",
       "      <td>9.404036</td>\n",
       "      <td>1.109543</td>\n",
       "      <td>7.818214</td>\n",
       "    </tr>\n",
       "  </tbody>\n",
       "</table>\n",
       "</div>"
      ],
      "text/plain": [
       "                   A         B         C         D         E     Score\n",
       "Apple Inc.                                                            \n",
       "0          -0.052663 -0.008697  0.345945  9.404036  1.109543  7.818214"
      ]
     },
     "execution_count": 17,
     "metadata": {},
     "output_type": "execute_result"
    }
   ],
   "source": [
    "GS_working_capital = AAPL_FS[1][AAPL_FS[1][\"fiscalDateEnding\"] == \"Total Current Assets\"].values[0][1] - AAPL_FS[1][AAPL_FS[1][\"fiscalDateEnding\"] == \"Total Current Liabilities\"].values[0][1]\n",
    "\n",
    "A = GS_working_capital / AAPL_FS[1][AAPL_FS[1][\"fiscalDateEnding\"] == \"Total Assets\"].values[0][1]\n",
    " \n",
    "B = AAPL_FS[1][AAPL_FS[1][\"fiscalDateEnding\"] == \"Retained Earnings\"].values[0][1] / AAPL_FS[1][AAPL_FS[1][\"fiscalDateEnding\"] == \"Total Assets\"].values[0][1]\n",
    "\n",
    "C = AAPL_FS[0][AAPL_FS[0][\"fiscalDateEnding\"] == \"Ebit\"].values[0][1] / AAPL_FS[1][AAPL_FS[1][\"fiscalDateEnding\"] == \"Total Assets\"].values[0][1]\n",
    "\n",
    "Market_value_of_equity_GS = AAPL_FS[1][AAPL_FS[1][\"fiscalDateEnding\"] == \"Common Stock Shares Outstanding\"].values[0][1] * LastStockPrice[0].values[0]\n",
    "\n",
    "D = Market_value_of_equity_GS / AAPL_FS[1][AAPL_FS[1][\"fiscalDateEnding\"] == \"Total Liabilities\"].values[0][1]\n",
    "\n",
    "Revenue = AAPL_FS[0][AAPL_FS[0][\"fiscalDateEnding\"] == \"Net Interest Income\"].values[0][1] + AAPL_FS[0][AAPL_FS[0][\"fiscalDateEnding\"] == \"Non Interest Income\"].values[0][1]\n",
    "\n",
    "E = Revenue / AAPL_FS[1][AAPL_FS[1][\"fiscalDateEnding\"] == \"Total Assets\"].values[0][1]\n",
    "\n",
    "AltmanZScore = pd.DataFrame()\n",
    "AltmanZScore[\"A\"] = [A]\n",
    "AltmanZScore[\"B\"] = [B]\n",
    "AltmanZScore[\"C\"] = [C]\n",
    "AltmanZScore[\"D\"] = [D]\n",
    "AltmanZScore[\"E\"] = [E]\n",
    "AltmanZScore[\"Score\"] = [(1.2*A) + (1.4*B) + (3.3*C) + (0.6*D) + (1.0*E)]\n",
    "\n",
    "AltmanZScore.index.name = \"Apple Inc.\"\n",
    "AltmanZScore"
   ]
  },
  {
   "cell_type": "markdown",
   "metadata": {},
   "source": [
    "#### Springate score"
   ]
  },
  {
   "cell_type": "markdown",
   "metadata": {},
   "source": [
    "Springate score = 1.03A + 3.07B + .66C + .4D\n",
    "\n",
    "A = Working capital / Total assets\n",
    "B = EBIT / Total assets\n",
    "C = Profit before tax / Current liabilities\n",
    "D = Revenue / Total assets"
   ]
  },
  {
   "cell_type": "code",
   "execution_count": 18,
   "metadata": {},
   "outputs": [
    {
     "data": {
      "text/html": [
       "<div>\n",
       "<style scoped>\n",
       "    .dataframe tbody tr th:only-of-type {\n",
       "        vertical-align: middle;\n",
       "    }\n",
       "\n",
       "    .dataframe tbody tr th {\n",
       "        vertical-align: top;\n",
       "    }\n",
       "\n",
       "    .dataframe thead th {\n",
       "        text-align: right;\n",
       "    }\n",
       "</style>\n",
       "<table border=\"1\" class=\"dataframe\">\n",
       "  <thead>\n",
       "    <tr style=\"text-align: right;\">\n",
       "      <th></th>\n",
       "      <th>A</th>\n",
       "      <th>B</th>\n",
       "      <th>C</th>\n",
       "      <th>D</th>\n",
       "      <th>Score</th>\n",
       "    </tr>\n",
       "  </thead>\n",
       "  <tbody>\n",
       "    <tr>\n",
       "      <th>0</th>\n",
       "      <td>-0.052663</td>\n",
       "      <td>0.345945</td>\n",
       "      <td>0.394272</td>\n",
       "      <td>1.109543</td>\n",
       "      <td>1.711847</td>\n",
       "    </tr>\n",
       "  </tbody>\n",
       "</table>\n",
       "</div>"
      ],
      "text/plain": [
       "          A         B         C         D     Score\n",
       "0 -0.052663  0.345945  0.394272  1.109543  1.711847"
      ]
     },
     "execution_count": 18,
     "metadata": {},
     "output_type": "execute_result"
    }
   ],
   "source": [
    "X = AAPL_FS[0][AAPL_FS[0][\"fiscalDateEnding\"] == \"Income Before Tax\"].values[0][1] / AAPL_FS[1][AAPL_FS[1][\"fiscalDateEnding\"] == \"Total Liabilities\"].values[0][1]\n",
    "Y = Revenue / AAPL_FS[1][AAPL_FS[1][\"fiscalDateEnding\"] == \"Total Assets\"].values[0][1]\n",
    "\n",
    "Springate = pd.DataFrame()\n",
    "Springate[\"A\"] = [A]\n",
    "Springate[\"B\"] = [C]\n",
    "Springate[\"C\"] = [X]\n",
    "Springate[\"D\"] = [Y]\n",
    "Springate[\"Score\"] = [(1.03*A) + (3.07*C) + (0.66*X) + (0.4*Y)]\n",
    "\n",
    "Springate"
   ]
  },
  {
   "cell_type": "markdown",
   "metadata": {},
   "source": [
    "#### Zmijewski Score"
   ]
  },
  {
   "cell_type": "markdown",
   "metadata": {},
   "source": [
    "Zmijewski Score = -4.336 - [4.513 * (Net Income / Total Assets)] + [5.679 * (Total Liabilities / Total Assets)] + [0.004 * (Current Assets / Current Liabilities)]"
   ]
  },
  {
   "cell_type": "code",
   "execution_count": 19,
   "metadata": {},
   "outputs": [
    {
     "data": {
      "text/html": [
       "<div>\n",
       "<style scoped>\n",
       "    .dataframe tbody tr th:only-of-type {\n",
       "        vertical-align: middle;\n",
       "    }\n",
       "\n",
       "    .dataframe tbody tr th {\n",
       "        vertical-align: top;\n",
       "    }\n",
       "\n",
       "    .dataframe thead th {\n",
       "        text-align: right;\n",
       "    }\n",
       "</style>\n",
       "<table border=\"1\" class=\"dataframe\">\n",
       "  <thead>\n",
       "    <tr style=\"text-align: right;\">\n",
       "      <th></th>\n",
       "      <th>4336</th>\n",
       "      <th>4513</th>\n",
       "      <th>5679</th>\n",
       "      <th>0004</th>\n",
       "      <th>Score</th>\n",
       "    </tr>\n",
       "  </thead>\n",
       "  <tbody>\n",
       "    <tr>\n",
       "      <th>0</th>\n",
       "      <td>-4.336</td>\n",
       "      <td>0.345945</td>\n",
       "      <td>0.394272</td>\n",
       "      <td>1.109543</td>\n",
       "      <td>-0.746089</td>\n",
       "    </tr>\n",
       "  </tbody>\n",
       "</table>\n",
       "</div>"
      ],
      "text/plain": [
       "    4336      4513      5679      0004     Score\n",
       "0 -4.336  0.345945  0.394272  1.109543 -0.746089"
      ]
     },
     "execution_count": 19,
     "metadata": {},
     "output_type": "execute_result"
    }
   ],
   "source": [
    "A_1 = AAPL_FS[0][AAPL_FS[0][\"fiscalDateEnding\"] == \"Net Income\"].values[0][1] / AAPL_FS[1][AAPL_FS[1][\"fiscalDateEnding\"] == \"Total Assets\"].values[0][1]\n",
    "B_1 = AAPL_FS[1][AAPL_FS[1][\"fiscalDateEnding\"] == \"Total Liabilities\"].values[0][1] / AAPL_FS[1][AAPL_FS[1][\"fiscalDateEnding\"] == \"Total Assets\"].values[0][1]\n",
    "C_1 = AAPL_FS[1][AAPL_FS[1][\"fiscalDateEnding\"] == \"Total Current Assets\"].values[0][1] / AAPL_FS[1][AAPL_FS[1][\"fiscalDateEnding\"] == \"Total Current Liabilities\"].values[0][1]\n",
    "\n",
    "constant = -4.336\n",
    "constant_2 = -4.513\n",
    "\n",
    "ZM_score = pd.DataFrame()\n",
    "ZM_score[\"4336\"] = [constant]\n",
    "ZM_score[\"4513\"] = [C]\n",
    "ZM_score[\"5679\"] = [X]\n",
    "ZM_score[\"0004\"] = [Y]\n",
    "ZM_score[\"Score\"] = [(constant) + (constant_2*A_1) + (5.679*B_1) + (0.004 * C_1)]\n",
    "\n",
    "ZM_score"
   ]
  },
  {
   "cell_type": "code",
   "execution_count": 32,
   "metadata": {},
   "outputs": [
    {
     "data": {
      "text/html": [
       "<div>\n",
       "<style scoped>\n",
       "    .dataframe tbody tr th:only-of-type {\n",
       "        vertical-align: middle;\n",
       "    }\n",
       "\n",
       "    .dataframe tbody tr th {\n",
       "        vertical-align: top;\n",
       "    }\n",
       "\n",
       "    .dataframe thead th {\n",
       "        text-align: right;\n",
       "    }\n",
       "</style>\n",
       "<table border=\"1\" class=\"dataframe\">\n",
       "  <thead>\n",
       "    <tr style=\"text-align: right;\">\n",
       "      <th></th>\n",
       "      <th>Altman Z Score</th>\n",
       "      <th>Springate Score</th>\n",
       "      <th>Zmijewski Score</th>\n",
       "    </tr>\n",
       "  </thead>\n",
       "  <tbody>\n",
       "    <tr>\n",
       "      <th>0</th>\n",
       "      <td>7.818214</td>\n",
       "      <td>1.711847</td>\n",
       "      <td>-0.746089</td>\n",
       "    </tr>\n",
       "  </tbody>\n",
       "</table>\n",
       "</div>"
      ],
      "text/plain": [
       "   Altman Z Score  Springate Score  Zmijewski Score\n",
       "0        7.818214         1.711847        -0.746089"
      ]
     },
     "execution_count": 32,
     "metadata": {},
     "output_type": "execute_result"
    }
   ],
   "source": [
    "Generaldf = pd.DataFrame()\n",
    "\n",
    "Generaldf[\"Altman Z Score\"] = [AltmanZScore[\"Score\"].values[0]]\n",
    "Generaldf[\"Springate Score\"] = [Springate[\"Score\"].values[0]]\n",
    "Generaldf[\"Zmijewski Score\"] = [ZM_score[\"Score\"].values[0]]\n",
    "Generaldf"
   ]
  },
  {
   "cell_type": "markdown",
   "metadata": {},
   "source": [
    "# Volatility"
   ]
  },
  {
   "cell_type": "code",
   "execution_count": 20,
   "metadata": {},
   "outputs": [
    {
     "name": "stdout",
     "output_type": "stream",
     "text": [
      "[*********************100%***********************]  1 of 1 completed\n"
     ]
    },
    {
     "data": {
      "text/html": [
       "<div>\n",
       "<style scoped>\n",
       "    .dataframe tbody tr th:only-of-type {\n",
       "        vertical-align: middle;\n",
       "    }\n",
       "\n",
       "    .dataframe tbody tr th {\n",
       "        vertical-align: top;\n",
       "    }\n",
       "\n",
       "    .dataframe thead th {\n",
       "        text-align: right;\n",
       "    }\n",
       "</style>\n",
       "<table border=\"1\" class=\"dataframe\">\n",
       "  <thead>\n",
       "    <tr style=\"text-align: right;\">\n",
       "      <th></th>\n",
       "      <th>Open</th>\n",
       "      <th>High</th>\n",
       "      <th>Low</th>\n",
       "      <th>Close</th>\n",
       "      <th>Adj Close</th>\n",
       "      <th>Volume</th>\n",
       "    </tr>\n",
       "    <tr>\n",
       "      <th>Date</th>\n",
       "      <th></th>\n",
       "      <th></th>\n",
       "      <th></th>\n",
       "      <th></th>\n",
       "      <th></th>\n",
       "      <th></th>\n",
       "    </tr>\n",
       "  </thead>\n",
       "  <tbody>\n",
       "    <tr>\n",
       "      <th>2010-06-29</th>\n",
       "      <td>1.266667</td>\n",
       "      <td>1.666667</td>\n",
       "      <td>1.169333</td>\n",
       "      <td>1.592667</td>\n",
       "      <td>1.592667</td>\n",
       "      <td>281494500</td>\n",
       "    </tr>\n",
       "    <tr>\n",
       "      <th>2010-06-30</th>\n",
       "      <td>1.719333</td>\n",
       "      <td>2.028000</td>\n",
       "      <td>1.553333</td>\n",
       "      <td>1.588667</td>\n",
       "      <td>1.588667</td>\n",
       "      <td>257806500</td>\n",
       "    </tr>\n",
       "    <tr>\n",
       "      <th>2010-07-01</th>\n",
       "      <td>1.666667</td>\n",
       "      <td>1.728000</td>\n",
       "      <td>1.351333</td>\n",
       "      <td>1.464000</td>\n",
       "      <td>1.464000</td>\n",
       "      <td>123282000</td>\n",
       "    </tr>\n",
       "    <tr>\n",
       "      <th>2010-07-02</th>\n",
       "      <td>1.533333</td>\n",
       "      <td>1.540000</td>\n",
       "      <td>1.247333</td>\n",
       "      <td>1.280000</td>\n",
       "      <td>1.280000</td>\n",
       "      <td>77097000</td>\n",
       "    </tr>\n",
       "    <tr>\n",
       "      <th>2010-07-06</th>\n",
       "      <td>1.333333</td>\n",
       "      <td>1.333333</td>\n",
       "      <td>1.055333</td>\n",
       "      <td>1.074000</td>\n",
       "      <td>1.074000</td>\n",
       "      <td>103003500</td>\n",
       "    </tr>\n",
       "    <tr>\n",
       "      <th>...</th>\n",
       "      <td>...</td>\n",
       "      <td>...</td>\n",
       "      <td>...</td>\n",
       "      <td>...</td>\n",
       "      <td>...</td>\n",
       "      <td>...</td>\n",
       "    </tr>\n",
       "    <tr>\n",
       "      <th>2023-09-01</th>\n",
       "      <td>257.260010</td>\n",
       "      <td>259.079987</td>\n",
       "      <td>242.009995</td>\n",
       "      <td>245.009995</td>\n",
       "      <td>245.009995</td>\n",
       "      <td>132272500</td>\n",
       "    </tr>\n",
       "    <tr>\n",
       "      <th>2023-09-05</th>\n",
       "      <td>245.000000</td>\n",
       "      <td>258.000000</td>\n",
       "      <td>244.860001</td>\n",
       "      <td>256.489990</td>\n",
       "      <td>256.489990</td>\n",
       "      <td>129469600</td>\n",
       "    </tr>\n",
       "    <tr>\n",
       "      <th>2023-09-06</th>\n",
       "      <td>255.139999</td>\n",
       "      <td>255.389999</td>\n",
       "      <td>245.059998</td>\n",
       "      <td>251.919998</td>\n",
       "      <td>251.919998</td>\n",
       "      <td>116959800</td>\n",
       "    </tr>\n",
       "    <tr>\n",
       "      <th>2023-09-07</th>\n",
       "      <td>245.070007</td>\n",
       "      <td>252.809998</td>\n",
       "      <td>243.270004</td>\n",
       "      <td>251.490005</td>\n",
       "      <td>251.490005</td>\n",
       "      <td>115312900</td>\n",
       "    </tr>\n",
       "    <tr>\n",
       "      <th>2023-09-08</th>\n",
       "      <td>251.220001</td>\n",
       "      <td>256.519989</td>\n",
       "      <td>246.669998</td>\n",
       "      <td>248.500000</td>\n",
       "      <td>248.500000</td>\n",
       "      <td>118367700</td>\n",
       "    </tr>\n",
       "  </tbody>\n",
       "</table>\n",
       "<p>3322 rows × 6 columns</p>\n",
       "</div>"
      ],
      "text/plain": [
       "                  Open        High         Low       Close   Adj Close  \\\n",
       "Date                                                                     \n",
       "2010-06-29    1.266667    1.666667    1.169333    1.592667    1.592667   \n",
       "2010-06-30    1.719333    2.028000    1.553333    1.588667    1.588667   \n",
       "2010-07-01    1.666667    1.728000    1.351333    1.464000    1.464000   \n",
       "2010-07-02    1.533333    1.540000    1.247333    1.280000    1.280000   \n",
       "2010-07-06    1.333333    1.333333    1.055333    1.074000    1.074000   \n",
       "...                ...         ...         ...         ...         ...   \n",
       "2023-09-01  257.260010  259.079987  242.009995  245.009995  245.009995   \n",
       "2023-09-05  245.000000  258.000000  244.860001  256.489990  256.489990   \n",
       "2023-09-06  255.139999  255.389999  245.059998  251.919998  251.919998   \n",
       "2023-09-07  245.070007  252.809998  243.270004  251.490005  251.490005   \n",
       "2023-09-08  251.220001  256.519989  246.669998  248.500000  248.500000   \n",
       "\n",
       "               Volume  \n",
       "Date                   \n",
       "2010-06-29  281494500  \n",
       "2010-06-30  257806500  \n",
       "2010-07-01  123282000  \n",
       "2010-07-02   77097000  \n",
       "2010-07-06  103003500  \n",
       "...               ...  \n",
       "2023-09-01  132272500  \n",
       "2023-09-05  129469600  \n",
       "2023-09-06  116959800  \n",
       "2023-09-07  115312900  \n",
       "2023-09-08  118367700  \n",
       "\n",
       "[3322 rows x 6 columns]"
      ]
     },
     "execution_count": 20,
     "metadata": {},
     "output_type": "execute_result"
    }
   ],
   "source": [
    "df = yf.download('TSLA')\n",
    "df"
   ]
  },
  {
   "cell_type": "code",
   "execution_count": 21,
   "metadata": {},
   "outputs": [],
   "source": [
    "df_close = df[[\"Close\"]].copy()\n",
    "df_close[\"CloseShift\"] = df_close.shift()\n",
    "df_close[\"PriceRelative\"] = df_close[\"Close\"] / df_close[\"CloseShift\"]\n",
    "df_close[\"Daily Return\"] = np.log(df_close[\"PriceRelative\"])\n",
    "df_close = df_close.reset_index()"
   ]
  },
  {
   "cell_type": "code",
   "execution_count": 22,
   "metadata": {},
   "outputs": [
    {
     "name": "stdout",
     "output_type": "stream",
     "text": [
      "The daily volatility of Tesla Company is: 3.59%\n",
      "The annualized daily volatility of Tesla Company measured in trading days is: 56.93%\n",
      "The annualized daily volatility of Tesla Company measured in calendar days is: 68.51%\n"
     ]
    }
   ],
   "source": [
    "DailyVolatility = np.std(df_close['Daily Return'][1:])\n",
    "print(\"The daily volatility of Tesla Company is: {:.2%}\".format(DailyVolatility))\n",
    "\n",
    "AnnualizedDailyVolatilityTradingDays = DailyVolatility*np.sqrt(252)\n",
    "print(\"The annualized daily volatility of Tesla Company measured in trading days is: {:.2%}\".format(AnnualizedDailyVolatilityTradingDays))\n",
    "\n",
    "AnnualizedDailyVolatilityCalendarDays = DailyVolatility*np.sqrt(365)\n",
    "print(\"The annualized daily volatility of Tesla Company measured in calendar days is: {:.2%}\".format(AnnualizedDailyVolatilityCalendarDays))"
   ]
  },
  {
   "cell_type": "markdown",
   "metadata": {},
   "source": [
    "### Weekly"
   ]
  },
  {
   "cell_type": "code",
   "execution_count": 23,
   "metadata": {},
   "outputs": [],
   "source": [
    "weekly = pd.DataFrame(df_close.groupby([pd.Grouper(key=\"Date\", freq=\"W\")])[\"Close\"].mean())\n",
    "weekly[\"CloseShift\"] = weekly[\"Close\"].shift()\n",
    "weekly[\"PriceRelative\"] = weekly[\"Close\"] / weekly[\"CloseShift\"]\n",
    "weekly[\"Weekly Return\"] = np.log(weekly[\"PriceRelative\"])"
   ]
  },
  {
   "cell_type": "code",
   "execution_count": 24,
   "metadata": {},
   "outputs": [
    {
     "name": "stdout",
     "output_type": "stream",
     "text": [
      "The weekly volatility of Tesla Company is: 6.67%\n",
      "The annualized weekly volatility of Tesla Company measured in trading weeks is: 48.07%\n"
     ]
    }
   ],
   "source": [
    "WeeklyVolatility = np.std(weekly['Weekly Return'][1:])\n",
    "print(\"The weekly volatility of Tesla Company is: {:.2%}\".format(WeeklyVolatility))\n",
    "\n",
    "AnnualizedWeeklyVolatilityTradingWeeks = WeeklyVolatility*np.sqrt(52)\n",
    "print(\"The annualized weekly volatility of Tesla Company measured in trading weeks is: {:.2%}\".format(AnnualizedWeeklyVolatilityTradingWeeks))"
   ]
  },
  {
   "cell_type": "markdown",
   "metadata": {},
   "source": [
    "### Monthly"
   ]
  },
  {
   "cell_type": "code",
   "execution_count": 25,
   "metadata": {},
   "outputs": [],
   "source": [
    "monthly = pd.DataFrame(df_close.groupby([pd.Grouper(key=\"Date\", freq=\"M\")])[\"Close\"].mean())\n",
    "monthly[\"CloseShift\"] = monthly[\"Close\"].shift()\n",
    "monthly[\"PriceRelative\"] = monthly[\"Close\"] / monthly [\"CloseShift\"]\n",
    "monthly[\"Monthly Return\"] = np.log(monthly [\"PriceRelative\"])"
   ]
  },
  {
   "cell_type": "code",
   "execution_count": 26,
   "metadata": {},
   "outputs": [
    {
     "name": "stdout",
     "output_type": "stream",
     "text": [
      "The monthly volatility of Tesla Company is: 14.25%\n",
      "The annualized monthly volatility of Tesla Company is: 49.36%\n"
     ]
    }
   ],
   "source": [
    "MonthlyVolatility = np.std(monthly['Monthly Return'][1:])\n",
    "print(\"The monthly volatility of Tesla Company is: {:.2%}\".format(MonthlyVolatility))\n",
    "\n",
    "AnnualizedMonthlyVolatility = MonthlyVolatility*np.sqrt(12)\n",
    "print(\"The annualized monthly volatility of Tesla Company is: {:.2%}\".format(AnnualizedMonthlyVolatility))"
   ]
  },
  {
   "cell_type": "markdown",
   "metadata": {},
   "source": [
    "### Annually"
   ]
  },
  {
   "cell_type": "code",
   "execution_count": 27,
   "metadata": {},
   "outputs": [
    {
     "name": "stdout",
     "output_type": "stream",
     "text": [
      "The annual volatility of Tesla Company is: 57.23%\n"
     ]
    }
   ],
   "source": [
    "annually = pd.DataFrame(df_close.groupby([pd.Grouper(key=\"Date\", freq=\"Y\")])[\"Close\"].mean())\n",
    "annually = annually.dropna()\n",
    "\n",
    "annually[\"CloseShift\"] = annually[\"Close\"].shift()\n",
    "annually[\"PriceRelative\"] = annually[\"Close\"] / annually[\"CloseShift\"]\n",
    "annually[\"Annually Return\"] = np.log(annually[\"PriceRelative\"])\n",
    "\n",
    "AnnualVolatility = np.std(annually['Annually Return'][1:])\n",
    "print(\"The annual volatility of Tesla Company is: {:.2%}\".format(AnnualVolatility))"
   ]
  },
  {
   "cell_type": "code",
   "execution_count": 28,
   "metadata": {},
   "outputs": [
    {
     "data": {
      "text/html": [
       "<div>\n",
       "<style scoped>\n",
       "    .dataframe tbody tr th:only-of-type {\n",
       "        vertical-align: middle;\n",
       "    }\n",
       "\n",
       "    .dataframe tbody tr th {\n",
       "        vertical-align: top;\n",
       "    }\n",
       "\n",
       "    .dataframe thead th {\n",
       "        text-align: right;\n",
       "    }\n",
       "</style>\n",
       "<table border=\"1\" class=\"dataframe\">\n",
       "  <thead>\n",
       "    <tr style=\"text-align: right;\">\n",
       "      <th></th>\n",
       "      <th>Estimators</th>\n",
       "      <th>Estimates</th>\n",
       "    </tr>\n",
       "  </thead>\n",
       "  <tbody>\n",
       "    <tr>\n",
       "      <th>1</th>\n",
       "      <td>Annualized Daily Volatility by Calendar Days</td>\n",
       "      <td>68.51%</td>\n",
       "    </tr>\n",
       "    <tr>\n",
       "      <th>4</th>\n",
       "      <td>Annual Volatility</td>\n",
       "      <td>57.23%</td>\n",
       "    </tr>\n",
       "    <tr>\n",
       "      <th>0</th>\n",
       "      <td>Annualized Daily Volatility by Trading Days</td>\n",
       "      <td>56.93%</td>\n",
       "    </tr>\n",
       "    <tr>\n",
       "      <th>3</th>\n",
       "      <td>Annualized Monthly Volatility</td>\n",
       "      <td>49.36%</td>\n",
       "    </tr>\n",
       "    <tr>\n",
       "      <th>2</th>\n",
       "      <td>Annualized Weekly Volatility by Trading Weeks</td>\n",
       "      <td>48.07%</td>\n",
       "    </tr>\n",
       "  </tbody>\n",
       "</table>\n",
       "</div>"
      ],
      "text/plain": [
       "                                      Estimators Estimates\n",
       "1   Annualized Daily Volatility by Calendar Days    68.51%\n",
       "4                              Annual Volatility    57.23%\n",
       "0    Annualized Daily Volatility by Trading Days    56.93%\n",
       "3                  Annualized Monthly Volatility    49.36%\n",
       "2  Annualized Weekly Volatility by Trading Weeks    48.07%"
      ]
     },
     "execution_count": 28,
     "metadata": {},
     "output_type": "execute_result"
    }
   ],
   "source": [
    "models = ['Annualized Daily Volatility by Trading Days','Annualized Daily Volatility by Calendar Days',\n",
    "                'Annualized Weekly Volatility by Trading Weeks', 'Annualized Monthly Volatility',\n",
    "                'Annual Volatility']\n",
    "volatilities = [AnnualizedDailyVolatilityTradingDays,AnnualizedDailyVolatilityCalendarDays,\n",
    "                AnnualizedWeeklyVolatilityTradingWeeks, AnnualizedMonthlyVolatility,\n",
    "                AnnualVolatility]\n",
    "new_volatilities = [f'{i*100:.2f}%' for i in volatilities]\n",
    "compare_models = pd.DataFrame({ \"Estimators\": models, \"Estimates\": new_volatilities})\n",
    "compare_models.sort_values(by = \"Estimates\", ascending = False)"
   ]
  }
 ],
 "metadata": {
  "kernelspec": {
   "display_name": "Python 3",
   "language": "python",
   "name": "python3"
  },
  "language_info": {
   "codemirror_mode": {
    "name": "ipython",
    "version": 3
   },
   "file_extension": ".py",
   "mimetype": "text/x-python",
   "name": "python",
   "nbconvert_exporter": "python",
   "pygments_lexer": "ipython3",
   "version": "3.9.5"
  },
  "orig_nbformat": 4
 },
 "nbformat": 4,
 "nbformat_minor": 2
}
